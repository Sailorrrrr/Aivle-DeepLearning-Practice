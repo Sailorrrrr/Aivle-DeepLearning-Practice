{
 "cells": [
  {
   "cell_type": "markdown",
   "metadata": {},
   "source": [
    "# 머신러닝 Regression 모델과 딥러닝 회귀모델 비교"
   ]
  },
  {
   "cell_type": "markdown",
   "metadata": {
    "id": "cVB9pY-v8uv5"
   },
   "source": [
    "# Regression\n"
   ]
  },
  {
   "cell_type": "markdown",
   "metadata": {
    "id": "gIN5d51gtker"
   },
   "source": [
    "## 1.환경준비"
   ]
  },
  {
   "cell_type": "markdown",
   "metadata": {
    "id": "98K82DAxvX6I"
   },
   "source": [
    "### (1) 라이브러리 로딩"
   ]
  },
  {
   "cell_type": "code",
   "execution_count": 1,
   "metadata": {
    "executionInfo": {
     "elapsed": 3674,
     "status": "ok",
     "timestamp": 1663292731513,
     "user": {
      "displayName": "한기영",
      "userId": "13049187003176135487"
     },
     "user_tz": -540
    },
    "id": "GVvCef6A8uv6"
   },
   "outputs": [],
   "source": [
    "import pandas as pd\n",
    "import numpy as np\n",
    "import matplotlib.pyplot as plt\n",
    "import seaborn as sns\n",
    "\n",
    "from sklearn.model_selection import train_test_split\n",
    "from sklearn.metrics import *\n",
    "from sklearn.preprocessing import StandardScaler, MinMaxScaler\n",
    "\n",
    "# 딥러닝을 위한 함수들\n",
    "from keras.models import Sequential\n",
    "from keras.layers import Dense\n",
    "from keras.backend import clear_session\n",
    "from tensorflow.keras.optimizers import Adam # 옵티마이저 설정을 위해서"
   ]
  },
  {
   "cell_type": "markdown",
   "metadata": {
    "id": "rLJiB1Ib1Nss"
   },
   "source": [
    "* 학습곡선 그래프"
   ]
  },
  {
   "cell_type": "markdown",
   "metadata": {
    "id": "6wuqykgvviCc"
   },
   "source": [
    "### (2) 데이터로딩"
   ]
  },
  {
   "cell_type": "code",
   "execution_count": 2,
   "metadata": {
    "colab": {
     "base_uri": "https://localhost:8080/",
     "height": 206
    },
    "executionInfo": {
     "elapsed": 7,
     "status": "ok",
     "timestamp": 1663292731513,
     "user": {
      "displayName": "한기영",
      "userId": "13049187003176135487"
     },
     "user_tz": -540
    },
    "id": "Vqr7zY5r8uwC",
    "outputId": "1899cdfc-c76a-43ae-c036-7ffc537483eb"
   },
   "outputs": [
    {
     "data": {
      "text/html": [
       "\n",
       "  <div id=\"df-0fd1b44d-ae46-4eff-b3b8-844e6809c7a8\">\n",
       "    <div class=\"colab-df-container\">\n",
       "      <div>\n",
       "<style scoped>\n",
       "    .dataframe tbody tr th:only-of-type {\n",
       "        vertical-align: middle;\n",
       "    }\n",
       "\n",
       "    .dataframe tbody tr th {\n",
       "        vertical-align: top;\n",
       "    }\n",
       "\n",
       "    .dataframe thead th {\n",
       "        text-align: right;\n",
       "    }\n",
       "</style>\n",
       "<table border=\"1\" class=\"dataframe\">\n",
       "  <thead>\n",
       "    <tr style=\"text-align: right;\">\n",
       "      <th></th>\n",
       "      <th>crim</th>\n",
       "      <th>zn</th>\n",
       "      <th>indus</th>\n",
       "      <th>chas</th>\n",
       "      <th>nox</th>\n",
       "      <th>rm</th>\n",
       "      <th>age</th>\n",
       "      <th>dis</th>\n",
       "      <th>rad</th>\n",
       "      <th>tax</th>\n",
       "      <th>ptratio</th>\n",
       "      <th>black</th>\n",
       "      <th>lstat</th>\n",
       "      <th>medv</th>\n",
       "    </tr>\n",
       "  </thead>\n",
       "  <tbody>\n",
       "    <tr>\n",
       "      <th>0</th>\n",
       "      <td>0.00632</td>\n",
       "      <td>18.0</td>\n",
       "      <td>2.31</td>\n",
       "      <td>0</td>\n",
       "      <td>0.538</td>\n",
       "      <td>6.575</td>\n",
       "      <td>65.2</td>\n",
       "      <td>4.0900</td>\n",
       "      <td>1</td>\n",
       "      <td>296</td>\n",
       "      <td>15.3</td>\n",
       "      <td>396.90</td>\n",
       "      <td>4.98</td>\n",
       "      <td>24.0</td>\n",
       "    </tr>\n",
       "    <tr>\n",
       "      <th>1</th>\n",
       "      <td>0.02731</td>\n",
       "      <td>0.0</td>\n",
       "      <td>7.07</td>\n",
       "      <td>0</td>\n",
       "      <td>0.469</td>\n",
       "      <td>6.421</td>\n",
       "      <td>78.9</td>\n",
       "      <td>4.9671</td>\n",
       "      <td>2</td>\n",
       "      <td>242</td>\n",
       "      <td>17.8</td>\n",
       "      <td>396.90</td>\n",
       "      <td>9.14</td>\n",
       "      <td>21.6</td>\n",
       "    </tr>\n",
       "    <tr>\n",
       "      <th>2</th>\n",
       "      <td>0.02729</td>\n",
       "      <td>0.0</td>\n",
       "      <td>7.07</td>\n",
       "      <td>0</td>\n",
       "      <td>0.469</td>\n",
       "      <td>7.185</td>\n",
       "      <td>61.1</td>\n",
       "      <td>4.9671</td>\n",
       "      <td>2</td>\n",
       "      <td>242</td>\n",
       "      <td>17.8</td>\n",
       "      <td>392.83</td>\n",
       "      <td>4.03</td>\n",
       "      <td>34.7</td>\n",
       "    </tr>\n",
       "    <tr>\n",
       "      <th>3</th>\n",
       "      <td>0.03237</td>\n",
       "      <td>0.0</td>\n",
       "      <td>2.18</td>\n",
       "      <td>0</td>\n",
       "      <td>0.458</td>\n",
       "      <td>6.998</td>\n",
       "      <td>45.8</td>\n",
       "      <td>6.0622</td>\n",
       "      <td>3</td>\n",
       "      <td>222</td>\n",
       "      <td>18.7</td>\n",
       "      <td>394.63</td>\n",
       "      <td>2.94</td>\n",
       "      <td>33.4</td>\n",
       "    </tr>\n",
       "    <tr>\n",
       "      <th>4</th>\n",
       "      <td>0.06905</td>\n",
       "      <td>0.0</td>\n",
       "      <td>2.18</td>\n",
       "      <td>0</td>\n",
       "      <td>0.458</td>\n",
       "      <td>7.147</td>\n",
       "      <td>54.2</td>\n",
       "      <td>6.0622</td>\n",
       "      <td>3</td>\n",
       "      <td>222</td>\n",
       "      <td>18.7</td>\n",
       "      <td>396.90</td>\n",
       "      <td>5.33</td>\n",
       "      <td>36.2</td>\n",
       "    </tr>\n",
       "  </tbody>\n",
       "</table>\n",
       "</div>\n",
       "      <button class=\"colab-df-convert\" onclick=\"convertToInteractive('df-0fd1b44d-ae46-4eff-b3b8-844e6809c7a8')\"\n",
       "              title=\"Convert this dataframe to an interactive table.\"\n",
       "              style=\"display:none;\">\n",
       "        \n",
       "  <svg xmlns=\"http://www.w3.org/2000/svg\" height=\"24px\"viewBox=\"0 0 24 24\"\n",
       "       width=\"24px\">\n",
       "    <path d=\"M0 0h24v24H0V0z\" fill=\"none\"/>\n",
       "    <path d=\"M18.56 5.44l.94 2.06.94-2.06 2.06-.94-2.06-.94-.94-2.06-.94 2.06-2.06.94zm-11 1L8.5 8.5l.94-2.06 2.06-.94-2.06-.94L8.5 2.5l-.94 2.06-2.06.94zm10 10l.94 2.06.94-2.06 2.06-.94-2.06-.94-.94-2.06-.94 2.06-2.06.94z\"/><path d=\"M17.41 7.96l-1.37-1.37c-.4-.4-.92-.59-1.43-.59-.52 0-1.04.2-1.43.59L10.3 9.45l-7.72 7.72c-.78.78-.78 2.05 0 2.83L4 21.41c.39.39.9.59 1.41.59.51 0 1.02-.2 1.41-.59l7.78-7.78 2.81-2.81c.8-.78.8-2.07 0-2.86zM5.41 20L4 18.59l7.72-7.72 1.47 1.35L5.41 20z\"/>\n",
       "  </svg>\n",
       "      </button>\n",
       "      \n",
       "  <style>\n",
       "    .colab-df-container {\n",
       "      display:flex;\n",
       "      flex-wrap:wrap;\n",
       "      gap: 12px;\n",
       "    }\n",
       "\n",
       "    .colab-df-convert {\n",
       "      background-color: #E8F0FE;\n",
       "      border: none;\n",
       "      border-radius: 50%;\n",
       "      cursor: pointer;\n",
       "      display: none;\n",
       "      fill: #1967D2;\n",
       "      height: 32px;\n",
       "      padding: 0 0 0 0;\n",
       "      width: 32px;\n",
       "    }\n",
       "\n",
       "    .colab-df-convert:hover {\n",
       "      background-color: #E2EBFA;\n",
       "      box-shadow: 0px 1px 2px rgba(60, 64, 67, 0.3), 0px 1px 3px 1px rgba(60, 64, 67, 0.15);\n",
       "      fill: #174EA6;\n",
       "    }\n",
       "\n",
       "    [theme=dark] .colab-df-convert {\n",
       "      background-color: #3B4455;\n",
       "      fill: #D2E3FC;\n",
       "    }\n",
       "\n",
       "    [theme=dark] .colab-df-convert:hover {\n",
       "      background-color: #434B5C;\n",
       "      box-shadow: 0px 1px 3px 1px rgba(0, 0, 0, 0.15);\n",
       "      filter: drop-shadow(0px 1px 2px rgba(0, 0, 0, 0.3));\n",
       "      fill: #FFFFFF;\n",
       "    }\n",
       "  </style>\n",
       "\n",
       "      <script>\n",
       "        const buttonEl =\n",
       "          document.querySelector('#df-0fd1b44d-ae46-4eff-b3b8-844e6809c7a8 button.colab-df-convert');\n",
       "        buttonEl.style.display =\n",
       "          google.colab.kernel.accessAllowed ? 'block' : 'none';\n",
       "\n",
       "        async function convertToInteractive(key) {\n",
       "          const element = document.querySelector('#df-0fd1b44d-ae46-4eff-b3b8-844e6809c7a8');\n",
       "          const dataTable =\n",
       "            await google.colab.kernel.invokeFunction('convertToInteractive',\n",
       "                                                     [key], {});\n",
       "          if (!dataTable) return;\n",
       "\n",
       "          const docLinkHtml = 'Like what you see? Visit the ' +\n",
       "            '<a target=\"_blank\" href=https://colab.research.google.com/notebooks/data_table.ipynb>data table notebook</a>'\n",
       "            + ' to learn more about interactive tables.';\n",
       "          element.innerHTML = '';\n",
       "          dataTable['output_type'] = 'display_data';\n",
       "          await google.colab.output.renderOutput(dataTable, element);\n",
       "          const docLink = document.createElement('div');\n",
       "          docLink.innerHTML = docLinkHtml;\n",
       "          element.appendChild(docLink);\n",
       "        }\n",
       "      </script>\n",
       "    </div>\n",
       "  </div>\n",
       "  "
      ],
      "text/plain": [
       "      crim    zn  indus  chas    nox     rm   age     dis  rad  tax  ptratio  \\\n",
       "0  0.00632  18.0   2.31     0  0.538  6.575  65.2  4.0900    1  296     15.3   \n",
       "1  0.02731   0.0   7.07     0  0.469  6.421  78.9  4.9671    2  242     17.8   \n",
       "2  0.02729   0.0   7.07     0  0.469  7.185  61.1  4.9671    2  242     17.8   \n",
       "3  0.03237   0.0   2.18     0  0.458  6.998  45.8  6.0622    3  222     18.7   \n",
       "4  0.06905   0.0   2.18     0  0.458  7.147  54.2  6.0622    3  222     18.7   \n",
       "\n",
       "    black  lstat  medv  \n",
       "0  396.90   4.98  24.0  \n",
       "1  396.90   9.14  21.6  \n",
       "2  392.83   4.03  34.7  \n",
       "3  394.63   2.94  33.4  \n",
       "4  396.90   5.33  36.2  "
      ]
     },
     "execution_count": 2,
     "metadata": {},
     "output_type": "execute_result"
    }
   ],
   "source": [
    "path = 'https://raw.githubusercontent.com/DA4BAM/dataset/master/boston.csv'\n",
    "data = pd.read_csv(path)\n",
    "data.head()"
   ]
  },
  {
   "cell_type": "markdown",
   "metadata": {
    "id": "W07fwF8zeix4"
   },
   "source": [
    "|\t변수\t|\t설명\t|\n",
    "|\t----\t|\t----\t|\n",
    "|\tmedv\t|\t타운별 집값(중위수)\t|\n",
    "|\tcrim\t|\t범죄율\t|\n",
    "|\tzn\t|\t25,000 평방피트를 초과 거주지역 비율\t|\n",
    "|\tindus\t|\t비소매상업지역 면적 비율\t|\n",
    "|\tchas\t|\t찰스강변 위치(범주 : 강변1, 아니면 0)\t|\n",
    "|\tnox\t|\t일산화질소 농도\t|\n",
    "|\trm\t|\t주택당 방 수\t|\n",
    "|\tage\t|\t1940년 이전에 건축된 주택의 비율\t|\n",
    "|\tdis\t|\t직업센터의 거리\t|\n",
    "|\trad\t|\t방사형 고속도로까지의 거리\t|\n",
    "|\ttax\t|\t재산세율\t|\n",
    "|\tptratio\t|\t학생/교사 비율\t|\n",
    "|\tblack\t|\t인구 중 흑인 비율\t|\n",
    "|\tlstat\t|\t인구 중 하위 계층 비율\t|\n"
   ]
  },
  {
   "cell_type": "markdown",
   "metadata": {
    "id": "oICMvjzJJKbn"
   },
   "source": [
    "## 2.데이터 준비"
   ]
  },
  {
   "cell_type": "markdown",
   "metadata": {
    "id": "iM0QyWea1Mcz"
   },
   "source": [
    "lstat, ptratio, crim 만 이용하여 medv를 예측하는 모델을 만들어 봅시다."
   ]
  },
  {
   "cell_type": "markdown",
   "metadata": {
    "id": "y5GqXhKd0pSB"
   },
   "source": [
    "![image.png](data:image/png;base64,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)"
   ]
  },
  {
   "cell_type": "markdown",
   "metadata": {
    "id": "y9Q6jR6OZjUk"
   },
   "source": [
    "### (1) 데이터 분할1 : x, y 나누기"
   ]
  },
  {
   "cell_type": "code",
   "execution_count": 3,
   "metadata": {
    "executionInfo": {
     "elapsed": 6,
     "status": "ok",
     "timestamp": 1663292731514,
     "user": {
      "displayName": "한기영",
      "userId": "13049187003176135487"
     },
     "user_tz": -540
    },
    "id": "FA-PnUpcLqXN"
   },
   "outputs": [],
   "source": [
    "target = 'medv'\n",
    "features = ['lstat', 'ptratio', 'crim']\n",
    "x = data.loc[:, features]\n",
    "y = data.loc[:, target]"
   ]
  },
  {
   "cell_type": "markdown",
   "metadata": {
    "id": "WpJEGpUuuVWm"
   },
   "source": [
    "### (2) 변수정리"
   ]
  },
  {
   "cell_type": "markdown",
   "metadata": {
    "id": "mp_5volyuaA1"
   },
   "source": [
    "### (3) NA 조치"
   ]
  },
  {
   "cell_type": "markdown",
   "metadata": {
    "id": "nOF9fSLQugGf"
   },
   "source": [
    "### (4) 가변수화"
   ]
  },
  {
   "cell_type": "markdown",
   "metadata": {
    "id": "KsGGC-a4vpar"
   },
   "source": [
    "### (5) 데이터분할2"
   ]
  },
  {
   "cell_type": "code",
   "execution_count": 4,
   "metadata": {
    "executionInfo": {
     "elapsed": 5,
     "status": "ok",
     "timestamp": 1663292731514,
     "user": {
      "displayName": "한기영",
      "userId": "13049187003176135487"
     },
     "user_tz": -540
    },
    "id": "7ilUcIlvvrqR"
   },
   "outputs": [],
   "source": [
    "x_train, x_val, y_train, y_val = train_test_split(x, y, test_size=.2, random_state = 2022)"
   ]
  },
  {
   "cell_type": "markdown",
   "metadata": {
    "id": "MXUC5Yi3um81"
   },
   "source": [
    "### (6) Scaling"
   ]
  },
  {
   "cell_type": "code",
   "execution_count": 5,
   "metadata": {
    "executionInfo": {
     "elapsed": 5,
     "status": "ok",
     "timestamp": 1663292731514,
     "user": {
      "displayName": "한기영",
      "userId": "13049187003176135487"
     },
     "user_tz": -540
    },
    "id": "9bly3GLif1eP"
   },
   "outputs": [],
   "source": [
    "# 스케일러 선언\n",
    "scaler = MinMaxScaler()\n",
    "\n",
    "# train 셋으로 fitting & 적용\n",
    "x_train = scaler.fit_transform(x_train)\n",
    "\n",
    "# validation 셋은 적용만!\n",
    "x_val = scaler.transform(x_val)"
   ]
  },
  {
   "cell_type": "markdown",
   "metadata": {
    "id": "BYr1vtpd8uw4"
   },
   "source": [
    "## 3.Linear Regression vs. DL"
   ]
  },
  {
   "cell_type": "markdown",
   "metadata": {
    "id": "9xfSXhuJZvh0"
   },
   "source": [
    "### (1) Linear Regression"
   ]
  },
  {
   "cell_type": "code",
   "execution_count": 6,
   "metadata": {
    "colab": {
     "base_uri": "https://localhost:8080/"
    },
    "executionInfo": {
     "elapsed": 467,
     "status": "ok",
     "timestamp": 1663294214995,
     "user": {
      "displayName": "한기영",
      "userId": "13049187003176135487"
     },
     "user_tz": -540
    },
    "id": "B-ucQp8m8W5K",
    "outputId": "9e9c49e9-fa30-46aa-f7b4-8fcaee6c6ca8"
   },
   "outputs": [
    {
     "data": {
      "text/plain": [
       "(array([-30.65674704, -11.08171045,  -2.05183246]), 38.741729734445144)"
      ]
     },
     "execution_count": 6,
     "metadata": {},
     "output_type": "execute_result"
    }
   ],
   "source": [
    "from sklearn.linear_model import LinearRegression\n",
    "\n",
    "# 모델 선언\n",
    "model1 = LinearRegression()\n",
    "\n",
    "# 학습\n",
    "model1.fit(x_train, y_train)\n",
    "\n",
    "# 회귀계수(coefficient, weight, parameter 등 다양한 이름으로 불립니다.)\n",
    "model1.coef_, model1.intercept_"
   ]
  },
  {
   "cell_type": "code",
   "execution_count": null,
   "metadata": {
    "colab": {
     "base_uri": "https://localhost:8080/"
    },
    "executionInfo": {
     "elapsed": 272,
     "status": "ok",
     "timestamp": 1663228222025,
     "user": {
      "displayName": "한기영",
      "userId": "13049187003176135487"
     },
     "user_tz": -540
    },
    "id": "Q2oZF-mfIAG5",
    "outputId": "ed43ddb0-a151-4968-81d3-409b316c8680"
   },
   "outputs": [
    {
     "data": {
      "text/plain": [
       "['lstat', 'ptratio', 'crim']"
      ]
     },
     "execution_count": 9,
     "metadata": {},
     "output_type": "execute_result"
    }
   ],
   "source": [
    "features"
   ]
  },
  {
   "cell_type": "code",
   "execution_count": 7,
   "metadata": {
    "executionInfo": {
     "elapsed": 441,
     "status": "ok",
     "timestamp": 1663294236383,
     "user": {
      "displayName": "한기영",
      "userId": "13049187003176135487"
     },
     "user_tz": -540
    },
    "id": "_p-QxKSVR7Df"
   },
   "outputs": [],
   "source": [
    "pred1 = model1.predict(x_val)"
   ]
  },
  {
   "cell_type": "markdown",
   "metadata": {
    "id": "w-4v_7vcSAZk"
   },
   "source": [
    "### (2) DL"
   ]
  },
  {
   "cell_type": "markdown",
   "metadata": {
    "id": "zpNHJNMB2Y93"
   },
   "source": [
    "* 모델 설계"
   ]
  },
  {
   "cell_type": "code",
   "execution_count": 8,
   "metadata": {
    "colab": {
     "base_uri": "https://localhost:8080/"
    },
    "executionInfo": {
     "elapsed": 437,
     "status": "ok",
     "timestamp": 1663294341188,
     "user": {
      "displayName": "한기영",
      "userId": "13049187003176135487"
     },
     "user_tz": -540
    },
    "id": "BQRCR2cCfl4n",
    "outputId": "e1a70b36-6659-418b-843f-8984ed6ded82"
   },
   "outputs": [
    {
     "data": {
      "text/plain": [
       "3"
      ]
     },
     "execution_count": 8,
     "metadata": {},
     "output_type": "execute_result"
    }
   ],
   "source": [
    "# 분석단위 구조\n",
    "n_features = x_train.shape[1]\n",
    "n_features"
   ]
  },
  {
   "cell_type": "code",
   "execution_count": 9,
   "metadata": {
    "colab": {
     "base_uri": "https://localhost:8080/"
    },
    "executionInfo": {
     "elapsed": 439,
     "status": "ok",
     "timestamp": 1663294342036,
     "user": {
      "displayName": "한기영",
      "userId": "13049187003176135487"
     },
     "user_tz": -540
    },
    "id": "3oxyCQiW2Y93",
    "outputId": "2fc9357f-bd7f-459c-ec70-8cdf00d09a4b"
   },
   "outputs": [
    {
     "name": "stdout",
     "output_type": "stream",
     "text": [
      "Model: \"sequential\"\n",
      "_________________________________________________________________\n",
      " Layer (type)                Output Shape              Param #   \n",
      "=================================================================\n",
      " dense (Dense)               (None, 1)                 4         \n",
      "                                                                 \n",
      "=================================================================\n",
      "Total params: 4\n",
      "Trainable params: 4\n",
      "Non-trainable params: 0\n",
      "_________________________________________________________________\n"
     ]
    }
   ],
   "source": [
    "# 메모리 정리\n",
    "clear_session()\n",
    "\n",
    "# Sequential 타입 모델 선언\n",
    "model2 = Sequential()\n",
    "\n",
    "# Layer 정의\n",
    "layer = Dense(1 , input_shape = ( n_features , ))\n",
    "\n",
    "# 모델에 추가\n",
    "model2.add(layer)\n",
    "\n",
    "# 모델요약\n",
    "model2.summary()"
   ]
  },
  {
   "cell_type": "markdown",
   "metadata": {
    "id": "p9pnMdXE2Y93"
   },
   "source": [
    "* compile\n",
    "    * optimizer = 'adam'    : 기본값으로 옵티마이저 사용(learning_rate = 0.001)\n",
    "    * optimizer = Adam(lr = 0.1) : 옵션 값 조정 가능\n",
    "        * lr과 learning_rate은 같지만, learning_rate 사용을 권장"
   ]
  },
  {
   "cell_type": "code",
   "execution_count": 10,
   "metadata": {
    "executionInfo": {
     "elapsed": 410,
     "status": "ok",
     "timestamp": 1663294360365,
     "user": {
      "displayName": "한기영",
      "userId": "13049187003176135487"
     },
     "user_tz": -540
    },
    "id": "DZhoXG0a2Y94"
   },
   "outputs": [],
   "source": [
    "model2.compile(optimizer = 'adam' , loss = 'mse' )"
   ]
  },
  {
   "cell_type": "markdown",
   "metadata": {
    "id": "LBdiSNFAzbLK"
   },
   "source": [
    "* 학습"
   ]
  },
  {
   "cell_type": "code",
   "execution_count": null,
   "metadata": {
    "id": "7gXW6LofzboD"
   },
   "outputs": [],
   "source": [
    "history = model2.fit( x_train, y_train, epochs = 100 , validation_split = .2 ).history"
   ]
  },
  {
   "cell_type": "markdown",
   "metadata": {
    "id": "3N8dEQk0SKD9"
   },
   "source": [
    "* 학습결과 그래프"
   ]
  },
  {
   "cell_type": "code",
   "execution_count": 12,
   "metadata": {
    "executionInfo": {
     "elapsed": 428,
     "status": "ok",
     "timestamp": 1663294386172,
     "user": {
      "displayName": "한기영",
      "userId": "13049187003176135487"
     },
     "user_tz": -540
    },
    "id": "uL9cw8Dh2Y94"
   },
   "outputs": [],
   "source": [
    "# 함수로 만들어서 사용합시다.\n",
    "def dl_history_plot(history):\n",
    "    plt.figure(figsize=(10,6))\n",
    "    plt.plot(history['loss'], label='train_err')\n",
    "    plt.plot(history['val_loss'], label='val_err')\n",
    "\n",
    "    plt.ylabel('Loss')\n",
    "    plt.xlabel('Epoch')\n",
    "    plt.legend()\n",
    "    plt.grid()\n",
    "    plt.show()"
   ]
  },
  {
   "cell_type": "code",
   "execution_count": 13,
   "metadata": {
    "colab": {
     "base_uri": "https://localhost:8080/",
     "height": 388
    },
    "executionInfo": {
     "elapsed": 2,
     "status": "ok",
     "timestamp": 1663294386723,
     "user": {
      "displayName": "한기영",
      "userId": "13049187003176135487"
     },
     "user_tz": -540
    },
    "id": "03Y0s6_Ug8dR",
    "outputId": "5e4b4262-bc46-4dfe-a2b0-c86077561047"
   },
   "outputs": [
    {
     "data": {
      "image/png": "[encoded data removed]",
      "text/plain": [
       "<Figure size 720x432 with 1 Axes>"
      ]
     },
     "metadata": {
      "needs_background": "light"
     },
     "output_type": "display_data"
    }
   ],
   "source": [
    "dl_history_plot(history)"
   ]
  },
  {
   "cell_type": "code",
   "execution_count": 14,
   "metadata": {
    "executionInfo": {
     "elapsed": 413,
     "status": "ok",
     "timestamp": 1663294398367,
     "user": {
      "displayName": "한기영",
      "userId": "13049187003176135487"
     },
     "user_tz": -540
    },
    "id": "iWpqKvt78PmD"
   },
   "outputs": [],
   "source": [
    "pred2 = model2.predict(x_val)"
   ]
  },
  {
   "cell_type": "markdown",
   "metadata": {
    "id": "cnuOhiHUSP8w"
   },
   "source": [
    "### (3) 모델 비교"
   ]
  },
  {
   "cell_type": "markdown",
   "metadata": {
    "id": "n6w6no4vSe5I"
   },
   "source": [
    "#### 1) 가중치 비교"
   ]
  },
  {
   "cell_type": "markdown",
   "metadata": {
    "id": "MqSFmcB4ynyz"
   },
   "source": [
    "* 선형회귀 : 회귀계수"
   ]
  },
  {
   "cell_type": "code",
   "execution_count": 15,
   "metadata": {
    "colab": {
     "base_uri": "https://localhost:8080/"
    },
    "executionInfo": {
     "elapsed": 453,
     "status": "ok",
     "timestamp": 1663294454190,
     "user": {
      "displayName": "한기영",
      "userId": "13049187003176135487"
     },
     "user_tz": -540
    },
    "id": "TglOgpEmEyTF",
    "outputId": "2d6e24b9-f075-498e-9550-c60ac56acb9a"
   },
   "outputs": [
    {
     "data": {
      "text/plain": [
       "['lstat', 'ptratio', 'crim']"
      ]
     },
     "execution_count": 15,
     "metadata": {},
     "output_type": "execute_result"
    }
   ],
   "source": [
    "list(x)"
   ]
  },
  {
   "cell_type": "code",
   "execution_count": 16,
   "metadata": {
    "colab": {
     "base_uri": "https://localhost:8080/"
    },
    "executionInfo": {
     "elapsed": 470,
     "status": "ok",
     "timestamp": 1663294461725,
     "user": {
      "displayName": "한기영",
      "userId": "13049187003176135487"
     },
     "user_tz": -540
    },
    "id": "U1XAt9s_SgIK",
    "outputId": "294c3d7a-f51a-49b5-c187-7be520f751ab"
   },
   "outputs": [
    {
     "data": {
      "text/plain": [
       "(array([-30.65674704, -11.08171045,  -2.05183246]), 38.741729734445144)"
      ]
     },
     "execution_count": 16,
     "metadata": {},
     "output_type": "execute_result"
    }
   ],
   "source": [
    "model1.coef_, model1.intercept_"
   ]
  },
  {
   "cell_type": "markdown",
   "metadata": {
    "id": "tGXTOzXO0H3r"
   },
   "source": [
    "* 딥러닝 : 가중치\n",
    "    * model.layers : 모델 안의 레이어들\n",
    "    * model.layers[0].get_weights() : 첫번째 레이어의 가중치 가져오기"
   ]
  },
  {
   "cell_type": "code",
   "execution_count": 17,
   "metadata": {
    "colab": {
     "base_uri": "https://localhost:8080/"
    },
    "executionInfo": {
     "elapsed": 424,
     "status": "ok",
     "timestamp": 1663294599882,
     "user": {
      "displayName": "한기영",
      "userId": "13049187003176135487"
     },
     "user_tz": -540
    },
    "id": "KS2XmCA9SlJy",
    "outputId": "c66c7ba6-22a6-4347-e3c6-ebd3033647d9"
   },
   "outputs": [
    {
     "data": {
      "text/plain": [
       "[array([[1.5372589 ],\n",
       "        [0.57935435],\n",
       "        [0.5436291 ]], dtype=float32), array([1.0742878], dtype=float32)]"
      ]
     },
     "execution_count": 17,
     "metadata": {},
     "output_type": "execute_result"
    }
   ],
   "source": [
    "model2.layers[0].get_weights()"
   ]
  },
  {
   "cell_type": "markdown",
   "metadata": {
    "id": "Jm2WDBc1StSL"
   },
   "source": [
    "#### 2) 성능비교"
   ]
  },
  {
   "cell_type": "code",
   "execution_count": 18,
   "metadata": {
    "colab": {
     "base_uri": "https://localhost:8080/"
    },
    "executionInfo": {
     "elapsed": 563,
     "status": "ok",
     "timestamp": 1663294839423,
     "user": {
      "displayName": "한기영",
      "userId": "13049187003176135487"
     },
     "user_tz": -540
    },
    "id": "UCNpbavT84Qj",
    "outputId": "cb503f31-29cc-412e-b322-e12fe459890c"
   },
   "outputs": [
    {
     "name": "stdout",
     "output_type": "stream",
     "text": [
      "RMSE : 5.417347601611183\n",
      "MAE  : 3.9641306277094874\n"
     ]
    }
   ],
   "source": [
    "# 선형회귀\n",
    "print(f'RMSE : {mean_squared_error( y_val  , pred1  , squared = False  )}')\n",
    "print(f'MAE  : {mean_absolute_error( y_val  , pred1  )}')"
   ]
  },
  {
   "cell_type": "code",
   "execution_count": 19,
   "metadata": {
    "colab": {
     "base_uri": "https://localhost:8080/"
    },
    "executionInfo": {
     "elapsed": 2,
     "status": "ok",
     "timestamp": 1663294840017,
     "user": {
      "displayName": "한기영",
      "userId": "13049187003176135487"
     },
     "user_tz": -540
    },
    "id": "pjkdc0il8_8-",
    "outputId": "02d182bb-95dc-46d9-a3c0-430ce992a8fd"
   },
   "outputs": [
    {
     "name": "stdout",
     "output_type": "stream",
     "text": [
      "RMSE : 20.424381899943803\n",
      "MAE  : 18.43165728251139\n"
     ]
    }
   ],
   "source": [
    "# DL\n",
    "print(f'RMSE : {mean_squared_error( y_val , pred2  , squared = False )}')\n",
    "print(f'MAE  : {mean_absolute_error( y_val , pred2   )}')"
   ]
  },
  {
   "cell_type": "markdown",
   "metadata": {
    "id": "SL2L1RrNTA5g"
   },
   "source": [
    "## 4.딥러닝 : 전체 데이터\n",
    "* 이제 전체 데이터를 가지고 모델링을 시도해 보겠습니다.\n"
   ]
  },
  {
   "cell_type": "markdown",
   "metadata": {
    "id": "bWL9ssqWTxCF"
   },
   "source": [
    "### (1) 데이터 전처리"
   ]
  },
  {
   "cell_type": "markdown",
   "metadata": {
    "id": "Q8-uL-ebT5SQ"
   },
   "source": [
    "* 데이터 분할"
   ]
  },
  {
   "cell_type": "code",
   "execution_count": 20,
   "metadata": {
    "executionInfo": {
     "elapsed": 495,
     "status": "ok",
     "timestamp": 1663298415852,
     "user": {
      "displayName": "한기영",
      "userId": "13049187003176135487"
     },
     "user_tz": -540
    },
    "id": "korryJ9cTFTo"
   },
   "outputs": [],
   "source": [
    "target = 'medv'\n",
    "x = data.drop(target, axis = 1)\n",
    "y = data.loc[:, target]\n",
    "\n",
    "x_train, x_val, y_train, y_val = train_test_split(x, y, test_size=.2, random_state = 2022)"
   ]
  },
  {
   "cell_type": "markdown",
   "metadata": {
    "id": "s_huFosGT7en"
   },
   "source": [
    "* 스케일링"
   ]
  },
  {
   "cell_type": "code",
   "execution_count": 21,
   "metadata": {
    "executionInfo": {
     "elapsed": 1,
     "status": "ok",
     "timestamp": 1663298416398,
     "user": {
      "displayName": "한기영",
      "userId": "13049187003176135487"
     },
     "user_tz": -540
    },
    "id": "IV5Hu5WvTFQn"
   },
   "outputs": [],
   "source": [
    "scaler = MinMaxScaler()\n",
    "x_train = scaler.fit_transform(x_train)\n",
    "x_val = scaler.transform(x_val)"
   ]
  },
  {
   "cell_type": "markdown",
   "metadata": {
    "id": "xDS0688JUBsF"
   },
   "source": [
    "### (2) 모델링"
   ]
  },
  {
   "cell_type": "markdown",
   "metadata": {
    "id": "nTA-Yr4SUGxg"
   },
   "source": [
    "* 모델 설계"
   ]
  },
  {
   "cell_type": "code",
   "execution_count": null,
   "metadata": {
    "id": "X3T44fmwfjQC"
   },
   "outputs": [],
   "source": [
    "# 분석단위 구조\n"
   ]
  },
  {
   "cell_type": "code",
   "execution_count": null,
   "metadata": {
    "id": "j85sSnzHUGxg"
   },
   "outputs": [],
   "source": [
    "# 메모리 정리\n",
    "\n",
    "\n",
    "# Sequential 타입 모델 선언\n",
    "model3 = \n",
    "\n",
    "# Layer 정의\n",
    "\n",
    "\n",
    "# 모델에 추가\n",
    "\n",
    "\n",
    "# 모델요약\n"
   ]
  },
  {
   "cell_type": "markdown",
   "metadata": {
    "id": "FtEZ2O6mUGxg"
   },
   "source": [
    "* compile"
   ]
  },
  {
   "cell_type": "code",
   "execution_count": null,
   "metadata": {
    "id": "101t-cHUUGxg"
   },
   "outputs": [],
   "source": []
  },
  {
   "cell_type": "markdown",
   "metadata": {
    "id": "KNs-pn5yzpYT"
   },
   "source": [
    "* 학습"
   ]
  },
  {
   "cell_type": "code",
   "execution_count": null,
   "metadata": {
    "id": "4FdIWaG9zpQ8"
   },
   "outputs": [],
   "source": []
  },
  {
   "cell_type": "markdown",
   "metadata": {
    "id": "jfTJKyP4UGxh"
   },
   "source": [
    "* 학습결과 그래프"
   ]
  },
  {
   "cell_type": "code",
   "execution_count": null,
   "metadata": {
    "id": "Gbs-nZuzUGxh"
   },
   "outputs": [],
   "source": [
    "dl_history_plot(history)"
   ]
  },
  {
   "cell_type": "markdown",
   "metadata": {
    "id": "x4Smjaa0h4_C"
   },
   "source": [
    "* 예측 및 평가"
   ]
  },
  {
   "cell_type": "code",
   "execution_count": null,
   "metadata": {
    "id": "IW2yYuBRUGxh"
   },
   "outputs": [],
   "source": []
  },
  {
   "cell_type": "markdown",
   "metadata": {
    "id": "4tozU06ermAJ"
   },
   "source": [
    "## 5.DL2 : hidden layer를 추가해 봅시다.\n",
    "* 이제 레이어를 추가해 보겠습니다.\n",
    "* learning_rate도 조정해 보겠습니다.\n"
   ]
  },
  {
   "cell_type": "markdown",
   "metadata": {
    "id": "_ReyiV-ArmAK"
   },
   "source": [
    "### (1) 데이터 전처리"
   ]
  },
  {
   "cell_type": "markdown",
   "metadata": {
    "id": "XtdCBGXnrmAK"
   },
   "source": [
    "* 데이터 분할"
   ]
  },
  {
   "cell_type": "code",
   "execution_count": null,
   "metadata": {
    "id": "9Ptvfka1rmAK"
   },
   "outputs": [],
   "source": [
    "target = 'medv'\n",
    "x = data.drop(target, axis = 1)\n",
    "y = data.loc[:, target]\n",
    "\n",
    "x_train, x_val, y_train, y_val = train_test_split(x, y, test_size=.2\n",
    "                                                  , random_state = 2022)"
   ]
  },
  {
   "cell_type": "markdown",
   "metadata": {
    "id": "ybXddIF5rmAK"
   },
   "source": [
    "* 스케일링"
   ]
  },
  {
   "cell_type": "code",
   "execution_count": null,
   "metadata": {
    "id": "DLVTuIZhrmAK"
   },
   "outputs": [],
   "source": [
    "scaler = MinMaxScaler()\n",
    "x_train = scaler.fit_transform(x_train)\n",
    "x_val = scaler.transform(x_val)"
   ]
  },
  {
   "cell_type": "markdown",
   "metadata": {
    "id": "XMyXlB5DrmAK"
   },
   "source": [
    "### (2) 모델링"
   ]
  },
  {
   "cell_type": "markdown",
   "metadata": {
    "id": "YBGf6ESprmAL"
   },
   "source": [
    "* 모델 설계"
   ]
  },
  {
   "cell_type": "code",
   "execution_count": null,
   "metadata": {
    "id": "tY1Qjd_hrmAL"
   },
   "outputs": [],
   "source": [
    "# 분석단위 구조\n",
    "nfeatures = x_train.shape[1] #num of columns\n",
    "nfeatures"
   ]
  },
  {
   "cell_type": "code",
   "execution_count": null,
   "metadata": {
    "id": "fG4gBuGlrmAL"
   },
   "outputs": [],
   "source": [
    "# 메모리 정리\n",
    "clear_session()\n",
    "\n",
    "# Sequential 타입 모델 선언\n",
    "model = Sequential()\n",
    "\n",
    "# Layer 정의\n",
    "layer1 = Dense( , input_shape = (nfeatures,), activation = 'relu')\n",
    "layer2 = Dense( )\n",
    "\n",
    "# 모델에 추가\n",
    "model.add(  )\n",
    "model.add(  )\n",
    "\n",
    "# 모델요약\n",
    "model.summary()"
   ]
  },
  {
   "cell_type": "markdown",
   "metadata": {
    "id": "uO3Lf9u1rmAM"
   },
   "source": [
    "* compile"
   ]
  },
  {
   "cell_type": "code",
   "execution_count": null,
   "metadata": {
    "id": "rrc9XvzRrmAM"
   },
   "outputs": [],
   "source": [
    "# optimizer = Adam(lr = 0.1) : 옵션 값 조정 가능\n",
    "# lr과 learning_rate은 같지만, learning_rate 사용을 권장\n",
    "\n",
    "model.compile(optimizer =   , loss='mse')"
   ]
  },
  {
   "cell_type": "markdown",
   "metadata": {
    "id": "oCGjZxoQ0KFr"
   },
   "source": [
    "* 학습"
   ]
  },
  {
   "cell_type": "code",
   "execution_count": null,
   "metadata": {
    "id": "lnKyke0M0KiD"
   },
   "outputs": [],
   "source": [
    "epochs = 100\n",
    "batch_size = 32 # default 값 32.\n",
    "\n",
    "history = model.fit(x_train, y_train\n",
    "                     , epochs = epochs, batch_size = batch_size\n",
    "                     , validation_split=0.2).history"
   ]
  },
  {
   "cell_type": "markdown",
   "metadata": {
    "id": "zEHTIzCFrmAM"
   },
   "source": [
    "* 학습결과 그래프"
   ]
  },
  {
   "cell_type": "code",
   "execution_count": null,
   "metadata": {
    "id": "tlFZWZizrmAM"
   },
   "outputs": [],
   "source": [
    "dl_history_plot(history)"
   ]
  },
  {
   "cell_type": "markdown",
   "metadata": {
    "id": "sK15otgfiWgQ"
   },
   "source": [
    "* 예측 및 평가"
   ]
  },
  {
   "cell_type": "code",
   "execution_count": null,
   "metadata": {
    "id": "xboRa-t1rmAM"
   },
   "outputs": [],
   "source": [
    "pred = model.predict(x_val)\n",
    "print(f'RMSE : {mean_squared_error(y_val, pred, squared=False)}')\n",
    "print(f'MAE  : {mean_absolute_error(y_val, pred)}')"
   ]
  },
  {
   "cell_type": "markdown",
   "metadata": {
    "id": "xMGgnz9TvDSr"
   },
   "source": [
    "### (3) 실습1"
   ]
  },
  {
   "cell_type": "markdown",
   "metadata": {
    "id": "MZQ1GyB7vONX"
   },
   "source": [
    "* 다음의 summary를 보고 모델을 설계하시오.\n",
    "\n",
    "| Layer (type) | Output Shape | Param # | 옵션 |\n",
    "| ---- | ---- | ---- | ---- |\n",
    "| dense (Dense) | (None, 8) | 112 | node, input_shape, activation = 'relu' |\n",
    "| dense_1 (Dense) | (None, 1) | 9 | node |    "
   ]
  },
  {
   "cell_type": "code",
   "execution_count": null,
   "metadata": {
    "id": "siwyHvr1rmAM"
   },
   "outputs": [],
   "source": [
    "# 메모리 정리\n",
    "\n",
    "\n",
    "# Sequential 타입 모델 선언\n",
    "\n",
    "\n",
    "# Layer 정의\n",
    "\n",
    "\n",
    "# 모델에 추가\n",
    "\n",
    "\n",
    "# 모델요약\n"
   ]
  },
  {
   "cell_type": "markdown",
   "metadata": {
    "id": "Sg5XlbcW0w2y"
   },
   "source": [
    "* 컴파일 + 학습"
   ]
  },
  {
   "cell_type": "code",
   "execution_count": null,
   "metadata": {
    "id": "iEZWr_jNwCpr"
   },
   "outputs": [],
   "source": []
  },
  {
   "cell_type": "markdown",
   "metadata": {
    "id": "6iLA8c2p00M6"
   },
   "source": [
    "* 학습곡선"
   ]
  },
  {
   "cell_type": "code",
   "execution_count": null,
   "metadata": {
    "id": "T9plSoBwwCh8"
   },
   "outputs": [],
   "source": []
  },
  {
   "cell_type": "markdown",
   "metadata": {
    "id": "hVa3Z88902gU"
   },
   "source": [
    "* 검증"
   ]
  },
  {
   "cell_type": "code",
   "execution_count": null,
   "metadata": {
    "id": "PTzZV-_DwCY3"
   },
   "outputs": [],
   "source": []
  },
  {
   "cell_type": "markdown",
   "metadata": {
    "id": "6vx5D3lewBR8"
   },
   "source": [
    "### (4)실습2"
   ]
  },
  {
   "cell_type": "markdown",
   "metadata": {
    "id": "ziu8sULAwBR9"
   },
   "source": [
    "* 다음의 summary를 보고 모델을 설계하시오.\n",
    "\n",
    "| Layer (type) | Output Shape | Param # | 옵션 |\n",
    "| ---- | ---- | ---- | ---- |\n",
    "| dense (Dense) | (None, 8) | 112 | node, input_shape, activation = 'relu' |\n",
    "| dense_1 (Dense) | (None, 4) | 36 | node, activation = 'relu' |\n",
    "| dense_2 (Dense) | (None, 1) | 5 | node |"
   ]
  },
  {
   "cell_type": "code",
   "execution_count": null,
   "metadata": {
    "id": "t4XL8HY6rK9P"
   },
   "outputs": [],
   "source": [
    "# 메모리 정리\n",
    "\n",
    "\n",
    "# Sequential 타입 모델 선언\n",
    "\n",
    "\n",
    "# Layer 정의\n",
    "\n",
    "\n",
    "# 모델에 추가\n",
    "\n",
    "\n",
    "# 모델요약\n"
   ]
  },
  {
   "cell_type": "markdown",
   "metadata": {
    "id": "E61fbZ9MrK9Q"
   },
   "source": [
    "* 컴파일 + 학습"
   ]
  },
  {
   "cell_type": "code",
   "execution_count": null,
   "metadata": {
    "id": "mzbSF_ourK9R"
   },
   "outputs": [],
   "source": []
  },
  {
   "cell_type": "markdown",
   "metadata": {
    "id": "M_obOAS1rK9S"
   },
   "source": [
    "* 학습곡선"
   ]
  },
  {
   "cell_type": "code",
   "execution_count": null,
   "metadata": {
    "id": "zBS3-Td7rK9T"
   },
   "outputs": [],
   "source": []
  },
  {
   "cell_type": "markdown",
   "metadata": {
    "id": "rR2H58hBrK9T"
   },
   "source": [
    "* 검증"
   ]
  },
  {
   "cell_type": "code",
   "execution_count": null,
   "metadata": {
    "id": "5LPL1GVPrK9U"
   },
   "outputs": [],
   "source": []
  },
  {
   "cell_type": "markdown",
   "metadata": {
    "id": "YC5zRh2BxHgb"
   },
   "source": [
    "### (5)실습3"
   ]
  },
  {
   "cell_type": "markdown",
   "metadata": {
    "id": "9RFDZgfMxHgb"
   },
   "source": [
    "* 이번에는 여러분이 원하는 대로 설계하고, 학습해 봅시다.\n",
    "* 제일 마지막 노드는 activation을 지정하지 않습니다."
   ]
  },
  {
   "cell_type": "code",
   "execution_count": null,
   "metadata": {
    "id": "uZK4PA95rM5B"
   },
   "outputs": [],
   "source": [
    "# 메모리 정리\n",
    "\n",
    "\n",
    "# Sequential 타입 모델 선언\n",
    "\n",
    "\n",
    "# Layer 정의\n",
    "\n",
    "\n",
    "# 모델에 추가\n",
    "\n",
    "\n",
    "# 모델요약\n"
   ]
  },
  {
   "cell_type": "markdown",
   "metadata": {
    "id": "wpjR82ZirM5B"
   },
   "source": [
    "* 컴파일 + 학습"
   ]
  },
  {
   "cell_type": "code",
   "execution_count": null,
   "metadata": {
    "id": "q2Olx_66rM5B"
   },
   "outputs": [],
   "source": []
  },
  {
   "cell_type": "markdown",
   "metadata": {
    "id": "fQ3y_mUmrM5C"
   },
   "source": [
    "* 학습곡선"
   ]
  },
  {
   "cell_type": "code",
   "execution_count": null,
   "metadata": {
    "id": "CWdArcsIrM5C"
   },
   "outputs": [],
   "source": []
  },
  {
   "cell_type": "markdown",
   "metadata": {
    "id": "elnGVpA0rM5C"
   },
   "source": [
    "* 검증"
   ]
  },
  {
   "cell_type": "code",
   "execution_count": null,
   "metadata": {
    "id": "-nf6ZMbarM5C"
   },
   "outputs": [],
   "source": []
  }
 ],
 "metadata": {
  "colab": {
   "collapsed_sections": [],
   "provenance": [],
   "toc_visible": true
  },
  "kernelspec": {
   "display_name": "Python 3",
   "language": "python",
   "name": "python3"
  },
  "language_info": {
   "codemirror_mode": {
    "name": "ipython",
    "version": 3
   },
   "file_extension": ".py",
   "mimetype": "text/x-python",
   "name": "python",
   "nbconvert_exporter": "python",
   "pygments_lexer": "ipython3",
   "version": "3.8.8"
  }
 },
 "nbformat": 4,
 "nbformat_minor": 4
}
