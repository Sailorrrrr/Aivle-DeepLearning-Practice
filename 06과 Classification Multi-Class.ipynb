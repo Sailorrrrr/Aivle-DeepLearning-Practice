{
 "cells": [
  {
   "cell_type": "markdown",
   "metadata": {
    "id": "cVB9pY-v8uv5"
   },
   "source": [
    "# Classification : Multi-Class\n"
   ]
  },
  {
   "cell_type": "markdown",
   "metadata": {
    "id": "gIN5d51gtker"
   },
   "source": [
    "## 1.환경준비"
   ]
  },
  {
   "cell_type": "markdown",
   "metadata": {
    "id": "98K82DAxvX6I"
   },
   "source": [
    "### (1) 라이브러리 로딩"
   ]
  },
  {
   "cell_type": "code",
   "execution_count": 1,
   "metadata": {
    "id": "GVvCef6A8uv6"
   },
   "outputs": [],
   "source": [
    "import pandas as pd\n",
    "import numpy as np\n",
    "import matplotlib.pyplot as plt\n",
    "import seaborn as sns\n",
    "\n",
    "from sklearn.model_selection import train_test_split\n",
    "from sklearn.metrics import *\n",
    "from sklearn.preprocessing import StandardScaler, MinMaxScaler\n",
    "\n",
    "import tensorflow as tf\n",
    "from keras.models import Sequential\n",
    "from keras.layers import Dense\n",
    "from keras.backend import clear_session\n",
    "from tensorflow.keras.optimizers import Adam\n",
    "from tensorflow.keras.utils import to_categorical    # 케라스에서 제공하는 가변수화 함수 "
   ]
  },
  {
   "cell_type": "markdown",
   "metadata": {
    "id": "_h70-6MP7wtO"
   },
   "source": [
    "* 함수 만들기"
   ]
  },
  {
   "cell_type": "code",
   "execution_count": 2,
   "metadata": {
    "id": "JWswaopv7yBI"
   },
   "outputs": [],
   "source": [
    "# 학습곡선 함수\n",
    "def dl_history_plot(history):\n",
    "    plt.figure(figsize=(10,6))\n",
    "    plt.plot(history['loss'], label='train_err')\n",
    "    plt.plot(history['val_loss'], label='val_err')\n",
    "\n",
    "    plt.ylabel('Loss')\n",
    "    plt.xlabel('Epoch')\n",
    "    plt.legend()\n",
    "    plt.grid()\n",
    "    plt.show()"
   ]
  },
  {
   "cell_type": "markdown",
   "metadata": {
    "id": "6wuqykgvviCc"
   },
   "source": [
    "### (2) 데이터로딩"
   ]
  },
  {
   "cell_type": "code",
   "execution_count": 3,
   "metadata": {
    "id": "Vqr7zY5r8uwC"
   },
   "outputs": [
    {
     "data": {
      "text/html": [
       "<div>\n",
       "<style scoped>\n",
       "    .dataframe tbody tr th:only-of-type {\n",
       "        vertical-align: middle;\n",
       "    }\n",
       "\n",
       "    .dataframe tbody tr th {\n",
       "        vertical-align: top;\n",
       "    }\n",
       "\n",
       "    .dataframe thead th {\n",
       "        text-align: right;\n",
       "    }\n",
       "</style>\n",
       "<table border=\"1\" class=\"dataframe\">\n",
       "  <thead>\n",
       "    <tr style=\"text-align: right;\">\n",
       "      <th></th>\n",
       "      <th>Sepal.Length</th>\n",
       "      <th>Sepal.Width</th>\n",
       "      <th>Petal.Length</th>\n",
       "      <th>Petal.Width</th>\n",
       "      <th>Species</th>\n",
       "    </tr>\n",
       "  </thead>\n",
       "  <tbody>\n",
       "    <tr>\n",
       "      <th>0</th>\n",
       "      <td>5.1</td>\n",
       "      <td>3.5</td>\n",
       "      <td>1.4</td>\n",
       "      <td>0.2</td>\n",
       "      <td>setosa</td>\n",
       "    </tr>\n",
       "    <tr>\n",
       "      <th>1</th>\n",
       "      <td>4.9</td>\n",
       "      <td>3.0</td>\n",
       "      <td>1.4</td>\n",
       "      <td>0.2</td>\n",
       "      <td>setosa</td>\n",
       "    </tr>\n",
       "    <tr>\n",
       "      <th>2</th>\n",
       "      <td>4.7</td>\n",
       "      <td>3.2</td>\n",
       "      <td>1.3</td>\n",
       "      <td>0.2</td>\n",
       "      <td>setosa</td>\n",
       "    </tr>\n",
       "    <tr>\n",
       "      <th>3</th>\n",
       "      <td>4.6</td>\n",
       "      <td>3.1</td>\n",
       "      <td>1.5</td>\n",
       "      <td>0.2</td>\n",
       "      <td>setosa</td>\n",
       "    </tr>\n",
       "    <tr>\n",
       "      <th>4</th>\n",
       "      <td>5.0</td>\n",
       "      <td>3.6</td>\n",
       "      <td>1.4</td>\n",
       "      <td>0.2</td>\n",
       "      <td>setosa</td>\n",
       "    </tr>\n",
       "  </tbody>\n",
       "</table>\n",
       "</div>"
      ],
      "text/plain": [
       "   Sepal.Length  Sepal.Width  Petal.Length  Petal.Width Species\n",
       "0           5.1          3.5           1.4          0.2  setosa\n",
       "1           4.9          3.0           1.4          0.2  setosa\n",
       "2           4.7          3.2           1.3          0.2  setosa\n",
       "3           4.6          3.1           1.5          0.2  setosa\n",
       "4           5.0          3.6           1.4          0.2  setosa"
      ]
     },
     "execution_count": 3,
     "metadata": {},
     "output_type": "execute_result"
    }
   ],
   "source": [
    "path = \"https://raw.githubusercontent.com/DA4BAM/dataset/master/iris.csv\"\n",
    "data = pd.read_csv(path)\n",
    "data.head()"
   ]
  },
  {
   "cell_type": "markdown",
   "metadata": {
    "id": "_vRHWCJJooH1"
   },
   "source": [
    "## 2.데이터 준비"
   ]
  },
  {
   "cell_type": "markdown",
   "metadata": {
    "id": "JpcIzZmH7ONf"
   },
   "source": [
    "### (1) y 값을 0,1,2로 변환하기\n",
    "(sparse_categorical_crossentropy 사용을 위해)"
   ]
  },
  {
   "cell_type": "markdown",
   "metadata": {},
   "source": [
    "### 딥러닝에서는 항상 타겟값또한 숫자 타입이어야 한다 "
   ]
  },
  {
   "cell_type": "code",
   "execution_count": 4,
   "metadata": {
    "id": "M-W1RW297RB9"
   },
   "outputs": [
    {
     "data": {
      "text/html": [
       "<div>\n",
       "<style scoped>\n",
       "    .dataframe tbody tr th:only-of-type {\n",
       "        vertical-align: middle;\n",
       "    }\n",
       "\n",
       "    .dataframe tbody tr th {\n",
       "        vertical-align: top;\n",
       "    }\n",
       "\n",
       "    .dataframe thead th {\n",
       "        text-align: right;\n",
       "    }\n",
       "</style>\n",
       "<table border=\"1\" class=\"dataframe\">\n",
       "  <thead>\n",
       "    <tr style=\"text-align: right;\">\n",
       "      <th></th>\n",
       "      <th>Sepal.Length</th>\n",
       "      <th>Sepal.Width</th>\n",
       "      <th>Petal.Length</th>\n",
       "      <th>Petal.Width</th>\n",
       "      <th>Species</th>\n",
       "    </tr>\n",
       "  </thead>\n",
       "  <tbody>\n",
       "    <tr>\n",
       "      <th>0</th>\n",
       "      <td>5.1</td>\n",
       "      <td>3.5</td>\n",
       "      <td>1.4</td>\n",
       "      <td>0.2</td>\n",
       "      <td>0</td>\n",
       "    </tr>\n",
       "    <tr>\n",
       "      <th>1</th>\n",
       "      <td>4.9</td>\n",
       "      <td>3.0</td>\n",
       "      <td>1.4</td>\n",
       "      <td>0.2</td>\n",
       "      <td>0</td>\n",
       "    </tr>\n",
       "    <tr>\n",
       "      <th>2</th>\n",
       "      <td>4.7</td>\n",
       "      <td>3.2</td>\n",
       "      <td>1.3</td>\n",
       "      <td>0.2</td>\n",
       "      <td>0</td>\n",
       "    </tr>\n",
       "    <tr>\n",
       "      <th>3</th>\n",
       "      <td>4.6</td>\n",
       "      <td>3.1</td>\n",
       "      <td>1.5</td>\n",
       "      <td>0.2</td>\n",
       "      <td>0</td>\n",
       "    </tr>\n",
       "    <tr>\n",
       "      <th>4</th>\n",
       "      <td>5.0</td>\n",
       "      <td>3.6</td>\n",
       "      <td>1.4</td>\n",
       "      <td>0.2</td>\n",
       "      <td>0</td>\n",
       "    </tr>\n",
       "  </tbody>\n",
       "</table>\n",
       "</div>"
      ],
      "text/plain": [
       "   Sepal.Length  Sepal.Width  Petal.Length  Petal.Width  Species\n",
       "0           5.1          3.5           1.4          0.2        0\n",
       "1           4.9          3.0           1.4          0.2        0\n",
       "2           4.7          3.2           1.3          0.2        0\n",
       "3           4.6          3.1           1.5          0.2        0\n",
       "4           5.0          3.6           1.4          0.2        0"
      ]
     },
     "execution_count": 4,
     "metadata": {},
     "output_type": "execute_result"
    }
   ],
   "source": [
    "data['Species'] = data['Species'].map({'setosa':0, 'versicolor':1, 'virginica':2})\n",
    "data.head()"
   ]
  },
  {
   "cell_type": "markdown",
   "metadata": {
    "id": "j0wC7YMmV1dQ"
   },
   "source": [
    "### (2) 데이터 분할1 : x, y"
   ]
  },
  {
   "cell_type": "code",
   "execution_count": 5,
   "metadata": {
    "id": "FA-PnUpcLqXN"
   },
   "outputs": [],
   "source": [
    "target = 'Species'\n",
    "x = data.drop(target, axis = 1)\n",
    "y = data.loc[:, target]"
   ]
  },
  {
   "cell_type": "markdown",
   "metadata": {
    "id": "BYr1vtpd8uw4"
   },
   "source": [
    "## 3.방법① : y를 one-hot encoding\n",
    "\n",
    "* y 가변수화\n",
    "* 컴파일에서 loss = 'categorical_crossentropy'"
   ]
  },
  {
   "cell_type": "markdown",
   "metadata": {
    "id": "pcKlPlGYV5Qb"
   },
   "source": [
    "### (1) y에 대한 가변수화\n",
    "* tf.keras.utils.to_categorical\n",
    "* pd.get_dummies"
   ]
  },
  {
   "cell_type": "code",
   "execution_count": 6,
   "metadata": {
    "id": "QnaeCCI_U9ro"
   },
   "outputs": [],
   "source": [
    "y_c = to_categorical(y, 3)"
   ]
  },
  {
   "cell_type": "code",
   "execution_count": 7,
   "metadata": {
    "id": "HiWM1IntqxbY"
   },
   "outputs": [
    {
     "data": {
      "text/plain": [
       "array([[1., 0., 0.],\n",
       "       [1., 0., 0.],\n",
       "       [1., 0., 0.],\n",
       "       [1., 0., 0.],\n",
       "       [1., 0., 0.]], dtype=float32)"
      ]
     },
     "execution_count": 7,
     "metadata": {},
     "output_type": "execute_result"
    }
   ],
   "source": [
    "y_c[:5]"
   ]
  },
  {
   "cell_type": "markdown",
   "metadata": {
    "id": "ikolo0wEV_Xe"
   },
   "source": [
    "### (2) 데이터 분할2 : train : val"
   ]
  },
  {
   "cell_type": "code",
   "execution_count": 8,
   "metadata": {
    "id": "kEeVFQteVnKB"
   },
   "outputs": [],
   "source": [
    "x_train, x_val, y_train, y_val = train_test_split(x, y_c, test_size = .3, random_state = 2022)"
   ]
  },
  {
   "cell_type": "markdown",
   "metadata": {
    "id": "MXUC5Yi3um81"
   },
   "source": [
    "### (3) Scaling"
   ]
  },
  {
   "cell_type": "code",
   "execution_count": 9,
   "metadata": {
    "id": "9bly3GLif1eP"
   },
   "outputs": [],
   "source": [
    "scaler = MinMaxScaler()\n",
    "x_train = scaler.fit_transform(x_train)\n",
    "x_val = scaler.transform(x_val)"
   ]
  },
  {
   "cell_type": "markdown",
   "metadata": {
    "id": "9xfSXhuJZvh0"
   },
   "source": [
    "### (4) 모델 설계"
   ]
  },
  {
   "cell_type": "code",
   "execution_count": 10,
   "metadata": {
    "id": "YONQQmSoWZ2K"
   },
   "outputs": [
    {
     "data": {
      "text/plain": [
       "4"
      ]
     },
     "execution_count": 10,
     "metadata": {},
     "output_type": "execute_result"
    }
   ],
   "source": [
    "nfeatures = x_train.shape[1] #num of columns\n",
    "nfeatures"
   ]
  },
  {
   "cell_type": "code",
   "execution_count": 11,
   "metadata": {
    "id": "gAvCb2L3WZ2K"
   },
   "outputs": [
    {
     "name": "stdout",
     "output_type": "stream",
     "text": [
      "Model: \"sequential\"\n",
      "_________________________________________________________________\n",
      " Layer (type)                Output Shape              Param #   \n",
      "=================================================================\n",
      " dense (Dense)               (None, 3)                 15        \n",
      "                                                                 \n",
      "=================================================================\n",
      "Total params: 15\n",
      "Trainable params: 15\n",
      "Non-trainable params: 0\n",
      "_________________________________________________________________\n"
     ]
    }
   ],
   "source": [
    "# 메모리 정리\n",
    "clear_session()\n",
    "\n",
    "# Sequential 타입 모델 선언\n",
    "model = Sequential()\n",
    "\n",
    "# Layer 정의\n",
    "layer = Dense(3, input_shape = (nfeatures,), activation = 'softmax')\n",
    "\n",
    "# 모델에 추가\n",
    "model.add(layer)\n",
    "\n",
    "# 모델요약\n",
    "model.summary()"
   ]
  },
  {
   "cell_type": "markdown",
   "metadata": {
    "id": "p9pnMdXE2Y93"
   },
   "source": [
    "### (5) compile + 학습\n",
    "\n",
    "* lr과 learning_rate은 같은 의미 입니다. 그러나 향후 버전에서는 lr이 제외될 예정이라고 합니다.\n",
    "* y를 one-hot encoding 했다면, loss fuction은 **categorical_crossentropy** 입니다."
   ]
  },
  {
   "cell_type": "code",
   "execution_count": 12,
   "metadata": {
    "id": "DZhoXG0a2Y94",
    "tags": []
   },
   "outputs": [
    {
     "name": "stdout",
     "output_type": "stream",
     "text": [
      "Epoch 1/100\n",
      "3/3 [==============================] - 2s 255ms/step - loss: 1.1204 - val_loss: 0.9835\n",
      "Epoch 2/100\n",
      "3/3 [==============================] - 0s 35ms/step - loss: 0.9335 - val_loss: 0.8623\n",
      "Epoch 3/100\n",
      "3/3 [==============================] - 0s 37ms/step - loss: 0.8156 - val_loss: 0.7216\n",
      "Epoch 4/100\n",
      "3/3 [==============================] - 0s 41ms/step - loss: 0.7081 - val_loss: 0.6116\n",
      "Epoch 5/100\n",
      "3/3 [==============================] - 0s 46ms/step - loss: 0.6275 - val_loss: 0.5373\n",
      "Epoch 6/100\n",
      "3/3 [==============================] - 0s 44ms/step - loss: 0.5737 - val_loss: 0.4864\n",
      "Epoch 7/100\n",
      "3/3 [==============================] - 0s 44ms/step - loss: 0.5334 - val_loss: 0.4514\n",
      "Epoch 8/100\n",
      "3/3 [==============================] - 0s 23ms/step - loss: 0.5007 - val_loss: 0.4248\n",
      "Epoch 9/100\n",
      "3/3 [==============================] - 0s 23ms/step - loss: 0.4768 - val_loss: 0.4058\n",
      "Epoch 10/100\n",
      "3/3 [==============================] - 0s 52ms/step - loss: 0.4563 - val_loss: 0.3853\n",
      "Epoch 11/100\n",
      "3/3 [==============================] - 0s 19ms/step - loss: 0.4406 - val_loss: 0.3690\n",
      "Epoch 12/100\n",
      "3/3 [==============================] - 0s 23ms/step - loss: 0.4250 - val_loss: 0.3552\n",
      "Epoch 13/100\n",
      "3/3 [==============================] - 0s 22ms/step - loss: 0.4091 - val_loss: 0.3475\n",
      "Epoch 14/100\n",
      "3/3 [==============================] - 0s 15ms/step - loss: 0.3996 - val_loss: 0.3366\n",
      "Epoch 15/100\n",
      "3/3 [==============================] - 0s 20ms/step - loss: 0.3902 - val_loss: 0.3253\n",
      "Epoch 16/100\n",
      "3/3 [==============================] - 0s 33ms/step - loss: 0.3788 - val_loss: 0.3173\n",
      "Epoch 17/100\n",
      "3/3 [==============================] - 0s 59ms/step - loss: 0.3675 - val_loss: 0.3106\n",
      "Epoch 18/100\n",
      "3/3 [==============================] - 0s 63ms/step - loss: 0.3619 - val_loss: 0.3044\n",
      "Epoch 19/100\n",
      "3/3 [==============================] - 0s 49ms/step - loss: 0.3520 - val_loss: 0.2968\n",
      "Epoch 20/100\n",
      "3/3 [==============================] - 0s 49ms/step - loss: 0.3471 - val_loss: 0.2916\n",
      "Epoch 21/100\n",
      "3/3 [==============================] - 0s 53ms/step - loss: 0.3373 - val_loss: 0.2861\n",
      "Epoch 22/100\n",
      "3/3 [==============================] - 0s 76ms/step - loss: 0.3315 - val_loss: 0.2817\n",
      "Epoch 23/100\n",
      "3/3 [==============================] - 0s 46ms/step - loss: 0.3297 - val_loss: 0.2749\n",
      "Epoch 24/100\n",
      "3/3 [==============================] - 0s 48ms/step - loss: 0.3177 - val_loss: 0.2701\n",
      "Epoch 25/100\n",
      "3/3 [==============================] - 0s 29ms/step - loss: 0.3114 - val_loss: 0.2658\n",
      "Epoch 26/100\n",
      "3/3 [==============================] - 0s 35ms/step - loss: 0.3057 - val_loss: 0.2614\n",
      "Epoch 27/100\n",
      "3/3 [==============================] - 0s 44ms/step - loss: 0.2999 - val_loss: 0.2574\n",
      "Epoch 28/100\n",
      "3/3 [==============================] - 0s 50ms/step - loss: 0.3018 - val_loss: 0.2540\n",
      "Epoch 29/100\n",
      "3/3 [==============================] - 0s 49ms/step - loss: 0.2894 - val_loss: 0.2514\n",
      "Epoch 30/100\n",
      "3/3 [==============================] - 0s 44ms/step - loss: 0.2910 - val_loss: 0.2511\n",
      "Epoch 31/100\n",
      "3/3 [==============================] - 0s 54ms/step - loss: 0.2848 - val_loss: 0.2424\n",
      "Epoch 32/100\n",
      "3/3 [==============================] - 0s 56ms/step - loss: 0.2766 - val_loss: 0.2405\n",
      "Epoch 33/100\n",
      "3/3 [==============================] - 0s 24ms/step - loss: 0.2734 - val_loss: 0.2365\n",
      "Epoch 34/100\n",
      "3/3 [==============================] - 0s 26ms/step - loss: 0.2687 - val_loss: 0.2340\n",
      "Epoch 35/100\n",
      "3/3 [==============================] - 0s 31ms/step - loss: 0.2654 - val_loss: 0.2311\n",
      "Epoch 36/100\n",
      "3/3 [==============================] - 0s 32ms/step - loss: 0.2579 - val_loss: 0.2273\n",
      "Epoch 37/100\n",
      "3/3 [==============================] - 0s 27ms/step - loss: 0.2578 - val_loss: 0.2264\n",
      "Epoch 38/100\n",
      "3/3 [==============================] - 0s 41ms/step - loss: 0.2560 - val_loss: 0.2218\n",
      "Epoch 39/100\n",
      "3/3 [==============================] - 0s 40ms/step - loss: 0.2480 - val_loss: 0.2202\n",
      "Epoch 40/100\n",
      "3/3 [==============================] - 0s 38ms/step - loss: 0.2460 - val_loss: 0.2196\n",
      "Epoch 41/100\n",
      "3/3 [==============================] - 0s 41ms/step - loss: 0.2425 - val_loss: 0.2150\n",
      "Epoch 42/100\n",
      "3/3 [==============================] - 0s 39ms/step - loss: 0.2375 - val_loss: 0.2122\n",
      "Epoch 43/100\n",
      "3/3 [==============================] - 0s 39ms/step - loss: 0.2391 - val_loss: 0.2103\n",
      "Epoch 44/100\n",
      "3/3 [==============================] - 0s 44ms/step - loss: 0.2332 - val_loss: 0.2087\n",
      "Epoch 45/100\n",
      "3/3 [==============================] - 0s 61ms/step - loss: 0.2308 - val_loss: 0.2100\n",
      "Epoch 46/100\n",
      "3/3 [==============================] - 0s 33ms/step - loss: 0.2294 - val_loss: 0.2047\n",
      "Epoch 47/100\n",
      "3/3 [==============================] - 0s 27ms/step - loss: 0.2275 - val_loss: 0.2011\n",
      "Epoch 48/100\n",
      "3/3 [==============================] - 0s 28ms/step - loss: 0.2214 - val_loss: 0.1986\n",
      "Epoch 49/100\n",
      "3/3 [==============================] - 0s 28ms/step - loss: 0.2187 - val_loss: 0.1973\n",
      "Epoch 50/100\n",
      "3/3 [==============================] - 0s 26ms/step - loss: 0.2163 - val_loss: 0.1965\n",
      "Epoch 51/100\n",
      "3/3 [==============================] - 0s 21ms/step - loss: 0.2130 - val_loss: 0.1936\n",
      "Epoch 52/100\n",
      "3/3 [==============================] - 0s 19ms/step - loss: 0.2102 - val_loss: 0.1902\n",
      "Epoch 53/100\n",
      "3/3 [==============================] - 0s 22ms/step - loss: 0.2080 - val_loss: 0.1883\n",
      "Epoch 54/100\n",
      "3/3 [==============================] - 0s 20ms/step - loss: 0.2069 - val_loss: 0.1874\n",
      "Epoch 55/100\n",
      "3/3 [==============================] - 0s 21ms/step - loss: 0.2035 - val_loss: 0.1849\n",
      "Epoch 56/100\n",
      "3/3 [==============================] - 0s 27ms/step - loss: 0.2006 - val_loss: 0.1835\n",
      "Epoch 57/100\n",
      "3/3 [==============================] - 0s 32ms/step - loss: 0.1986 - val_loss: 0.1825\n",
      "Epoch 58/100\n",
      "3/3 [==============================] - 0s 29ms/step - loss: 0.1968 - val_loss: 0.1803\n",
      "Epoch 59/100\n",
      "3/3 [==============================] - 0s 27ms/step - loss: 0.1945 - val_loss: 0.1787\n",
      "Epoch 60/100\n",
      "3/3 [==============================] - 0s 23ms/step - loss: 0.1922 - val_loss: 0.1778\n",
      "Epoch 61/100\n",
      "3/3 [==============================] - 0s 30ms/step - loss: 0.1905 - val_loss: 0.1759\n",
      "Epoch 62/100\n",
      "3/3 [==============================] - 0s 41ms/step - loss: 0.1887 - val_loss: 0.1735\n",
      "Epoch 63/100\n",
      "3/3 [==============================] - 0s 45ms/step - loss: 0.1894 - val_loss: 0.1726\n",
      "Epoch 64/100\n",
      "3/3 [==============================] - 0s 44ms/step - loss: 0.1850 - val_loss: 0.1703\n",
      "Epoch 65/100\n",
      "3/3 [==============================] - 0s 45ms/step - loss: 0.1837 - val_loss: 0.1688\n",
      "Epoch 66/100\n",
      "3/3 [==============================] - 0s 38ms/step - loss: 0.1826 - val_loss: 0.1684\n",
      "Epoch 67/100\n",
      "3/3 [==============================] - 0s 31ms/step - loss: 0.1799 - val_loss: 0.1665\n",
      "Epoch 68/100\n",
      "3/3 [==============================] - 0s 29ms/step - loss: 0.1792 - val_loss: 0.1662\n",
      "Epoch 69/100\n",
      "3/3 [==============================] - 0s 45ms/step - loss: 0.1763 - val_loss: 0.1641\n",
      "Epoch 70/100\n",
      "3/3 [==============================] - 0s 28ms/step - loss: 0.1752 - val_loss: 0.1626\n",
      "Epoch 71/100\n",
      "3/3 [==============================] - 0s 28ms/step - loss: 0.1734 - val_loss: 0.1622\n",
      "Epoch 72/100\n",
      "3/3 [==============================] - 0s 30ms/step - loss: 0.1722 - val_loss: 0.1611\n",
      "Epoch 73/100\n",
      "3/3 [==============================] - 0s 25ms/step - loss: 0.1710 - val_loss: 0.1589\n",
      "Epoch 74/100\n",
      "3/3 [==============================] - 0s 28ms/step - loss: 0.1689 - val_loss: 0.1578\n",
      "Epoch 75/100\n",
      "3/3 [==============================] - 0s 30ms/step - loss: 0.1681 - val_loss: 0.1580\n",
      "Epoch 76/100\n",
      "3/3 [==============================] - 0s 21ms/step - loss: 0.1664 - val_loss: 0.1578\n",
      "Epoch 77/100\n",
      "3/3 [==============================] - 0s 19ms/step - loss: 0.1664 - val_loss: 0.1547\n",
      "Epoch 78/100\n",
      "3/3 [==============================] - 0s 22ms/step - loss: 0.1630 - val_loss: 0.1537\n",
      "Epoch 79/100\n",
      "3/3 [==============================] - 0s 21ms/step - loss: 0.1626 - val_loss: 0.1534\n",
      "Epoch 80/100\n",
      "3/3 [==============================] - 0s 25ms/step - loss: 0.1600 - val_loss: 0.1522\n",
      "Epoch 81/100\n",
      "3/3 [==============================] - 0s 30ms/step - loss: 0.1604 - val_loss: 0.1508\n",
      "Epoch 82/100\n",
      "3/3 [==============================] - 0s 28ms/step - loss: 0.1578 - val_loss: 0.1501\n",
      "Epoch 83/100\n",
      "3/3 [==============================] - 0s 28ms/step - loss: 0.1575 - val_loss: 0.1501\n",
      "Epoch 84/100\n",
      "3/3 [==============================] - 0s 31ms/step - loss: 0.1550 - val_loss: 0.1494\n",
      "Epoch 85/100\n",
      "3/3 [==============================] - 0s 41ms/step - loss: 0.1537 - val_loss: 0.1479\n",
      "Epoch 86/100\n",
      "3/3 [==============================] - 0s 36ms/step - loss: 0.1535 - val_loss: 0.1465\n",
      "Epoch 87/100\n",
      "3/3 [==============================] - 0s 23ms/step - loss: 0.1516 - val_loss: 0.1459\n",
      "Epoch 88/100\n",
      "3/3 [==============================] - 0s 29ms/step - loss: 0.1506 - val_loss: 0.1459\n",
      "Epoch 89/100\n",
      "3/3 [==============================] - 0s 24ms/step - loss: 0.1497 - val_loss: 0.1453\n",
      "Epoch 90/100\n",
      "3/3 [==============================] - 0s 28ms/step - loss: 0.1491 - val_loss: 0.1437\n",
      "Epoch 91/100\n",
      "3/3 [==============================] - 0s 26ms/step - loss: 0.1472 - val_loss: 0.1437\n",
      "Epoch 92/100\n",
      "3/3 [==============================] - 0s 26ms/step - loss: 0.1469 - val_loss: 0.1426\n",
      "Epoch 93/100\n",
      "3/3 [==============================] - 0s 31ms/step - loss: 0.1463 - val_loss: 0.1419\n",
      "Epoch 94/100\n",
      "3/3 [==============================] - 0s 50ms/step - loss: 0.1445 - val_loss: 0.1407\n",
      "Epoch 95/100\n",
      "3/3 [==============================] - 0s 50ms/step - loss: 0.1435 - val_loss: 0.1403\n",
      "Epoch 96/100\n",
      "3/3 [==============================] - 0s 46ms/step - loss: 0.1423 - val_loss: 0.1401\n",
      "Epoch 97/100\n",
      "3/3 [==============================] - 0s 46ms/step - loss: 0.1419 - val_loss: 0.1392\n",
      "Epoch 98/100\n",
      "3/3 [==============================] - 0s 50ms/step - loss: 0.1400 - val_loss: 0.1376\n",
      "Epoch 99/100\n",
      "3/3 [==============================] - 0s 50ms/step - loss: 0.1407 - val_loss: 0.1370\n",
      "Epoch 100/100\n",
      "3/3 [==============================] - 0s 26ms/step - loss: 0.1390 - val_loss: 0.1364\n"
     ]
    }
   ],
   "source": [
    "model.compile(optimizer=Adam(learning_rate=0.1), loss='categorical_crossentropy')\n",
    "\n",
    "history = model.fit(x_train, y_train, epochs = 100,\n",
    "                    validation_split=0.2).history"
   ]
  },
  {
   "cell_type": "markdown",
   "metadata": {
    "id": "3N8dEQk0SKD9"
   },
   "source": [
    "* 학습결과 그래프"
   ]
  },
  {
   "cell_type": "code",
   "execution_count": 15,
   "metadata": {
    "id": "KWaJzll1rhk3"
   },
   "outputs": [
    {
     "data": {
      "image/png": "[encoded data removed]",
      "text/plain": [
       "<Figure size 720x432 with 1 Axes>"
      ]
     },
     "metadata": {
      "needs_background": "light"
     },
     "output_type": "display_data"
    }
   ],
   "source": [
    "dl_history_plot(history)"
   ]
  },
  {
   "cell_type": "markdown",
   "metadata": {
    "id": "en2tQIAurisU"
   },
   "source": [
    "### (6) 예측 및 평가\n",
    "* 예측 결과는 softmax로 변환된 값 입니다."
   ]
  },
  {
   "cell_type": "code",
   "execution_count": 16,
   "metadata": {
    "id": "iWpqKvt78PmD"
   },
   "outputs": [
    {
     "name": "stdout",
     "output_type": "stream",
     "text": [
      "2/2 [==============================] - 0s 4ms/step\n"
     ]
    },
    {
     "data": {
      "text/plain": [
       "array([[8.8029919e-06, 4.3928035e-02, 9.5606315e-01],\n",
       "       [4.2006207e-07, 4.8965454e-02, 9.5103413e-01],\n",
       "       [9.7231358e-01, 2.7685734e-02, 7.0956082e-07],\n",
       "       [3.2001903e-04, 3.0959290e-01, 6.9008714e-01],\n",
       "       [9.8761511e-01, 1.2384804e-02, 1.5254764e-07]], dtype=float32)"
      ]
     },
     "execution_count": 16,
     "metadata": {},
     "output_type": "execute_result"
    }
   ],
   "source": [
    "# 확률값이므로 3값 합치면 1\n",
    "pred = model.predict(x_val)\n",
    "pred[:5]"
   ]
  },
  {
   "cell_type": "markdown",
   "metadata": {
    "id": "fSjrpyUN9U7K"
   },
   "source": [
    "* 행 별로 제일 큰 값을 찾아서 그에 맞게 숫자(0,1,2)로 변환 합시다."
   ]
  },
  {
   "cell_type": "code",
   "execution_count": 17,
   "metadata": {
    "id": "uBSae8aa9dmR"
   },
   "outputs": [
    {
     "data": {
      "text/plain": [
       "array([2, 2, 0, 2, 0], dtype=int64)"
      ]
     },
     "execution_count": 17,
     "metadata": {},
     "output_type": "execute_result"
    }
   ],
   "source": [
    "# 5개 행만 살펴보면\n",
    "# numpy argmax(axis=1) : 행별로 가장 큰 값의 인덱스를 반환하는 함수.\n",
    "np.argmax(pred[:5], axis = 1)"
   ]
  },
  {
   "cell_type": "code",
   "execution_count": 18,
   "metadata": {
    "collapsed": true,
    "id": "76T8-_3T9vKl",
    "jupyter": {
     "outputs_hidden": true
    },
    "tags": []
   },
   "outputs": [
    {
     "data": {
      "text/plain": [
       "array([[0., 0., 1.],\n",
       "       [0., 0., 1.],\n",
       "       [1., 0., 0.],\n",
       "       [0., 0., 1.],\n",
       "       [1., 0., 0.],\n",
       "       [1., 0., 0.],\n",
       "       [0., 1., 0.],\n",
       "       [0., 1., 0.],\n",
       "       [1., 0., 0.],\n",
       "       [0., 1., 0.],\n",
       "       [0., 1., 0.],\n",
       "       [0., 0., 1.],\n",
       "       [0., 1., 0.],\n",
       "       [0., 0., 1.],\n",
       "       [0., 0., 1.],\n",
       "       [1., 0., 0.],\n",
       "       [0., 1., 0.],\n",
       "       [0., 0., 1.],\n",
       "       [0., 0., 1.],\n",
       "       [0., 1., 0.],\n",
       "       [1., 0., 0.],\n",
       "       [1., 0., 0.],\n",
       "       [0., 0., 1.],\n",
       "       [1., 0., 0.],\n",
       "       [0., 0., 1.],\n",
       "       [0., 0., 1.],\n",
       "       [0., 0., 1.],\n",
       "       [1., 0., 0.],\n",
       "       [0., 1., 0.],\n",
       "       [0., 0., 1.],\n",
       "       [1., 0., 0.],\n",
       "       [0., 1., 0.],\n",
       "       [0., 1., 0.],\n",
       "       [1., 0., 0.],\n",
       "       [0., 1., 0.],\n",
       "       [1., 0., 0.],\n",
       "       [1., 0., 0.],\n",
       "       [0., 1., 0.],\n",
       "       [1., 0., 0.],\n",
       "       [0., 1., 0.],\n",
       "       [0., 0., 1.],\n",
       "       [0., 1., 0.],\n",
       "       [0., 1., 0.],\n",
       "       [0., 0., 1.],\n",
       "       [0., 0., 1.]], dtype=float32)"
      ]
     },
     "execution_count": 18,
     "metadata": {},
     "output_type": "execute_result"
    }
   ],
   "source": [
    "y_val"
   ]
  },
  {
   "cell_type": "code",
   "execution_count": 19,
   "metadata": {
    "id": "NZrmAw4WXs0T"
   },
   "outputs": [
    {
     "data": {
      "text/plain": [
       "array([2, 2, 0, 2, 0, 0, 1, 1, 0, 1, 1, 2, 1, 2, 2, 0, 1, 1, 2, 1, 0, 0,\n",
       "       2, 0, 2, 1, 2, 0, 2, 2, 0, 1, 1, 0, 1, 0, 0, 1, 0, 1, 2, 1, 1, 2,\n",
       "       2], dtype=int64)"
      ]
     },
     "execution_count": 19,
     "metadata": {},
     "output_type": "execute_result"
    }
   ],
   "source": [
    "# 전체에 적용해서 변환합시다.\n",
    "pred_1 = pred.argmax(axis=1)\n",
    "pred_1"
   ]
  },
  {
   "cell_type": "markdown",
   "metadata": {
    "id": "KlOA3LSx92cA"
   },
   "source": [
    "* 실제값 y_val도 원래 대로 돌려 놓습니다."
   ]
  },
  {
   "cell_type": "code",
   "execution_count": 20,
   "metadata": {
    "id": "NPfidur_98kl"
   },
   "outputs": [
    {
     "data": {
      "text/plain": [
       "array([[0., 0., 1.],\n",
       "       [0., 0., 1.],\n",
       "       [1., 0., 0.],\n",
       "       [0., 0., 1.],\n",
       "       [1., 0., 0.]], dtype=float32)"
      ]
     },
     "execution_count": 20,
     "metadata": {},
     "output_type": "execute_result"
    }
   ],
   "source": [
    "y_val[:5]"
   ]
  },
  {
   "cell_type": "code",
   "execution_count": 21,
   "metadata": {
    "id": "S8vc8Vpf-ALM"
   },
   "outputs": [
    {
     "data": {
      "text/plain": [
       "array([2, 2, 0, 2, 0, 0, 1, 1, 0, 1, 1, 2, 1, 2, 2, 0, 1, 2, 2, 1, 0, 0,\n",
       "       2, 0, 2, 2, 2, 0, 1, 2, 0, 1, 1, 0, 1, 0, 0, 1, 0, 1, 2, 1, 1, 2,\n",
       "       2], dtype=int64)"
      ]
     },
     "execution_count": 21,
     "metadata": {},
     "output_type": "execute_result"
    }
   ],
   "source": [
    "y_val_1 = y_val.argmax(axis=1)\n",
    "y_val_1"
   ]
  },
  {
   "cell_type": "code",
   "execution_count": 22,
   "metadata": {
    "id": "IONbKHSLX9PA"
   },
   "outputs": [
    {
     "name": "stdout",
     "output_type": "stream",
     "text": [
      "[[14  0  0]\n",
      " [ 0 14  1]\n",
      " [ 0  2 14]]\n",
      "              precision    recall  f1-score   support\n",
      "\n",
      "           0       1.00      1.00      1.00        14\n",
      "           1       0.88      0.93      0.90        15\n",
      "           2       0.93      0.88      0.90        16\n",
      "\n",
      "    accuracy                           0.93        45\n",
      "   macro avg       0.94      0.94      0.94        45\n",
      "weighted avg       0.93      0.93      0.93        45\n",
      "\n"
     ]
    }
   ],
   "source": [
    "print(confusion_matrix(y_val_1, pred_1))\n",
    "print(classification_report(y_val_1, pred_1))"
   ]
  },
  {
   "cell_type": "markdown",
   "metadata": {
    "id": "bX5ILdRFcLjj"
   },
   "source": [
    "## 4.방법② : y 그대로 사용\n",
    "\n",
    "* y는 그대로 사용. (주의! 아래 두가지를 꼭 확인해야 합니다.)\n",
    "    * y가 숫자로 인코딩되어 있어야 합니다. \n",
    "    * 그리고 0부터 시작해야 합니다.\n",
    "* 컴파일에서 loss = 'sparse_categorical_crossentropy'"
   ]
  },
  {
   "cell_type": "markdown",
   "metadata": {
    "id": "0hV7tlMocUfJ"
   },
   "source": [
    "### (1) 데이터 분할2 : train : val"
   ]
  },
  {
   "cell_type": "code",
   "execution_count": 23,
   "metadata": {
    "id": "uWX-KGzj-PB0"
   },
   "outputs": [
    {
     "data": {
      "text/html": [
       "<div>\n",
       "<style scoped>\n",
       "    .dataframe tbody tr th:only-of-type {\n",
       "        vertical-align: middle;\n",
       "    }\n",
       "\n",
       "    .dataframe tbody tr th {\n",
       "        vertical-align: top;\n",
       "    }\n",
       "\n",
       "    .dataframe thead th {\n",
       "        text-align: right;\n",
       "    }\n",
       "</style>\n",
       "<table border=\"1\" class=\"dataframe\">\n",
       "  <thead>\n",
       "    <tr style=\"text-align: right;\">\n",
       "      <th></th>\n",
       "      <th>Sepal.Length</th>\n",
       "      <th>Sepal.Width</th>\n",
       "      <th>Petal.Length</th>\n",
       "      <th>Petal.Width</th>\n",
       "    </tr>\n",
       "  </thead>\n",
       "  <tbody>\n",
       "    <tr>\n",
       "      <th>0</th>\n",
       "      <td>5.1</td>\n",
       "      <td>3.5</td>\n",
       "      <td>1.4</td>\n",
       "      <td>0.2</td>\n",
       "    </tr>\n",
       "    <tr>\n",
       "      <th>1</th>\n",
       "      <td>4.9</td>\n",
       "      <td>3.0</td>\n",
       "      <td>1.4</td>\n",
       "      <td>0.2</td>\n",
       "    </tr>\n",
       "    <tr>\n",
       "      <th>2</th>\n",
       "      <td>4.7</td>\n",
       "      <td>3.2</td>\n",
       "      <td>1.3</td>\n",
       "      <td>0.2</td>\n",
       "    </tr>\n",
       "    <tr>\n",
       "      <th>3</th>\n",
       "      <td>4.6</td>\n",
       "      <td>3.1</td>\n",
       "      <td>1.5</td>\n",
       "      <td>0.2</td>\n",
       "    </tr>\n",
       "    <tr>\n",
       "      <th>4</th>\n",
       "      <td>5.0</td>\n",
       "      <td>3.6</td>\n",
       "      <td>1.4</td>\n",
       "      <td>0.2</td>\n",
       "    </tr>\n",
       "  </tbody>\n",
       "</table>\n",
       "</div>"
      ],
      "text/plain": [
       "   Sepal.Length  Sepal.Width  Petal.Length  Petal.Width\n",
       "0           5.1          3.5           1.4          0.2\n",
       "1           4.9          3.0           1.4          0.2\n",
       "2           4.7          3.2           1.3          0.2\n",
       "3           4.6          3.1           1.5          0.2\n",
       "4           5.0          3.6           1.4          0.2"
      ]
     },
     "execution_count": 23,
     "metadata": {},
     "output_type": "execute_result"
    }
   ],
   "source": [
    "x.head()"
   ]
  },
  {
   "cell_type": "code",
   "execution_count": 24,
   "metadata": {
    "id": "qIJRIMD2-TY_"
   },
   "outputs": [
    {
     "data": {
      "text/plain": [
       "0    0\n",
       "1    0\n",
       "2    0\n",
       "3    0\n",
       "4    0\n",
       "Name: Species, dtype: int64"
      ]
     },
     "execution_count": 24,
     "metadata": {},
     "output_type": "execute_result"
    }
   ],
   "source": [
    "y.head()"
   ]
  },
  {
   "cell_type": "code",
   "execution_count": 25,
   "metadata": {
    "id": "xXMD-c-LcUfJ"
   },
   "outputs": [],
   "source": [
    "x_train, x_val, y_train, y_val = train_test_split(x, y, test_size = .3, random_state = 2022)"
   ]
  },
  {
   "cell_type": "markdown",
   "metadata": {
    "id": "h6bl5cfBcUfJ"
   },
   "source": [
    "### (2) Scaling"
   ]
  },
  {
   "cell_type": "code",
   "execution_count": 26,
   "metadata": {
    "id": "_vv1mX4gcUfK"
   },
   "outputs": [],
   "source": [
    "scaler = MinMaxScaler()\n",
    "x_train = scaler.fit_transform(x_train)\n",
    "x_val = scaler.transform(x_val)"
   ]
  },
  {
   "cell_type": "markdown",
   "metadata": {
    "id": "h-FE2_FScLjo"
   },
   "source": [
    "### (3) 모델 설계"
   ]
  },
  {
   "cell_type": "code",
   "execution_count": 27,
   "metadata": {
    "id": "OhCckNYfcLjo"
   },
   "outputs": [
    {
     "data": {
      "text/plain": [
       "4"
      ]
     },
     "execution_count": 27,
     "metadata": {},
     "output_type": "execute_result"
    }
   ],
   "source": [
    "nfeatures = x_train.shape[1] #num of columns\n",
    "nfeatures"
   ]
  },
  {
   "cell_type": "code",
   "execution_count": 28,
   "metadata": {
    "id": "UbOyVdCDcLjp"
   },
   "outputs": [
    {
     "name": "stdout",
     "output_type": "stream",
     "text": [
      "Model: \"sequential\"\n",
      "_________________________________________________________________\n",
      " Layer (type)                Output Shape              Param #   \n",
      "=================================================================\n",
      " dense (Dense)               (None, 3)                 15        \n",
      "                                                                 \n",
      "=================================================================\n",
      "Total params: 15\n",
      "Trainable params: 15\n",
      "Non-trainable params: 0\n",
      "_________________________________________________________________\n"
     ]
    }
   ],
   "source": [
    "# 메모리 정리\n",
    "clear_session()\n",
    "\n",
    "# Sequential 타입 모델 선언\n",
    "model = Sequential()\n",
    "\n",
    "# Layer 정의\n",
    "layer = Dense(3, input_shape = (nfeatures,), activation = 'softmax')\n",
    "\n",
    "# 모델에 추가\n",
    "model.add(layer)\n",
    "\n",
    "# 모델요약\n",
    "model.summary()"
   ]
  },
  {
   "cell_type": "markdown",
   "metadata": {
    "id": "EQdh6V-_cLjp"
   },
   "source": [
    "### (4) compile + 학습"
   ]
  },
  {
   "cell_type": "code",
   "execution_count": 29,
   "metadata": {
    "collapsed": true,
    "id": "6ieFhGLUcLjp",
    "jupyter": {
     "outputs_hidden": true
    },
    "tags": []
   },
   "outputs": [
    {
     "name": "stdout",
     "output_type": "stream",
     "text": [
      "Epoch 1/50\n",
      "3/3 [==============================] - 1s 251ms/step - loss: 1.1547 - val_loss: 1.0539\n",
      "Epoch 2/50\n",
      "3/3 [==============================] - 0s 31ms/step - loss: 0.9466 - val_loss: 0.8822\n",
      "Epoch 3/50\n",
      "3/3 [==============================] - 0s 24ms/step - loss: 0.8194 - val_loss: 0.7387\n",
      "Epoch 4/50\n",
      "3/3 [==============================] - 0s 28ms/step - loss: 0.7031 - val_loss: 0.6293\n",
      "Epoch 5/50\n",
      "3/3 [==============================] - 0s 26ms/step - loss: 0.6338 - val_loss: 0.5519\n",
      "Epoch 6/50\n",
      "3/3 [==============================] - 0s 25ms/step - loss: 0.5707 - val_loss: 0.5007\n",
      "Epoch 7/50\n",
      "3/3 [==============================] - 0s 25ms/step - loss: 0.5330 - val_loss: 0.4621\n",
      "Epoch 8/50\n",
      "3/3 [==============================] - 0s 26ms/step - loss: 0.5058 - val_loss: 0.4355\n",
      "Epoch 9/50\n",
      "3/3 [==============================] - 0s 32ms/step - loss: 0.4796 - val_loss: 0.4114\n",
      "Epoch 10/50\n",
      "3/3 [==============================] - 0s 31ms/step - loss: 0.4571 - val_loss: 0.3933\n",
      "Epoch 11/50\n",
      "3/3 [==============================] - 0s 25ms/step - loss: 0.4411 - val_loss: 0.3788\n",
      "Epoch 12/50\n",
      "3/3 [==============================] - 0s 37ms/step - loss: 0.4310 - val_loss: 0.3651\n",
      "Epoch 13/50\n",
      "3/3 [==============================] - 0s 25ms/step - loss: 0.4149 - val_loss: 0.3546\n",
      "Epoch 14/50\n",
      "3/3 [==============================] - 0s 26ms/step - loss: 0.4056 - val_loss: 0.3441\n",
      "Epoch 15/50\n",
      "3/3 [==============================] - 0s 27ms/step - loss: 0.3948 - val_loss: 0.3350\n",
      "Epoch 16/50\n",
      "3/3 [==============================] - 0s 30ms/step - loss: 0.3861 - val_loss: 0.3270\n",
      "Epoch 17/50\n",
      "3/3 [==============================] - 0s 38ms/step - loss: 0.3791 - val_loss: 0.3191\n",
      "Epoch 18/50\n",
      "3/3 [==============================] - 0s 34ms/step - loss: 0.3694 - val_loss: 0.3130\n",
      "Epoch 19/50\n",
      "3/3 [==============================] - 0s 36ms/step - loss: 0.3665 - val_loss: 0.3072\n",
      "Epoch 20/50\n",
      "3/3 [==============================] - 0s 48ms/step - loss: 0.3603 - val_loss: 0.3004\n",
      "Epoch 21/50\n",
      "3/3 [==============================] - 0s 38ms/step - loss: 0.3491 - val_loss: 0.2996\n",
      "Epoch 22/50\n",
      "3/3 [==============================] - 0s 26ms/step - loss: 0.3503 - val_loss: 0.2947\n",
      "Epoch 23/50\n",
      "3/3 [==============================] - 0s 31ms/step - loss: 0.3422 - val_loss: 0.2842\n",
      "Epoch 24/50\n",
      "3/3 [==============================] - 0s 26ms/step - loss: 0.3338 - val_loss: 0.2805\n",
      "Epoch 25/50\n",
      "3/3 [==============================] - 0s 25ms/step - loss: 0.3312 - val_loss: 0.2756\n",
      "Epoch 26/50\n",
      "3/3 [==============================] - 0s 22ms/step - loss: 0.3292 - val_loss: 0.2711\n",
      "Epoch 27/50\n",
      "3/3 [==============================] - 0s 25ms/step - loss: 0.3173 - val_loss: 0.2672\n",
      "Epoch 28/50\n",
      "3/3 [==============================] - 0s 24ms/step - loss: 0.3133 - val_loss: 0.2634\n",
      "Epoch 29/50\n",
      "3/3 [==============================] - 0s 23ms/step - loss: 0.3103 - val_loss: 0.2594\n",
      "Epoch 30/50\n",
      "3/3 [==============================] - 0s 25ms/step - loss: 0.3046 - val_loss: 0.2560\n",
      "Epoch 31/50\n",
      "3/3 [==============================] - 0s 26ms/step - loss: 0.2985 - val_loss: 0.2534\n",
      "Epoch 32/50\n",
      "3/3 [==============================] - 0s 28ms/step - loss: 0.2945 - val_loss: 0.2514\n",
      "Epoch 33/50\n",
      "3/3 [==============================] - 0s 25ms/step - loss: 0.2937 - val_loss: 0.2493\n",
      "Epoch 34/50\n",
      "3/3 [==============================] - 0s 58ms/step - loss: 0.2902 - val_loss: 0.2432\n",
      "Epoch 35/50\n",
      "3/3 [==============================] - 0s 39ms/step - loss: 0.2828 - val_loss: 0.2403\n",
      "Epoch 36/50\n",
      "3/3 [==============================] - 0s 26ms/step - loss: 0.2790 - val_loss: 0.2384\n",
      "Epoch 37/50\n",
      "3/3 [==============================] - 0s 29ms/step - loss: 0.2750 - val_loss: 0.2351\n",
      "Epoch 38/50\n",
      "3/3 [==============================] - 0s 30ms/step - loss: 0.2724 - val_loss: 0.2324\n",
      "Epoch 39/50\n",
      "3/3 [==============================] - 0s 27ms/step - loss: 0.2672 - val_loss: 0.2306\n",
      "Epoch 40/50\n",
      "3/3 [==============================] - 0s 28ms/step - loss: 0.2659 - val_loss: 0.2294\n",
      "Epoch 41/50\n",
      "3/3 [==============================] - 0s 28ms/step - loss: 0.2609 - val_loss: 0.2249\n",
      "Epoch 42/50\n",
      "3/3 [==============================] - 0s 26ms/step - loss: 0.2569 - val_loss: 0.2222\n",
      "Epoch 43/50\n",
      "3/3 [==============================] - 0s 25ms/step - loss: 0.2575 - val_loss: 0.2204\n",
      "Epoch 44/50\n",
      "3/3 [==============================] - 0s 37ms/step - loss: 0.2521 - val_loss: 0.2176\n",
      "Epoch 45/50\n",
      "3/3 [==============================] - 0s 33ms/step - loss: 0.2471 - val_loss: 0.2171\n",
      "Epoch 46/50\n",
      "3/3 [==============================] - 0s 34ms/step - loss: 0.2516 - val_loss: 0.2190\n",
      "Epoch 47/50\n",
      "3/3 [==============================] - 0s 23ms/step - loss: 0.2443 - val_loss: 0.2125\n",
      "Epoch 48/50\n",
      "3/3 [==============================] - 0s 25ms/step - loss: 0.2389 - val_loss: 0.2081\n",
      "Epoch 49/50\n",
      "3/3 [==============================] - 0s 30ms/step - loss: 0.2379 - val_loss: 0.2067\n",
      "Epoch 50/50\n",
      "3/3 [==============================] - 0s 27ms/step - loss: 0.2357 - val_loss: 0.2039\n"
     ]
    }
   ],
   "source": [
    "model.compile(optimizer=Adam(learning_rate=0.1), \n",
    "              loss='sparse_categorical_crossentropy')\n",
    "\n",
    "history = model.fit(x_train, y_train, epochs = 50,\n",
    "                    validation_split=0.2).history"
   ]
  },
  {
   "cell_type": "markdown",
   "metadata": {
    "id": "aqwLGdhQcLjp"
   },
   "source": [
    "* 학습결과 그래프"
   ]
  },
  {
   "cell_type": "code",
   "execution_count": 30,
   "metadata": {
    "id": "ljY5TfgkcLjp"
   },
   "outputs": [
    {
     "data": {
      "image/png": "[encoded data removed]",
      "text/plain": [
       "<Figure size 720x432 with 1 Axes>"
      ]
     },
     "metadata": {
      "needs_background": "light"
     },
     "output_type": "display_data"
    }
   ],
   "source": [
    "dl_history_plot(history)"
   ]
  },
  {
   "cell_type": "markdown",
   "metadata": {
    "id": "DHm8hxw9-sJh"
   },
   "source": [
    "### (5) 예측 및 평가\n",
    "* 예측 결과는 softmax로 변환된 값 입니다."
   ]
  },
  {
   "cell_type": "code",
   "execution_count": 31,
   "metadata": {
    "id": "gk3p2_lG-sJi"
   },
   "outputs": [
    {
     "name": "stdout",
     "output_type": "stream",
     "text": [
      "2/2 [==============================] - 0s 5ms/step\n"
     ]
    },
    {
     "data": {
      "text/plain": [
       "array([[2.3909332e-04, 1.4186200e-01, 8.5789889e-01],\n",
       "       [1.8191868e-05, 1.5275122e-01, 8.4723061e-01],\n",
       "       [9.4557273e-01, 5.4260124e-02, 1.6717392e-04],\n",
       "       [1.8121928e-03, 3.6303237e-01, 6.3515538e-01],\n",
       "       [9.6799213e-01, 3.1925373e-02, 8.2503058e-05]], dtype=float32)"
      ]
     },
     "execution_count": 31,
     "metadata": {},
     "output_type": "execute_result"
    }
   ],
   "source": [
    "pred = model.predict(x_val)\n",
    "pred[:5]"
   ]
  },
  {
   "cell_type": "markdown",
   "metadata": {
    "id": "filC4ez3-sJi"
   },
   "source": [
    "* 행 별로 제일 큰 값을 찾아서 그에 맞게 숫자(0,1,2)로 변환 합시다."
   ]
  },
  {
   "cell_type": "code",
   "execution_count": 32,
   "metadata": {
    "id": "KPSRBqQB-sJi"
   },
   "outputs": [
    {
     "data": {
      "text/plain": [
       "array([2, 2, 0, 2, 0], dtype=int64)"
      ]
     },
     "execution_count": 32,
     "metadata": {},
     "output_type": "execute_result"
    }
   ],
   "source": [
    "# 5개 행만 살펴보면\n",
    "np.argmax(pred[:5], axis = 1)"
   ]
  },
  {
   "cell_type": "code",
   "execution_count": 33,
   "metadata": {
    "id": "UUooGdNL-sJi"
   },
   "outputs": [
    {
     "data": {
      "text/plain": [
       "array([2, 2, 0, 2, 0, 0, 1, 1, 0, 1, 1, 2, 1, 2, 2, 0, 1, 1, 2, 1, 0, 0,\n",
       "       2, 0, 2, 1, 2, 0, 1, 2, 0, 1, 1, 0, 1, 0, 0, 1, 0, 1, 2, 1, 1, 2,\n",
       "       2], dtype=int64)"
      ]
     },
     "execution_count": 33,
     "metadata": {},
     "output_type": "execute_result"
    }
   ],
   "source": [
    "# 전체에 적용해서 변환합시다.\n",
    "pred_1 = pred.argmax(axis=1)\n",
    "pred_1"
   ]
  },
  {
   "cell_type": "markdown",
   "metadata": {
    "id": "_SgpmDAB-sJi"
   },
   "source": [
    "* 실제값 y_val은 0,1,2 로 된 1차원 값입니다. "
   ]
  },
  {
   "cell_type": "code",
   "execution_count": 34,
   "metadata": {
    "id": "izGxxx6f-sJi"
   },
   "outputs": [
    {
     "data": {
      "text/plain": [
       "128    2\n",
       "105    2\n",
       "30     0\n",
       "137    2\n",
       "17     0\n",
       "8      0\n",
       "79     1\n",
       "80     1\n",
       "0      0\n",
       "67     1\n",
       "91     1\n",
       "131    2\n",
       "58     1\n",
       "100    2\n",
       "118    2\n",
       "5      0\n",
       "95     1\n",
       "129    2\n",
       "103    2\n",
       "92     1\n",
       "36     0\n",
       "43     0\n",
       "111    2\n",
       "39     0\n",
       "115    2\n",
       "133    2\n",
       "121    2\n",
       "20     0\n",
       "68     1\n",
       "146    2\n",
       "38     0\n",
       "82     1\n",
       "89     1\n",
       "1      0\n",
       "74     1\n",
       "6      0\n",
       "34     0\n",
       "69     1\n",
       "44     0\n",
       "59     1\n",
       "147    2\n",
       "66     1\n",
       "57     1\n",
       "107    2\n",
       "139    2\n",
       "Name: Species, dtype: int64"
      ]
     },
     "execution_count": 34,
     "metadata": {},
     "output_type": "execute_result"
    }
   ],
   "source": [
    "y_val"
   ]
  },
  {
   "cell_type": "code",
   "execution_count": 35,
   "metadata": {
    "id": "R6iKIqiY-sJj"
   },
   "outputs": [
    {
     "name": "stdout",
     "output_type": "stream",
     "text": [
      "[[14  0  0]\n",
      " [ 0 15  0]\n",
      " [ 0  2 14]]\n",
      "              precision    recall  f1-score   support\n",
      "\n",
      "           0       1.00      1.00      1.00        14\n",
      "           1       0.88      1.00      0.94        15\n",
      "           2       1.00      0.88      0.93        16\n",
      "\n",
      "    accuracy                           0.96        45\n",
      "   macro avg       0.96      0.96      0.96        45\n",
      "weighted avg       0.96      0.96      0.96        45\n",
      "\n"
     ]
    }
   ],
   "source": [
    "print(confusion_matrix(y_val, pred_1))\n",
    "print(classification_report(y_val, pred_1))"
   ]
  },
  {
   "cell_type": "markdown",
   "metadata": {
    "id": "SL2L1RrNTA5g"
   },
   "source": [
    "## 5.실습 : 와인 품질 분류\n",
    "\n",
    "위 두가지 방법 중 한가지만 사용하시면 됩니다.\n"
   ]
  },
  {
   "cell_type": "markdown",
   "metadata": {
    "id": "bWL9ssqWTxCF"
   },
   "source": [
    "### (1) 데이터 전처리"
   ]
  },
  {
   "cell_type": "code",
   "execution_count": 12,
   "metadata": {
    "id": "mNo2hpBPj74t"
   },
   "outputs": [
    {
     "data": {
      "text/html": [
       "<div>\n",
       "<style scoped>\n",
       "    .dataframe tbody tr th:only-of-type {\n",
       "        vertical-align: middle;\n",
       "    }\n",
       "\n",
       "    .dataframe tbody tr th {\n",
       "        vertical-align: top;\n",
       "    }\n",
       "\n",
       "    .dataframe thead th {\n",
       "        text-align: right;\n",
       "    }\n",
       "</style>\n",
       "<table border=\"1\" class=\"dataframe\">\n",
       "  <thead>\n",
       "    <tr style=\"text-align: right;\">\n",
       "      <th></th>\n",
       "      <th>fixed acidity</th>\n",
       "      <th>volatile acidity</th>\n",
       "      <th>citric acid</th>\n",
       "      <th>residual sugar</th>\n",
       "      <th>chlorides</th>\n",
       "      <th>free sulfur dioxide</th>\n",
       "      <th>total sulfur dioxide</th>\n",
       "      <th>density</th>\n",
       "      <th>pH</th>\n",
       "      <th>sulphates</th>\n",
       "      <th>alcohol</th>\n",
       "      <th>quality</th>\n",
       "    </tr>\n",
       "  </thead>\n",
       "  <tbody>\n",
       "    <tr>\n",
       "      <th>0</th>\n",
       "      <td>7.0</td>\n",
       "      <td>0.27</td>\n",
       "      <td>0.36</td>\n",
       "      <td>20.7</td>\n",
       "      <td>0.045</td>\n",
       "      <td>45.0</td>\n",
       "      <td>170.0</td>\n",
       "      <td>1.0010</td>\n",
       "      <td>3.00</td>\n",
       "      <td>0.45</td>\n",
       "      <td>8.8</td>\n",
       "      <td>2</td>\n",
       "    </tr>\n",
       "    <tr>\n",
       "      <th>1</th>\n",
       "      <td>6.3</td>\n",
       "      <td>0.30</td>\n",
       "      <td>0.34</td>\n",
       "      <td>1.6</td>\n",
       "      <td>0.049</td>\n",
       "      <td>14.0</td>\n",
       "      <td>132.0</td>\n",
       "      <td>0.9940</td>\n",
       "      <td>3.30</td>\n",
       "      <td>0.49</td>\n",
       "      <td>9.5</td>\n",
       "      <td>2</td>\n",
       "    </tr>\n",
       "    <tr>\n",
       "      <th>2</th>\n",
       "      <td>8.1</td>\n",
       "      <td>0.28</td>\n",
       "      <td>0.40</td>\n",
       "      <td>6.9</td>\n",
       "      <td>0.050</td>\n",
       "      <td>30.0</td>\n",
       "      <td>97.0</td>\n",
       "      <td>0.9951</td>\n",
       "      <td>3.26</td>\n",
       "      <td>0.44</td>\n",
       "      <td>10.1</td>\n",
       "      <td>2</td>\n",
       "    </tr>\n",
       "    <tr>\n",
       "      <th>3</th>\n",
       "      <td>7.2</td>\n",
       "      <td>0.23</td>\n",
       "      <td>0.32</td>\n",
       "      <td>8.5</td>\n",
       "      <td>0.058</td>\n",
       "      <td>47.0</td>\n",
       "      <td>186.0</td>\n",
       "      <td>0.9956</td>\n",
       "      <td>3.19</td>\n",
       "      <td>0.40</td>\n",
       "      <td>9.9</td>\n",
       "      <td>2</td>\n",
       "    </tr>\n",
       "    <tr>\n",
       "      <th>4</th>\n",
       "      <td>7.2</td>\n",
       "      <td>0.23</td>\n",
       "      <td>0.32</td>\n",
       "      <td>8.5</td>\n",
       "      <td>0.058</td>\n",
       "      <td>47.0</td>\n",
       "      <td>186.0</td>\n",
       "      <td>0.9956</td>\n",
       "      <td>3.19</td>\n",
       "      <td>0.40</td>\n",
       "      <td>9.9</td>\n",
       "      <td>2</td>\n",
       "    </tr>\n",
       "  </tbody>\n",
       "</table>\n",
       "</div>"
      ],
      "text/plain": [
       "   fixed acidity  volatile acidity  citric acid  residual sugar  chlorides  \\\n",
       "0            7.0              0.27         0.36            20.7      0.045   \n",
       "1            6.3              0.30         0.34             1.6      0.049   \n",
       "2            8.1              0.28         0.40             6.9      0.050   \n",
       "3            7.2              0.23         0.32             8.5      0.058   \n",
       "4            7.2              0.23         0.32             8.5      0.058   \n",
       "\n",
       "   free sulfur dioxide  total sulfur dioxide  density    pH  sulphates  \\\n",
       "0                 45.0                 170.0   1.0010  3.00       0.45   \n",
       "1                 14.0                 132.0   0.9940  3.30       0.49   \n",
       "2                 30.0                  97.0   0.9951  3.26       0.44   \n",
       "3                 47.0                 186.0   0.9956  3.19       0.40   \n",
       "4                 47.0                 186.0   0.9956  3.19       0.40   \n",
       "\n",
       "   alcohol  quality  \n",
       "0      8.8        2  \n",
       "1      9.5        2  \n",
       "2     10.1        2  \n",
       "3      9.9        2  \n",
       "4      9.9        2  "
      ]
     },
     "execution_count": 12,
     "metadata": {},
     "output_type": "execute_result"
    }
   ],
   "source": [
    "path = \"https://raw.githubusercontent.com/DA4BAM/dataset/master/winequality-white.csv\"\n",
    "data = pd.read_csv(path)\n",
    "data['quality'] = np.where(data['quality'] == 3, 4, np.where(data['quality'] == 9, 8, data['quality']))\n",
    "data['quality'] = data['quality'] - 4\n",
    "data.head()"
   ]
  },
  {
   "cell_type": "markdown",
   "metadata": {
    "id": "9tbGOH0E_MEr"
   },
   "source": [
    "* 범주가 5개 입니다.\n",
    "    * 0 - 최하  ~  4 - 최상"
   ]
  },
  {
   "cell_type": "code",
   "execution_count": 13,
   "metadata": {
    "id": "oYmcA6gr-vCI"
   },
   "outputs": [
    {
     "data": {
      "text/plain": [
       "2    2198\n",
       "1    1457\n",
       "3     880\n",
       "0     183\n",
       "4     180\n",
       "Name: quality, dtype: int64"
      ]
     },
     "execution_count": 13,
     "metadata": {},
     "output_type": "execute_result"
    }
   ],
   "source": [
    "data['quality'].value_counts()"
   ]
  },
  {
   "cell_type": "markdown",
   "metadata": {
    "id": "baT3_4gMt8lx"
   },
   "source": [
    "* y에 대한 전처리\n",
    "    * 여기서는 y를 그대로 두고, (그래서, 0 ~ 4로 범주를 맞췄습니다.)\n",
    "    * sparse_categorical_crossentropy 를 적용합시다."
   ]
  },
  {
   "cell_type": "markdown",
   "metadata": {
    "id": "Q8-uL-ebT5SQ"
   },
   "source": [
    "* 데이터 분할"
   ]
  },
  {
   "cell_type": "code",
   "execution_count": 14,
   "metadata": {
    "id": "korryJ9cTFTo"
   },
   "outputs": [],
   "source": [
    "target = 'quality'\n",
    "x = data.drop(target, axis = 1)\n",
    "y = data.loc[:, target]\n",
    "x_train, x_val, y_train, y_val = train_test_split(x, y, test_size= .3\n",
    "                                                  , random_state = 2022)"
   ]
  },
  {
   "cell_type": "markdown",
   "metadata": {
    "id": "s_huFosGT7en"
   },
   "source": [
    "* 스케일링"
   ]
  },
  {
   "cell_type": "code",
   "execution_count": 15,
   "metadata": {
    "id": "IV5Hu5WvTFQn"
   },
   "outputs": [],
   "source": [
    "scaler = MinMaxScaler()\n",
    "x_train = scaler.fit_transform(x_train)\n",
    "x_val = scaler.transform(x_val)"
   ]
  },
  {
   "cell_type": "markdown",
   "metadata": {
    "id": "xDS0688JUBsF"
   },
   "source": [
    "### (2) 모델링"
   ]
  },
  {
   "cell_type": "markdown",
   "metadata": {
    "id": "-8anLIya-dSR"
   },
   "source": [
    "* 모델 설계"
   ]
  },
  {
   "cell_type": "code",
   "execution_count": 16,
   "metadata": {
    "id": "6rOVxuya-dSX"
   },
   "outputs": [
    {
     "data": {
      "text/plain": [
       "11"
      ]
     },
     "execution_count": 16,
     "metadata": {},
     "output_type": "execute_result"
    }
   ],
   "source": [
    "nfeatures = x_train.shape[1] #num of columns\n",
    "nfeatures"
   ]
  },
  {
   "cell_type": "code",
   "execution_count": 17,
   "metadata": {
    "id": "Mr8lDq3i-dSX"
   },
   "outputs": [
    {
     "name": "stdout",
     "output_type": "stream",
     "text": [
      "Model: \"sequential\"\n",
      "_________________________________________________________________\n",
      " Layer (type)                Output Shape              Param #   \n",
      "=================================================================\n",
      " dense (Dense)               (None, 5)                 60        \n",
      "                                                                 \n",
      "=================================================================\n",
      "Total params: 60\n",
      "Trainable params: 60\n",
      "Non-trainable params: 0\n",
      "_________________________________________________________________\n"
     ]
    }
   ],
   "source": [
    "# 메모리 정리\n",
    "clear_session()\n",
    "\n",
    "# Sequential 타입 모델 선언\n",
    "model = Sequential([Dense(5, input_shape = (nfeatures,), activation = 'softmax')])\n",
    "\n",
    "# 모델요약\n",
    "model.summary()"
   ]
  },
  {
   "cell_type": "markdown",
   "metadata": {
    "id": "QkfTabT1-dSX"
   },
   "source": [
    "* compile + 학습"
   ]
  },
  {
   "cell_type": "code",
   "execution_count": 18,
   "metadata": {
    "id": "NW1xjHUB-dSX"
   },
   "outputs": [
    {
     "name": "stdout",
     "output_type": "stream",
     "text": [
      "Epoch 1/50\n",
      "86/86 [==============================] - 2s 14ms/step - loss: 1.2838 - val_loss: 1.2537\n",
      "Epoch 2/50\n",
      "86/86 [==============================] - 0s 4ms/step - loss: 1.2197 - val_loss: 1.2239\n",
      "Epoch 3/50\n",
      "86/86 [==============================] - 0s 3ms/step - loss: 1.1951 - val_loss: 1.2071\n",
      "Epoch 4/50\n",
      "86/86 [==============================] - 0s 5ms/step - loss: 1.1803 - val_loss: 1.1944\n",
      "Epoch 5/50\n",
      "86/86 [==============================] - 1s 8ms/step - loss: 1.1682 - val_loss: 1.1830\n",
      "Epoch 6/50\n",
      "86/86 [==============================] - 1s 6ms/step - loss: 1.1591 - val_loss: 1.1774\n",
      "Epoch 7/50\n",
      "86/86 [==============================] - 0s 5ms/step - loss: 1.1522 - val_loss: 1.1707\n",
      "Epoch 8/50\n",
      "86/86 [==============================] - 0s 5ms/step - loss: 1.1440 - val_loss: 1.1612\n",
      "Epoch 9/50\n",
      "86/86 [==============================] - 0s 4ms/step - loss: 1.1405 - val_loss: 1.1583\n",
      "Epoch 10/50\n",
      "86/86 [==============================] - 1s 7ms/step - loss: 1.1338 - val_loss: 1.1536\n",
      "Epoch 11/50\n",
      "86/86 [==============================] - 1s 7ms/step - loss: 1.1301 - val_loss: 1.1485\n",
      "Epoch 12/50\n",
      "86/86 [==============================] - 1s 6ms/step - loss: 1.1270 - val_loss: 1.1614\n",
      "Epoch 13/50\n",
      "86/86 [==============================] - 0s 4ms/step - loss: 1.1268 - val_loss: 1.1464\n",
      "Epoch 14/50\n",
      "86/86 [==============================] - 0s 3ms/step - loss: 1.1230 - val_loss: 1.1427\n",
      "Epoch 15/50\n",
      "86/86 [==============================] - 0s 3ms/step - loss: 1.1194 - val_loss: 1.1393\n",
      "Epoch 16/50\n",
      "86/86 [==============================] - 1s 7ms/step - loss: 1.1197 - val_loss: 1.1356\n",
      "Epoch 17/50\n",
      "86/86 [==============================] - 1s 7ms/step - loss: 1.1165 - val_loss: 1.1333\n",
      "Epoch 18/50\n",
      "86/86 [==============================] - 0s 6ms/step - loss: 1.1169 - val_loss: 1.1316\n",
      "Epoch 19/50\n",
      "86/86 [==============================] - 1s 7ms/step - loss: 1.1135 - val_loss: 1.1309\n",
      "Epoch 20/50\n",
      "86/86 [==============================] - 0s 5ms/step - loss: 1.1137 - val_loss: 1.1304\n",
      "Epoch 21/50\n",
      "86/86 [==============================] - 0s 4ms/step - loss: 1.1099 - val_loss: 1.1258\n",
      "Epoch 22/50\n",
      "86/86 [==============================] - 0s 5ms/step - loss: 1.1092 - val_loss: 1.1254\n",
      "Epoch 23/50\n",
      "86/86 [==============================] - 0s 5ms/step - loss: 1.1080 - val_loss: 1.1248\n",
      "Epoch 24/50\n",
      "86/86 [==============================] - 0s 5ms/step - loss: 1.1067 - val_loss: 1.1211\n",
      "Epoch 25/50\n",
      "86/86 [==============================] - 0s 5ms/step - loss: 1.1075 - val_loss: 1.1202\n",
      "Epoch 26/50\n",
      "86/86 [==============================] - 0s 4ms/step - loss: 1.1061 - val_loss: 1.1201\n",
      "Epoch 27/50\n",
      "86/86 [==============================] - 0s 4ms/step - loss: 1.1046 - val_loss: 1.1208\n",
      "Epoch 28/50\n",
      "86/86 [==============================] - 0s 5ms/step - loss: 1.1064 - val_loss: 1.1179\n",
      "Epoch 29/50\n",
      "86/86 [==============================] - 0s 6ms/step - loss: 1.1051 - val_loss: 1.1183\n",
      "Epoch 30/50\n",
      "86/86 [==============================] - 0s 4ms/step - loss: 1.1022 - val_loss: 1.1160\n",
      "Epoch 31/50\n",
      "86/86 [==============================] - 0s 4ms/step - loss: 1.1014 - val_loss: 1.1189\n",
      "Epoch 32/50\n",
      "86/86 [==============================] - 0s 4ms/step - loss: 1.1022 - val_loss: 1.1168\n",
      "Epoch 33/50\n",
      "86/86 [==============================] - 0s 4ms/step - loss: 1.1008 - val_loss: 1.1123\n",
      "Epoch 34/50\n",
      "86/86 [==============================] - 0s 5ms/step - loss: 1.1014 - val_loss: 1.1178\n",
      "Epoch 35/50\n",
      "86/86 [==============================] - 0s 5ms/step - loss: 1.1012 - val_loss: 1.1120\n",
      "Epoch 36/50\n",
      "86/86 [==============================] - 0s 4ms/step - loss: 1.0996 - val_loss: 1.1167\n",
      "Epoch 37/50\n",
      "86/86 [==============================] - 0s 3ms/step - loss: 1.1010 - val_loss: 1.1102\n",
      "Epoch 38/50\n",
      "86/86 [==============================] - 0s 4ms/step - loss: 1.0985 - val_loss: 1.1097\n",
      "Epoch 39/50\n",
      "86/86 [==============================] - 0s 4ms/step - loss: 1.0981 - val_loss: 1.1080\n",
      "Epoch 40/50\n",
      "86/86 [==============================] - 0s 5ms/step - loss: 1.0992 - val_loss: 1.1086\n",
      "Epoch 41/50\n",
      "86/86 [==============================] - 0s 4ms/step - loss: 1.0975 - val_loss: 1.1102\n",
      "Epoch 42/50\n",
      "86/86 [==============================] - 0s 4ms/step - loss: 1.0981 - val_loss: 1.1109\n",
      "Epoch 43/50\n",
      "86/86 [==============================] - 0s 3ms/step - loss: 1.0971 - val_loss: 1.1121\n",
      "Epoch 44/50\n",
      "86/86 [==============================] - 0s 4ms/step - loss: 1.0973 - val_loss: 1.1118\n",
      "Epoch 45/50\n",
      "86/86 [==============================] - 0s 4ms/step - loss: 1.0971 - val_loss: 1.1075\n",
      "Epoch 46/50\n",
      "86/86 [==============================] - 0s 4ms/step - loss: 1.0966 - val_loss: 1.1104\n",
      "Epoch 47/50\n",
      "86/86 [==============================] - 0s 4ms/step - loss: 1.0968 - val_loss: 1.1053\n",
      "Epoch 48/50\n",
      "86/86 [==============================] - 0s 4ms/step - loss: 1.0959 - val_loss: 1.1064\n",
      "Epoch 49/50\n",
      "86/86 [==============================] - 0s 4ms/step - loss: 1.0969 - val_loss: 1.1060\n",
      "Epoch 50/50\n",
      "86/86 [==============================] - 0s 4ms/step - loss: 1.0976 - val_loss: 1.1071\n"
     ]
    }
   ],
   "source": [
    "epochs = 50\n",
    "\n",
    "model.compile(optimizer=Adam(learning_rate=0.01), \n",
    "              loss='sparse_categorical_crossentropy')\n",
    "\n",
    "history = model.fit(x_train, y_train, epochs = epochs,\n",
    "                    validation_split=0.2).history"
   ]
  },
  {
   "cell_type": "markdown",
   "metadata": {
    "id": "iKEw0r1y-dSX"
   },
   "source": [
    "* 학습결과 그래프"
   ]
  },
  {
   "cell_type": "code",
   "execution_count": 19,
   "metadata": {
    "id": "Z_QUnYFK-dSX"
   },
   "outputs": [
    {
     "data": {
      "image/png": "[encoded data removed]",
      "text/plain": [
       "<Figure size 720x432 with 1 Axes>"
      ]
     },
     "metadata": {
      "needs_background": "light"
     },
     "output_type": "display_data"
    }
   ],
   "source": [
    "dl_history_plot(history)"
   ]
  },
  {
   "cell_type": "code",
   "execution_count": 20,
   "metadata": {
    "id": "ggYda0fg-dSX"
   },
   "outputs": [
    {
     "name": "stdout",
     "output_type": "stream",
     "text": [
      "46/46 [==============================] - 0s 2ms/step\n"
     ]
    }
   ],
   "source": [
    "pred = model.predict(x_val)\n",
    "pred_1 = pred.argmax(axis=1)"
   ]
  },
  {
   "cell_type": "code",
   "execution_count": 21,
   "metadata": {
    "id": "UhDRT5PltjAD"
   },
   "outputs": [
    {
     "data": {
      "text/plain": [
       "array([[0.44294876, 0.44482583, 0.07960793, 0.01999114, 0.0126263 ],\n",
       "       [0.03289358, 0.4534197 , 0.42814866, 0.06882741, 0.01671068]],\n",
       "      dtype=float32)"
      ]
     },
     "execution_count": 21,
     "metadata": {},
     "output_type": "execute_result"
    }
   ],
   "source": [
    "pred[:2]"
   ]
  },
  {
   "cell_type": "code",
   "execution_count": 22,
   "metadata": {
    "id": "5DpvGEWj-dSY"
   },
   "outputs": [
    {
     "name": "stdout",
     "output_type": "stream",
     "text": [
      "[[  0  32  22   1   0]\n",
      " [  0 196 242   1   0]\n",
      " [  0  96 538  24   0]\n",
      " [  0   5 226  44   0]\n",
      " [  0   0  26  17   0]]\n",
      "              precision    recall  f1-score   support\n",
      "\n",
      "           0       0.00      0.00      0.00        55\n",
      "           1       0.60      0.45      0.51       439\n",
      "           2       0.51      0.82      0.63       658\n",
      "           3       0.51      0.16      0.24       275\n",
      "           4       0.00      0.00      0.00        43\n",
      "\n",
      "    accuracy                           0.53      1470\n",
      "   macro avg       0.32      0.28      0.28      1470\n",
      "weighted avg       0.50      0.53      0.48      1470\n",
      "\n"
     ]
    },
    {
     "name": "stderr",
     "output_type": "stream",
     "text": [
      "C:\\Users\\User\\AppData\\Roaming\\Python\\Python38\\site-packages\\sklearn\\metrics\\_classification.py:1334: UndefinedMetricWarning: Precision and F-score are ill-defined and being set to 0.0 in labels with no predicted samples. Use `zero_division` parameter to control this behavior.\n",
      "  _warn_prf(average, modifier, msg_start, len(result))\n",
      "C:\\Users\\User\\AppData\\Roaming\\Python\\Python38\\site-packages\\sklearn\\metrics\\_classification.py:1334: UndefinedMetricWarning: Precision and F-score are ill-defined and being set to 0.0 in labels with no predicted samples. Use `zero_division` parameter to control this behavior.\n",
      "  _warn_prf(average, modifier, msg_start, len(result))\n",
      "C:\\Users\\User\\AppData\\Roaming\\Python\\Python38\\site-packages\\sklearn\\metrics\\_classification.py:1334: UndefinedMetricWarning: Precision and F-score are ill-defined and being set to 0.0 in labels with no predicted samples. Use `zero_division` parameter to control this behavior.\n",
      "  _warn_prf(average, modifier, msg_start, len(result))\n"
     ]
    }
   ],
   "source": [
    "print(confusion_matrix(y_val, pred_1))\n",
    "print(classification_report(y_val, pred_1))"
   ]
  },
  {
   "cell_type": "markdown",
   "metadata": {
    "id": "xMGgnz9TvDSr"
   },
   "source": [
    "### (3) 실습1"
   ]
  },
  {
   "cell_type": "markdown",
   "metadata": {
    "id": "MZQ1GyB7vONX"
   },
   "source": [
    "* 다음의 summary를 보고 모델을 설계하시오.\n",
    "\n",
    "| Layer (type) | Output Shape | Param # | 옵션 |\n",
    "| ---- | ---- | ---- | ----|\n",
    "| dense (Dense) | (None, 16) | 192 | node, input_shape, activation = 'relu' |\n",
    "| dense_1 (Dense) | (None, 5) | 85 | node, activation = 'softmax' |     "
   ]
  },
  {
   "cell_type": "code",
   "execution_count": 27,
   "metadata": {
    "id": "siwyHvr1rmAM"
   },
   "outputs": [
    {
     "name": "stdout",
     "output_type": "stream",
     "text": [
      "Model: \"sequential\"\n",
      "_________________________________________________________________\n",
      " Layer (type)                Output Shape              Param #   \n",
      "=================================================================\n",
      " dense (Dense)               (None, 16)                192       \n",
      "                                                                 \n",
      " dense_1 (Dense)             (None, 5)                 85        \n",
      "                                                                 \n",
      "=================================================================\n",
      "Total params: 277\n",
      "Trainable params: 277\n",
      "Non-trainable params: 0\n",
      "_________________________________________________________________\n"
     ]
    }
   ],
   "source": [
    "# 메모리 정리\n",
    "clear_session()\n",
    "\n",
    "# Sequential 타입 모델 선언\n",
    "model = Sequential([Dense(16, input_shape=(nfeatures,), activation='relu'),\n",
    "                    Dense(5, activation='softmax')])\n",
    "\n",
    "\n",
    "# 모델요약\n",
    "model.summary()\n"
   ]
  },
  {
   "cell_type": "code",
   "execution_count": 36,
   "metadata": {
    "id": "iEZWr_jNwCpr"
   },
   "outputs": [],
   "source": [
    "model.compile(optimizer=Adam(learning_rate=0.01), \n",
    "              loss='sparse_categorical_crossentropy')"
   ]
  },
  {
   "cell_type": "code",
   "execution_count": 37,
   "metadata": {},
   "outputs": [
    {
     "name": "stdout",
     "output_type": "stream",
     "text": [
      "Epoch 1/50\n",
      "86/86 [==============================] - 3s 14ms/step - loss: 1.0781 - val_loss: 1.0944\n",
      "Epoch 2/50\n",
      "86/86 [==============================] - 1s 8ms/step - loss: 1.0742 - val_loss: 1.0952\n",
      "Epoch 3/50\n",
      "86/86 [==============================] - 1s 7ms/step - loss: 1.0684 - val_loss: 1.0969\n",
      "Epoch 4/50\n",
      "86/86 [==============================] - 0s 4ms/step - loss: 1.0687 - val_loss: 1.0960\n",
      "Epoch 5/50\n",
      "86/86 [==============================] - 0s 4ms/step - loss: 1.0667 - val_loss: 1.0966\n",
      "Epoch 6/50\n",
      "86/86 [==============================] - 0s 4ms/step - loss: 1.0687 - val_loss: 1.0949\n",
      "Epoch 7/50\n",
      "86/86 [==============================] - 0s 4ms/step - loss: 1.0667 - val_loss: 1.0950\n",
      "Epoch 8/50\n",
      "86/86 [==============================] - 0s 4ms/step - loss: 1.0672 - val_loss: 1.0944\n",
      "Epoch 9/50\n",
      "86/86 [==============================] - 0s 3ms/step - loss: 1.0646 - val_loss: 1.0996\n",
      "Epoch 10/50\n",
      "86/86 [==============================] - 0s 3ms/step - loss: 1.0679 - val_loss: 1.0952\n",
      "Epoch 11/50\n",
      "86/86 [==============================] - 0s 3ms/step - loss: 1.0664 - val_loss: 1.0920\n",
      "Epoch 12/50\n",
      "86/86 [==============================] - 0s 3ms/step - loss: 1.0661 - val_loss: 1.0894\n",
      "Epoch 13/50\n",
      "86/86 [==============================] - 0s 4ms/step - loss: 1.0658 - val_loss: 1.0938\n",
      "Epoch 14/50\n",
      "86/86 [==============================] - 0s 3ms/step - loss: 1.0654 - val_loss: 1.0909\n",
      "Epoch 15/50\n",
      "86/86 [==============================] - 0s 4ms/step - loss: 1.0661 - val_loss: 1.0905\n",
      "Epoch 16/50\n",
      "86/86 [==============================] - 0s 4ms/step - loss: 1.0664 - val_loss: 1.0892\n",
      "Epoch 17/50\n",
      "86/86 [==============================] - 0s 3ms/step - loss: 1.0645 - val_loss: 1.0915\n",
      "Epoch 18/50\n",
      "86/86 [==============================] - 0s 4ms/step - loss: 1.0648 - val_loss: 1.0931\n",
      "Epoch 19/50\n",
      "86/86 [==============================] - 0s 4ms/step - loss: 1.0676 - val_loss: 1.0918\n",
      "Epoch 20/50\n",
      "86/86 [==============================] - 0s 3ms/step - loss: 1.0653 - val_loss: 1.0921\n",
      "Epoch 21/50\n",
      "86/86 [==============================] - 0s 5ms/step - loss: 1.0663 - val_loss: 1.0914\n",
      "Epoch 22/50\n",
      "86/86 [==============================] - 0s 3ms/step - loss: 1.0660 - val_loss: 1.0898\n",
      "Epoch 23/50\n",
      "86/86 [==============================] - 0s 5ms/step - loss: 1.0650 - val_loss: 1.0874\n",
      "Epoch 24/50\n",
      "86/86 [==============================] - 0s 4ms/step - loss: 1.0648 - val_loss: 1.0919\n",
      "Epoch 25/50\n",
      "86/86 [==============================] - 0s 3ms/step - loss: 1.0644 - val_loss: 1.0896\n",
      "Epoch 26/50\n",
      "86/86 [==============================] - 0s 3ms/step - loss: 1.0648 - val_loss: 1.0914\n",
      "Epoch 27/50\n",
      "86/86 [==============================] - 0s 3ms/step - loss: 1.0643 - val_loss: 1.0910\n",
      "Epoch 28/50\n",
      "86/86 [==============================] - 0s 5ms/step - loss: 1.0652 - val_loss: 1.0890\n",
      "Epoch 29/50\n",
      "86/86 [==============================] - 1s 6ms/step - loss: 1.0665 - val_loss: 1.0923\n",
      "Epoch 30/50\n",
      "86/86 [==============================] - 1s 7ms/step - loss: 1.0644 - val_loss: 1.0923\n",
      "Epoch 31/50\n",
      "86/86 [==============================] - 1s 7ms/step - loss: 1.0649 - val_loss: 1.0912\n",
      "Epoch 32/50\n",
      "86/86 [==============================] - 0s 4ms/step - loss: 1.0625 - val_loss: 1.0925\n",
      "Epoch 33/50\n",
      "86/86 [==============================] - 0s 4ms/step - loss: 1.0659 - val_loss: 1.0897\n",
      "Epoch 34/50\n",
      "86/86 [==============================] - 0s 4ms/step - loss: 1.0642 - val_loss: 1.0905\n",
      "Epoch 35/50\n",
      "86/86 [==============================] - 0s 3ms/step - loss: 1.0647 - val_loss: 1.0944\n",
      "Epoch 36/50\n",
      "86/86 [==============================] - 0s 4ms/step - loss: 1.0645 - val_loss: 1.0924\n",
      "Epoch 37/50\n",
      "86/86 [==============================] - 0s 5ms/step - loss: 1.0647 - val_loss: 1.0938\n",
      "Epoch 38/50\n",
      "86/86 [==============================] - 0s 4ms/step - loss: 1.0649 - val_loss: 1.0914\n",
      "Epoch 39/50\n",
      "86/86 [==============================] - 1s 6ms/step - loss: 1.0651 - val_loss: 1.0890\n",
      "Epoch 40/50\n",
      "86/86 [==============================] - 0s 4ms/step - loss: 1.0644 - val_loss: 1.0970\n",
      "Epoch 41/50\n",
      "86/86 [==============================] - 0s 4ms/step - loss: 1.0655 - val_loss: 1.0923\n",
      "Epoch 42/50\n",
      "86/86 [==============================] - 0s 4ms/step - loss: 1.0642 - val_loss: 1.0912\n",
      "Epoch 43/50\n",
      "86/86 [==============================] - 0s 3ms/step - loss: 1.0658 - val_loss: 1.0928\n",
      "Epoch 44/50\n",
      "86/86 [==============================] - 1s 7ms/step - loss: 1.0663 - val_loss: 1.0957\n",
      "Epoch 45/50\n",
      "86/86 [==============================] - 1s 7ms/step - loss: 1.0650 - val_loss: 1.0926\n",
      "Epoch 46/50\n",
      "86/86 [==============================] - 1s 7ms/step - loss: 1.0644 - val_loss: 1.0937\n",
      "Epoch 47/50\n",
      "86/86 [==============================] - 1s 6ms/step - loss: 1.0661 - val_loss: 1.0920\n",
      "Epoch 48/50\n",
      "86/86 [==============================] - 1s 7ms/step - loss: 1.0648 - val_loss: 1.0928\n",
      "Epoch 49/50\n",
      "86/86 [==============================] - 0s 5ms/step - loss: 1.0635 - val_loss: 1.0913\n",
      "Epoch 50/50\n",
      "86/86 [==============================] - 0s 3ms/step - loss: 1.0635 - val_loss: 1.0947\n"
     ]
    }
   ],
   "source": [
    "history = model.fit(x_train, y_train, epochs = epochs,\n",
    "                    validation_split=0.2).history"
   ]
  },
  {
   "cell_type": "code",
   "execution_count": 38,
   "metadata": {
    "id": "93DcbJiN8Y2q"
   },
   "outputs": [
    {
     "data": {
      "image/png": "[encoded data removed]",
      "text/plain": [
       "<Figure size 720x432 with 1 Axes>"
      ]
     },
     "metadata": {
      "needs_background": "light"
     },
     "output_type": "display_data"
    }
   ],
   "source": [
    "dl_history_plot(history)"
   ]
  },
  {
   "cell_type": "code",
   "execution_count": 45,
   "metadata": {
    "id": "suW95pux8Yzv"
   },
   "outputs": [
    {
     "name": "stdout",
     "output_type": "stream",
     "text": [
      "46/46 [==============================] - 0s 3ms/step\n",
      "[[  1  34  20   0   0]\n",
      " [  3 197 238   1   0]\n",
      " [  0  98 543  17   0]\n",
      " [  0   5 234  36   0]\n",
      " [  0   0  33  10   0]]\n",
      "              precision    recall  f1-score   support\n",
      "\n",
      "           0       0.25      0.02      0.03        55\n",
      "           1       0.59      0.45      0.51       439\n",
      "           2       0.51      0.83      0.63       658\n",
      "           3       0.56      0.13      0.21       275\n",
      "           4       0.00      0.00      0.00        43\n",
      "\n",
      "    accuracy                           0.53      1470\n",
      "   macro avg       0.38      0.28      0.28      1470\n",
      "weighted avg       0.52      0.53      0.47      1470\n",
      "\n"
     ]
    },
    {
     "name": "stderr",
     "output_type": "stream",
     "text": [
      "C:\\Users\\User\\AppData\\Roaming\\Python\\Python38\\site-packages\\sklearn\\metrics\\_classification.py:1334: UndefinedMetricWarning: Precision and F-score are ill-defined and being set to 0.0 in labels with no predicted samples. Use `zero_division` parameter to control this behavior.\n",
      "  _warn_prf(average, modifier, msg_start, len(result))\n",
      "C:\\Users\\User\\AppData\\Roaming\\Python\\Python38\\site-packages\\sklearn\\metrics\\_classification.py:1334: UndefinedMetricWarning: Precision and F-score are ill-defined and being set to 0.0 in labels with no predicted samples. Use `zero_division` parameter to control this behavior.\n",
      "  _warn_prf(average, modifier, msg_start, len(result))\n",
      "C:\\Users\\User\\AppData\\Roaming\\Python\\Python38\\site-packages\\sklearn\\metrics\\_classification.py:1334: UndefinedMetricWarning: Precision and F-score are ill-defined and being set to 0.0 in labels with no predicted samples. Use `zero_division` parameter to control this behavior.\n",
      "  _warn_prf(average, modifier, msg_start, len(result))\n"
     ]
    }
   ],
   "source": [
    "pred = model.predict(x_val)\n",
    "pred_1 = pred.argmax(axis=1)\n",
    "print(confusion_matrix(y_val,pred_1))\n",
    "print(classification_report(y_val,pred_1))"
   ]
  },
  {
   "cell_type": "markdown",
   "metadata": {
    "id": "6vx5D3lewBR8"
   },
   "source": [
    "### (4) 실습2"
   ]
  },
  {
   "cell_type": "markdown",
   "metadata": {
    "id": "ziu8sULAwBR9"
   },
   "source": [
    "* 다음의 summary를 보고 모델을 설계하시오.\n",
    "\n",
    "| Layer (type) | Output Shape | Param # | 옵션 |\n",
    "| ---- | ---- | ---- | ---- |\n",
    "| dense (Dense) | (None, 16) | 192 | node, input_shape, activation = 'relu' |\n",
    "| dense_1 (Dense) | (None, 8) | 136 | node, activation = 'relu'  |\n",
    "| dense_2 (Dense) | (None, 5) | 45 | node, activation = 'softmax'  |"
   ]
  },
  {
   "cell_type": "code",
   "execution_count": 47,
   "metadata": {
    "id": "kFWOo3cT8baM"
   },
   "outputs": [
    {
     "name": "stdout",
     "output_type": "stream",
     "text": [
      "Model: \"sequential\"\n",
      "_________________________________________________________________\n",
      " Layer (type)                Output Shape              Param #   \n",
      "=================================================================\n",
      " dense (Dense)               (None, 16)                192       \n",
      "                                                                 \n",
      " dense_1 (Dense)             (None, 8)                 136       \n",
      "                                                                 \n",
      " dense_2 (Dense)             (None, 5)                 45        \n",
      "                                                                 \n",
      "=================================================================\n",
      "Total params: 373\n",
      "Trainable params: 373\n",
      "Non-trainable params: 0\n",
      "_________________________________________________________________\n"
     ]
    }
   ],
   "source": [
    "# 메모리 정리\n",
    "clear_session()\n",
    "\n",
    "# Sequential 타입 모델 선언\n",
    "model = Sequential([Dense(16, input_shape=(nfeatures,), activation='relu'),\n",
    "                   Dense(8, activation='relu'),\n",
    "                   Dense(5, activation='softmax')])\n",
    "\n",
    "\n",
    "# 모델요약\n",
    "model.summary()\n"
   ]
  },
  {
   "cell_type": "code",
   "execution_count": 51,
   "metadata": {
    "id": "Vsbs833t8baM"
   },
   "outputs": [],
   "source": [
    "model.compile(optimizer=Adam(lr=0.01), loss='sparse_categorical_crossentropy')"
   ]
  },
  {
   "cell_type": "code",
   "execution_count": 52,
   "metadata": {
    "id": "qiHxHKfo8baM"
   },
   "outputs": [
    {
     "name": "stdout",
     "output_type": "stream",
     "text": [
      "Epoch 1/50\n",
      "86/86 [==============================] - 3s 13ms/step - loss: 1.2699 - val_loss: 1.2119\n",
      "Epoch 2/50\n",
      "86/86 [==============================] - 1s 7ms/step - loss: 1.1671 - val_loss: 1.1630\n",
      "Epoch 3/50\n",
      "86/86 [==============================] - 0s 5ms/step - loss: 1.1364 - val_loss: 1.1509\n",
      "Epoch 4/50\n",
      "86/86 [==============================] - 0s 4ms/step - loss: 1.1172 - val_loss: 1.1248\n",
      "Epoch 5/50\n",
      "86/86 [==============================] - 1s 7ms/step - loss: 1.1106 - val_loss: 1.1175\n",
      "Epoch 6/50\n",
      "86/86 [==============================] - 1s 7ms/step - loss: 1.1128 - val_loss: 1.1079\n",
      "Epoch 7/50\n",
      "86/86 [==============================] - 1s 9ms/step - loss: 1.1091 - val_loss: 1.1068\n",
      "Epoch 8/50\n",
      "86/86 [==============================] - 1s 8ms/step - loss: 1.1009 - val_loss: 1.1033\n",
      "Epoch 9/50\n",
      "86/86 [==============================] - 1s 7ms/step - loss: 1.0962 - val_loss: 1.1091\n",
      "Epoch 10/50\n",
      "86/86 [==============================] - 1s 7ms/step - loss: 1.0975 - val_loss: 1.1017\n",
      "Epoch 11/50\n",
      "86/86 [==============================] - 1s 7ms/step - loss: 1.0919 - val_loss: 1.0888\n",
      "Epoch 12/50\n",
      "86/86 [==============================] - 0s 5ms/step - loss: 1.0890 - val_loss: 1.0957\n",
      "Epoch 13/50\n",
      "86/86 [==============================] - 0s 3ms/step - loss: 1.0889 - val_loss: 1.0878\n",
      "Epoch 14/50\n",
      "86/86 [==============================] - 1s 7ms/step - loss: 1.0904 - val_loss: 1.1210\n",
      "Epoch 15/50\n",
      "86/86 [==============================] - 1s 7ms/step - loss: 1.0945 - val_loss: 1.0955\n",
      "Epoch 16/50\n",
      "86/86 [==============================] - 1s 7ms/step - loss: 1.0828 - val_loss: 1.0811\n",
      "Epoch 17/50\n",
      "86/86 [==============================] - 1s 7ms/step - loss: 1.0804 - val_loss: 1.0914\n",
      "Epoch 18/50\n",
      "86/86 [==============================] - 1s 7ms/step - loss: 1.0804 - val_loss: 1.0934\n",
      "Epoch 19/50\n",
      "86/86 [==============================] - 1s 7ms/step - loss: 1.0731 - val_loss: 1.0842\n",
      "Epoch 20/50\n",
      "86/86 [==============================] - 0s 5ms/step - loss: 1.0820 - val_loss: 1.0846\n",
      "Epoch 21/50\n",
      "86/86 [==============================] - 1s 7ms/step - loss: 1.0782 - val_loss: 1.0743\n",
      "Epoch 22/50\n",
      "86/86 [==============================] - 0s 4ms/step - loss: 1.0761 - val_loss: 1.0757\n",
      "Epoch 23/50\n",
      "86/86 [==============================] - 0s 4ms/step - loss: 1.0712 - val_loss: 1.0766\n",
      "Epoch 24/50\n",
      "86/86 [==============================] - 0s 5ms/step - loss: 1.0690 - val_loss: 1.0681\n",
      "Epoch 25/50\n",
      "86/86 [==============================] - 1s 7ms/step - loss: 1.0689 - val_loss: 1.0688\n",
      "Epoch 26/50\n",
      "86/86 [==============================] - 1s 7ms/step - loss: 1.0710 - val_loss: 1.0705\n",
      "Epoch 27/50\n",
      "86/86 [==============================] - 0s 6ms/step - loss: 1.0567 - val_loss: 1.0550\n",
      "Epoch 28/50\n",
      "86/86 [==============================] - 1s 8ms/step - loss: 1.0644 - val_loss: 1.0618\n",
      "Epoch 29/50\n",
      "86/86 [==============================] - 0s 6ms/step - loss: 1.0584 - val_loss: 1.0564\n",
      "Epoch 30/50\n",
      "86/86 [==============================] - 1s 6ms/step - loss: 1.0547 - val_loss: 1.0597\n",
      "Epoch 31/50\n",
      "86/86 [==============================] - 0s 5ms/step - loss: 1.0502 - val_loss: 1.0566\n",
      "Epoch 32/50\n",
      "86/86 [==============================] - 1s 6ms/step - loss: 1.0494 - val_loss: 1.0523\n",
      "Epoch 33/50\n",
      "86/86 [==============================] - 0s 4ms/step - loss: 1.0483 - val_loss: 1.0533\n",
      "Epoch 34/50\n",
      "86/86 [==============================] - 0s 5ms/step - loss: 1.0481 - val_loss: 1.0814\n",
      "Epoch 35/50\n",
      "86/86 [==============================] - 0s 5ms/step - loss: 1.0441 - val_loss: 1.0570\n",
      "Epoch 36/50\n",
      "86/86 [==============================] - 0s 4ms/step - loss: 1.0416 - val_loss: 1.0464\n",
      "Epoch 37/50\n",
      "86/86 [==============================] - 1s 6ms/step - loss: 1.0407 - val_loss: 1.0550\n",
      "Epoch 38/50\n",
      "86/86 [==============================] - 0s 4ms/step - loss: 1.0313 - val_loss: 1.0607\n",
      "Epoch 39/50\n",
      "86/86 [==============================] - 0s 4ms/step - loss: 1.0368 - val_loss: 1.0447\n",
      "Epoch 40/50\n",
      "86/86 [==============================] - 1s 8ms/step - loss: 1.0417 - val_loss: 1.0490\n",
      "Epoch 41/50\n",
      "86/86 [==============================] - 0s 5ms/step - loss: 1.0362 - val_loss: 1.0520\n",
      "Epoch 42/50\n",
      "86/86 [==============================] - 0s 4ms/step - loss: 1.0302 - val_loss: 1.0611\n",
      "Epoch 43/50\n",
      "86/86 [==============================] - 1s 8ms/step - loss: 1.0341 - val_loss: 1.0581\n",
      "Epoch 44/50\n",
      "86/86 [==============================] - 1s 6ms/step - loss: 1.0322 - val_loss: 1.0430\n",
      "Epoch 45/50\n",
      "86/86 [==============================] - 0s 4ms/step - loss: 1.0315 - val_loss: 1.0394\n",
      "Epoch 46/50\n",
      "86/86 [==============================] - 0s 5ms/step - loss: 1.0274 - val_loss: 1.0483\n",
      "Epoch 47/50\n",
      "86/86 [==============================] - 0s 6ms/step - loss: 1.0263 - val_loss: 1.0478\n",
      "Epoch 48/50\n",
      "86/86 [==============================] - 1s 8ms/step - loss: 1.0217 - val_loss: 1.0406\n",
      "Epoch 49/50\n",
      "86/86 [==============================] - 1s 6ms/step - loss: 1.0222 - val_loss: 1.0556\n",
      "Epoch 50/50\n",
      "86/86 [==============================] - 0s 5ms/step - loss: 1.0226 - val_loss: 1.0640\n"
     ]
    }
   ],
   "source": [
    "history = model.fit(x_train, y_train, epochs=50, validation_split=0.2).history"
   ]
  },
  {
   "cell_type": "code",
   "execution_count": 54,
   "metadata": {},
   "outputs": [
    {
     "data": {
      "image/png": "[encoded data removed]",
      "text/plain": [
       "<Figure size 720x432 with 1 Axes>"
      ]
     },
     "metadata": {
      "needs_background": "light"
     },
     "output_type": "display_data"
    }
   ],
   "source": [
    "dl_history_plot(history)"
   ]
  },
  {
   "cell_type": "code",
   "execution_count": 56,
   "metadata": {
    "id": "LQZnSaJ08baN"
   },
   "outputs": [
    {
     "name": "stdout",
     "output_type": "stream",
     "text": [
      "46/46 [==============================] - 0s 2ms/step\n"
     ]
    },
    {
     "data": {
      "text/plain": [
       "array([[5.0704890e-01, 3.7592176e-01, 1.1522355e-01, 1.7451586e-03,\n",
       "        6.0662078e-05],\n",
       "       [1.9871669e-02, 4.2742723e-01, 4.8632646e-01, 6.1176382e-02,\n",
       "        5.1982254e-03]], dtype=float32)"
      ]
     },
     "execution_count": 56,
     "metadata": {},
     "output_type": "execute_result"
    }
   ],
   "source": [
    "pred = model.predict(x_val)\n",
    "pred_1 = np.argmax(pred, axis=1)\n",
    "pred[:2]"
   ]
  },
  {
   "cell_type": "code",
   "execution_count": 58,
   "metadata": {
    "id": "PcAdfVuM8baN"
   },
   "outputs": [
    {
     "name": "stdout",
     "output_type": "stream",
     "text": [
      "[[  7  30  18   0   0]\n",
      " [  2 190 235  12   0]\n",
      " [  4  83 462 109   0]\n",
      " [  0   1 156 118   0]\n",
      " [  0   0  16  27   0]]\n",
      "              precision    recall  f1-score   support\n",
      "\n",
      "           0       0.54      0.13      0.21        55\n",
      "           1       0.62      0.43      0.51       439\n",
      "           2       0.52      0.70      0.60       658\n",
      "           3       0.44      0.43      0.44       275\n",
      "           4       0.00      0.00      0.00        43\n",
      "\n",
      "    accuracy                           0.53      1470\n",
      "   macro avg       0.43      0.34      0.35      1470\n",
      "weighted avg       0.52      0.53      0.51      1470\n",
      "\n"
     ]
    },
    {
     "name": "stderr",
     "output_type": "stream",
     "text": [
      "C:\\Users\\User\\AppData\\Roaming\\Python\\Python38\\site-packages\\sklearn\\metrics\\_classification.py:1334: UndefinedMetricWarning: Precision and F-score are ill-defined and being set to 0.0 in labels with no predicted samples. Use `zero_division` parameter to control this behavior.\n",
      "  _warn_prf(average, modifier, msg_start, len(result))\n",
      "C:\\Users\\User\\AppData\\Roaming\\Python\\Python38\\site-packages\\sklearn\\metrics\\_classification.py:1334: UndefinedMetricWarning: Precision and F-score are ill-defined and being set to 0.0 in labels with no predicted samples. Use `zero_division` parameter to control this behavior.\n",
      "  _warn_prf(average, modifier, msg_start, len(result))\n",
      "C:\\Users\\User\\AppData\\Roaming\\Python\\Python38\\site-packages\\sklearn\\metrics\\_classification.py:1334: UndefinedMetricWarning: Precision and F-score are ill-defined and being set to 0.0 in labels with no predicted samples. Use `zero_division` parameter to control this behavior.\n",
      "  _warn_prf(average, modifier, msg_start, len(result))\n"
     ]
    }
   ],
   "source": [
    "print(confusion_matrix(y_val, pred_1))\n",
    "print(classification_report(y_val, pred_1))"
   ]
  },
  {
   "cell_type": "code",
   "execution_count": 60,
   "metadata": {},
   "outputs": [],
   "source": [
    "# 퀄리티 0과 4를 잘 못맞추고 있음. \n",
    "# 퀄리티 4 를 뽑을 수 있는 모델을 만들고 싶을 때는 0~3과 4로 나눠서 이원분류해야 더 성능이 좋을까요?\n",
    "# 이런경우 이상탐지 영역으로 해결할 수도 있습니다"
   ]
  },
  {
   "cell_type": "markdown",
   "metadata": {
    "id": "YC5zRh2BxHgb"
   },
   "source": [
    "### (5) 실습3"
   ]
  },
  {
   "cell_type": "markdown",
   "metadata": {
    "id": "9RFDZgfMxHgb"
   },
   "source": [
    "* 이번에는 여러분이 원하는 대로 설계하고, 학습해 봅시다.\n"
   ]
  },
  {
   "cell_type": "code",
   "execution_count": null,
   "metadata": {
    "id": "4_aKcV4v8cj8"
   },
   "outputs": [],
   "source": [
    "# 메모리 정리\n",
    "\n",
    "\n",
    "# Sequential 타입 모델 선언\n",
    "\n",
    "\n",
    "\n",
    "# 모델요약\n",
    "\n"
   ]
  },
  {
   "cell_type": "code",
   "execution_count": null,
   "metadata": {
    "id": "-VAEek9V8cj8"
   },
   "outputs": [],
   "source": []
  },
  {
   "cell_type": "code",
   "execution_count": null,
   "metadata": {
    "id": "WBL0E6iE8cj8"
   },
   "outputs": [],
   "source": []
  },
  {
   "cell_type": "code",
   "execution_count": null,
   "metadata": {
    "id": "sHuNUVeI8cj8"
   },
   "outputs": [],
   "source": []
  },
  {
   "cell_type": "code",
   "execution_count": null,
   "metadata": {
    "id": "y5wmMtJU8cj8"
   },
   "outputs": [],
   "source": []
  }
 ],
 "metadata": {
  "colab": {
   "collapsed_sections": [],
   "provenance": [],
   "toc_visible": true
  },
  "kernelspec": {
   "display_name": "Python 3",
   "language": "python",
   "name": "python3"
  },
  "language_info": {
   "codemirror_mode": {
    "name": "ipython",
    "version": 3
   },
   "file_extension": ".py",
   "mimetype": "text/x-python",
   "name": "python",
   "nbconvert_exporter": "python",
   "pygments_lexer": "ipython3",
   "version": "3.8.8"
  }
 },
 "nbformat": 4,
 "nbformat_minor": 4
}
