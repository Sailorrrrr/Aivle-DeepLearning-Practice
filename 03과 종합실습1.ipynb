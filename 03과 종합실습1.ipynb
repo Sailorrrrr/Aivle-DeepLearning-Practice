{
 "cells": [
  {
   "cell_type": "markdown",
   "metadata": {
    "id": "cVB9pY-v8uv5"
   },
   "source": [
    "# Regression 종합실습"
   ]
  },
  {
   "cell_type": "markdown",
   "metadata": {
    "id": "BSFMLw3YI-gh"
   },
   "source": [
    "## 1.환경준비"
   ]
  },
  {
   "cell_type": "markdown",
   "metadata": {
    "id": "98K82DAxvX6I"
   },
   "source": [
    "### (1) 라이브러리 로딩"
   ]
  },
  {
   "cell_type": "code",
   "execution_count": 1,
   "metadata": {
    "id": "g8Y5OJ-II-gu"
   },
   "outputs": [],
   "source": [
    "import pandas as pd\n",
    "import numpy as np\n",
    "import matplotlib.pyplot as plt\n",
    "import seaborn as sns\n",
    "\n",
    "from sklearn.model_selection import train_test_split\n",
    "from sklearn.metrics import *\n",
    "from sklearn.preprocessing import StandardScaler, MinMaxScaler\n",
    "\n",
    "# 여기에 딥러닝을 위해 필요한 함수들을 불러오세요.\n",
    "from keras.models import Sequential\n",
    "from keras.layers import Dense\n",
    "from keras.backend import clear_session\n",
    "from tensorflow.keras.optimizers import Adam # 옵티마이저 설정을 위해서"
   ]
  },
  {
   "cell_type": "markdown",
   "metadata": {
    "id": "wdhjxFBs1jck"
   },
   "source": [
    "* 학습곡선 그래프 함수 만들기"
   ]
  },
  {
   "cell_type": "code",
   "execution_count": 2,
   "metadata": {
    "id": "td3NsznP1lka"
   },
   "outputs": [],
   "source": [
    "def dl_history_plot(history):\n",
    "    plt.figure(figsize=(10,6))\n",
    "    plt.plot(history['loss'], label='train_err')\n",
    "    plt.plot(history['val_loss'], label='val_err')\n",
    "\n",
    "    plt.ylabel('Loss')\n",
    "    plt.xlabel('Epoch')\n",
    "    plt.legend()\n",
    "    plt.grid()\n",
    "    plt.show()"
   ]
  },
  {
   "cell_type": "markdown",
   "metadata": {
    "id": "6wuqykgvviCc"
   },
   "source": [
    "### (2) 데이터로딩"
   ]
  },
  {
   "cell_type": "code",
   "execution_count": 3,
   "metadata": {
    "id": "wbN2b33xcYvv"
   },
   "outputs": [
    {
     "name": "stdout",
     "output_type": "stream",
     "text": [
      "<class 'pandas.core.frame.DataFrame'>\n",
      "RangeIndex: 400 entries, 0 to 399\n",
      "Data columns (total 11 columns):\n",
      " #   Column       Non-Null Count  Dtype  \n",
      "---  ------       --------------  -----  \n",
      " 0   Sales        400 non-null    float64\n",
      " 1   CompPrice    400 non-null    int64  \n",
      " 2   Income       400 non-null    int64  \n",
      " 3   Advertising  400 non-null    int64  \n",
      " 4   Population   400 non-null    int64  \n",
      " 5   Price        400 non-null    int64  \n",
      " 6   ShelveLoc    400 non-null    object \n",
      " 7   Age          400 non-null    int64  \n",
      " 8   Education    400 non-null    int64  \n",
      " 9   Urban        400 non-null    object \n",
      " 10  US           400 non-null    object \n",
      "dtypes: float64(1), int64(7), object(3)\n",
      "memory usage: 34.5+ KB\n"
     ]
    }
   ],
   "source": [
    "path = 'https://raw.githubusercontent.com/DA4BAM/dataset/master/Carseats.csv'\n",
    "data = pd.read_csv(path)\n",
    "data.info()"
   ]
  },
  {
   "cell_type": "markdown",
   "metadata": {
    "id": "zYKHwYHatC4k"
   },
   "source": [
    "|\t변수명\t|\t설명\t|\t구분\t|\n",
    "|\t----\t|\t----\t|\t----\t|\n",
    "|\tSales \t|\t 각 지역 판매량(단위 : 1000개)\t|\tTarget\t|\n",
    "|\tCompPrice \t|\t지역별 경쟁사 판매가격(달러)\t|\tfeature\t|\n",
    "|\tIncome \t|\t가구당 평균 소득액(1000달러)\t|\tfeature\t|\n",
    "|\tAdvertising \t|\t 각 지역, 회사의 광고 예산(1000달러)\t|\tfeature\t|\n",
    "|\tPopulation \t|\t 지역 인구수(단위 : 1000명)\t|\tfeature\t|\n",
    "|\tPrice \t|\t 자사 지역별 판매가격(달러)\t|\tfeature\t|\n",
    "|\tShelveLoc \t|\t 진열상태(범주 : Bad, Medium, Good)\t|\tfeature\t|\n",
    "|\tAge \t|\t 지역 인구의 평균 연령\t|\tfeature\t|\n",
    "|\tEducation \t|\t 교육수준(범주 : 10~18)\t|\tfeature\t|\n",
    "|\tUrban \t|\t 매장이 도심에 있는지 여부(범주 : Yes, No)\t|\tfeature\t|\n",
    "|\tUS \t|\t 매장이 미국에 있는지 여부(범주 : Yes, No)\t|\tfeature\t|\n"
   ]
  },
  {
   "cell_type": "code",
   "execution_count": 4,
   "metadata": {},
   "outputs": [
    {
     "data": {
      "text/plain": [
       "7.496325"
      ]
     },
     "execution_count": 4,
     "metadata": {},
     "output_type": "execute_result"
    }
   ],
   "source": [
    "data['Sales'].mean()"
   ]
  },
  {
   "cell_type": "markdown",
   "metadata": {
    "id": "oICMvjzJJKbn"
   },
   "source": [
    "## 2.데이터 준비"
   ]
  },
  {
   "cell_type": "markdown",
   "metadata": {
    "id": "y9Q6jR6OZjUk"
   },
   "source": [
    "### (1) 데이터 분할1 : x, y 나누기"
   ]
  },
  {
   "cell_type": "code",
   "execution_count": 5,
   "metadata": {
    "id": "FA-PnUpcLqXN"
   },
   "outputs": [],
   "source": [
    "target = 'Sales'\n",
    "X = data.drop(target,axis=1)\n",
    "y = data[target]"
   ]
  },
  {
   "cell_type": "markdown",
   "metadata": {
    "id": "WpJEGpUuuVWm"
   },
   "source": [
    "### (2) 변수정리"
   ]
  },
  {
   "cell_type": "markdown",
   "metadata": {
    "id": "mp_5volyuaA1"
   },
   "source": [
    "### (3) NA 조치"
   ]
  },
  {
   "cell_type": "markdown",
   "metadata": {
    "id": "nOF9fSLQugGf"
   },
   "source": [
    "### (4) 가변수화"
   ]
  },
  {
   "cell_type": "code",
   "execution_count": 6,
   "metadata": {},
   "outputs": [],
   "source": [
    "dumm_cols = ['ShelveLoc','Urban','US']\n",
    "X = pd.get_dummies(X,columns=dumm_cols,drop_first=True)"
   ]
  },
  {
   "cell_type": "markdown",
   "metadata": {
    "id": "KsGGC-a4vpar"
   },
   "source": [
    "### (5) 데이터분할2"
   ]
  },
  {
   "cell_type": "code",
   "execution_count": 7,
   "metadata": {},
   "outputs": [],
   "source": [
    "X_train, X_val, y_train, y_val = train_test_split(X,y,test_size=0.3,random_state=2022)"
   ]
  },
  {
   "cell_type": "markdown",
   "metadata": {
    "id": "MXUC5Yi3um81"
   },
   "source": [
    "### (6) Scaling"
   ]
  },
  {
   "cell_type": "code",
   "execution_count": 8,
   "metadata": {
    "id": "9bly3GLif1eP"
   },
   "outputs": [],
   "source": [
    "# 스케일러 선언\n",
    "scaler = MinMaxScaler()\n",
    "\n",
    "# train 셋으로 fitting & 적용\n",
    "X_train = scaler.fit_transform(X_train)\n",
    "\n",
    "# validation 셋은 적용만!\n",
    "X_val = scaler.transform(X_val)"
   ]
  },
  {
   "cell_type": "markdown",
   "metadata": {
    "id": "or87og8ocYvw"
   },
   "source": [
    "## 3.모델링\n",
    "\n",
    "* 히든레이어를 추가한 모델 두 개 이상을 생성한 후\n",
    "* 성능을 비교하시오.\n",
    "* 성능을 높이기 위해서 조절할 것들\n",
    "    * 히든레이어 수\n",
    "    * 히든레이어 노드수\n",
    "    * epochs 수\n",
    "    * learning_rate : 0.1 ~ 0.0001 사이에서 조정(예 Adam(learning_rate = 0.01))\n"
   ]
  },
  {
   "cell_type": "markdown",
   "metadata": {},
   "source": [
    "#### **레이어 개수 정하는 공식. 정답은 아님 참고만할것**\n",
    "![](https://img1.daumcdn.net/thumb/R1280x0/?scode=mtistory2&fname=https%3A%2F%2Fk.kakaocdn.net%2Fdn%2FZMCjt%2FbtrkJ7eRYiz%2FFkP2OMPTsgtkqz1KcfO1Pk%2Fimg.png)"
   ]
  },
  {
   "cell_type": "markdown",
   "metadata": {
    "id": "0C3BHe_d1suj"
   },
   "source": [
    "### (1) 모델1"
   ]
  },
  {
   "cell_type": "markdown",
   "metadata": {
    "id": "MZQ1GyB7vONX"
   },
   "source": [
    "* 모델 설계\n",
    "    * 일단 먼저 손으로 구조를 그려본 후\n",
    "    * 코드로 옮겨 봅시다."
   ]
  },
  {
   "cell_type": "code",
   "execution_count": 9,
   "metadata": {},
   "outputs": [
    {
     "data": {
      "text/plain": [
       "11"
      ]
     },
     "execution_count": 9,
     "metadata": {},
     "output_type": "execute_result"
    }
   ],
   "source": [
    "# 분석 단위 구조 \n",
    "nfeatures = X.shape[1]\n",
    "nfeatures"
   ]
  },
  {
   "cell_type": "code",
   "execution_count": 11,
   "metadata": {
    "id": "siwyHvr1rmAM"
   },
   "outputs": [
    {
     "name": "stdout",
     "output_type": "stream",
     "text": [
      "Model: \"sequential\"\n",
      "_________________________________________________________________\n",
      " Layer (type)                Output Shape              Param #   \n",
      "=================================================================\n",
      " dense (Dense)               (None, 4)                 48        \n",
      "                                                                 \n",
      " dense_1 (Dense)             (None, 1)                 5         \n",
      "                                                                 \n",
      "=================================================================\n",
      "Total params: 53\n",
      "Trainable params: 53\n",
      "Non-trainable params: 0\n",
      "_________________________________________________________________\n"
     ]
    }
   ],
   "source": [
    "# 메모리 정리\n",
    "clear_session()\n",
    "\n",
    "# Sequential 타입 모델 선언\n",
    "model = Sequential()\n",
    "\n",
    "# Layer 정의\n",
    "layer1 = Dense(4, input_shape=(nfeatures,), activation='relu')\n",
    "layer2 = Dense(1, )\n",
    "\n",
    "# 모델에 추가\n",
    "model.add(layer1)\n",
    "model.add(layer2)\n",
    "\n",
    "# 모델요약\n",
    "model.summary()\n"
   ]
  },
  {
   "cell_type": "markdown",
   "metadata": {
    "id": "Sg5XlbcW0w2y"
   },
   "source": [
    "* 컴파일 + 학습"
   ]
  },
  {
   "cell_type": "code",
   "execution_count": 12,
   "metadata": {
    "collapsed": true,
    "id": "iEZWr_jNwCpr",
    "jupyter": {
     "outputs_hidden": true
    },
    "tags": []
   },
   "outputs": [
    {
     "name": "stdout",
     "output_type": "stream",
     "text": [
      "Epoch 1/100\n"
     ]
    },
    {
     "name": "stderr",
     "output_type": "stream",
     "text": [
      "C:\\Users\\User\\anaconda3\\lib\\site-packages\\keras\\optimizers\\optimizer_v2\\adam.py:114: UserWarning: The `lr` argument is deprecated, use `learning_rate` instead.\n",
      "  super().__init__(name, **kwargs)\n"
     ]
    },
    {
     "name": "stdout",
     "output_type": "stream",
     "text": [
      "7/7 [==============================] - 1s 32ms/step - loss: 21.6078 - val_loss: 12.8247\n",
      "Epoch 2/100\n",
      "7/7 [==============================] - 0s 10ms/step - loss: 6.3663 - val_loss: 9.3619\n",
      "Epoch 3/100\n",
      "7/7 [==============================] - 0s 9ms/step - loss: 4.9937 - val_loss: 6.7825\n",
      "Epoch 4/100\n",
      "7/7 [==============================] - 0s 9ms/step - loss: 4.4662 - val_loss: 5.7067\n",
      "Epoch 5/100\n",
      "7/7 [==============================] - 0s 9ms/step - loss: 3.6394 - val_loss: 5.0968\n",
      "Epoch 6/100\n",
      "7/7 [==============================] - 0s 8ms/step - loss: 3.1120 - val_loss: 4.2654\n",
      "Epoch 7/100\n",
      "7/7 [==============================] - 0s 7ms/step - loss: 2.9695 - val_loss: 3.7928\n",
      "Epoch 8/100\n",
      "7/7 [==============================] - 0s 7ms/step - loss: 2.6513 - val_loss: 3.4370\n",
      "Epoch 9/100\n",
      "7/7 [==============================] - 0s 8ms/step - loss: 2.3458 - val_loss: 3.0892\n",
      "Epoch 10/100\n",
      "7/7 [==============================] - 0s 8ms/step - loss: 2.2064 - val_loss: 2.7074\n",
      "Epoch 11/100\n",
      "7/7 [==============================] - 0s 11ms/step - loss: 1.7830 - val_loss: 2.2134\n",
      "Epoch 12/100\n",
      "7/7 [==============================] - 0s 8ms/step - loss: 1.6132 - val_loss: 1.9551\n",
      "Epoch 13/100\n",
      "7/7 [==============================] - 0s 6ms/step - loss: 1.6693 - val_loss: 2.0492\n",
      "Epoch 14/100\n",
      "7/7 [==============================] - 0s 7ms/step - loss: 1.4881 - val_loss: 2.0311\n",
      "Epoch 15/100\n",
      "7/7 [==============================] - 0s 7ms/step - loss: 1.5579 - val_loss: 2.1317\n",
      "Epoch 16/100\n",
      "7/7 [==============================] - 0s 7ms/step - loss: 1.6732 - val_loss: 1.8688\n",
      "Epoch 17/100\n",
      "7/7 [==============================] - 0s 6ms/step - loss: 1.8137 - val_loss: 2.1027\n",
      "Epoch 18/100\n",
      "7/7 [==============================] - 0s 7ms/step - loss: 1.6171 - val_loss: 1.5045\n",
      "Epoch 19/100\n",
      "7/7 [==============================] - 0s 7ms/step - loss: 1.6492 - val_loss: 2.5667\n",
      "Epoch 20/100\n",
      "7/7 [==============================] - 0s 7ms/step - loss: 2.0189 - val_loss: 2.9556\n",
      "Epoch 21/100\n",
      "7/7 [==============================] - 0s 8ms/step - loss: 1.5263 - val_loss: 2.3942\n",
      "Epoch 22/100\n",
      "7/7 [==============================] - 0s 8ms/step - loss: 1.4778 - val_loss: 1.4525\n",
      "Epoch 23/100\n",
      "7/7 [==============================] - 0s 9ms/step - loss: 1.2948 - val_loss: 1.4136\n",
      "Epoch 24/100\n",
      "7/7 [==============================] - 0s 10ms/step - loss: 1.1262 - val_loss: 1.3848\n",
      "Epoch 25/100\n",
      "7/7 [==============================] - 0s 9ms/step - loss: 1.1272 - val_loss: 1.4255\n",
      "Epoch 26/100\n",
      "7/7 [==============================] - 0s 7ms/step - loss: 1.1049 - val_loss: 1.4214\n",
      "Epoch 27/100\n",
      "7/7 [==============================] - 0s 8ms/step - loss: 1.0992 - val_loss: 1.4384\n",
      "Epoch 28/100\n",
      "7/7 [==============================] - 0s 8ms/step - loss: 1.1274 - val_loss: 1.4252\n",
      "Epoch 29/100\n",
      "7/7 [==============================] - 0s 7ms/step - loss: 1.1268 - val_loss: 1.5306\n",
      "Epoch 30/100\n",
      "7/7 [==============================] - 0s 7ms/step - loss: 1.1887 - val_loss: 1.3979\n",
      "Epoch 31/100\n",
      "7/7 [==============================] - 0s 7ms/step - loss: 1.1391 - val_loss: 1.4628\n",
      "Epoch 32/100\n",
      "7/7 [==============================] - 0s 7ms/step - loss: 1.4005 - val_loss: 1.3214\n",
      "Epoch 33/100\n",
      "7/7 [==============================] - 0s 7ms/step - loss: 2.4040 - val_loss: 2.9499\n",
      "Epoch 34/100\n",
      "7/7 [==============================] - 0s 8ms/step - loss: 1.6568 - val_loss: 1.4894\n",
      "Epoch 35/100\n",
      "7/7 [==============================] - 0s 7ms/step - loss: 1.3003 - val_loss: 1.9990\n",
      "Epoch 36/100\n",
      "7/7 [==============================] - 0s 8ms/step - loss: 1.7558 - val_loss: 2.5665\n",
      "Epoch 37/100\n",
      "7/7 [==============================] - 0s 7ms/step - loss: 1.4486 - val_loss: 1.3806\n",
      "Epoch 38/100\n",
      "7/7 [==============================] - 0s 8ms/step - loss: 1.4703 - val_loss: 1.9152\n",
      "Epoch 39/100\n",
      "7/7 [==============================] - 0s 7ms/step - loss: 1.2240 - val_loss: 1.5787\n",
      "Epoch 40/100\n",
      "7/7 [==============================] - 0s 9ms/step - loss: 1.1334 - val_loss: 1.3620\n",
      "Epoch 41/100\n",
      "7/7 [==============================] - 0s 8ms/step - loss: 1.1259 - val_loss: 1.3525\n",
      "Epoch 42/100\n",
      "7/7 [==============================] - 0s 7ms/step - loss: 1.0737 - val_loss: 1.6681\n",
      "Epoch 43/100\n",
      "7/7 [==============================] - 0s 7ms/step - loss: 1.2300 - val_loss: 1.5165\n",
      "Epoch 44/100\n",
      "7/7 [==============================] - 0s 7ms/step - loss: 1.1468 - val_loss: 1.3338\n",
      "Epoch 45/100\n",
      "7/7 [==============================] - 0s 7ms/step - loss: 1.3808 - val_loss: 1.3743\n",
      "Epoch 46/100\n",
      "7/7 [==============================] - 0s 8ms/step - loss: 1.5637 - val_loss: 2.5821\n",
      "Epoch 47/100\n",
      "7/7 [==============================] - 0s 7ms/step - loss: 1.3350 - val_loss: 1.8435\n",
      "Epoch 48/100\n",
      "7/7 [==============================] - 0s 6ms/step - loss: 1.4285 - val_loss: 1.4427\n",
      "Epoch 49/100\n",
      "7/7 [==============================] - 0s 8ms/step - loss: 1.1622 - val_loss: 1.8122\n",
      "Epoch 50/100\n",
      "7/7 [==============================] - 0s 7ms/step - loss: 1.6035 - val_loss: 1.9208\n",
      "Epoch 51/100\n",
      "7/7 [==============================] - 0s 7ms/step - loss: 1.2255 - val_loss: 1.4596\n",
      "Epoch 52/100\n",
      "7/7 [==============================] - 0s 7ms/step - loss: 1.1233 - val_loss: 1.4476\n",
      "Epoch 53/100\n",
      "7/7 [==============================] - 0s 7ms/step - loss: 1.1522 - val_loss: 1.3995\n",
      "Epoch 54/100\n",
      "7/7 [==============================] - 0s 8ms/step - loss: 1.1267 - val_loss: 1.3298\n",
      "Epoch 55/100\n",
      "7/7 [==============================] - 0s 8ms/step - loss: 1.0239 - val_loss: 1.5167\n",
      "Epoch 56/100\n",
      "7/7 [==============================] - 0s 7ms/step - loss: 1.1014 - val_loss: 1.3447\n",
      "Epoch 57/100\n",
      "7/7 [==============================] - 0s 8ms/step - loss: 1.0776 - val_loss: 1.3334\n",
      "Epoch 58/100\n",
      "7/7 [==============================] - 0s 10ms/step - loss: 1.0829 - val_loss: 1.5355\n",
      "Epoch 59/100\n",
      "7/7 [==============================] - 0s 8ms/step - loss: 1.5544 - val_loss: 1.3510\n",
      "Epoch 60/100\n",
      "7/7 [==============================] - 0s 7ms/step - loss: 1.1944 - val_loss: 1.7004\n",
      "Epoch 61/100\n",
      "7/7 [==============================] - 0s 8ms/step - loss: 1.1887 - val_loss: 1.3770\n",
      "Epoch 62/100\n",
      "7/7 [==============================] - 0s 7ms/step - loss: 1.0928 - val_loss: 1.3297\n",
      "Epoch 63/100\n",
      "7/7 [==============================] - 0s 7ms/step - loss: 1.1818 - val_loss: 2.3023\n",
      "Epoch 64/100\n",
      "7/7 [==============================] - 0s 7ms/step - loss: 1.5840 - val_loss: 2.0602\n",
      "Epoch 65/100\n",
      "7/7 [==============================] - 0s 8ms/step - loss: 1.4244 - val_loss: 1.3972\n",
      "Epoch 66/100\n",
      "7/7 [==============================] - 0s 7ms/step - loss: 1.0755 - val_loss: 1.4050\n",
      "Epoch 67/100\n",
      "7/7 [==============================] - 0s 8ms/step - loss: 1.5819 - val_loss: 1.4503\n",
      "Epoch 68/100\n",
      "7/7 [==============================] - 0s 7ms/step - loss: 1.2022 - val_loss: 1.3452\n",
      "Epoch 69/100\n",
      "7/7 [==============================] - 0s 8ms/step - loss: 1.2095 - val_loss: 1.3706\n",
      "Epoch 70/100\n",
      "7/7 [==============================] - 0s 7ms/step - loss: 2.0562 - val_loss: 2.4107\n",
      "Epoch 71/100\n",
      "7/7 [==============================] - 0s 7ms/step - loss: 1.6551 - val_loss: 1.6275\n",
      "Epoch 72/100\n",
      "7/7 [==============================] - 0s 8ms/step - loss: 1.4577 - val_loss: 1.5132\n",
      "Epoch 73/100\n",
      "7/7 [==============================] - 0s 10ms/step - loss: 1.3430 - val_loss: 1.9562\n",
      "Epoch 74/100\n",
      "7/7 [==============================] - 0s 8ms/step - loss: 1.1469 - val_loss: 1.5334\n",
      "Epoch 75/100\n",
      "7/7 [==============================] - 0s 7ms/step - loss: 1.1921 - val_loss: 1.8716\n",
      "Epoch 76/100\n",
      "7/7 [==============================] - 0s 8ms/step - loss: 1.3250 - val_loss: 1.3316\n",
      "Epoch 77/100\n",
      "7/7 [==============================] - 0s 7ms/step - loss: 1.1032 - val_loss: 1.7380\n",
      "Epoch 78/100\n",
      "7/7 [==============================] - 0s 8ms/step - loss: 1.2044 - val_loss: 1.8414\n",
      "Epoch 79/100\n",
      "7/7 [==============================] - 0s 7ms/step - loss: 1.2522 - val_loss: 1.3252\n",
      "Epoch 80/100\n",
      "7/7 [==============================] - 0s 12ms/step - loss: 1.4617 - val_loss: 1.6814\n",
      "Epoch 81/100\n",
      "7/7 [==============================] - 0s 7ms/step - loss: 1.5136 - val_loss: 1.5478\n",
      "Epoch 82/100\n",
      "7/7 [==============================] - 0s 7ms/step - loss: 1.1675 - val_loss: 1.4298\n",
      "Epoch 83/100\n",
      "7/7 [==============================] - 0s 7ms/step - loss: 1.0754 - val_loss: 1.4277\n",
      "Epoch 84/100\n",
      "7/7 [==============================] - 0s 8ms/step - loss: 1.2888 - val_loss: 1.6228\n",
      "Epoch 85/100\n",
      "7/7 [==============================] - 0s 8ms/step - loss: 1.3080 - val_loss: 1.6630\n",
      "Epoch 86/100\n",
      "7/7 [==============================] - 0s 8ms/step - loss: 1.3199 - val_loss: 1.7773\n",
      "Epoch 87/100\n",
      "7/7 [==============================] - 0s 7ms/step - loss: 1.2757 - val_loss: 1.4263\n",
      "Epoch 88/100\n",
      "7/7 [==============================] - 0s 13ms/step - loss: 1.4097 - val_loss: 1.8172\n",
      "Epoch 89/100\n",
      "7/7 [==============================] - 0s 8ms/step - loss: 1.3658 - val_loss: 1.4221\n",
      "Epoch 90/100\n",
      "7/7 [==============================] - 0s 9ms/step - loss: 1.6254 - val_loss: 1.6040\n",
      "Epoch 91/100\n",
      "7/7 [==============================] - 0s 9ms/step - loss: 1.2101 - val_loss: 1.6670\n",
      "Epoch 92/100\n",
      "7/7 [==============================] - 0s 9ms/step - loss: 1.2670 - val_loss: 1.7241\n",
      "Epoch 93/100\n",
      "7/7 [==============================] - 0s 8ms/step - loss: 1.4033 - val_loss: 1.6018\n",
      "Epoch 94/100\n",
      "7/7 [==============================] - 0s 9ms/step - loss: 1.3056 - val_loss: 1.4893\n",
      "Epoch 95/100\n",
      "7/7 [==============================] - 0s 7ms/step - loss: 1.5764 - val_loss: 3.0166\n",
      "Epoch 96/100\n",
      "7/7 [==============================] - 0s 8ms/step - loss: 1.9781 - val_loss: 1.4482\n",
      "Epoch 97/100\n",
      "7/7 [==============================] - 0s 7ms/step - loss: 1.6655 - val_loss: 2.0534\n",
      "Epoch 98/100\n",
      "7/7 [==============================] - 0s 8ms/step - loss: 1.2958 - val_loss: 1.4290\n",
      "Epoch 99/100\n",
      "7/7 [==============================] - 0s 7ms/step - loss: 1.1160 - val_loss: 1.4483\n",
      "Epoch 100/100\n",
      "7/7 [==============================] - 0s 10ms/step - loss: 1.2379 - val_loss: 1.4684\n"
     ]
    }
   ],
   "source": [
    "# 컴파일\n",
    "model.compile(optimizer=Adam(lr=0.5),loss='mse')\n",
    "\n",
    "# 학습\n",
    "epochs=100\n",
    "batch_size=32\n",
    "history = model.fit(X_train,\n",
    "          y_train,\n",
    "          epochs=epochs,\n",
    "          batch_size=batch_size,\n",
    "          validation_split=0.2).history \n"
   ]
  },
  {
   "cell_type": "markdown",
   "metadata": {
    "id": "6iLA8c2p00M6"
   },
   "source": [
    "* 학습곡선"
   ]
  },
  {
   "cell_type": "code",
   "execution_count": 13,
   "metadata": {
    "id": "T9plSoBwwCh8"
   },
   "outputs": [
    {
     "data": {
      "image/png": "[encoded data removed]",
      "text/plain": [
       "<Figure size 720x432 with 1 Axes>"
      ]
     },
     "metadata": {
      "needs_background": "light"
     },
     "output_type": "display_data"
    }
   ],
   "source": [
    "dl_history_plot(history)"
   ]
  },
  {
   "cell_type": "markdown",
   "metadata": {
    "id": "hVa3Z88902gU"
   },
   "source": [
    "* 검증"
   ]
  },
  {
   "cell_type": "code",
   "execution_count": 14,
   "metadata": {
    "id": "PTzZV-_DwCY3"
   },
   "outputs": [
    {
     "name": "stdout",
     "output_type": "stream",
     "text": [
      "4/4 [==============================] - 0s 2ms/step\n",
      "RMSE : 1.1974521039519903\n",
      "MAE  : 0.9648989142576855\n",
      "MAPE  : 0.34311292508420693\n",
      "R2  : 0.8351737959896515\n"
     ]
    }
   ],
   "source": [
    "pred = model.predict(X_val)\n",
    "print(f'RMSE : {mean_squared_error(y_val, pred, squared=False)}')\n",
    "print(f'MAE  : {mean_absolute_error(y_val, pred)}')\n",
    "print(f'MAPE  : {mean_absolute_percentage_error(y_val, pred)}')\n",
    "print(f'R2  : {r2_score(y_val, pred)}')"
   ]
  },
  {
   "cell_type": "markdown",
   "metadata": {
    "id": "2S4Bukgz2EJy"
   },
   "source": [
    "### (2) 모델2"
   ]
  },
  {
   "cell_type": "markdown",
   "metadata": {
    "id": "xvHNAHE82EJz"
   },
   "source": [
    "* 모델 설계\n",
    "    * 일단 먼저 손으로 구조를 그려본 후\n",
    "    * 코드로 옮겨 봅시다."
   ]
  },
  {
   "cell_type": "code",
   "execution_count": 32,
   "metadata": {
    "id": "GI-OJW0krrfl"
   },
   "outputs": [
    {
     "name": "stdout",
     "output_type": "stream",
     "text": [
      "Model: \"sequential\"\n",
      "_________________________________________________________________\n",
      " Layer (type)                Output Shape              Param #   \n",
      "=================================================================\n",
      " dense (Dense)               (None, 8)                 96        \n",
      "                                                                 \n",
      " dense_1 (Dense)             (None, 4)                 36        \n",
      "                                                                 \n",
      " dense_2 (Dense)             (None, 1)                 5         \n",
      "                                                                 \n",
      "=================================================================\n",
      "Total params: 137\n",
      "Trainable params: 137\n",
      "Non-trainable params: 0\n",
      "_________________________________________________________________\n"
     ]
    }
   ],
   "source": [
    "# 메모리 정리\n",
    "clear_session()\n",
    "\n",
    "# Sequential 타입 모델 선언\n",
    "model = Sequential()\n",
    "\n",
    "# Layer 정의\n",
    "layer1 = Dense(8, input_shape=(nfeatures,), activation='relu')\n",
    "layer2 = Dense(4, activation='relu')\n",
    "layer3 = Dense(1, )\n",
    "\n",
    "# 모델에 추가\n",
    "model.add(layer1)\n",
    "model.add(layer2)\n",
    "model.add(layer3)\n",
    "\n",
    "# 모델요약\n",
    "model.summary()\n"
   ]
  },
  {
   "cell_type": "markdown",
   "metadata": {},
   "source": [
    "### **코드 간결하게 작성하기**"
   ]
  },
  {
   "cell_type": "code",
   "execution_count": 37,
   "metadata": {},
   "outputs": [
    {
     "name": "stdout",
     "output_type": "stream",
     "text": [
      "Model: \"sequential\"\n",
      "_________________________________________________________________\n",
      " Layer (type)                Output Shape              Param #   \n",
      "=================================================================\n",
      " dense (Dense)               (None, 8)                 96        \n",
      "                                                                 \n",
      " dense_1 (Dense)             (None, 4)                 36        \n",
      "                                                                 \n",
      " dense_2 (Dense)             (None, 1)                 5         \n",
      "                                                                 \n",
      "=================================================================\n",
      "Total params: 137\n",
      "Trainable params: 137\n",
      "Non-trainable params: 0\n",
      "_________________________________________________________________\n"
     ]
    }
   ],
   "source": [
    "# 메모리 정리\n",
    "clear_session()\n",
    "\n",
    "# Sequential 타입 모델 선언\n",
    "# sales는 음수값이 나올 수 없으므로 활성화함수를 relu로 사용한다고 생각해도 좋다.\n",
    "# 다른 활성화함수들보다 일반적으로 성능이 좋은 함수이기도 함. \n",
    "model = Sequential([Dense(8, input_shape=(nfeatures,), activation='relu'),\n",
    "                    Dense(4, activation='relu'),\n",
    "                    Dense(1, )\n",
    "                   ])\n",
    "\n",
    "\n",
    "# 모델요약\n",
    "model.summary()"
   ]
  },
  {
   "cell_type": "markdown",
   "metadata": {
    "id": "zqEjazkMrrfo"
   },
   "source": [
    "* 컴파일 + 학습"
   ]
  },
  {
   "cell_type": "code",
   "execution_count": 33,
   "metadata": {
    "collapsed": true,
    "id": "WGyq6MRJrrfo",
    "jupyter": {
     "outputs_hidden": true
    },
    "tags": []
   },
   "outputs": [
    {
     "name": "stdout",
     "output_type": "stream",
     "text": [
      "Epoch 1/100\n"
     ]
    },
    {
     "name": "stderr",
     "output_type": "stream",
     "text": [
      "C:\\Users\\User\\anaconda3\\lib\\site-packages\\keras\\optimizers\\optimizer_v2\\adam.py:114: UserWarning: The `lr` argument is deprecated, use `learning_rate` instead.\n",
      "  super().__init__(name, **kwargs)\n"
     ]
    },
    {
     "name": "stdout",
     "output_type": "stream",
     "text": [
      "7/7 [==============================] - 1s 37ms/step - loss: 25.8796 - val_loss: 20.5761\n",
      "Epoch 2/100\n",
      "7/7 [==============================] - 0s 8ms/step - loss: 10.3911 - val_loss: 14.3654\n",
      "Epoch 3/100\n",
      "7/7 [==============================] - 0s 7ms/step - loss: 8.6500 - val_loss: 12.9049\n",
      "Epoch 4/100\n",
      "7/7 [==============================] - 0s 8ms/step - loss: 6.2852 - val_loss: 7.1750\n",
      "Epoch 5/100\n",
      "7/7 [==============================] - 0s 8ms/step - loss: 4.6205 - val_loss: 7.3902\n",
      "Epoch 6/100\n",
      "7/7 [==============================] - 0s 7ms/step - loss: 4.1463 - val_loss: 5.4712\n",
      "Epoch 7/100\n",
      "7/7 [==============================] - 0s 7ms/step - loss: 3.8056 - val_loss: 5.0017\n",
      "Epoch 8/100\n",
      "7/7 [==============================] - 0s 8ms/step - loss: 3.5019 - val_loss: 4.7911\n",
      "Epoch 9/100\n",
      "7/7 [==============================] - 0s 7ms/step - loss: 3.1895 - val_loss: 4.2706\n",
      "Epoch 10/100\n",
      "7/7 [==============================] - 0s 8ms/step - loss: 3.0486 - val_loss: 4.1012\n",
      "Epoch 11/100\n",
      "7/7 [==============================] - 0s 7ms/step - loss: 2.8038 - val_loss: 4.0134\n",
      "Epoch 12/100\n",
      "7/7 [==============================] - 0s 8ms/step - loss: 2.6781 - val_loss: 3.6520\n",
      "Epoch 13/100\n",
      "7/7 [==============================] - 0s 7ms/step - loss: 2.5621 - val_loss: 3.5142\n",
      "Epoch 14/100\n",
      "7/7 [==============================] - 0s 10ms/step - loss: 2.4787 - val_loss: 3.4540\n",
      "Epoch 15/100\n",
      "7/7 [==============================] - 0s 7ms/step - loss: 2.1266 - val_loss: 2.8383\n",
      "Epoch 16/100\n",
      "7/7 [==============================] - 0s 8ms/step - loss: 1.9915 - val_loss: 2.4515\n",
      "Epoch 17/100\n",
      "7/7 [==============================] - 0s 8ms/step - loss: 1.7738 - val_loss: 2.2154\n",
      "Epoch 18/100\n",
      "7/7 [==============================] - 0s 8ms/step - loss: 1.5896 - val_loss: 1.9905\n",
      "Epoch 19/100\n",
      "7/7 [==============================] - 0s 8ms/step - loss: 1.4013 - val_loss: 1.7364\n",
      "Epoch 20/100\n",
      "7/7 [==============================] - 0s 9ms/step - loss: 1.2987 - val_loss: 2.4509\n",
      "Epoch 21/100\n",
      "7/7 [==============================] - 0s 8ms/step - loss: 1.6511 - val_loss: 1.7500\n",
      "Epoch 22/100\n",
      "7/7 [==============================] - 0s 7ms/step - loss: 1.2258 - val_loss: 1.3739\n",
      "Epoch 23/100\n",
      "7/7 [==============================] - 0s 8ms/step - loss: 1.1599 - val_loss: 1.4642\n",
      "Epoch 24/100\n",
      "7/7 [==============================] - 0s 8ms/step - loss: 1.1770 - val_loss: 1.4870\n",
      "Epoch 25/100\n",
      "7/7 [==============================] - 0s 8ms/step - loss: 1.0836 - val_loss: 1.3728\n",
      "Epoch 26/100\n",
      "7/7 [==============================] - 0s 8ms/step - loss: 1.0413 - val_loss: 2.5305\n",
      "Epoch 27/100\n",
      "7/7 [==============================] - 0s 8ms/step - loss: 1.8423 - val_loss: 2.9967\n",
      "Epoch 28/100\n",
      "7/7 [==============================] - 0s 9ms/step - loss: 1.8403 - val_loss: 1.5253\n",
      "Epoch 29/100\n",
      "7/7 [==============================] - 0s 9ms/step - loss: 1.8753 - val_loss: 1.8122\n",
      "Epoch 30/100\n",
      "7/7 [==============================] - 0s 20ms/step - loss: 1.3699 - val_loss: 1.4390\n",
      "Epoch 31/100\n",
      "7/7 [==============================] - 0s 8ms/step - loss: 1.4261 - val_loss: 2.8309\n",
      "Epoch 32/100\n",
      "7/7 [==============================] - 0s 7ms/step - loss: 1.7363 - val_loss: 1.5874\n",
      "Epoch 33/100\n",
      "7/7 [==============================] - 0s 7ms/step - loss: 2.1999 - val_loss: 1.5936\n",
      "Epoch 34/100\n",
      "7/7 [==============================] - 0s 9ms/step - loss: 1.4723 - val_loss: 1.5806\n",
      "Epoch 35/100\n",
      "7/7 [==============================] - 0s 7ms/step - loss: 1.1258 - val_loss: 1.6373\n",
      "Epoch 36/100\n",
      "7/7 [==============================] - 0s 9ms/step - loss: 1.1453 - val_loss: 1.8367\n",
      "Epoch 37/100\n",
      "7/7 [==============================] - 0s 8ms/step - loss: 1.0952 - val_loss: 1.6566\n",
      "Epoch 38/100\n",
      "7/7 [==============================] - 0s 7ms/step - loss: 1.1871 - val_loss: 1.5204\n",
      "Epoch 39/100\n",
      "7/7 [==============================] - 0s 7ms/step - loss: 1.0358 - val_loss: 1.3554\n",
      "Epoch 40/100\n",
      "7/7 [==============================] - 0s 7ms/step - loss: 1.0113 - val_loss: 1.3228\n",
      "Epoch 41/100\n",
      "7/7 [==============================] - 0s 8ms/step - loss: 1.0143 - val_loss: 1.5984\n",
      "Epoch 42/100\n",
      "7/7 [==============================] - 0s 7ms/step - loss: 1.1954 - val_loss: 2.2696\n",
      "Epoch 43/100\n",
      "7/7 [==============================] - 0s 7ms/step - loss: 1.4277 - val_loss: 1.5943\n",
      "Epoch 44/100\n",
      "7/7 [==============================] - 0s 7ms/step - loss: 1.2504 - val_loss: 1.4243\n",
      "Epoch 45/100\n",
      "7/7 [==============================] - 0s 7ms/step - loss: 1.2815 - val_loss: 1.4325\n",
      "Epoch 46/100\n",
      "7/7 [==============================] - 0s 7ms/step - loss: 1.2544 - val_loss: 1.5658\n",
      "Epoch 47/100\n",
      "7/7 [==============================] - 0s 7ms/step - loss: 1.1373 - val_loss: 1.8350\n",
      "Epoch 48/100\n",
      "7/7 [==============================] - 0s 7ms/step - loss: 1.1861 - val_loss: 1.3902\n",
      "Epoch 49/100\n",
      "7/7 [==============================] - 0s 7ms/step - loss: 1.0350 - val_loss: 1.4084\n",
      "Epoch 50/100\n",
      "7/7 [==============================] - 0s 7ms/step - loss: 1.0865 - val_loss: 1.4250\n",
      "Epoch 51/100\n",
      "7/7 [==============================] - 0s 7ms/step - loss: 0.9572 - val_loss: 1.6514\n",
      "Epoch 52/100\n",
      "7/7 [==============================] - 0s 9ms/step - loss: 1.0674 - val_loss: 1.5650\n",
      "Epoch 53/100\n",
      "7/7 [==============================] - 0s 7ms/step - loss: 1.1178 - val_loss: 1.4353\n",
      "Epoch 54/100\n",
      "7/7 [==============================] - 0s 10ms/step - loss: 1.1996 - val_loss: 2.1957\n",
      "Epoch 55/100\n",
      "7/7 [==============================] - 0s 11ms/step - loss: 1.3270 - val_loss: 1.3057\n",
      "Epoch 56/100\n",
      "7/7 [==============================] - 0s 9ms/step - loss: 1.0666 - val_loss: 1.5818\n",
      "Epoch 57/100\n",
      "7/7 [==============================] - 0s 17ms/step - loss: 1.0426 - val_loss: 1.3340\n",
      "Epoch 58/100\n",
      "7/7 [==============================] - 0s 16ms/step - loss: 1.0253 - val_loss: 1.3557\n",
      "Epoch 59/100\n",
      "7/7 [==============================] - 0s 9ms/step - loss: 1.0869 - val_loss: 1.2765\n",
      "Epoch 60/100\n",
      "7/7 [==============================] - 0s 9ms/step - loss: 1.0732 - val_loss: 1.4601\n",
      "Epoch 61/100\n",
      "7/7 [==============================] - 0s 10ms/step - loss: 0.9928 - val_loss: 1.2927\n",
      "Epoch 62/100\n",
      "7/7 [==============================] - 0s 10ms/step - loss: 1.0147 - val_loss: 1.3976\n",
      "Epoch 63/100\n",
      "7/7 [==============================] - 0s 10ms/step - loss: 1.3396 - val_loss: 2.3250\n",
      "Epoch 64/100\n",
      "7/7 [==============================] - 0s 10ms/step - loss: 1.5234 - val_loss: 1.6534\n",
      "Epoch 65/100\n",
      "7/7 [==============================] - 0s 11ms/step - loss: 1.3388 - val_loss: 1.3343\n",
      "Epoch 66/100\n",
      "7/7 [==============================] - 0s 9ms/step - loss: 1.4540 - val_loss: 1.9875\n",
      "Epoch 67/100\n",
      "7/7 [==============================] - 0s 8ms/step - loss: 1.3651 - val_loss: 1.6076\n",
      "Epoch 68/100\n",
      "7/7 [==============================] - 0s 7ms/step - loss: 1.2102 - val_loss: 1.4549\n",
      "Epoch 69/100\n",
      "7/7 [==============================] - 0s 7ms/step - loss: 1.1392 - val_loss: 1.4263\n",
      "Epoch 70/100\n",
      "7/7 [==============================] - 0s 7ms/step - loss: 1.0764 - val_loss: 1.4033\n",
      "Epoch 71/100\n",
      "7/7 [==============================] - 0s 7ms/step - loss: 0.9729 - val_loss: 1.3677\n",
      "Epoch 72/100\n",
      "7/7 [==============================] - 0s 7ms/step - loss: 0.9868 - val_loss: 1.3398\n",
      "Epoch 73/100\n",
      "7/7 [==============================] - 0s 10ms/step - loss: 1.0445 - val_loss: 1.5608\n",
      "Epoch 74/100\n",
      "7/7 [==============================] - 0s 8ms/step - loss: 1.1273 - val_loss: 1.4260\n",
      "Epoch 75/100\n",
      "7/7 [==============================] - 0s 7ms/step - loss: 1.1377 - val_loss: 1.7561\n",
      "Epoch 76/100\n",
      "7/7 [==============================] - 0s 7ms/step - loss: 1.5318 - val_loss: 2.2923\n",
      "Epoch 77/100\n",
      "7/7 [==============================] - 0s 6ms/step - loss: 1.8742 - val_loss: 3.1010\n",
      "Epoch 78/100\n",
      "7/7 [==============================] - 0s 7ms/step - loss: 1.7902 - val_loss: 1.9301\n",
      "Epoch 79/100\n",
      "7/7 [==============================] - 0s 7ms/step - loss: 1.6476 - val_loss: 1.4987\n",
      "Epoch 80/100\n",
      "7/7 [==============================] - 0s 7ms/step - loss: 1.3412 - val_loss: 1.4829\n",
      "Epoch 81/100\n",
      "7/7 [==============================] - 0s 7ms/step - loss: 1.3574 - val_loss: 1.4824\n",
      "Epoch 82/100\n",
      "7/7 [==============================] - 0s 6ms/step - loss: 1.0528 - val_loss: 1.4053\n",
      "Epoch 83/100\n",
      "7/7 [==============================] - 0s 6ms/step - loss: 1.0250 - val_loss: 1.3563\n",
      "Epoch 84/100\n",
      "7/7 [==============================] - 0s 7ms/step - loss: 0.9816 - val_loss: 1.3732\n",
      "Epoch 85/100\n",
      "7/7 [==============================] - 0s 6ms/step - loss: 0.9613 - val_loss: 1.3262\n",
      "Epoch 86/100\n",
      "7/7 [==============================] - 0s 6ms/step - loss: 1.0953 - val_loss: 2.0228\n",
      "Epoch 87/100\n",
      "7/7 [==============================] - 0s 7ms/step - loss: 1.6420 - val_loss: 2.0005\n",
      "Epoch 88/100\n",
      "7/7 [==============================] - 0s 8ms/step - loss: 1.8051 - val_loss: 1.3552\n",
      "Epoch 89/100\n",
      "7/7 [==============================] - 0s 7ms/step - loss: 1.2868 - val_loss: 1.3683\n",
      "Epoch 90/100\n",
      "7/7 [==============================] - 0s 7ms/step - loss: 1.2932 - val_loss: 1.9381\n",
      "Epoch 91/100\n",
      "7/7 [==============================] - 0s 7ms/step - loss: 1.2842 - val_loss: 1.4745\n",
      "Epoch 92/100\n",
      "7/7 [==============================] - 0s 7ms/step - loss: 1.1261 - val_loss: 1.5826\n",
      "Epoch 93/100\n",
      "7/7 [==============================] - 0s 6ms/step - loss: 1.1688 - val_loss: 1.3430\n",
      "Epoch 94/100\n",
      "7/7 [==============================] - 0s 7ms/step - loss: 1.0360 - val_loss: 2.4470\n",
      "Epoch 95/100\n",
      "7/7 [==============================] - 0s 10ms/step - loss: 1.7482 - val_loss: 1.6827\n",
      "Epoch 96/100\n",
      "7/7 [==============================] - 0s 8ms/step - loss: 1.5004 - val_loss: 1.5126\n",
      "Epoch 97/100\n",
      "7/7 [==============================] - 0s 7ms/step - loss: 1.1450 - val_loss: 1.5697\n",
      "Epoch 98/100\n",
      "7/7 [==============================] - 0s 10ms/step - loss: 1.2348 - val_loss: 1.4199\n",
      "Epoch 99/100\n",
      "7/7 [==============================] - 0s 8ms/step - loss: 1.1047 - val_loss: 1.6383\n",
      "Epoch 100/100\n",
      "7/7 [==============================] - 0s 7ms/step - loss: 1.1732 - val_loss: 1.4240\n"
     ]
    }
   ],
   "source": [
    "# 컴파일\n",
    "model.compile(optimizer=Adam(lr=0.3),loss='mse')\n",
    "\n",
    "# 학습\n",
    "epochs = 100\n",
    "batch_size = 32\n",
    "history2 = model.fit(X_train, y_train,\n",
    "                     epochs = epochs,\n",
    "                     batch_size = batch_size,\n",
    "                     validation_split=0.2).history\n"
   ]
  },
  {
   "cell_type": "markdown",
   "metadata": {
    "id": "6owoymvcrrfp"
   },
   "source": [
    "* 학습곡선"
   ]
  },
  {
   "cell_type": "code",
   "execution_count": 34,
   "metadata": {
    "id": "ZssvYPH1rrfq"
   },
   "outputs": [
    {
     "data": {
      "image/png": "[encoded data removed]",
      "text/plain": [
       "<Figure size 720x432 with 1 Axes>"
      ]
     },
     "metadata": {
      "needs_background": "light"
     },
     "output_type": "display_data"
    }
   ],
   "source": [
    "dl_history_plot(history2)"
   ]
  },
  {
   "cell_type": "markdown",
   "metadata": {
    "id": "7QW-M_QFrrfq"
   },
   "source": [
    "* 검증"
   ]
  },
  {
   "cell_type": "code",
   "execution_count": 35,
   "metadata": {
    "id": "9h7Q2vt6rrfr"
   },
   "outputs": [
    {
     "name": "stdout",
     "output_type": "stream",
     "text": [
      "4/4 [==============================] - 0s 2ms/step\n",
      "RMSE : 1.1006900303985456\n",
      "MAE  : 0.8381850488980611\n",
      "MAPE  : 0.3009129065865565\n",
      "R2  : 0.8607356297265075\n"
     ]
    }
   ],
   "source": [
    "pred = model.predict(X_val)\n",
    "print(f'RMSE : {mean_squared_error(y_val, pred, squared=False)}')\n",
    "print(f'MAE  : {mean_absolute_error(y_val, pred)}')\n",
    "print(f'MAPE  : {mean_absolute_percentage_error(y_val, pred)}')\n",
    "print(f'R2  : {r2_score(y_val, pred)}')"
   ]
  },
  {
   "cell_type": "code",
   "execution_count": null,
   "metadata": {},
   "outputs": [],
   "source": [
    "# 평균 모델의 오차를 약 77프로 잡아낸 모델이다  "
   ]
  }
 ],
 "metadata": {
  "colab": {
   "collapsed_sections": [],
   "provenance": []
  },
  "kernelspec": {
   "display_name": "Python 3",
   "language": "python",
   "name": "python3"
  },
  "language_info": {
   "codemirror_mode": {
    "name": "ipython",
    "version": 3
   },
   "file_extension": ".py",
   "mimetype": "text/x-python",
   "name": "python",
   "nbconvert_exporter": "python",
   "pygments_lexer": "ipython3",
   "version": "3.8.8"
  }
 },
 "nbformat": 4,
 "nbformat_minor": 4
}
