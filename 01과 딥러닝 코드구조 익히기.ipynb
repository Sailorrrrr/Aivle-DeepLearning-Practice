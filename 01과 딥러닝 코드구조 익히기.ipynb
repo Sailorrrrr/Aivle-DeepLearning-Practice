{
 "cells": [
  {
   "cell_type": "markdown",
   "metadata": {
    "id": "CcxXw-jwKv_v"
   },
   "source": [
    "![](https://www.luisllamas.es/wp-content/uploads/2019/02/tensorflowkeras.png)\n",
    "* 텐서플로우\n",
    "    * 구글이 2011년에 개발을 시작하여 2015년에 오픈 소스로 공개한 신경망 라이브러리.\n",
    "* 케라스\n",
    "    * 케라스(Keras)는 파이썬으로 작성된 오픈 소스 신경망 라이브러리.\n",
    "    * ONEIROS(Open-ended Neuro-Electronic Intelligent Robot Operating System) 프로젝트의 연구적 노력의 일환으로 개발.\n",
    "    * 텐서플로우를 쉽게(!) 활용하여 모델링할 수 있는 함수 제공.(텐서플로가 안쪽에서 잘 작동할 수 있게 해주는 껍데기?단)"
   ]
  },
  {
   "cell_type": "markdown",
   "metadata": {
    "id": "9eTjomY-UPEM"
   },
   "source": [
    "----"
   ]
  },
  {
   "cell_type": "markdown",
   "metadata": {
    "id": "cVB9pY-v8uv5"
   },
   "source": [
    "# 딥러닝 코드 구조 익히기\n",
    "\n",
    "* 딥러닝 알고리즘은 머신러닝 알고리즘의 하나로 이해해도 무방하다\n",
    "* 딥러닝 코드 구조를 익히는 연습을 합니다.(다음 절차와 코드를 외웁시다.)\n",
    "    * 구조 설계\n",
    "    * 컴파일 및 학습\n",
    "    * 검증 및 평가\n",
    "* 여기서는 성능에 초점을 두지 맙시다. \n",
    "\n"
   ]
  },
  {
   "cell_type": "markdown",
   "metadata": {
    "id": "gIN5d51gtker"
   },
   "source": [
    "### 라이브러리 Import"
   ]
  },
  {
   "cell_type": "code",
   "execution_count": 2,
   "metadata": {
    "id": "GVvCef6A8uv6"
   },
   "outputs": [],
   "source": [
    "import pandas as pd\n",
    "import numpy as np\n",
    "import matplotlib.pyplot as plt\n",
    "import seaborn as sns\n",
    "\n",
    "from sklearn.model_selection import train_test_split\n",
    "from sklearn.metrics import *\n",
    "from sklearn.preprocessing import StandardScaler, MinMaxScaler\n",
    "\n",
    "# 딥러닝을 위한 함수들\n",
    "from keras.models import Sequential\n",
    "from keras.layers import Dense\n",
    "from keras.backend import clear_session"
   ]
  },
  {
   "cell_type": "markdown",
   "metadata": {
    "id": "pcf-5u15ZYqG"
   },
   "source": [
    "# Regression"
   ]
  },
  {
   "cell_type": "markdown",
   "metadata": {
    "id": "RFji9zc8VVPs"
   },
   "source": [
    "## 1.Boston House Price"
   ]
  },
  {
   "cell_type": "markdown",
   "metadata": {
    "id": "oICMvjzJJKbn"
   },
   "source": [
    "### (1) 데이터 전처리"
   ]
  },
  {
   "cell_type": "markdown",
   "metadata": {
    "id": "y9Q6jR6OZjUk"
   },
   "source": [
    "#### 1) 데이터 준비"
   ]
  },
  {
   "cell_type": "code",
   "execution_count": 3,
   "metadata": {
    "id": "Vqr7zY5r8uwC"
   },
   "outputs": [
    {
     "data": {
      "text/html": [
       "<div>\n",
       "<style scoped>\n",
       "    .dataframe tbody tr th:only-of-type {\n",
       "        vertical-align: middle;\n",
       "    }\n",
       "\n",
       "    .dataframe tbody tr th {\n",
       "        vertical-align: top;\n",
       "    }\n",
       "\n",
       "    .dataframe thead th {\n",
       "        text-align: right;\n",
       "    }\n",
       "</style>\n",
       "<table border=\"1\" class=\"dataframe\">\n",
       "  <thead>\n",
       "    <tr style=\"text-align: right;\">\n",
       "      <th></th>\n",
       "      <th>crim</th>\n",
       "      <th>zn</th>\n",
       "      <th>indus</th>\n",
       "      <th>chas</th>\n",
       "      <th>nox</th>\n",
       "      <th>rm</th>\n",
       "      <th>age</th>\n",
       "      <th>dis</th>\n",
       "      <th>rad</th>\n",
       "      <th>tax</th>\n",
       "      <th>ptratio</th>\n",
       "      <th>black</th>\n",
       "      <th>lstat</th>\n",
       "      <th>medv</th>\n",
       "    </tr>\n",
       "  </thead>\n",
       "  <tbody>\n",
       "    <tr>\n",
       "      <th>0</th>\n",
       "      <td>0.00632</td>\n",
       "      <td>18.0</td>\n",
       "      <td>2.31</td>\n",
       "      <td>0</td>\n",
       "      <td>0.538</td>\n",
       "      <td>6.575</td>\n",
       "      <td>65.2</td>\n",
       "      <td>4.0900</td>\n",
       "      <td>1</td>\n",
       "      <td>296</td>\n",
       "      <td>15.3</td>\n",
       "      <td>396.90</td>\n",
       "      <td>4.98</td>\n",
       "      <td>24.0</td>\n",
       "    </tr>\n",
       "    <tr>\n",
       "      <th>1</th>\n",
       "      <td>0.02731</td>\n",
       "      <td>0.0</td>\n",
       "      <td>7.07</td>\n",
       "      <td>0</td>\n",
       "      <td>0.469</td>\n",
       "      <td>6.421</td>\n",
       "      <td>78.9</td>\n",
       "      <td>4.9671</td>\n",
       "      <td>2</td>\n",
       "      <td>242</td>\n",
       "      <td>17.8</td>\n",
       "      <td>396.90</td>\n",
       "      <td>9.14</td>\n",
       "      <td>21.6</td>\n",
       "    </tr>\n",
       "    <tr>\n",
       "      <th>2</th>\n",
       "      <td>0.02729</td>\n",
       "      <td>0.0</td>\n",
       "      <td>7.07</td>\n",
       "      <td>0</td>\n",
       "      <td>0.469</td>\n",
       "      <td>7.185</td>\n",
       "      <td>61.1</td>\n",
       "      <td>4.9671</td>\n",
       "      <td>2</td>\n",
       "      <td>242</td>\n",
       "      <td>17.8</td>\n",
       "      <td>392.83</td>\n",
       "      <td>4.03</td>\n",
       "      <td>34.7</td>\n",
       "    </tr>\n",
       "    <tr>\n",
       "      <th>3</th>\n",
       "      <td>0.03237</td>\n",
       "      <td>0.0</td>\n",
       "      <td>2.18</td>\n",
       "      <td>0</td>\n",
       "      <td>0.458</td>\n",
       "      <td>6.998</td>\n",
       "      <td>45.8</td>\n",
       "      <td>6.0622</td>\n",
       "      <td>3</td>\n",
       "      <td>222</td>\n",
       "      <td>18.7</td>\n",
       "      <td>394.63</td>\n",
       "      <td>2.94</td>\n",
       "      <td>33.4</td>\n",
       "    </tr>\n",
       "    <tr>\n",
       "      <th>4</th>\n",
       "      <td>0.06905</td>\n",
       "      <td>0.0</td>\n",
       "      <td>2.18</td>\n",
       "      <td>0</td>\n",
       "      <td>0.458</td>\n",
       "      <td>7.147</td>\n",
       "      <td>54.2</td>\n",
       "      <td>6.0622</td>\n",
       "      <td>3</td>\n",
       "      <td>222</td>\n",
       "      <td>18.7</td>\n",
       "      <td>396.90</td>\n",
       "      <td>5.33</td>\n",
       "      <td>36.2</td>\n",
       "    </tr>\n",
       "  </tbody>\n",
       "</table>\n",
       "</div>"
      ],
      "text/plain": [
       "      crim    zn  indus  chas    nox     rm   age     dis  rad  tax  ptratio  \\\n",
       "0  0.00632  18.0   2.31     0  0.538  6.575  65.2  4.0900    1  296     15.3   \n",
       "1  0.02731   0.0   7.07     0  0.469  6.421  78.9  4.9671    2  242     17.8   \n",
       "2  0.02729   0.0   7.07     0  0.469  7.185  61.1  4.9671    2  242     17.8   \n",
       "3  0.03237   0.0   2.18     0  0.458  6.998  45.8  6.0622    3  222     18.7   \n",
       "4  0.06905   0.0   2.18     0  0.458  7.147  54.2  6.0622    3  222     18.7   \n",
       "\n",
       "    black  lstat  medv  \n",
       "0  396.90   4.98  24.0  \n",
       "1  396.90   9.14  21.6  \n",
       "2  392.83   4.03  34.7  \n",
       "3  394.63   2.94  33.4  \n",
       "4  396.90   5.33  36.2  "
      ]
     },
     "execution_count": 3,
     "metadata": {},
     "output_type": "execute_result"
    }
   ],
   "source": [
    "path = 'https://raw.githubusercontent.com/DA4BAM/dataset/master/boston.csv'\n",
    "data = pd.read_csv(path)\n",
    "data.head()"
   ]
  },
  {
   "cell_type": "markdown",
   "metadata": {
    "id": "W07fwF8zeix4"
   },
   "source": [
    "|\t변수\t|\t설명\t|\n",
    "|\t----\t|\t----\t|\n",
    "|\tmedv\t|\t타운별 집값(중위수)\t|\n",
    "|\tcrim\t|\t범죄율\t|\n",
    "|\tzn\t|\t25,000 평방피트를 초과 거주지역 비율\t|\n",
    "|\tindus\t|\t비소매상업지역 면적 비율\t|\n",
    "|\tchas\t|\t찰스강변 위치(범주 : 강변1, 아니면 0)\t|\n",
    "|\tnox\t|\t일산화질소 농도\t|\n",
    "|\trm\t|\t주택당 방 수\t|\n",
    "|\tage\t|\t1940년 이전에 건축된 주택의 비율\t|\n",
    "|\tdis\t|\t직업센터의 거리\t|\n",
    "|\trad\t|\t방사형 고속도로까지의 거리\t|\n",
    "|\ttax\t|\t재산세율\t|\n",
    "|\tptratio\t|\t학생/교사 비율\t|\n",
    "|\tblack\t|\t인구 중 흑인 비율\t|\n",
    "|\tlstat\t|\t인구 중 하위 계층 비율\t|\n"
   ]
  },
  {
   "cell_type": "code",
   "execution_count": 4,
   "metadata": {
    "id": "FA-PnUpcLqXN"
   },
   "outputs": [],
   "source": [
    "target = 'medv'\n",
    "x = data.drop(target, axis=1)\n",
    "y = data.loc[:, target]"
   ]
  },
  {
   "cell_type": "markdown",
   "metadata": {
    "id": "WpJEGpUuuVWm"
   },
   "source": [
    "#### 2) 변수정리"
   ]
  },
  {
   "cell_type": "markdown",
   "metadata": {
    "id": "mp_5volyuaA1"
   },
   "source": [
    "#### 3) NA 조치"
   ]
  },
  {
   "cell_type": "code",
   "execution_count": 5,
   "metadata": {
    "id": "_UnY6rJWD0y1"
   },
   "outputs": [
    {
     "data": {
      "text/plain": [
       "crim       0\n",
       "zn         0\n",
       "indus      0\n",
       "chas       0\n",
       "nox        0\n",
       "rm         0\n",
       "age        0\n",
       "dis        0\n",
       "rad        0\n",
       "tax        0\n",
       "ptratio    0\n",
       "black      0\n",
       "lstat      0\n",
       "dtype: int64"
      ]
     },
     "execution_count": 5,
     "metadata": {},
     "output_type": "execute_result"
    }
   ],
   "source": [
    "x.isna().sum()"
   ]
  },
  {
   "cell_type": "markdown",
   "metadata": {
    "id": "nOF9fSLQugGf"
   },
   "source": [
    "#### 4) 가변수화"
   ]
  },
  {
   "cell_type": "markdown",
   "metadata": {
    "id": "OXrrORgSt1Cn"
   },
   "source": [
    "#### 5) 데이터분할"
   ]
  },
  {
   "cell_type": "code",
   "execution_count": 6,
   "metadata": {
    "id": "eDL_GFxJt4nB"
   },
   "outputs": [],
   "source": [
    "x_train, x_val, y_train, y_val = train_test_split(x, y, test_size=.2, random_state = 2022)"
   ]
  },
  {
   "cell_type": "markdown",
   "metadata": {
    "id": "MXUC5Yi3um81"
   },
   "source": [
    "#### 6) Scaling"
   ]
  },
  {
   "cell_type": "code",
   "execution_count": 7,
   "metadata": {
    "id": "9bly3GLif1eP"
   },
   "outputs": [],
   "source": [
    "scaler = MinMaxScaler()\n",
    "x_train = scaler.fit_transform(x_train)\n",
    "x_val = scaler.transform(x_val)"
   ]
  },
  {
   "cell_type": "markdown",
   "metadata": {
    "id": "BYr1vtpd8uw4"
   },
   "source": [
    "### (2) 모델링"
   ]
  },
  {
   "cell_type": "markdown",
   "metadata": {
    "id": "9xfSXhuJZvh0"
   },
   "source": [
    "#### 1) 모델 설계"
   ]
  },
  {
   "cell_type": "code",
   "execution_count": 7,
   "metadata": {
    "id": "mkeOP4DN2Y92"
   },
   "outputs": [
    {
     "data": {
      "text/plain": [
       "13"
      ]
     },
     "execution_count": 7,
     "metadata": {},
     "output_type": "execute_result"
    }
   ],
   "source": [
    "# 분석단위 구조(1차원)\n",
    "nfeatures = x_train.shape[1] #num of columns\n",
    "nfeatures"
   ]
  },
  {
   "cell_type": "code",
   "execution_count": 30,
   "metadata": {},
   "outputs": [
    {
     "data": {
      "text/plain": [
       "(13,)"
      ]
     },
     "execution_count": 30,
     "metadata": {},
     "output_type": "execute_result"
    }
   ],
   "source": [
    "# 1차원은 이렇게 표기하기로 약속\n",
    "(nfeatures,)"
   ]
  },
  {
   "cell_type": "code",
   "execution_count": 32,
   "metadata": {
    "id": "3oxyCQiW2Y93"
   },
   "outputs": [
    {
     "name": "stdout",
     "output_type": "stream",
     "text": [
      "Model: \"sequential\"\n",
      "_________________________________________________________________\n",
      " Layer (type)                Output Shape              Param #   \n",
      "=================================================================\n",
      " dense (Dense)               (None, 1)                 14        \n",
      "                                                                 \n",
      "=================================================================\n",
      "Total params: 14\n",
      "Trainable params: 14\n",
      "Non-trainable params: 0\n",
      "_________________________________________________________________\n"
     ]
    }
   ],
   "source": [
    "# 메모리 정리 : 처음부터 다시 모델링 시작.\n",
    "clear_session()\n",
    "\n",
    "# Sequential 타입 모델 선언\n",
    "model = Sequential()\n",
    "\n",
    "# Layer 정의\n",
    "layer = Dense(1, input_shape = (nfeatures,))     # 13개의 feature를 받아서 1개의 레이어를 통해 하나의 output을 출력하겠다는 뜻. \n",
    "\n",
    "# 모델에 추가\n",
    "model.add(layer)\n",
    "\n",
    "# 모델요약\n",
    "model.summary()"
   ]
  },
  {
   "cell_type": "markdown",
   "metadata": {
    "id": "xpErh2bMlDOx"
   },
   "source": [
    "#### 2) 컴파일"
   ]
  },
  {
   "cell_type": "code",
   "execution_count": 9,
   "metadata": {
    "id": "DZhoXG0a2Y94"
   },
   "outputs": [],
   "source": [
    "# 오차를 최소화하는 모델을 만들기 위해 optimize 하는 과정\n",
    "model.compile(optimizer='adam', loss='mse')"
   ]
  },
  {
   "cell_type": "markdown",
   "metadata": {
    "id": "dUnF9doAxs_0"
   },
   "source": [
    "#### 3) 학습"
   ]
  },
  {
   "cell_type": "code",
   "execution_count": 10,
   "metadata": {
    "collapsed": true,
    "id": "msaBTsb0xwX0",
    "jupyter": {
     "outputs_hidden": true
    },
    "tags": []
   },
   "outputs": [
    {
     "name": "stdout",
     "output_type": "stream",
     "text": [
      "Epoch 1/100\n",
      "11/11 [==============================] - 1s 29ms/step - loss: 602.6475 - val_loss: 571.8749\n",
      "Epoch 2/100\n",
      "11/11 [==============================] - 0s 5ms/step - loss: 599.8258 - val_loss: 569.1072\n",
      "Epoch 3/100\n",
      "11/11 [==============================] - 0s 6ms/step - loss: 597.0234 - val_loss: 566.3345\n",
      "Epoch 4/100\n",
      "11/11 [==============================] - 0s 6ms/step - loss: 594.2087 - val_loss: 563.5935\n",
      "Epoch 5/100\n",
      "11/11 [==============================] - 0s 6ms/step - loss: 591.4377 - val_loss: 560.8591\n",
      "Epoch 6/100\n",
      "11/11 [==============================] - 0s 6ms/step - loss: 588.6851 - val_loss: 558.1127\n",
      "Epoch 7/100\n",
      "11/11 [==============================] - 0s 5ms/step - loss: 585.9222 - val_loss: 555.4183\n",
      "Epoch 8/100\n",
      "11/11 [==============================] - 0s 6ms/step - loss: 583.1970 - val_loss: 552.7535\n",
      "Epoch 9/100\n",
      "11/11 [==============================] - 0s 5ms/step - loss: 580.5038 - val_loss: 550.0895\n",
      "Epoch 10/100\n",
      "11/11 [==============================] - 0s 5ms/step - loss: 577.7923 - val_loss: 547.4210\n",
      "Epoch 11/100\n",
      "11/11 [==============================] - 0s 6ms/step - loss: 575.1013 - val_loss: 544.7535\n",
      "Epoch 12/100\n",
      "11/11 [==============================] - 0s 5ms/step - loss: 572.3948 - val_loss: 542.1392\n",
      "Epoch 13/100\n",
      "11/11 [==============================] - 0s 5ms/step - loss: 569.7429 - val_loss: 539.4628\n",
      "Epoch 14/100\n",
      "11/11 [==============================] - 0s 5ms/step - loss: 567.0414 - val_loss: 536.8680\n",
      "Epoch 15/100\n",
      "11/11 [==============================] - 0s 6ms/step - loss: 564.3893 - val_loss: 534.2327\n",
      "Epoch 16/100\n",
      "11/11 [==============================] - 0s 6ms/step - loss: 561.7615 - val_loss: 531.6325\n",
      "Epoch 17/100\n",
      "11/11 [==============================] - 0s 6ms/step - loss: 559.1127 - val_loss: 529.0735\n",
      "Epoch 18/100\n",
      "11/11 [==============================] - 0s 5ms/step - loss: 556.5408 - val_loss: 526.5274\n",
      "Epoch 19/100\n",
      "11/11 [==============================] - 0s 5ms/step - loss: 553.9530 - val_loss: 524.0084\n",
      "Epoch 20/100\n",
      "11/11 [==============================] - 0s 6ms/step - loss: 551.3998 - val_loss: 521.4734\n",
      "Epoch 21/100\n",
      "11/11 [==============================] - 0s 6ms/step - loss: 548.8231 - val_loss: 518.9034\n",
      "Epoch 22/100\n",
      "11/11 [==============================] - 0s 6ms/step - loss: 546.1917 - val_loss: 516.2852\n",
      "Epoch 23/100\n",
      "11/11 [==============================] - 0s 6ms/step - loss: 543.5179 - val_loss: 513.6787\n",
      "Epoch 24/100\n",
      "11/11 [==============================] - 0s 6ms/step - loss: 540.8900 - val_loss: 511.1154\n",
      "Epoch 25/100\n",
      "11/11 [==============================] - 0s 5ms/step - loss: 538.3579 - val_loss: 508.6204\n",
      "Epoch 26/100\n",
      "11/11 [==============================] - 0s 6ms/step - loss: 535.8378 - val_loss: 506.1681\n",
      "Epoch 27/100\n",
      "11/11 [==============================] - 0s 6ms/step - loss: 533.3550 - val_loss: 503.7211\n",
      "Epoch 28/100\n",
      "11/11 [==============================] - 0s 5ms/step - loss: 530.8875 - val_loss: 501.2984\n",
      "Epoch 29/100\n",
      "11/11 [==============================] - 0s 5ms/step - loss: 528.4439 - val_loss: 498.9014\n",
      "Epoch 30/100\n",
      "11/11 [==============================] - 0s 6ms/step - loss: 525.9791 - val_loss: 496.4973\n",
      "Epoch 31/100\n",
      "11/11 [==============================] - 0s 7ms/step - loss: 523.5623 - val_loss: 494.0872\n",
      "Epoch 32/100\n",
      "11/11 [==============================] - 0s 6ms/step - loss: 521.1163 - val_loss: 491.7186\n",
      "Epoch 33/100\n",
      "11/11 [==============================] - 0s 6ms/step - loss: 518.7105 - val_loss: 489.3424\n",
      "Epoch 34/100\n",
      "11/11 [==============================] - 0s 6ms/step - loss: 516.3132 - val_loss: 486.9953\n",
      "Epoch 35/100\n",
      "11/11 [==============================] - 0s 6ms/step - loss: 513.9425 - val_loss: 484.6492\n",
      "Epoch 36/100\n",
      "11/11 [==============================] - 0s 6ms/step - loss: 511.5657 - val_loss: 482.3312\n",
      "Epoch 37/100\n",
      "11/11 [==============================] - 0s 6ms/step - loss: 509.2118 - val_loss: 480.0035\n",
      "Epoch 38/100\n",
      "11/11 [==============================] - 0s 5ms/step - loss: 506.8272 - val_loss: 477.6460\n",
      "Epoch 39/100\n",
      "11/11 [==============================] - 0s 6ms/step - loss: 504.4950 - val_loss: 475.3464\n",
      "Epoch 40/100\n",
      "11/11 [==============================] - 0s 6ms/step - loss: 502.1132 - val_loss: 473.0885\n",
      "Epoch 41/100\n",
      "11/11 [==============================] - 0s 6ms/step - loss: 499.8424 - val_loss: 470.7941\n",
      "Epoch 42/100\n",
      "11/11 [==============================] - 0s 6ms/step - loss: 497.5240 - val_loss: 468.5193\n",
      "Epoch 43/100\n",
      "11/11 [==============================] - 0s 6ms/step - loss: 495.2113 - val_loss: 466.2331\n",
      "Epoch 44/100\n",
      "11/11 [==============================] - 0s 5ms/step - loss: 492.9010 - val_loss: 463.9881\n",
      "Epoch 45/100\n",
      "11/11 [==============================] - 0s 5ms/step - loss: 490.6285 - val_loss: 461.7809\n",
      "Epoch 46/100\n",
      "11/11 [==============================] - 0s 6ms/step - loss: 488.3717 - val_loss: 459.5530\n",
      "Epoch 47/100\n",
      "11/11 [==============================] - 0s 5ms/step - loss: 486.1223 - val_loss: 457.3559\n",
      "Epoch 48/100\n",
      "11/11 [==============================] - 0s 9ms/step - loss: 483.9137 - val_loss: 455.1627\n",
      "Epoch 49/100\n",
      "11/11 [==============================] - 0s 5ms/step - loss: 481.6944 - val_loss: 452.9722\n",
      "Epoch 50/100\n",
      "11/11 [==============================] - 0s 6ms/step - loss: 479.4738 - val_loss: 450.7904\n",
      "Epoch 51/100\n",
      "11/11 [==============================] - 0s 5ms/step - loss: 477.2458 - val_loss: 448.6216\n",
      "Epoch 52/100\n",
      "11/11 [==============================] - 0s 6ms/step - loss: 475.0395 - val_loss: 446.4581\n",
      "Epoch 53/100\n",
      "11/11 [==============================] - 0s 6ms/step - loss: 472.8474 - val_loss: 444.3089\n",
      "Epoch 54/100\n",
      "11/11 [==============================] - 0s 6ms/step - loss: 470.6819 - val_loss: 442.1662\n",
      "Epoch 55/100\n",
      "11/11 [==============================] - 0s 7ms/step - loss: 468.5056 - val_loss: 440.0154\n",
      "Epoch 56/100\n",
      "11/11 [==============================] - 0s 6ms/step - loss: 466.3214 - val_loss: 437.8940\n",
      "Epoch 57/100\n",
      "11/11 [==============================] - 0s 5ms/step - loss: 464.1672 - val_loss: 435.8112\n",
      "Epoch 58/100\n",
      "11/11 [==============================] - 0s 5ms/step - loss: 462.0228 - val_loss: 433.6341\n",
      "Epoch 59/100\n",
      "11/11 [==============================] - 0s 6ms/step - loss: 459.8391 - val_loss: 431.5157\n",
      "Epoch 60/100\n",
      "11/11 [==============================] - 0s 6ms/step - loss: 457.6809 - val_loss: 429.3969\n",
      "Epoch 61/100\n",
      "11/11 [==============================] - 0s 6ms/step - loss: 455.5452 - val_loss: 427.3138\n",
      "Epoch 62/100\n",
      "11/11 [==============================] - 0s 7ms/step - loss: 453.3977 - val_loss: 425.1858\n",
      "Epoch 63/100\n",
      "11/11 [==============================] - 0s 5ms/step - loss: 451.2874 - val_loss: 423.1416\n",
      "Epoch 64/100\n",
      "11/11 [==============================] - 0s 7ms/step - loss: 449.2093 - val_loss: 421.1261\n",
      "Epoch 65/100\n",
      "11/11 [==============================] - 0s 6ms/step - loss: 447.1495 - val_loss: 419.0881\n",
      "Epoch 66/100\n",
      "11/11 [==============================] - 0s 5ms/step - loss: 445.0907 - val_loss: 417.0476\n",
      "Epoch 67/100\n",
      "11/11 [==============================] - 0s 6ms/step - loss: 443.0117 - val_loss: 415.0648\n",
      "Epoch 68/100\n",
      "11/11 [==============================] - 0s 5ms/step - loss: 440.9932 - val_loss: 413.0971\n",
      "Epoch 69/100\n",
      "11/11 [==============================] - 0s 6ms/step - loss: 439.0072 - val_loss: 411.1402\n",
      "Epoch 70/100\n",
      "11/11 [==============================] - 0s 6ms/step - loss: 437.0217 - val_loss: 409.1873\n",
      "Epoch 71/100\n",
      "11/11 [==============================] - 0s 6ms/step - loss: 435.0182 - val_loss: 407.2105\n",
      "Epoch 72/100\n",
      "11/11 [==============================] - 0s 6ms/step - loss: 433.0287 - val_loss: 405.2802\n",
      "Epoch 73/100\n",
      "11/11 [==============================] - 0s 5ms/step - loss: 431.0457 - val_loss: 403.3052\n",
      "Epoch 74/100\n",
      "11/11 [==============================] - 0s 5ms/step - loss: 429.0365 - val_loss: 401.3123\n",
      "Epoch 75/100\n",
      "11/11 [==============================] - 0s 5ms/step - loss: 427.0246 - val_loss: 399.3807\n",
      "Epoch 76/100\n",
      "11/11 [==============================] - 0s 5ms/step - loss: 425.0471 - val_loss: 397.4472\n",
      "Epoch 77/100\n",
      "11/11 [==============================] - 0s 5ms/step - loss: 423.1063 - val_loss: 395.5135\n",
      "Epoch 78/100\n",
      "11/11 [==============================] - 0s 6ms/step - loss: 421.1356 - val_loss: 393.6012\n",
      "Epoch 79/100\n",
      "11/11 [==============================] - 0s 6ms/step - loss: 419.1949 - val_loss: 391.6997\n",
      "Epoch 80/100\n",
      "11/11 [==============================] - 0s 5ms/step - loss: 417.2720 - val_loss: 389.7958\n",
      "Epoch 81/100\n",
      "11/11 [==============================] - 0s 7ms/step - loss: 415.3043 - val_loss: 387.9205\n",
      "Epoch 82/100\n",
      "11/11 [==============================] - 0s 7ms/step - loss: 413.4276 - val_loss: 386.0863\n",
      "Epoch 83/100\n",
      "11/11 [==============================] - 0s 7ms/step - loss: 411.5487 - val_loss: 384.1917\n",
      "Epoch 84/100\n",
      "11/11 [==============================] - 0s 7ms/step - loss: 409.6328 - val_loss: 382.3362\n",
      "Epoch 85/100\n",
      "11/11 [==============================] - 0s 8ms/step - loss: 407.7594 - val_loss: 380.5082\n",
      "Epoch 86/100\n",
      "11/11 [==============================] - 0s 6ms/step - loss: 405.8781 - val_loss: 378.6712\n",
      "Epoch 87/100\n",
      "11/11 [==============================] - 0s 6ms/step - loss: 404.0269 - val_loss: 376.7807\n",
      "Epoch 88/100\n",
      "11/11 [==============================] - 0s 5ms/step - loss: 402.0977 - val_loss: 374.9505\n",
      "Epoch 89/100\n",
      "11/11 [==============================] - 0s 5ms/step - loss: 400.2134 - val_loss: 373.0928\n",
      "Epoch 90/100\n",
      "11/11 [==============================] - 0s 6ms/step - loss: 398.3560 - val_loss: 371.3077\n",
      "Epoch 91/100\n",
      "11/11 [==============================] - 0s 5ms/step - loss: 396.5417 - val_loss: 369.5230\n",
      "Epoch 92/100\n",
      "11/11 [==============================] - 0s 5ms/step - loss: 394.7234 - val_loss: 367.7397\n",
      "Epoch 93/100\n",
      "11/11 [==============================] - 0s 5ms/step - loss: 392.8991 - val_loss: 365.9811\n",
      "Epoch 94/100\n",
      "11/11 [==============================] - 0s 5ms/step - loss: 391.0780 - val_loss: 364.1540\n",
      "Epoch 95/100\n",
      "11/11 [==============================] - 0s 6ms/step - loss: 389.2332 - val_loss: 362.3676\n",
      "Epoch 96/100\n",
      "11/11 [==============================] - 0s 5ms/step - loss: 387.4316 - val_loss: 360.6118\n",
      "Epoch 97/100\n",
      "11/11 [==============================] - 0s 5ms/step - loss: 385.6140 - val_loss: 358.8509\n",
      "Epoch 98/100\n",
      "11/11 [==============================] - 0s 5ms/step - loss: 383.8629 - val_loss: 357.1488\n",
      "Epoch 99/100\n",
      "11/11 [==============================] - 0s 5ms/step - loss: 382.1309 - val_loss: 355.4166\n",
      "Epoch 100/100\n",
      "11/11 [==============================] - 0s 6ms/step - loss: 380.3676 - val_loss: 353.7354\n"
     ]
    }
   ],
   "source": [
    "history = model.fit(x_train, y_train, epochs = 100, validation_split=0.2).history"
   ]
  },
  {
   "cell_type": "code",
   "execution_count": 33,
   "metadata": {
    "collapsed": true,
    "jupyter": {
     "outputs_hidden": true
    },
    "tags": []
   },
   "outputs": [
    {
     "data": {
      "text/plain": [
       "{'loss': [602.6474609375,\n",
       "  599.8258056640625,\n",
       "  597.0234375,\n",
       "  594.2086791992188,\n",
       "  591.4376831054688,\n",
       "  588.68505859375,\n",
       "  585.9222412109375,\n",
       "  583.1969604492188,\n",
       "  580.5038452148438,\n",
       "  577.7922973632812,\n",
       "  575.1012573242188,\n",
       "  572.394775390625,\n",
       "  569.742919921875,\n",
       "  567.0413818359375,\n",
       "  564.3893432617188,\n",
       "  561.7615356445312,\n",
       "  559.1127319335938,\n",
       "  556.5408325195312,\n",
       "  553.9530029296875,\n",
       "  551.3998413085938,\n",
       "  548.8231201171875,\n",
       "  546.1917114257812,\n",
       "  543.5178833007812,\n",
       "  540.8900146484375,\n",
       "  538.35791015625,\n",
       "  535.8378295898438,\n",
       "  533.3550415039062,\n",
       "  530.8875122070312,\n",
       "  528.4439086914062,\n",
       "  525.9790649414062,\n",
       "  523.562255859375,\n",
       "  521.1163330078125,\n",
       "  518.7105102539062,\n",
       "  516.3131713867188,\n",
       "  513.9425048828125,\n",
       "  511.5657043457031,\n",
       "  509.2117919921875,\n",
       "  506.8272399902344,\n",
       "  504.4950256347656,\n",
       "  502.1131896972656,\n",
       "  499.8424072265625,\n",
       "  497.5239562988281,\n",
       "  495.2113342285156,\n",
       "  492.9009704589844,\n",
       "  490.62847900390625,\n",
       "  488.3717041015625,\n",
       "  486.1222839355469,\n",
       "  483.9136962890625,\n",
       "  481.6944274902344,\n",
       "  479.47381591796875,\n",
       "  477.2457580566406,\n",
       "  475.0394592285156,\n",
       "  472.8473815917969,\n",
       "  470.68194580078125,\n",
       "  468.5056457519531,\n",
       "  466.3214111328125,\n",
       "  464.16717529296875,\n",
       "  462.0227966308594,\n",
       "  459.83905029296875,\n",
       "  457.6808776855469,\n",
       "  455.54522705078125,\n",
       "  453.3977355957031,\n",
       "  451.2873840332031,\n",
       "  449.2093200683594,\n",
       "  447.1495361328125,\n",
       "  445.0906982421875,\n",
       "  443.01171875,\n",
       "  440.99322509765625,\n",
       "  439.0071716308594,\n",
       "  437.02166748046875,\n",
       "  435.0181884765625,\n",
       "  433.0286865234375,\n",
       "  431.04571533203125,\n",
       "  429.0364685058594,\n",
       "  427.0246276855469,\n",
       "  425.04705810546875,\n",
       "  423.1063232421875,\n",
       "  421.1355895996094,\n",
       "  419.1949462890625,\n",
       "  417.2720031738281,\n",
       "  415.3043212890625,\n",
       "  413.4275817871094,\n",
       "  411.5487060546875,\n",
       "  409.6328430175781,\n",
       "  407.7594299316406,\n",
       "  405.8781433105469,\n",
       "  404.02691650390625,\n",
       "  402.0977478027344,\n",
       "  400.21343994140625,\n",
       "  398.35601806640625,\n",
       "  396.54168701171875,\n",
       "  394.723388671875,\n",
       "  392.8991394042969,\n",
       "  391.0780334472656,\n",
       "  389.2331848144531,\n",
       "  387.43157958984375,\n",
       "  385.6140441894531,\n",
       "  383.8629455566406,\n",
       "  382.130859375,\n",
       "  380.3675842285156],\n",
       " 'val_loss': [571.8748779296875,\n",
       "  569.107177734375,\n",
       "  566.33447265625,\n",
       "  563.593505859375,\n",
       "  560.8590698242188,\n",
       "  558.1127319335938,\n",
       "  555.4182739257812,\n",
       "  552.7535400390625,\n",
       "  550.0894775390625,\n",
       "  547.4209594726562,\n",
       "  544.7535400390625,\n",
       "  542.13916015625,\n",
       "  539.4627685546875,\n",
       "  536.8679809570312,\n",
       "  534.2327270507812,\n",
       "  531.6325073242188,\n",
       "  529.0735473632812,\n",
       "  526.5274047851562,\n",
       "  524.0083618164062,\n",
       "  521.4734497070312,\n",
       "  518.9033813476562,\n",
       "  516.2852172851562,\n",
       "  513.6787109375,\n",
       "  511.1154479980469,\n",
       "  508.620361328125,\n",
       "  506.1680603027344,\n",
       "  503.7210693359375,\n",
       "  501.2983703613281,\n",
       "  498.90142822265625,\n",
       "  496.4973449707031,\n",
       "  494.0871887207031,\n",
       "  491.71856689453125,\n",
       "  489.3424377441406,\n",
       "  486.9953308105469,\n",
       "  484.649169921875,\n",
       "  482.3312072753906,\n",
       "  480.0035095214844,\n",
       "  477.6460266113281,\n",
       "  475.346435546875,\n",
       "  473.0885314941406,\n",
       "  470.79412841796875,\n",
       "  468.51934814453125,\n",
       "  466.2330627441406,\n",
       "  463.9881286621094,\n",
       "  461.7808532714844,\n",
       "  459.55303955078125,\n",
       "  457.35589599609375,\n",
       "  455.16265869140625,\n",
       "  452.97216796875,\n",
       "  450.7904052734375,\n",
       "  448.62158203125,\n",
       "  446.4581298828125,\n",
       "  444.3088684082031,\n",
       "  442.1662292480469,\n",
       "  440.01544189453125,\n",
       "  437.89404296875,\n",
       "  435.8112487792969,\n",
       "  433.6340637207031,\n",
       "  431.5157165527344,\n",
       "  429.3968505859375,\n",
       "  427.3137512207031,\n",
       "  425.1857604980469,\n",
       "  423.1416015625,\n",
       "  421.1260681152344,\n",
       "  419.0881042480469,\n",
       "  417.047607421875,\n",
       "  415.06475830078125,\n",
       "  413.0971374511719,\n",
       "  411.14019775390625,\n",
       "  409.1873474121094,\n",
       "  407.21051025390625,\n",
       "  405.2801818847656,\n",
       "  403.30517578125,\n",
       "  401.31231689453125,\n",
       "  399.38067626953125,\n",
       "  397.4472351074219,\n",
       "  395.51348876953125,\n",
       "  393.6012268066406,\n",
       "  391.6997375488281,\n",
       "  389.7957763671875,\n",
       "  387.9205322265625,\n",
       "  386.0862731933594,\n",
       "  384.1916809082031,\n",
       "  382.3362121582031,\n",
       "  380.5082092285156,\n",
       "  378.6711730957031,\n",
       "  376.7807312011719,\n",
       "  374.95050048828125,\n",
       "  373.0927734375,\n",
       "  371.30767822265625,\n",
       "  369.5230407714844,\n",
       "  367.7397155761719,\n",
       "  365.98114013671875,\n",
       "  364.1540222167969,\n",
       "  362.3675537109375,\n",
       "  360.6118469238281,\n",
       "  358.8508605957031,\n",
       "  357.1488342285156,\n",
       "  355.41656494140625,\n",
       "  353.7353820800781]}"
      ]
     },
     "execution_count": 33,
     "metadata": {},
     "output_type": "execute_result"
    }
   ],
   "source": [
    "history"
   ]
  },
  {
   "cell_type": "markdown",
   "metadata": {
    "id": "lpNhMHyOxytK"
   },
   "source": [
    "#### 4) 학습그래프"
   ]
  },
  {
   "cell_type": "code",
   "execution_count": 11,
   "metadata": {
    "id": "uL9cw8Dh2Y94"
   },
   "outputs": [
    {
     "data": {
      "image/png": "[encoded data removed]",
      "text/plain": [
       "<Figure size 432x288 with 1 Axes>"
      ]
     },
     "metadata": {
      "needs_background": "light"
     },
     "output_type": "display_data"
    }
   ],
   "source": [
    "plt.plot(history['loss'], label='train_err')\n",
    "plt.plot(history['val_loss'], label='val_err')\n",
    "\n",
    "plt.ylabel('Loss')\n",
    "plt.xlabel('Epoch')\n",
    "plt.legend()\n",
    "plt.grid()\n",
    "plt.show()"
   ]
  },
  {
   "cell_type": "markdown",
   "metadata": {
    "id": "9Psj4F_d8uxA"
   },
   "source": [
    "#### 5) 검증 및 평가\n",
    "만든 모델은 얼마나 정확한지 검증해 봅시다.\n",
    "\n"
   ]
  },
  {
   "cell_type": "code",
   "execution_count": 12,
   "metadata": {
    "id": "ATRGnYZQ0kzB"
   },
   "outputs": [
    {
     "name": "stdout",
     "output_type": "stream",
     "text": [
      "4/4 [==============================] - 0s 2ms/step\n",
      "MSE  : 271.367544992895\n",
      "RMSE : 16.473237234766426\n",
      "MAE  : 13.807651573068954\n"
     ]
    }
   ],
   "source": [
    "pred = model.predict(x_val)\n",
    "\n",
    "print(f'MSE  : {mean_squared_error(y_val, pred)}')\n",
    "print(f'RMSE : {mean_squared_error(y_val, pred, squared=False)}')   #MSE에 root를 씌우라는 구문입니다.\n",
    "print(f'MAE  : {mean_absolute_error(y_val, pred)}')"
   ]
  },
  {
   "cell_type": "markdown",
   "metadata": {
    "id": "z3CApq3ecYvq"
   },
   "source": [
    "## 2.(실습) Car Seat Sales"
   ]
  },
  {
   "cell_type": "markdown",
   "metadata": {
    "id": "-N_y_wtxcYvv"
   },
   "source": [
    "### (1) 데이터 전처리"
   ]
  },
  {
   "cell_type": "markdown",
   "metadata": {
    "id": "dp279ZAVcYvv"
   },
   "source": [
    "#### 1) 데이터 준비"
   ]
  },
  {
   "cell_type": "code",
   "execution_count": 13,
   "metadata": {
    "id": "wbN2b33xcYvv"
   },
   "outputs": [
    {
     "data": {
      "text/html": [
       "<div>\n",
       "<style scoped>\n",
       "    .dataframe tbody tr th:only-of-type {\n",
       "        vertical-align: middle;\n",
       "    }\n",
       "\n",
       "    .dataframe tbody tr th {\n",
       "        vertical-align: top;\n",
       "    }\n",
       "\n",
       "    .dataframe thead th {\n",
       "        text-align: right;\n",
       "    }\n",
       "</style>\n",
       "<table border=\"1\" class=\"dataframe\">\n",
       "  <thead>\n",
       "    <tr style=\"text-align: right;\">\n",
       "      <th></th>\n",
       "      <th>Sales</th>\n",
       "      <th>CompPrice</th>\n",
       "      <th>Income</th>\n",
       "      <th>Advertising</th>\n",
       "      <th>Population</th>\n",
       "      <th>Price</th>\n",
       "      <th>ShelveLoc</th>\n",
       "      <th>Age</th>\n",
       "      <th>Education</th>\n",
       "      <th>Urban</th>\n",
       "      <th>US</th>\n",
       "    </tr>\n",
       "  </thead>\n",
       "  <tbody>\n",
       "    <tr>\n",
       "      <th>0</th>\n",
       "      <td>9.50</td>\n",
       "      <td>138</td>\n",
       "      <td>73</td>\n",
       "      <td>11</td>\n",
       "      <td>276</td>\n",
       "      <td>120</td>\n",
       "      <td>Bad</td>\n",
       "      <td>42</td>\n",
       "      <td>17</td>\n",
       "      <td>Yes</td>\n",
       "      <td>Yes</td>\n",
       "    </tr>\n",
       "    <tr>\n",
       "      <th>1</th>\n",
       "      <td>11.22</td>\n",
       "      <td>111</td>\n",
       "      <td>48</td>\n",
       "      <td>16</td>\n",
       "      <td>260</td>\n",
       "      <td>83</td>\n",
       "      <td>Good</td>\n",
       "      <td>65</td>\n",
       "      <td>10</td>\n",
       "      <td>Yes</td>\n",
       "      <td>Yes</td>\n",
       "    </tr>\n",
       "    <tr>\n",
       "      <th>2</th>\n",
       "      <td>10.06</td>\n",
       "      <td>113</td>\n",
       "      <td>35</td>\n",
       "      <td>10</td>\n",
       "      <td>269</td>\n",
       "      <td>80</td>\n",
       "      <td>Medium</td>\n",
       "      <td>59</td>\n",
       "      <td>12</td>\n",
       "      <td>Yes</td>\n",
       "      <td>Yes</td>\n",
       "    </tr>\n",
       "    <tr>\n",
       "      <th>3</th>\n",
       "      <td>7.40</td>\n",
       "      <td>117</td>\n",
       "      <td>100</td>\n",
       "      <td>4</td>\n",
       "      <td>466</td>\n",
       "      <td>97</td>\n",
       "      <td>Medium</td>\n",
       "      <td>55</td>\n",
       "      <td>14</td>\n",
       "      <td>Yes</td>\n",
       "      <td>Yes</td>\n",
       "    </tr>\n",
       "    <tr>\n",
       "      <th>4</th>\n",
       "      <td>4.15</td>\n",
       "      <td>141</td>\n",
       "      <td>64</td>\n",
       "      <td>3</td>\n",
       "      <td>340</td>\n",
       "      <td>128</td>\n",
       "      <td>Bad</td>\n",
       "      <td>38</td>\n",
       "      <td>13</td>\n",
       "      <td>Yes</td>\n",
       "      <td>No</td>\n",
       "    </tr>\n",
       "  </tbody>\n",
       "</table>\n",
       "</div>"
      ],
      "text/plain": [
       "   Sales  CompPrice  Income  Advertising  Population  Price ShelveLoc  Age  \\\n",
       "0   9.50        138      73           11         276    120       Bad   42   \n",
       "1  11.22        111      48           16         260     83      Good   65   \n",
       "2  10.06        113      35           10         269     80    Medium   59   \n",
       "3   7.40        117     100            4         466     97    Medium   55   \n",
       "4   4.15        141      64            3         340    128       Bad   38   \n",
       "\n",
       "   Education Urban   US  \n",
       "0         17   Yes  Yes  \n",
       "1         10   Yes  Yes  \n",
       "2         12   Yes  Yes  \n",
       "3         14   Yes  Yes  \n",
       "4         13   Yes   No  "
      ]
     },
     "execution_count": 13,
     "metadata": {},
     "output_type": "execute_result"
    }
   ],
   "source": [
    "path = 'https://raw.githubusercontent.com/DA4BAM/dataset/master/Carseats.csv'\n",
    "data = pd.read_csv(path)\n",
    "data.head()"
   ]
  },
  {
   "cell_type": "markdown",
   "metadata": {
    "id": "zYKHwYHatC4k"
   },
   "source": [
    "|\t변수명\t|\t설명\t|\t구분\t|\n",
    "|\t----\t|\t----\t|\t----\t|\n",
    "|\tSales \t|\t 각 지역 판매액(단위 : 1000달러)\t|\tTarget\t|\n",
    "|\tCompPrice \t|\t지역별 경쟁사 판매가격(달러)\t|\tfeature\t|\n",
    "|\tIncome \t|\t가구당 평균 소득액(1000달러)\t|\tfeature\t|\n",
    "|\tAdvertising \t|\t 각 지역, 회사의 광고 예산(1000달러)\t|\tfeature\t|\n",
    "|\tPopulation \t|\t 지역 인구수(단위 : 1000명)\t|\tfeature\t|\n",
    "|\tPrice \t|\t 자사 지역별 판매가격(달러)\t|\tfeature\t|\n",
    "|\tShelveLoc \t|\t 진열상태(범주 : Bad, Medium, Good)\t|\tfeature\t|\n",
    "|\tAge \t|\t 지역 인구의 평균 연령\t|\tfeature\t|\n",
    "|\tEducation \t|\t 교육수준(범주 : 10~18)\t|\tfeature\t|\n",
    "|\tUrban \t|\t 매장이 도심에 있는지 여부(범주 : Yes, No)\t|\tfeature\t|\n",
    "|\tUS \t|\t 매장이 미국에 있는지 여부(범주 : Yes, No)\t|\tfeature\t|\n"
   ]
  },
  {
   "cell_type": "code",
   "execution_count": 14,
   "metadata": {
    "id": "nIqNS4utcYvw"
   },
   "outputs": [],
   "source": [
    "target = 'Sales'\n",
    "x = data.drop(target, axis=1)\n",
    "y = data.loc[:, target]"
   ]
  },
  {
   "cell_type": "markdown",
   "metadata": {
    "id": "E_FIxoSpmDj5"
   },
   "source": [
    "#### 2) 변수정리"
   ]
  },
  {
   "cell_type": "markdown",
   "metadata": {
    "id": "pGCtTdz5mDj5"
   },
   "source": [
    "#### 3) NA 조치"
   ]
  },
  {
   "cell_type": "code",
   "execution_count": 15,
   "metadata": {
    "id": "lsT8CDalmDj6"
   },
   "outputs": [
    {
     "data": {
      "text/plain": [
       "CompPrice      0\n",
       "Income         0\n",
       "Advertising    0\n",
       "Population     0\n",
       "Price          0\n",
       "ShelveLoc      0\n",
       "Age            0\n",
       "Education      0\n",
       "Urban          0\n",
       "US             0\n",
       "dtype: int64"
      ]
     },
     "execution_count": 15,
     "metadata": {},
     "output_type": "execute_result"
    }
   ],
   "source": [
    "x.isna().sum()"
   ]
  },
  {
   "cell_type": "markdown",
   "metadata": {
    "id": "Caf9vsxemDj6"
   },
   "source": [
    "#### 4) 가변수화"
   ]
  },
  {
   "cell_type": "code",
   "execution_count": 16,
   "metadata": {
    "id": "8ZcBHLh7Rmcy"
   },
   "outputs": [],
   "source": [
    "cat_cols = ['ShelveLoc', 'Education', 'US', 'Urban']\n",
    "x = pd.get_dummies(x, columns = cat_cols, drop_first = True)"
   ]
  },
  {
   "cell_type": "markdown",
   "metadata": {
    "id": "k3amXi18t8bT"
   },
   "source": [
    "#### 5) 데이터분할"
   ]
  },
  {
   "cell_type": "code",
   "execution_count": 17,
   "metadata": {
    "id": "cpFuBf0Dt8bT"
   },
   "outputs": [],
   "source": [
    "x_train, x_val, y_train, y_val = train_test_split(x, y, test_size=.2, random_state = 2022)"
   ]
  },
  {
   "cell_type": "markdown",
   "metadata": {
    "id": "aChPd8WSt8bT"
   },
   "source": [
    "#### 6) Scaling"
   ]
  },
  {
   "cell_type": "code",
   "execution_count": 18,
   "metadata": {
    "id": "1_QHv-Etua_Z"
   },
   "outputs": [],
   "source": [
    "scaler = MinMaxScaler()\n",
    "x_train = scaler.fit_transform(x_train)\n",
    "x_val = scaler.transform(x_val)"
   ]
  },
  {
   "cell_type": "markdown",
   "metadata": {
    "id": "iCTwulQHyHyc"
   },
   "source": [
    "### (2) 모델링"
   ]
  },
  {
   "cell_type": "code",
   "execution_count": 19,
   "metadata": {
    "id": "xzbYqy3hoS8Y"
   },
   "outputs": [],
   "source": [
    "# 함수들 불러오기\n"
   ]
  },
  {
   "cell_type": "markdown",
   "metadata": {
    "id": "EyUA5yIRyHyc"
   },
   "source": [
    "#### 1) 모델 설계"
   ]
  },
  {
   "cell_type": "code",
   "execution_count": 20,
   "metadata": {
    "id": "9ZacizWtyHyc"
   },
   "outputs": [],
   "source": [
    "# 분석단위 구조\n"
   ]
  },
  {
   "cell_type": "code",
   "execution_count": 21,
   "metadata": {
    "id": "uGDCCCYVyHyd"
   },
   "outputs": [],
   "source": [
    "# 메모리 정리\n",
    "\n",
    "\n",
    "# Sequential 타입 모델 선언\n",
    "\n",
    "\n",
    "# Layer 정의\n",
    "\n",
    "\n",
    "# 모델에 추가\n",
    "\n",
    "\n",
    "# 모델요약\n"
   ]
  },
  {
   "cell_type": "markdown",
   "metadata": {
    "id": "zw0rPtrOyHyd"
   },
   "source": [
    "#### 2) 컴파일"
   ]
  },
  {
   "cell_type": "code",
   "execution_count": null,
   "metadata": {
    "id": "ObB4YqpyyHyd"
   },
   "outputs": [],
   "source": []
  },
  {
   "cell_type": "markdown",
   "metadata": {
    "id": "pLo15bIFyHye"
   },
   "source": [
    "#### 3) 학습"
   ]
  },
  {
   "cell_type": "code",
   "execution_count": null,
   "metadata": {
    "id": "YCXowiYeyHye"
   },
   "outputs": [],
   "source": []
  },
  {
   "cell_type": "markdown",
   "metadata": {
    "id": "lqOJ7pIEyHye"
   },
   "source": [
    "#### 4) 학습그래프"
   ]
  },
  {
   "cell_type": "code",
   "execution_count": 22,
   "metadata": {
    "id": "z8ZYjjV9yHye"
   },
   "outputs": [
    {
     "data": {
      "image/png": "[encoded data removed]",
      "text/plain": [
       "<Figure size 432x288 with 1 Axes>"
      ]
     },
     "metadata": {
      "needs_background": "light"
     },
     "output_type": "display_data"
    }
   ],
   "source": [
    "plt.plot(history['loss'], label='train_err')\n",
    "plt.plot(history['val_loss'], label='val_err')\n",
    "\n",
    "plt.ylabel('Loss')\n",
    "plt.xlabel('Epoch')\n",
    "plt.legend()\n",
    "plt.grid()\n",
    "plt.show()"
   ]
  },
  {
   "cell_type": "markdown",
   "metadata": {
    "id": "qgVtBrJeyHyf"
   },
   "source": [
    "#### 5) 검증 및 평가\n",
    "만든 모델은 얼마나 정확한지 검증해 봅시다.\n",
    "\n"
   ]
  },
  {
   "cell_type": "code",
   "execution_count": 34,
   "metadata": {
    "collapsed": true,
    "id": "opEeUqnAyHyf",
    "jupyter": {
     "outputs_hidden": true
    },
    "tags": []
   },
   "outputs": [
    {
     "ename": "ValueError",
     "evalue": "in user code:\n\n    File \"C:\\Users\\User\\anaconda3\\lib\\site-packages\\keras\\engine\\training.py\", line 2041, in predict_function  *\n        return step_function(self, iterator)\n    File \"C:\\Users\\User\\anaconda3\\lib\\site-packages\\keras\\engine\\training.py\", line 2027, in step_function  **\n        outputs = model.distribute_strategy.run(run_step, args=(data,))\n    File \"C:\\Users\\User\\anaconda3\\lib\\site-packages\\keras\\engine\\training.py\", line 2015, in run_step  **\n        outputs = model.predict_step(data)\n    File \"C:\\Users\\User\\anaconda3\\lib\\site-packages\\keras\\engine\\training.py\", line 1983, in predict_step\n        return self(x, training=False)\n    File \"C:\\Users\\User\\anaconda3\\lib\\site-packages\\keras\\utils\\traceback_utils.py\", line 70, in error_handler\n        raise e.with_traceback(filtered_tb) from None\n    File \"C:\\Users\\User\\anaconda3\\lib\\site-packages\\keras\\engine\\input_spec.py\", line 295, in assert_input_compatibility\n        raise ValueError(\n\n    ValueError: Input 0 of layer \"sequential\" is incompatible with the layer: expected shape=(None, 13), found shape=(None, 18)\n",
     "output_type": "error",
     "traceback": [
      "\u001b[1;31m---------------------------------------------------------------------------\u001b[0m",
      "\u001b[1;31mValueError\u001b[0m                                Traceback (most recent call last)",
      "\u001b[1;32m<ipython-input-34-0d945c1b9ac1>\u001b[0m in \u001b[0;36m<module>\u001b[1;34m\u001b[0m\n\u001b[1;32m----> 1\u001b[1;33m \u001b[0mpred\u001b[0m \u001b[1;33m=\u001b[0m \u001b[0mmodel\u001b[0m\u001b[1;33m.\u001b[0m\u001b[0mpredict\u001b[0m\u001b[1;33m(\u001b[0m\u001b[0mx_val\u001b[0m\u001b[1;33m)\u001b[0m\u001b[1;33m\u001b[0m\u001b[1;33m\u001b[0m\u001b[0m\n\u001b[0m\u001b[0;32m      2\u001b[0m \u001b[1;33m\u001b[0m\u001b[0m\n\u001b[0;32m      3\u001b[0m \u001b[0mprint\u001b[0m\u001b[1;33m(\u001b[0m\u001b[1;34mf'MSE  : {mean_squared_error(y_val, pred)}'\u001b[0m\u001b[1;33m)\u001b[0m\u001b[1;33m\u001b[0m\u001b[1;33m\u001b[0m\u001b[0m\n\u001b[0;32m      4\u001b[0m \u001b[0mprint\u001b[0m\u001b[1;33m(\u001b[0m\u001b[1;34mf'RMSE : {mean_squared_error(y_val, pred, squared=False)}'\u001b[0m\u001b[1;33m)\u001b[0m\u001b[1;33m\u001b[0m\u001b[1;33m\u001b[0m\u001b[0m\n\u001b[0;32m      5\u001b[0m \u001b[0mprint\u001b[0m\u001b[1;33m(\u001b[0m\u001b[1;34mf'MAE  : {mean_absolute_error(y_val, pred)}'\u001b[0m\u001b[1;33m)\u001b[0m\u001b[1;33m\u001b[0m\u001b[1;33m\u001b[0m\u001b[0m\n",
      "\u001b[1;32m~\\anaconda3\\lib\\site-packages\\keras\\utils\\traceback_utils.py\u001b[0m in \u001b[0;36merror_handler\u001b[1;34m(*args, **kwargs)\u001b[0m\n\u001b[0;32m     68\u001b[0m             \u001b[1;31m# To get the full stack trace, call:\u001b[0m\u001b[1;33m\u001b[0m\u001b[1;33m\u001b[0m\u001b[1;33m\u001b[0m\u001b[0m\n\u001b[0;32m     69\u001b[0m             \u001b[1;31m# `tf.debugging.disable_traceback_filtering()`\u001b[0m\u001b[1;33m\u001b[0m\u001b[1;33m\u001b[0m\u001b[1;33m\u001b[0m\u001b[0m\n\u001b[1;32m---> 70\u001b[1;33m             \u001b[1;32mraise\u001b[0m \u001b[0me\u001b[0m\u001b[1;33m.\u001b[0m\u001b[0mwith_traceback\u001b[0m\u001b[1;33m(\u001b[0m\u001b[0mfiltered_tb\u001b[0m\u001b[1;33m)\u001b[0m \u001b[1;32mfrom\u001b[0m \u001b[1;32mNone\u001b[0m\u001b[1;33m\u001b[0m\u001b[1;33m\u001b[0m\u001b[0m\n\u001b[0m\u001b[0;32m     71\u001b[0m         \u001b[1;32mfinally\u001b[0m\u001b[1;33m:\u001b[0m\u001b[1;33m\u001b[0m\u001b[1;33m\u001b[0m\u001b[0m\n\u001b[0;32m     72\u001b[0m             \u001b[1;32mdel\u001b[0m \u001b[0mfiltered_tb\u001b[0m\u001b[1;33m\u001b[0m\u001b[1;33m\u001b[0m\u001b[0m\n",
      "\u001b[1;32m~\\anaconda3\\lib\\site-packages\\keras\\engine\\training.py\u001b[0m in \u001b[0;36mtf__predict_function\u001b[1;34m(iterator)\u001b[0m\n\u001b[0;32m     13\u001b[0m                 \u001b[1;32mtry\u001b[0m\u001b[1;33m:\u001b[0m\u001b[1;33m\u001b[0m\u001b[1;33m\u001b[0m\u001b[0m\n\u001b[0;32m     14\u001b[0m                     \u001b[0mdo_return\u001b[0m \u001b[1;33m=\u001b[0m \u001b[1;32mTrue\u001b[0m\u001b[1;33m\u001b[0m\u001b[1;33m\u001b[0m\u001b[0m\n\u001b[1;32m---> 15\u001b[1;33m                     \u001b[0mretval_\u001b[0m \u001b[1;33m=\u001b[0m \u001b[0mag__\u001b[0m\u001b[1;33m.\u001b[0m\u001b[0mconverted_call\u001b[0m\u001b[1;33m(\u001b[0m\u001b[0mag__\u001b[0m\u001b[1;33m.\u001b[0m\u001b[0mld\u001b[0m\u001b[1;33m(\u001b[0m\u001b[0mstep_function\u001b[0m\u001b[1;33m)\u001b[0m\u001b[1;33m,\u001b[0m \u001b[1;33m(\u001b[0m\u001b[0mag__\u001b[0m\u001b[1;33m.\u001b[0m\u001b[0mld\u001b[0m\u001b[1;33m(\u001b[0m\u001b[0mself\u001b[0m\u001b[1;33m)\u001b[0m\u001b[1;33m,\u001b[0m \u001b[0mag__\u001b[0m\u001b[1;33m.\u001b[0m\u001b[0mld\u001b[0m\u001b[1;33m(\u001b[0m\u001b[0miterator\u001b[0m\u001b[1;33m)\u001b[0m\u001b[1;33m)\u001b[0m\u001b[1;33m,\u001b[0m \u001b[1;32mNone\u001b[0m\u001b[1;33m,\u001b[0m \u001b[0mfscope\u001b[0m\u001b[1;33m)\u001b[0m\u001b[1;33m\u001b[0m\u001b[1;33m\u001b[0m\u001b[0m\n\u001b[0m\u001b[0;32m     16\u001b[0m                 \u001b[1;32mexcept\u001b[0m\u001b[1;33m:\u001b[0m\u001b[1;33m\u001b[0m\u001b[1;33m\u001b[0m\u001b[0m\n\u001b[0;32m     17\u001b[0m                     \u001b[0mdo_return\u001b[0m \u001b[1;33m=\u001b[0m \u001b[1;32mFalse\u001b[0m\u001b[1;33m\u001b[0m\u001b[1;33m\u001b[0m\u001b[0m\n",
      "\u001b[1;31mValueError\u001b[0m: in user code:\n\n    File \"C:\\Users\\User\\anaconda3\\lib\\site-packages\\keras\\engine\\training.py\", line 2041, in predict_function  *\n        return step_function(self, iterator)\n    File \"C:\\Users\\User\\anaconda3\\lib\\site-packages\\keras\\engine\\training.py\", line 2027, in step_function  **\n        outputs = model.distribute_strategy.run(run_step, args=(data,))\n    File \"C:\\Users\\User\\anaconda3\\lib\\site-packages\\keras\\engine\\training.py\", line 2015, in run_step  **\n        outputs = model.predict_step(data)\n    File \"C:\\Users\\User\\anaconda3\\lib\\site-packages\\keras\\engine\\training.py\", line 1983, in predict_step\n        return self(x, training=False)\n    File \"C:\\Users\\User\\anaconda3\\lib\\site-packages\\keras\\utils\\traceback_utils.py\", line 70, in error_handler\n        raise e.with_traceback(filtered_tb) from None\n    File \"C:\\Users\\User\\anaconda3\\lib\\site-packages\\keras\\engine\\input_spec.py\", line 295, in assert_input_compatibility\n        raise ValueError(\n\n    ValueError: Input 0 of layer \"sequential\" is incompatible with the layer: expected shape=(None, 13), found shape=(None, 18)\n"
     ]
    }
   ],
   "source": [
    "pred = model.predict(x_val)\n",
    "\n",
    "print(f'MSE  : {mean_squared_error(y_val, pred)}')\n",
    "print(f'RMSE : {mean_squared_error(y_val, pred, squared=False)}')\n",
    "print(f'MAE  : {mean_absolute_error(y_val, pred)}')"
   ]
  },
  {
   "cell_type": "markdown",
   "metadata": {
    "id": "NFFibPe3q5Yc"
   },
   "source": [
    "## 3.(실습) Advertising"
   ]
  },
  {
   "cell_type": "markdown",
   "metadata": {
    "id": "UutSa95wq5Yu"
   },
   "source": [
    "### (1) 데이터 전처리"
   ]
  },
  {
   "cell_type": "markdown",
   "metadata": {
    "id": "Dw4vIsITq5Yu"
   },
   "source": [
    "#### 1) 데이터 준비"
   ]
  },
  {
   "cell_type": "code",
   "execution_count": 38,
   "metadata": {
    "id": "YJEIUs-Hq5Yv"
   },
   "outputs": [
    {
     "name": "stdout",
     "output_type": "stream",
     "text": [
      "<class 'pandas.core.frame.DataFrame'>\n",
      "RangeIndex: 200 entries, 0 to 199\n",
      "Data columns (total 4 columns):\n",
      " #   Column     Non-Null Count  Dtype  \n",
      "---  ------     --------------  -----  \n",
      " 0   TV         200 non-null    float64\n",
      " 1   Radio      200 non-null    float64\n",
      " 2   Newspaper  200 non-null    float64\n",
      " 3   Sales      200 non-null    float64\n",
      "dtypes: float64(4)\n",
      "memory usage: 6.4 KB\n"
     ]
    }
   ],
   "source": [
    "path = 'https://raw.githubusercontent.com/DA4BAM/dataset/master/advertising.csv'\n",
    "data = pd.read_csv(path)\n",
    "data.info()"
   ]
  },
  {
   "cell_type": "code",
   "execution_count": 36,
   "metadata": {
    "id": "UdoKtQPRq5Yw"
   },
   "outputs": [],
   "source": [
    "target = 'Sales'\n",
    "x = data.drop(target, axis=1)\n",
    "y = data.loc[:, target]"
   ]
  },
  {
   "cell_type": "markdown",
   "metadata": {
    "id": "oElS1frfq5Yw"
   },
   "source": [
    "#### 2) 변수정리"
   ]
  },
  {
   "cell_type": "markdown",
   "metadata": {
    "id": "sps73FL7q5Yx"
   },
   "source": [
    "#### 3) NA 조치"
   ]
  },
  {
   "cell_type": "markdown",
   "metadata": {
    "id": "cXBxfL3jq5Yx"
   },
   "source": [
    "#### 4) 가변수화"
   ]
  },
  {
   "cell_type": "markdown",
   "metadata": {
    "id": "BDBXNfVpq5Yy"
   },
   "source": [
    "#### 5) 데이터분할"
   ]
  },
  {
   "cell_type": "code",
   "execution_count": null,
   "metadata": {
    "id": "CVLJ-Rfqq5Yz"
   },
   "outputs": [],
   "source": [
    "x_train, x_val, y_train, y_val = train_test_split(x, y, test_size=.2, random_state = 2022)"
   ]
  },
  {
   "cell_type": "markdown",
   "metadata": {
    "id": "wrkZXyIzq5Yz"
   },
   "source": [
    "#### 6) Scaling"
   ]
  },
  {
   "cell_type": "code",
   "execution_count": null,
   "metadata": {
    "id": "f3s0CJpTq5Yz"
   },
   "outputs": [],
   "source": [
    "scaler = MinMaxScaler()\n",
    "x_train = scaler.fit_transform(x_train)\n",
    "x_val = scaler.transform(x_val)"
   ]
  },
  {
   "cell_type": "markdown",
   "metadata": {
    "id": "c4TYcmo_yctk"
   },
   "source": [
    "### (2) 모델링"
   ]
  },
  {
   "cell_type": "code",
   "execution_count": 37,
   "metadata": {
    "id": "BqRuTNsRoXAU"
   },
   "outputs": [],
   "source": [
    "# 함수들 불러오기\n",
    "from keras.models import Sequential\n",
    "from keras.layers import Dense\n",
    "from keras.backend import clear_session"
   ]
  },
  {
   "cell_type": "markdown",
   "metadata": {
    "id": "4G644lbRyctk"
   },
   "source": [
    "#### 1) 모델 설계"
   ]
  },
  {
   "cell_type": "code",
   "execution_count": 40,
   "metadata": {
    "id": "KQR_BSFUyctk"
   },
   "outputs": [
    {
     "data": {
      "text/plain": [
       "18"
      ]
     },
     "execution_count": 40,
     "metadata": {},
     "output_type": "execute_result"
    }
   ],
   "source": [
    "# 분석단위 구조\n",
    "nfeatures = x_train.shape[1]\n",
    "nfeatures"
   ]
  },
  {
   "cell_type": "code",
   "execution_count": 41,
   "metadata": {
    "id": "MSUuEewgyctl"
   },
   "outputs": [
    {
     "name": "stdout",
     "output_type": "stream",
     "text": [
      "Model: \"sequential\"\n",
      "_________________________________________________________________\n",
      " Layer (type)                Output Shape              Param #   \n",
      "=================================================================\n",
      " dense (Dense)               (None, 1)                 19        \n",
      "                                                                 \n",
      "=================================================================\n",
      "Total params: 19\n",
      "Trainable params: 19\n",
      "Non-trainable params: 0\n",
      "_________________________________________________________________\n"
     ]
    }
   ],
   "source": [
    "# 메모리 정리\n",
    "clear_session()\n",
    "\n",
    "# Sequential 타입 모델 선언\n",
    "model = Sequential()\n",
    "\n",
    "# Layer 정의\n",
    "layer = Dense(1, input_shape=(nfeatures, ))\n",
    "\n",
    "# 모델에 추가\n",
    "model.add(layer)\n",
    "\n",
    "# 모델요약\n",
    "model.summary()"
   ]
  },
  {
   "cell_type": "markdown",
   "metadata": {
    "id": "ioHF4abpyctl"
   },
   "source": [
    "#### 2) 컴파일"
   ]
  },
  {
   "cell_type": "code",
   "execution_count": 42,
   "metadata": {
    "id": "j4u58XFdyctl"
   },
   "outputs": [],
   "source": [
    "model.compile(optimizer='adam',loss='mse')"
   ]
  },
  {
   "cell_type": "markdown",
   "metadata": {
    "id": "drPi7TrDyctl"
   },
   "source": [
    "#### 3) 학습"
   ]
  },
  {
   "cell_type": "code",
   "execution_count": 43,
   "metadata": {
    "id": "aWPblMWhyctl"
   },
   "outputs": [
    {
     "name": "stdout",
     "output_type": "stream",
     "text": [
      "Epoch 1/100\n",
      "8/8 [==============================] - 1s 27ms/step - loss: 58.9805 - val_loss: 66.9734\n",
      "Epoch 2/100\n",
      "8/8 [==============================] - 0s 7ms/step - loss: 58.2099 - val_loss: 66.1649\n",
      "Epoch 3/100\n",
      "8/8 [==============================] - 0s 8ms/step - loss: 57.4532 - val_loss: 65.3607\n",
      "Epoch 4/100\n",
      "8/8 [==============================] - 0s 9ms/step - loss: 56.7093 - val_loss: 64.5624\n",
      "Epoch 5/100\n",
      "8/8 [==============================] - 0s 10ms/step - loss: 55.9535 - val_loss: 63.7822\n",
      "Epoch 6/100\n",
      "8/8 [==============================] - 0s 10ms/step - loss: 55.2193 - val_loss: 63.0083\n",
      "Epoch 7/100\n",
      "8/8 [==============================] - 0s 13ms/step - loss: 54.5058 - val_loss: 62.2357\n",
      "Epoch 8/100\n",
      "8/8 [==============================] - 0s 11ms/step - loss: 53.7734 - val_loss: 61.4823\n",
      "Epoch 9/100\n",
      "8/8 [==============================] - 0s 9ms/step - loss: 53.0695 - val_loss: 60.7324\n",
      "Epoch 10/100\n",
      "8/8 [==============================] - 0s 11ms/step - loss: 52.3768 - val_loss: 59.9841\n",
      "Epoch 11/100\n",
      "8/8 [==============================] - 0s 10ms/step - loss: 51.6674 - val_loss: 59.2577\n",
      "Epoch 12/100\n",
      "8/8 [==============================] - 0s 11ms/step - loss: 50.9911 - val_loss: 58.5314\n",
      "Epoch 13/100\n",
      "8/8 [==============================] - 0s 12ms/step - loss: 50.3179 - val_loss: 57.8119\n",
      "Epoch 14/100\n",
      "8/8 [==============================] - 0s 12ms/step - loss: 49.6439 - val_loss: 57.1035\n",
      "Epoch 15/100\n",
      "8/8 [==============================] - 0s 12ms/step - loss: 48.9799 - val_loss: 56.4051\n",
      "Epoch 16/100\n",
      "8/8 [==============================] - 0s 12ms/step - loss: 48.3180 - val_loss: 55.7220\n",
      "Epoch 17/100\n",
      "8/8 [==============================] - 0s 10ms/step - loss: 47.6915 - val_loss: 55.0313\n",
      "Epoch 18/100\n",
      "8/8 [==============================] - 0s 10ms/step - loss: 47.0467 - val_loss: 54.3548\n",
      "Epoch 19/100\n",
      "8/8 [==============================] - 0s 10ms/step - loss: 46.4115 - val_loss: 53.6905\n",
      "Epoch 20/100\n",
      "8/8 [==============================] - 0s 11ms/step - loss: 45.7924 - val_loss: 53.0303\n",
      "Epoch 21/100\n",
      "8/8 [==============================] - 0s 10ms/step - loss: 45.1925 - val_loss: 52.3678\n",
      "Epoch 22/100\n",
      "8/8 [==============================] - 0s 10ms/step - loss: 44.5683 - val_loss: 51.7283\n",
      "Epoch 23/100\n",
      "8/8 [==============================] - 0s 9ms/step - loss: 43.9700 - val_loss: 51.0949\n",
      "Epoch 24/100\n",
      "8/8 [==============================] - 0s 10ms/step - loss: 43.3817 - val_loss: 50.4657\n",
      "Epoch 25/100\n",
      "8/8 [==============================] - 0s 12ms/step - loss: 42.7988 - val_loss: 49.8423\n",
      "Epoch 26/100\n",
      "8/8 [==============================] - 0s 11ms/step - loss: 42.2232 - val_loss: 49.2253\n",
      "Epoch 27/100\n",
      "8/8 [==============================] - 0s 10ms/step - loss: 41.6544 - val_loss: 48.6155\n",
      "Epoch 28/100\n",
      "8/8 [==============================] - 0s 11ms/step - loss: 41.0862 - val_loss: 48.0180\n",
      "Epoch 29/100\n",
      "8/8 [==============================] - 0s 11ms/step - loss: 40.5255 - val_loss: 47.4313\n",
      "Epoch 30/100\n",
      "8/8 [==============================] - 0s 10ms/step - loss: 39.9813 - val_loss: 46.8475\n",
      "Epoch 31/100\n",
      "8/8 [==============================] - 0s 8ms/step - loss: 39.4414 - val_loss: 46.2701\n",
      "Epoch 32/100\n",
      "8/8 [==============================] - 0s 9ms/step - loss: 38.9109 - val_loss: 45.6959\n",
      "Epoch 33/100\n",
      "8/8 [==============================] - 0s 9ms/step - loss: 38.3730 - val_loss: 45.1376\n",
      "Epoch 34/100\n",
      "8/8 [==============================] - 0s 8ms/step - loss: 37.8625 - val_loss: 44.5780\n",
      "Epoch 35/100\n",
      "8/8 [==============================] - 0s 8ms/step - loss: 37.3340 - val_loss: 44.0362\n",
      "Epoch 36/100\n",
      "8/8 [==============================] - 0s 9ms/step - loss: 36.8397 - val_loss: 43.4897\n",
      "Epoch 37/100\n",
      "8/8 [==============================] - 0s 10ms/step - loss: 36.3382 - val_loss: 42.9510\n",
      "Epoch 38/100\n",
      "8/8 [==============================] - 0s 11ms/step - loss: 35.8396 - val_loss: 42.4220\n",
      "Epoch 39/100\n",
      "8/8 [==============================] - 0s 10ms/step - loss: 35.3489 - val_loss: 41.9021\n",
      "Epoch 40/100\n",
      "8/8 [==============================] - 0s 10ms/step - loss: 34.8700 - val_loss: 41.3875\n",
      "Epoch 41/100\n",
      "8/8 [==============================] - 0s 10ms/step - loss: 34.4002 - val_loss: 40.8736\n",
      "Epoch 42/100\n",
      "8/8 [==============================] - 0s 10ms/step - loss: 33.9274 - val_loss: 40.3708\n",
      "Epoch 43/100\n",
      "8/8 [==============================] - 0s 12ms/step - loss: 33.4590 - val_loss: 39.8798\n",
      "Epoch 44/100\n",
      "8/8 [==============================] - 0s 13ms/step - loss: 33.0115 - val_loss: 39.3871\n",
      "Epoch 45/100\n",
      "8/8 [==============================] - 0s 13ms/step - loss: 32.5627 - val_loss: 38.9008\n",
      "Epoch 46/100\n",
      "8/8 [==============================] - 0s 11ms/step - loss: 32.1126 - val_loss: 38.4254\n",
      "Epoch 47/100\n",
      "8/8 [==============================] - 0s 11ms/step - loss: 31.6775 - val_loss: 37.9546\n",
      "Epoch 48/100\n",
      "8/8 [==============================] - 0s 8ms/step - loss: 31.2444 - val_loss: 37.4915\n",
      "Epoch 49/100\n",
      "8/8 [==============================] - 0s 12ms/step - loss: 30.8163 - val_loss: 37.0347\n",
      "Epoch 50/100\n",
      "8/8 [==============================] - 0s 21ms/step - loss: 30.3982 - val_loss: 36.5836\n",
      "Epoch 51/100\n",
      "8/8 [==============================] - 0s 9ms/step - loss: 29.9845 - val_loss: 36.1379\n",
      "Epoch 52/100\n",
      "8/8 [==============================] - 0s 15ms/step - loss: 29.5736 - val_loss: 35.7003\n",
      "Epoch 53/100\n",
      "8/8 [==============================] - 0s 8ms/step - loss: 29.1773 - val_loss: 35.2640\n",
      "Epoch 54/100\n",
      "8/8 [==============================] - 0s 9ms/step - loss: 28.7760 - val_loss: 34.8361\n",
      "Epoch 55/100\n",
      "8/8 [==============================] - 0s 9ms/step - loss: 28.3861 - val_loss: 34.4133\n",
      "Epoch 56/100\n",
      "8/8 [==============================] - 0s 9ms/step - loss: 27.9986 - val_loss: 33.9974\n",
      "Epoch 57/100\n",
      "8/8 [==============================] - 0s 9ms/step - loss: 27.6215 - val_loss: 33.5846\n",
      "Epoch 58/100\n",
      "8/8 [==============================] - 0s 10ms/step - loss: 27.2437 - val_loss: 33.1800\n",
      "Epoch 59/100\n",
      "8/8 [==============================] - 0s 14ms/step - loss: 26.8773 - val_loss: 32.7790\n",
      "Epoch 60/100\n",
      "8/8 [==============================] - 0s 12ms/step - loss: 26.5131 - val_loss: 32.3836\n",
      "Epoch 61/100\n",
      "8/8 [==============================] - 0s 11ms/step - loss: 26.1582 - val_loss: 31.9909\n",
      "Epoch 62/100\n",
      "8/8 [==============================] - 0s 13ms/step - loss: 25.8008 - val_loss: 31.6068\n",
      "Epoch 63/100\n",
      "8/8 [==============================] - 0s 12ms/step - loss: 25.4527 - val_loss: 31.2288\n",
      "Epoch 64/100\n",
      "8/8 [==============================] - 0s 7ms/step - loss: 25.1092 - val_loss: 30.8564\n",
      "Epoch 65/100\n",
      "8/8 [==============================] - 0s 9ms/step - loss: 24.7713 - val_loss: 30.4894\n",
      "Epoch 66/100\n",
      "8/8 [==============================] - 0s 8ms/step - loss: 24.4388 - val_loss: 30.1277\n",
      "Epoch 67/100\n",
      "8/8 [==============================] - 0s 8ms/step - loss: 24.1069 - val_loss: 29.7750\n",
      "Epoch 68/100\n",
      "8/8 [==============================] - 0s 9ms/step - loss: 23.7886 - val_loss: 29.4233\n",
      "Epoch 69/100\n",
      "8/8 [==============================] - 0s 7ms/step - loss: 23.4741 - val_loss: 29.0738\n",
      "Epoch 70/100\n",
      "8/8 [==============================] - 0s 11ms/step - loss: 23.1548 - val_loss: 28.7357\n",
      "Epoch 71/100\n",
      "8/8 [==============================] - 0s 9ms/step - loss: 22.8530 - val_loss: 28.3962\n",
      "Epoch 72/100\n",
      "8/8 [==============================] - 0s 9ms/step - loss: 22.5429 - val_loss: 28.0671\n",
      "Epoch 73/100\n",
      "8/8 [==============================] - 0s 9ms/step - loss: 22.2466 - val_loss: 27.7410\n",
      "Epoch 74/100\n",
      "8/8 [==============================] - 0s 9ms/step - loss: 21.9573 - val_loss: 27.4159\n",
      "Epoch 75/100\n",
      "8/8 [==============================] - 0s 10ms/step - loss: 21.6593 - val_loss: 27.1030\n",
      "Epoch 76/100\n",
      "8/8 [==============================] - 0s 9ms/step - loss: 21.3780 - val_loss: 26.7912\n",
      "Epoch 77/100\n",
      "8/8 [==============================] - 0s 10ms/step - loss: 21.0997 - val_loss: 26.4826\n",
      "Epoch 78/100\n",
      "8/8 [==============================] - 0s 9ms/step - loss: 20.8219 - val_loss: 26.1803\n",
      "Epoch 79/100\n",
      "8/8 [==============================] - 0s 11ms/step - loss: 20.5532 - val_loss: 25.8799\n",
      "Epoch 80/100\n",
      "8/8 [==============================] - 0s 10ms/step - loss: 20.2824 - val_loss: 25.5874\n",
      "Epoch 81/100\n",
      "8/8 [==============================] - 0s 10ms/step - loss: 20.0224 - val_loss: 25.2964\n",
      "Epoch 82/100\n",
      "8/8 [==============================] - 0s 10ms/step - loss: 19.7597 - val_loss: 25.0134\n",
      "Epoch 83/100\n",
      "8/8 [==============================] - 0s 10ms/step - loss: 19.5087 - val_loss: 24.7326\n",
      "Epoch 84/100\n",
      "8/8 [==============================] - 0s 10ms/step - loss: 19.2575 - val_loss: 24.4564\n",
      "Epoch 85/100\n",
      "8/8 [==============================] - 0s 8ms/step - loss: 19.0131 - val_loss: 24.1833\n",
      "Epoch 86/100\n",
      "8/8 [==============================] - 0s 7ms/step - loss: 18.7680 - val_loss: 23.9171\n",
      "Epoch 87/100\n",
      "8/8 [==============================] - 0s 8ms/step - loss: 18.5388 - val_loss: 23.6474\n",
      "Epoch 88/100\n",
      "8/8 [==============================] - 0s 8ms/step - loss: 18.2926 - val_loss: 23.3928\n",
      "Epoch 89/100\n",
      "8/8 [==============================] - 0s 8ms/step - loss: 18.0664 - val_loss: 23.1386\n",
      "Epoch 90/100\n",
      "8/8 [==============================] - 0s 7ms/step - loss: 17.8394 - val_loss: 22.8891\n",
      "Epoch 91/100\n",
      "8/8 [==============================] - 0s 7ms/step - loss: 17.6202 - val_loss: 22.6407\n",
      "Epoch 92/100\n",
      "8/8 [==============================] - 0s 8ms/step - loss: 17.3965 - val_loss: 22.4007\n",
      "Epoch 93/100\n",
      "8/8 [==============================] - 0s 7ms/step - loss: 17.1916 - val_loss: 22.1561\n",
      "Epoch 94/100\n",
      "8/8 [==============================] - 0s 8ms/step - loss: 16.9721 - val_loss: 21.9224\n",
      "Epoch 95/100\n",
      "8/8 [==============================] - 0s 9ms/step - loss: 16.7636 - val_loss: 21.6939\n",
      "Epoch 96/100\n",
      "8/8 [==============================] - 0s 10ms/step - loss: 16.5685 - val_loss: 21.4609\n",
      "Epoch 97/100\n",
      "8/8 [==============================] - 0s 10ms/step - loss: 16.3616 - val_loss: 21.2375\n",
      "Epoch 98/100\n",
      "8/8 [==============================] - 0s 10ms/step - loss: 16.1626 - val_loss: 21.0199\n",
      "Epoch 99/100\n",
      "8/8 [==============================] - 0s 10ms/step - loss: 15.9748 - val_loss: 20.8008\n",
      "Epoch 100/100\n",
      "8/8 [==============================] - 0s 11ms/step - loss: 15.7825 - val_loss: 20.5877\n"
     ]
    }
   ],
   "source": [
    "# 학습되는 역사를 history라는 변수에 딕셔너리 형태로 저장. \n",
    "history = model.fit(x_train,y_train,epochs=100,validation_split=0.2).history"
   ]
  },
  {
   "cell_type": "markdown",
   "metadata": {
    "id": "79qjrq2Zyctm"
   },
   "source": [
    "#### 4) 학습그래프"
   ]
  },
  {
   "cell_type": "code",
   "execution_count": 44,
   "metadata": {
    "id": "Hqls7Zd8yctm"
   },
   "outputs": [
    {
     "data": {
      "image/png": "[encoded data removed]",
      "text/plain": [
       "<Figure size 432x288 with 1 Axes>"
      ]
     },
     "metadata": {
      "needs_background": "light"
     },
     "output_type": "display_data"
    }
   ],
   "source": [
    "plt.plot(history['loss'], label='train_err')\n",
    "plt.plot(history['val_loss'], label='val_err')\n",
    "\n",
    "plt.ylabel('Loss')\n",
    "plt.xlabel('Epoch')\n",
    "plt.legend()\n",
    "plt.grid()\n",
    "plt.show()"
   ]
  },
  {
   "cell_type": "markdown",
   "metadata": {
    "id": "knjnKBrRyctm"
   },
   "source": [
    "#### 5) 검증 및 평가\n",
    "만든 모델은 얼마나 정확한지 검증해 봅시다.\n",
    "\n"
   ]
  },
  {
   "cell_type": "code",
   "execution_count": 48,
   "metadata": {},
   "outputs": [
    {
     "name": "stdout",
     "output_type": "stream",
     "text": [
      "3/3 [==============================] - 0s 3ms/step\n",
      "RMSE : 3.850668705409208\n",
      "MAE  : 2.9275339088439942\n",
      "MSE  : -0.800436645205977\n"
     ]
    }
   ],
   "source": [
    "pred = model.predict(x_val)\n",
    "\n",
    "print(f'RMSE : {mean_squared_error(y_val, pred, squared=False)}')\n",
    "print(f'MAE  : {mean_absolute_error(y_val, pred)}')\n",
    "print(f'MSE  : {r2_score(y_val, pred)}')"
   ]
  },
  {
   "cell_type": "markdown",
   "metadata": {
    "id": "_Lw2IoZF0-DI"
   },
   "source": [
    "# Classification"
   ]
  },
  {
   "cell_type": "markdown",
   "metadata": {
    "id": "LmjgVUgIfm0b"
   },
   "source": [
    "## 4.타이타닉 생존자 예측"
   ]
  },
  {
   "cell_type": "markdown",
   "metadata": {
    "id": "vtQJ-2HTf25C"
   },
   "source": [
    "### (1) 데이터 전처리"
   ]
  },
  {
   "cell_type": "markdown",
   "metadata": {
    "id": "CG-FeAY4f25C"
   },
   "source": [
    "#### 1) 데이터 준비"
   ]
  },
  {
   "cell_type": "code",
   "execution_count": null,
   "metadata": {
    "id": "BJjKVG-If830"
   },
   "outputs": [],
   "source": [
    "path = \"https://raw.githubusercontent.com/DA4BAM/dataset/master/titanic.3.csv\"\n",
    "data = pd.read_csv(path)\n",
    "data.drop(['Age_scale1', 'AgeGroup', 'SibSp','Parch' ], axis = 1, inplace = True)\n",
    "data.head()"
   ]
  },
  {
   "cell_type": "code",
   "execution_count": null,
   "metadata": {
    "id": "jizFM7v4f830"
   },
   "outputs": [],
   "source": [
    "target = 'Survived'\n",
    "x = data.drop(target, axis=1)\n",
    "y = data.loc[:, target]"
   ]
  },
  {
   "cell_type": "markdown",
   "metadata": {
    "id": "IKu33Cp7f25E"
   },
   "source": [
    "#### 2) 변수정리"
   ]
  },
  {
   "cell_type": "markdown",
   "metadata": {
    "id": "daC5qQrFf25E"
   },
   "source": [
    "#### 3) NA 조치"
   ]
  },
  {
   "cell_type": "code",
   "execution_count": null,
   "metadata": {
    "id": "cXhkS58xf25E"
   },
   "outputs": [],
   "source": [
    "x.isna().sum()"
   ]
  },
  {
   "cell_type": "markdown",
   "metadata": {
    "id": "Gv2hmMjAf25E"
   },
   "source": [
    "#### 4) 가변수화\n",
    "\n",
    "가변수화를 수행하시오."
   ]
  },
  {
   "cell_type": "code",
   "execution_count": null,
   "metadata": {
    "id": "L8DZPnnuf25E"
   },
   "outputs": [],
   "source": [
    "cat_cols = ['Pclass','Sex', 'Embarked']\n",
    "x = pd.get_dummies(x, columns = cat_cols, drop_first = True)"
   ]
  },
  {
   "cell_type": "markdown",
   "metadata": {
    "id": "adDF6UrXt_VN"
   },
   "source": [
    "#### 5) 데이터분할"
   ]
  },
  {
   "cell_type": "code",
   "execution_count": null,
   "metadata": {
    "id": "McyIBmbct_VO"
   },
   "outputs": [],
   "source": [
    "x_train, x_val, y_train, y_val = train_test_split(x, y, test_size=.2, random_state = 2022)"
   ]
  },
  {
   "cell_type": "markdown",
   "metadata": {
    "id": "DH_sleWBt_VO"
   },
   "source": [
    "#### 6) Scaling"
   ]
  },
  {
   "cell_type": "code",
   "execution_count": null,
   "metadata": {
    "id": "DKYC2ngop81p"
   },
   "outputs": [],
   "source": [
    "scaler = MinMaxScaler()\n",
    "x_train = scaler.fit_transform(x_train)\n",
    "x_val = scaler.transform(x_val)"
   ]
  },
  {
   "cell_type": "markdown",
   "metadata": {
    "id": "g_25ZAXpysNQ"
   },
   "source": [
    "### (2) 모델링"
   ]
  },
  {
   "cell_type": "code",
   "execution_count": null,
   "metadata": {
    "id": "EgpXux6vodb8"
   },
   "outputs": [],
   "source": [
    "# 함수들 불러오기\n",
    "from keras.models import Sequential\n",
    "from keras.layers import Dense\n",
    "from keras.backend import clear_session"
   ]
  },
  {
   "cell_type": "markdown",
   "metadata": {
    "id": "LHnpIVJUysNR"
   },
   "source": [
    "#### 1) 모델 설계"
   ]
  },
  {
   "cell_type": "code",
   "execution_count": null,
   "metadata": {
    "id": "SctQ-N5kyu5k"
   },
   "outputs": [],
   "source": [
    "nfeatures = x_train.shape[1] #num of columns\n",
    "nfeatures"
   ]
  },
  {
   "cell_type": "code",
   "execution_count": null,
   "metadata": {
    "id": "DLFRpan3yu5l"
   },
   "outputs": [],
   "source": [
    "# 메모리 정리\n",
    "clear_session()\n",
    "\n",
    "# Sequential 타입 모델 선언\n",
    "model = Sequential()\n",
    "\n",
    "# Layer 정의\n",
    "layer = Dense(1, input_shape = (nfeatures,), activation= 'sigmoid')\n",
    "\n",
    "# 모델에 추가\n",
    "model.add(layer)\n",
    "\n",
    "# 모델요약\n",
    "model.summary()"
   ]
  },
  {
   "cell_type": "markdown",
   "metadata": {
    "id": "7_C2--EtysNU"
   },
   "source": [
    "#### 2) 컴파일"
   ]
  },
  {
   "cell_type": "code",
   "execution_count": null,
   "metadata": {
    "id": "a7yYt_nwysNU"
   },
   "outputs": [],
   "source": [
    "model.compile(optimizer='adam', loss='binary_crossentropy')"
   ]
  },
  {
   "cell_type": "markdown",
   "metadata": {
    "id": "LN_OkZ0kysNV"
   },
   "source": [
    "#### 3) 학습"
   ]
  },
  {
   "cell_type": "code",
   "execution_count": null,
   "metadata": {
    "id": "M2mJ3Up7ysNW"
   },
   "outputs": [],
   "source": [
    "history = model.fit(x_train, y_train, epochs = 50,\n",
    "                    validation_split=0.2).history"
   ]
  },
  {
   "cell_type": "markdown",
   "metadata": {
    "id": "nYa8jB8rysNW"
   },
   "source": [
    "#### 4) 학습그래프"
   ]
  },
  {
   "cell_type": "code",
   "execution_count": null,
   "metadata": {
    "id": "YGEJjUFRysNX"
   },
   "outputs": [],
   "source": [
    "plt.plot(history['loss'], label='train_err')\n",
    "plt.plot(history['val_loss'], label='val_err')\n",
    "\n",
    "plt.ylabel('Loss')\n",
    "plt.xlabel('Epoch')\n",
    "plt.legend()\n",
    "plt.grid()\n",
    "plt.show()"
   ]
  },
  {
   "cell_type": "markdown",
   "metadata": {
    "id": "Z50IRbDmysNY"
   },
   "source": [
    "#### 5) 검증 및 평가\n",
    "만든 모델은 얼마나 정확한지 검증해 봅시다.\n",
    "\n"
   ]
  },
  {
   "cell_type": "code",
   "execution_count": null,
   "metadata": {
    "id": "m5asHx_hy8If"
   },
   "outputs": [],
   "source": [
    "pred = model.predict(x_val)\n",
    "pred = np.where(pred>=.5,1,0)"
   ]
  },
  {
   "cell_type": "code",
   "execution_count": null,
   "metadata": {
    "id": "Sly2LFdFy8Ih"
   },
   "outputs": [],
   "source": [
    "print(confusion_matrix(y_val, pred))\n",
    "print('-'*50)\n",
    "print(classification_report(y_val, pred))"
   ]
  },
  {
   "cell_type": "markdown",
   "metadata": {
    "id": "QokcDrIohexx"
   },
   "source": [
    "## 5.(실습) 이동통신고객 이탈 예측"
   ]
  },
  {
   "cell_type": "markdown",
   "metadata": {
    "id": "8PNvAH2dhexy"
   },
   "source": [
    "### (1) 데이터 전처리"
   ]
  },
  {
   "cell_type": "markdown",
   "metadata": {
    "id": "_MXSZswzhexy"
   },
   "source": [
    "#### 1) 데이터 준비"
   ]
  },
  {
   "cell_type": "code",
   "execution_count": null,
   "metadata": {
    "id": "gi9R8umohexy"
   },
   "outputs": [],
   "source": [
    "path = \"https://raw.githubusercontent.com/DA4BAM/dataset/master/mobile_churn_simple.csv\"\n",
    "data = pd.read_csv(path)\n",
    "data['CHURN'] = data['CHURN'].map({'STAY':0, 'LEAVE':1})\n",
    "data.head()"
   ]
  },
  {
   "cell_type": "markdown",
   "metadata": {
    "id": "LyY0YygNhexy"
   },
   "source": [
    "|\t구분\t|\t변수 명\t|\t내용\t|\ttype\t|\t비고\t|\n",
    "|\t----\t|\t----\t|\t----\t|\t----\t|\t----\t|\n",
    "|\t**Target**\t|\t**CHURN**\t|\t이탈여부\t|\t범주\t| 0,1\t|\n",
    "|\tfeature\t|\tINCOME\t|\t소득수준(달러)\t|\t숫자\t|\t\t|\n",
    "|\tfeature\t|\tOVERAGE\t|\t월평균 초과사용시간(분)\t|\t숫자\t| |\n",
    "|\tfeature\t|\tLEFTOVER\t|\t월평균 잔여시간(%)\t|\t숫자\t| \t|\n",
    "|\tfeature\t|\tHOUSE\t|\t집가격(달러)\t|\t숫자\t|\t|\n",
    "|\tfeature\t|\tHANDSET_PRICE\t|\t휴대폰가격(달러)\t|\t숫자\t|\t\t|\n",
    "|\tfeature\t|\tOVER_15MINS_CALLS_PER_MONTH\t|\t월평균 장기통화 횟수\t|\t숫자\t| \t\t|\n",
    "|\tfeature\t|\tAVERAGE_CALL_DURATION\t|\t평균통화시간(분)\t|\t숫자\t|\t\t|"
   ]
  },
  {
   "cell_type": "code",
   "execution_count": null,
   "metadata": {
    "id": "U5_90TWnhexz"
   },
   "outputs": [],
   "source": [
    "target = 'CHURN'\n",
    "x = data.drop(target, axis=1)\n",
    "y = data.loc[:, target]"
   ]
  },
  {
   "cell_type": "markdown",
   "metadata": {
    "id": "gj3XJ2-Ehexz"
   },
   "source": [
    "#### 2) 변수정리"
   ]
  },
  {
   "cell_type": "markdown",
   "metadata": {
    "id": "AHiw0r1yhexz"
   },
   "source": [
    "#### 3) NA 조치"
   ]
  },
  {
   "cell_type": "code",
   "execution_count": null,
   "metadata": {
    "id": "Cjv-zGl6hexz"
   },
   "outputs": [],
   "source": [
    "x.isna().sum()"
   ]
  },
  {
   "cell_type": "markdown",
   "metadata": {
    "id": "8cFafGWYhexz"
   },
   "source": [
    "#### 4) 가변수화"
   ]
  },
  {
   "cell_type": "markdown",
   "metadata": {
    "id": "1ZwkikjPukNP"
   },
   "source": [
    "#### 5) 데이터분할"
   ]
  },
  {
   "cell_type": "code",
   "execution_count": null,
   "metadata": {
    "id": "kzvxXkE4ukNQ"
   },
   "outputs": [],
   "source": [
    "x_train, x_val, y_train, y_val = train_test_split(x, y, test_size=.2, random_state = 2022)"
   ]
  },
  {
   "cell_type": "markdown",
   "metadata": {
    "id": "orPYshzkukNQ"
   },
   "source": [
    "#### 6) Scaling"
   ]
  },
  {
   "cell_type": "code",
   "execution_count": null,
   "metadata": {
    "id": "laGCA-WNumCG"
   },
   "outputs": [],
   "source": [
    "scaler = MinMaxScaler()\n",
    "x_train = scaler.fit_transform(x_train)\n",
    "x_val = scaler.transform(x_val)"
   ]
  },
  {
   "cell_type": "markdown",
   "metadata": {
    "id": "J1kZB5uPzFXA"
   },
   "source": [
    "### (2) 모델링"
   ]
  },
  {
   "cell_type": "code",
   "execution_count": null,
   "metadata": {
    "id": "TxlieNyAofYw"
   },
   "outputs": [],
   "source": [
    "# 함수들 불러오기\n",
    "\n",
    "\n"
   ]
  },
  {
   "cell_type": "markdown",
   "metadata": {
    "id": "lrFcVAXNzFXB"
   },
   "source": [
    "#### 1) 모델 설계"
   ]
  },
  {
   "cell_type": "code",
   "execution_count": null,
   "metadata": {
    "id": "dm_BMWeJzFXB"
   },
   "outputs": [],
   "source": []
  },
  {
   "cell_type": "code",
   "execution_count": null,
   "metadata": {
    "id": "2w0VyTujzFXC"
   },
   "outputs": [],
   "source": [
    "# 메모리 정리\n",
    "\n",
    "\n",
    "# Sequential 타입 모델 선언\n",
    "\n",
    "\n",
    "# Layer 정의\n",
    "\n",
    "\n",
    "# 모델에 추가\n",
    "\n",
    "\n",
    "# 모델요약\n"
   ]
  },
  {
   "cell_type": "markdown",
   "metadata": {
    "id": "Lt_Ua-5-zFXC"
   },
   "source": [
    "#### 2) 컴파일"
   ]
  },
  {
   "cell_type": "code",
   "execution_count": null,
   "metadata": {
    "id": "ziSUKcZdzFXC"
   },
   "outputs": [],
   "source": []
  },
  {
   "cell_type": "markdown",
   "metadata": {
    "id": "2bCJStJqzFXC"
   },
   "source": [
    "#### 3) 학습"
   ]
  },
  {
   "cell_type": "code",
   "execution_count": null,
   "metadata": {
    "id": "AKtFPouPzFXC"
   },
   "outputs": [],
   "source": []
  },
  {
   "cell_type": "markdown",
   "metadata": {
    "id": "xi07va1WzFXD"
   },
   "source": [
    "#### 4) 학습그래프"
   ]
  },
  {
   "cell_type": "code",
   "execution_count": null,
   "metadata": {
    "id": "lgfXOLN_zFXD"
   },
   "outputs": [],
   "source": [
    "plt.plot(history['loss'], label='train_err')\n",
    "plt.plot(history['val_loss'], label='val_err')\n",
    "\n",
    "plt.ylabel('Loss')\n",
    "plt.xlabel('Epoch')\n",
    "plt.legend()\n",
    "plt.grid()\n",
    "plt.show()"
   ]
  },
  {
   "cell_type": "markdown",
   "metadata": {
    "id": "-mOVXRz6zFXD"
   },
   "source": [
    "#### 5) 검증 및 평가\n",
    "만든 모델은 얼마나 정확한지 검증해 봅시다.\n",
    "\n"
   ]
  },
  {
   "cell_type": "code",
   "execution_count": null,
   "metadata": {
    "id": "_YRCSUbLzFXD"
   },
   "outputs": [],
   "source": []
  },
  {
   "cell_type": "code",
   "execution_count": null,
   "metadata": {
    "id": "7L59QQS8zFXD"
   },
   "outputs": [],
   "source": []
  },
  {
   "cell_type": "markdown",
   "metadata": {
    "id": "xNHblz45tf7h"
   },
   "source": [
    "## 6.(실습) 대학원 지원"
   ]
  },
  {
   "cell_type": "markdown",
   "metadata": {
    "id": "1As5KNyCtf7h"
   },
   "source": [
    "### (1) 데이터 전처리"
   ]
  },
  {
   "cell_type": "markdown",
   "metadata": {
    "id": "xOiMn8v_tf7i"
   },
   "source": [
    "#### 1) 데이터 준비"
   ]
  },
  {
   "cell_type": "code",
   "execution_count": null,
   "metadata": {
    "id": "1yN4tTO4tf7i"
   },
   "outputs": [],
   "source": [
    "path = \"https://raw.githubusercontent.com/DA4BAM/dataset/master/Graduate_apply.csv\"\n",
    "data = pd.read_csv(path)\n",
    "data.head()"
   ]
  },
  {
   "cell_type": "code",
   "execution_count": null,
   "metadata": {
    "id": "pjG9HJ_Ntf7k"
   },
   "outputs": [],
   "source": [
    "target = 'admit'\n",
    "x = data.drop(target, axis=1)\n",
    "y = data.loc[:, target]"
   ]
  },
  {
   "cell_type": "markdown",
   "metadata": {
    "id": "8EK_sjittf7l"
   },
   "source": [
    "#### 2) 변수정리"
   ]
  },
  {
   "cell_type": "markdown",
   "metadata": {
    "id": "DsFBGiL1tf7l"
   },
   "source": [
    "#### 3) NA 조치"
   ]
  },
  {
   "cell_type": "markdown",
   "metadata": {
    "id": "ObWxYi8-tf7m"
   },
   "source": [
    "#### 4) 가변수화"
   ]
  },
  {
   "cell_type": "markdown",
   "metadata": {
    "id": "YpWFQGCGtf7m"
   },
   "source": [
    "#### 5) 데이터분할"
   ]
  },
  {
   "cell_type": "code",
   "execution_count": null,
   "metadata": {
    "id": "tyGVNlhytf7m"
   },
   "outputs": [],
   "source": [
    "x_train, x_val, y_train, y_val = train_test_split(x, y, test_size=.2, random_state = 2022)"
   ]
  },
  {
   "cell_type": "markdown",
   "metadata": {
    "id": "_L-0J9LMtf7n"
   },
   "source": [
    "#### 6) Scaling"
   ]
  },
  {
   "cell_type": "code",
   "execution_count": null,
   "metadata": {
    "id": "oqizGZlTtf7n"
   },
   "outputs": [],
   "source": [
    "scaler = MinMaxScaler()\n",
    "x_train = scaler.fit_transform(x_train)\n",
    "x_val = scaler.transform(x_val)"
   ]
  },
  {
   "cell_type": "markdown",
   "metadata": {
    "id": "iBBpiDCbzKDh"
   },
   "source": [
    "### (2) 모델링"
   ]
  },
  {
   "cell_type": "code",
   "execution_count": null,
   "metadata": {
    "id": "fMOaJNlBoiBD"
   },
   "outputs": [],
   "source": [
    "# 함수들 불러오기\n",
    "\n",
    "\n"
   ]
  },
  {
   "cell_type": "markdown",
   "metadata": {
    "id": "qmlobuMPzKDi"
   },
   "source": [
    "#### 1) 모델 설계"
   ]
  },
  {
   "cell_type": "code",
   "execution_count": null,
   "metadata": {
    "id": "7QVFVpzWzKDj"
   },
   "outputs": [],
   "source": []
  },
  {
   "cell_type": "code",
   "execution_count": null,
   "metadata": {
    "id": "udBD4bNqzKDj"
   },
   "outputs": [],
   "source": [
    "# 메모리 정리\n",
    "\n",
    "\n",
    "# Sequential 타입 모델 선언\n",
    "\n",
    "\n",
    "# Layer 정의\n",
    "\n",
    "\n",
    "# 모델에 추가\n",
    "\n",
    "\n",
    "# 모델요약\n"
   ]
  },
  {
   "cell_type": "markdown",
   "metadata": {
    "id": "lgiDvnPlzKDk"
   },
   "source": [
    "#### 2) 컴파일"
   ]
  },
  {
   "cell_type": "code",
   "execution_count": null,
   "metadata": {
    "id": "VgTNnYZvzKDk"
   },
   "outputs": [],
   "source": []
  },
  {
   "cell_type": "markdown",
   "metadata": {
    "id": "5UJeVIv5zKDl"
   },
   "source": [
    "#### 3) 학습"
   ]
  },
  {
   "cell_type": "code",
   "execution_count": null,
   "metadata": {
    "id": "1LVbOOuXzKDl"
   },
   "outputs": [],
   "source": []
  },
  {
   "cell_type": "markdown",
   "metadata": {
    "id": "RKDKJ7bBzKDl"
   },
   "source": [
    "#### 4) 학습그래프"
   ]
  },
  {
   "cell_type": "code",
   "execution_count": null,
   "metadata": {
    "id": "fRqLS-71zKDm"
   },
   "outputs": [],
   "source": [
    "plt.plot(history['loss'], label='train_err')\n",
    "plt.plot(history['val_loss'], label='val_err')\n",
    "\n",
    "plt.ylabel('Loss')\n",
    "plt.xlabel('Epoch')\n",
    "plt.legend()\n",
    "plt.grid()\n",
    "plt.show()"
   ]
  },
  {
   "cell_type": "markdown",
   "metadata": {
    "id": "PDtzFismzKDm"
   },
   "source": [
    "#### 5) 검증 및 평가\n",
    "만든 모델은 얼마나 정확한지 검증해 봅시다.\n",
    "\n"
   ]
  },
  {
   "cell_type": "code",
   "execution_count": null,
   "metadata": {
    "id": "r_KzEQWezKDn"
   },
   "outputs": [],
   "source": []
  },
  {
   "cell_type": "code",
   "execution_count": null,
   "metadata": {
    "id": "_o9Evg_nzKDn"
   },
   "outputs": [],
   "source": []
  }
 ],
 "metadata": {
  "colab": {
   "collapsed_sections": [
    "_Lw2IoZF0-DI"
   ],
   "provenance": [],
   "toc_visible": true
  },
  "kernelspec": {
   "display_name": "Python 3",
   "language": "python",
   "name": "python3"
  },
  "language_info": {
   "codemirror_mode": {
    "name": "ipython",
    "version": 3
   },
   "file_extension": ".py",
   "mimetype": "text/x-python",
   "name": "python",
   "nbconvert_exporter": "python",
   "pygments_lexer": "ipython3",
   "version": "3.8.8"
  }
 },
 "nbformat": 4,
 "nbformat_minor": 4
}
