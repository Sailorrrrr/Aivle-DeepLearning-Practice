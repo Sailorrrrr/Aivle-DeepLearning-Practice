{
 "cells": [
  {
   "cell_type": "markdown",
   "metadata": {
    "id": "cVB9pY-v8uv5"
   },
   "source": [
    "# 51. RNN의 기초 원리를 배워봅시다.\n",
    "\n",
    "* 서울의 주간평균기온 데이터를 이용하여 RNN 모델을 구현해 봅시다."
   ]
  },
  {
   "cell_type": "markdown",
   "metadata": {
    "id": "jnCv9u_Wy9e1"
   },
   "source": [
    "## 1.환경 준비"
   ]
  },
  {
   "cell_type": "markdown",
   "metadata": {
    "id": "98K82DAxvX6I"
   },
   "source": [
    "### (1) 라이브러리 로딩"
   ]
  },
  {
   "cell_type": "code",
   "execution_count": 1,
   "metadata": {
    "executionInfo": {
     "elapsed": 383,
     "status": "ok",
     "timestamp": 1663674629991,
     "user": {
      "displayName": "한기영",
      "userId": "13049187003176135487"
     },
     "user_tz": -540
    },
    "id": "GVvCef6A8uv6"
   },
   "outputs": [],
   "source": [
    "import pandas as pd\n",
    "import numpy as np\n",
    "import matplotlib.pyplot as plt\n",
    "import seaborn as sns\n",
    "\n",
    "from sklearn.model_selection import train_test_split\n",
    "from sklearn.metrics import *\n",
    "from sklearn.preprocessing import MinMaxScaler\n",
    "\n",
    "from keras.models import Sequential\n",
    "from keras.layers import Dense, SimpleRNN, LSTM\n",
    "from keras.backend import clear_session\n",
    "from tensorflow.keras.optimizers import Adam"
   ]
  },
  {
   "cell_type": "markdown",
   "metadata": {
    "id": "jHsSxLqsBBC8"
   },
   "source": [
    "### (2) 필요한 함수 생성"
   ]
  },
  {
   "cell_type": "markdown",
   "metadata": {
    "id": "S8N22ebeVgFa"
   },
   "source": [
    "* 학습곡선 함수"
   ]
  },
  {
   "cell_type": "code",
   "execution_count": 2,
   "metadata": {
    "id": "SwgvSKey9B3y"
   },
   "outputs": [],
   "source": [
    "# 학습곡선 함수\n",
    "def dl_history_plot(history):\n",
    "    plt.figure(figsize=(10,6))\n",
    "    plt.plot(history['loss'], label='train_err')\n",
    "    plt.plot(history['val_loss'], label='val_err')\n",
    "\n",
    "    plt.ylabel('Loss')\n",
    "    plt.xlabel('Epoch')\n",
    "    plt.legend()\n",
    "    plt.grid()\n",
    "    plt.show()"
   ]
  },
  {
   "cell_type": "markdown",
   "metadata": {
    "id": "rNgb4_NqViOf"
   },
   "source": [
    "* 데이터 2 --> 3차원 변환"
   ]
  },
  {
   "cell_type": "code",
   "execution_count": 3,
   "metadata": {
    "id": "9FB1ebkCBDOF"
   },
   "outputs": [],
   "source": [
    "# 시계열 데이터 전처리 2차원 --> 3차원으로 변환\n",
    "def temporalize(x, y, timesteps):\n",
    "    nfeature = x.shape[1]\n",
    "    output_x = []\n",
    "    output_y = []\n",
    "    for i in range(len(x) - timesteps + 1):\n",
    "        t = []\n",
    "        for j in range(timesteps):\n",
    "            t.append(x[[(i + j)], :])\n",
    "        output_x.append(t)\n",
    "        output_y.append(y[i + timesteps - 1])\n",
    "    return np.array(output_x).reshape(-1,timesteps, nfeature), np.array(output_y)"
   ]
  },
  {
   "cell_type": "markdown",
   "metadata": {
    "id": "VHy5s1OOzItm"
   },
   "source": [
    "### (3) Data Loading"
   ]
  },
  {
   "cell_type": "code",
   "execution_count": 4,
   "metadata": {
    "id": "3GgFpOB4zQ7h"
   },
   "outputs": [
    {
     "data": {
      "text/html": [
       "<div>\n",
       "<style scoped>\n",
       "    .dataframe tbody tr th:only-of-type {\n",
       "        vertical-align: middle;\n",
       "    }\n",
       "\n",
       "    .dataframe tbody tr th {\n",
       "        vertical-align: top;\n",
       "    }\n",
       "\n",
       "    .dataframe thead th {\n",
       "        text-align: right;\n",
       "    }\n",
       "</style>\n",
       "<table border=\"1\" class=\"dataframe\">\n",
       "  <thead>\n",
       "    <tr style=\"text-align: right;\">\n",
       "      <th></th>\n",
       "      <th>year</th>\n",
       "      <th>week</th>\n",
       "      <th>AvgTemp</th>\n",
       "    </tr>\n",
       "  </thead>\n",
       "  <tbody>\n",
       "    <tr>\n",
       "      <th>0</th>\n",
       "      <td>2010</td>\n",
       "      <td>1</td>\n",
       "      <td>-3.000000</td>\n",
       "    </tr>\n",
       "    <tr>\n",
       "      <th>1</th>\n",
       "      <td>2010</td>\n",
       "      <td>2</td>\n",
       "      <td>-7.500000</td>\n",
       "    </tr>\n",
       "    <tr>\n",
       "      <th>2</th>\n",
       "      <td>2010</td>\n",
       "      <td>3</td>\n",
       "      <td>-7.900000</td>\n",
       "    </tr>\n",
       "    <tr>\n",
       "      <th>3</th>\n",
       "      <td>2010</td>\n",
       "      <td>4</td>\n",
       "      <td>-2.357143</td>\n",
       "    </tr>\n",
       "    <tr>\n",
       "      <th>4</th>\n",
       "      <td>2010</td>\n",
       "      <td>5</td>\n",
       "      <td>-3.342857</td>\n",
       "    </tr>\n",
       "    <tr>\n",
       "      <th>5</th>\n",
       "      <td>2010</td>\n",
       "      <td>6</td>\n",
       "      <td>-1.800000</td>\n",
       "    </tr>\n",
       "    <tr>\n",
       "      <th>6</th>\n",
       "      <td>2010</td>\n",
       "      <td>7</td>\n",
       "      <td>-0.314286</td>\n",
       "    </tr>\n",
       "    <tr>\n",
       "      <th>7</th>\n",
       "      <td>2010</td>\n",
       "      <td>8</td>\n",
       "      <td>-2.142857</td>\n",
       "    </tr>\n",
       "    <tr>\n",
       "      <th>8</th>\n",
       "      <td>2010</td>\n",
       "      <td>9</td>\n",
       "      <td>4.400000</td>\n",
       "    </tr>\n",
       "    <tr>\n",
       "      <th>9</th>\n",
       "      <td>2010</td>\n",
       "      <td>10</td>\n",
       "      <td>7.057143</td>\n",
       "    </tr>\n",
       "  </tbody>\n",
       "</table>\n",
       "</div>"
      ],
      "text/plain": [
       "   year  week   AvgTemp\n",
       "0  2010     1 -3.000000\n",
       "1  2010     2 -7.500000\n",
       "2  2010     3 -7.900000\n",
       "3  2010     4 -2.357143\n",
       "4  2010     5 -3.342857\n",
       "5  2010     6 -1.800000\n",
       "6  2010     7 -0.314286\n",
       "7  2010     8 -2.142857\n",
       "8  2010     9  4.400000\n",
       "9  2010    10  7.057143"
      ]
     },
     "execution_count": 4,
     "metadata": {},
     "output_type": "execute_result"
    }
   ],
   "source": [
    "data = pd.read_csv('https://raw.githubusercontent.com/DA4BAM/dataset/master/temperature.csv')\n",
    "data.head(10)"
   ]
  },
  {
   "cell_type": "markdown",
   "metadata": {
    "id": "ZJOddHq2zfcU"
   },
   "source": [
    "## 2.데이터 이해"
   ]
  },
  {
   "cell_type": "markdown",
   "metadata": {
    "id": "Yy3mIskWOY0z"
   },
   "source": [
    "온도의 흐름(trend)을 살펴봅시다."
   ]
  },
  {
   "cell_type": "code",
   "execution_count": 5,
   "metadata": {
    "id": "jhYBDhh8HVev"
   },
   "outputs": [
    {
     "data": {
      "image/png": "[encoded data removed]",
      "text/plain": [
       "<Figure size 1440x576 with 1 Axes>"
      ]
     },
     "metadata": {
      "needs_background": "light"
     },
     "output_type": "display_data"
    }
   ],
   "source": [
    "plt.figure(figsize = (20,8))\n",
    "plt.plot(data.AvgTemp)\n",
    "plt.grid()\n",
    "plt.show()"
   ]
  },
  {
   "cell_type": "markdown",
   "metadata": {
    "id": "wW0d0eGmCYJM"
   },
   "source": [
    "##3.데이터 준비"
   ]
  },
  {
   "cell_type": "markdown",
   "metadata": {
    "id": "he9MIA1JT9QJ"
   },
   "source": [
    "### (1) y 만들기"
   ]
  },
  {
   "cell_type": "code",
   "execution_count": 6,
   "metadata": {
    "id": "dWQ-5wtgUCFy"
   },
   "outputs": [
    {
     "data": {
      "text/html": [
       "<div>\n",
       "<style scoped>\n",
       "    .dataframe tbody tr th:only-of-type {\n",
       "        vertical-align: middle;\n",
       "    }\n",
       "\n",
       "    .dataframe tbody tr th {\n",
       "        vertical-align: top;\n",
       "    }\n",
       "\n",
       "    .dataframe thead th {\n",
       "        text-align: right;\n",
       "    }\n",
       "</style>\n",
       "<table border=\"1\" class=\"dataframe\">\n",
       "  <thead>\n",
       "    <tr style=\"text-align: right;\">\n",
       "      <th></th>\n",
       "      <th>year</th>\n",
       "      <th>week</th>\n",
       "      <th>AvgTemp</th>\n",
       "      <th>y</th>\n",
       "    </tr>\n",
       "  </thead>\n",
       "  <tbody>\n",
       "    <tr>\n",
       "      <th>0</th>\n",
       "      <td>2010</td>\n",
       "      <td>1</td>\n",
       "      <td>-3.000000</td>\n",
       "      <td>-7.500000</td>\n",
       "    </tr>\n",
       "    <tr>\n",
       "      <th>1</th>\n",
       "      <td>2010</td>\n",
       "      <td>2</td>\n",
       "      <td>-7.500000</td>\n",
       "      <td>-7.900000</td>\n",
       "    </tr>\n",
       "    <tr>\n",
       "      <th>2</th>\n",
       "      <td>2010</td>\n",
       "      <td>3</td>\n",
       "      <td>-7.900000</td>\n",
       "      <td>-2.357143</td>\n",
       "    </tr>\n",
       "    <tr>\n",
       "      <th>3</th>\n",
       "      <td>2010</td>\n",
       "      <td>4</td>\n",
       "      <td>-2.357143</td>\n",
       "      <td>-3.342857</td>\n",
       "    </tr>\n",
       "    <tr>\n",
       "      <th>4</th>\n",
       "      <td>2010</td>\n",
       "      <td>5</td>\n",
       "      <td>-3.342857</td>\n",
       "      <td>-1.800000</td>\n",
       "    </tr>\n",
       "  </tbody>\n",
       "</table>\n",
       "</div>"
      ],
      "text/plain": [
       "   year  week   AvgTemp         y\n",
       "0  2010     1 -3.000000 -7.500000\n",
       "1  2010     2 -7.500000 -7.900000\n",
       "2  2010     3 -7.900000 -2.357143\n",
       "3  2010     4 -2.357143 -3.342857\n",
       "4  2010     5 -3.342857 -1.800000"
      ]
     },
     "execution_count": 6,
     "metadata": {},
     "output_type": "execute_result"
    }
   ],
   "source": [
    "data['y'] = data['AvgTemp'].shift(-1)\n",
    "data.dropna(axis = 0, inplace = True)\n",
    "data.head()"
   ]
  },
  {
   "cell_type": "markdown",
   "metadata": {
    "id": "WbxytVmnUgxH"
   },
   "source": [
    "### (2) x, y 분리"
   ]
  },
  {
   "cell_type": "code",
   "execution_count": 7,
   "metadata": {
    "id": "rT224wt4UgVd"
   },
   "outputs": [],
   "source": [
    "x = data.loc[:, ['AvgTemp']]\n",
    "y = data.loc[:,'y']"
   ]
  },
  {
   "cell_type": "markdown",
   "metadata": {
    "id": "zizmxukzUVvT"
   },
   "source": [
    "### (3) 스케일링"
   ]
  },
  {
   "cell_type": "code",
   "execution_count": 8,
   "metadata": {
    "id": "JyTZcCK1tXly"
   },
   "outputs": [],
   "source": [
    "scaler = MinMaxScaler()\n",
    "x = scaler.fit_transform(x)"
   ]
  },
  {
   "cell_type": "code",
   "execution_count": 9,
   "metadata": {
    "id": "MAYJt6XYubg4"
   },
   "outputs": [
    {
     "data": {
      "text/plain": [
       "((264, 1), (264,))"
      ]
     },
     "execution_count": 9,
     "metadata": {},
     "output_type": "execute_result"
    }
   ],
   "source": [
    "x.shape, y.shape"
   ]
  },
  {
   "cell_type": "markdown",
   "metadata": {
    "id": "-nxTOrrRhKdt"
   },
   "source": [
    "### (4) 3차원 구조 만들기"
   ]
  },
  {
   "cell_type": "code",
   "execution_count": 10,
   "metadata": {
    "id": "qGPq9H5HXqRD"
   },
   "outputs": [
    {
     "data": {
      "text/plain": [
       "((261, 4, 1), (261,))"
      ]
     },
     "execution_count": 10,
     "metadata": {},
     "output_type": "execute_result"
    }
   ],
   "source": [
    "# 4개 데이터씩 묶기 때문에 데이터 개수 3개 줄어듬 \n",
    "x2, y2 = temporalize(x, y, 4)\n",
    "x2.shape, y2.shape"
   ]
  },
  {
   "cell_type": "code",
   "execution_count": 11,
   "metadata": {},
   "outputs": [
    {
     "data": {
      "text/plain": [
       "array([[[0.15106693],\n",
       "        [0.0364937 ],\n",
       "        [0.02630941],\n",
       "        [0.16743453]],\n",
       "\n",
       "       [[0.0364937 ],\n",
       "        [0.02630941],\n",
       "        [0.16743453],\n",
       "        [0.14233754]],\n",
       "\n",
       "       [[0.02630941],\n",
       "        [0.16743453],\n",
       "        [0.14233754],\n",
       "        [0.18161979]],\n",
       "\n",
       "       ...,\n",
       "\n",
       "       [[0.35948109],\n",
       "        [0.4442289 ],\n",
       "        [0.43368089],\n",
       "        [0.11651309]],\n",
       "\n",
       "       [[0.4442289 ],\n",
       "        [0.43368089],\n",
       "        [0.11651309],\n",
       "        [0.1728904 ]],\n",
       "\n",
       "       [[0.43368089],\n",
       "        [0.11651309],\n",
       "        [0.1728904 ],\n",
       "        [0.08632396]]])"
      ]
     },
     "execution_count": 11,
     "metadata": {},
     "output_type": "execute_result"
    }
   ],
   "source": [
    "x2"
   ]
  },
  {
   "cell_type": "code",
   "execution_count": 12,
   "metadata": {
    "id": "-oSqOvuTXv7L"
   },
   "outputs": [
    {
     "data": {
      "text/plain": [
       "array([[[0.15106693],\n",
       "        [0.0364937 ],\n",
       "        [0.02630941],\n",
       "        [0.16743453]],\n",
       "\n",
       "       [[0.0364937 ],\n",
       "        [0.02630941],\n",
       "        [0.16743453],\n",
       "        [0.14233754]]])"
      ]
     },
     "execution_count": 12,
     "metadata": {},
     "output_type": "execute_result"
    }
   ],
   "source": [
    "x2[:2]"
   ]
  },
  {
   "cell_type": "code",
   "execution_count": 13,
   "metadata": {
    "id": "tBfTqjwhZFys"
   },
   "outputs": [
    {
     "data": {
      "text/plain": [
       "(0   -7.500000\n",
       " 1   -7.900000\n",
       " 2   -2.357143\n",
       " 3   -3.342857\n",
       " 4   -1.800000\n",
       " 5   -0.314286\n",
       " 6   -2.142857\n",
       " Name: y, dtype: float64,\n",
       " array([-3.34285714, -1.8       ]))"
      ]
     },
     "execution_count": 13,
     "metadata": {},
     "output_type": "execute_result"
    }
   ],
   "source": [
    "y[:7], y2[:2]"
   ]
  },
  {
   "cell_type": "markdown",
   "metadata": {
    "id": "2IpZMM0ZZKev"
   },
   "source": [
    "### (5) 데이터 분할"
   ]
  },
  {
   "cell_type": "code",
   "execution_count": 15,
   "metadata": {
    "id": "fPmFSbKQurJx"
   },
   "outputs": [],
   "source": [
    "# shuffle = False : 랜덤 분할 하지마라\n",
    "x_train, x_val, y_train, y_val = train_test_split(x2, y2, test_size= 53, shuffle = False)"
   ]
  },
  {
   "cell_type": "code",
   "execution_count": 16,
   "metadata": {
    "id": "qicX0SjAvJHO"
   },
   "outputs": [
    {
     "data": {
      "text/plain": [
       "((208, 4, 1), (208,))"
      ]
     },
     "execution_count": 16,
     "metadata": {},
     "output_type": "execute_result"
    }
   ],
   "source": [
    "x_train.shape, y_train.shape"
   ]
  },
  {
   "cell_type": "code",
   "execution_count": 17,
   "metadata": {
    "id": "x6kKq3RkykgW"
   },
   "outputs": [
    {
     "data": {
      "text/plain": [
       "((53, 4, 1), (53,))"
      ]
     },
     "execution_count": 17,
     "metadata": {},
     "output_type": "execute_result"
    }
   ],
   "source": [
    "x_val.shape, y_val.shape"
   ]
  },
  {
   "cell_type": "markdown",
   "metadata": {
    "id": "MXch9dzmJIps"
   },
   "source": [
    "## 4.RNN : 무작정 모델링"
   ]
  },
  {
   "cell_type": "markdown",
   "metadata": {
    "id": "cwaO1iuKJQnu"
   },
   "source": [
    "### (1) 입력 구조(shape)\n",
    "* 분석 단위 : 2차원 ( timesteps, nfeatures)"
   ]
  },
  {
   "cell_type": "code",
   "execution_count": 18,
   "metadata": {
    "id": "ncvrt9daa9TD"
   },
   "outputs": [
    {
     "data": {
      "text/plain": [
       "(208, 4, 1)"
      ]
     },
     "execution_count": 18,
     "metadata": {},
     "output_type": "execute_result"
    }
   ],
   "source": [
    "x_train.shape"
   ]
  },
  {
   "cell_type": "code",
   "execution_count": 19,
   "metadata": {
    "id": "Tax7DpY5a0Mw"
   },
   "outputs": [],
   "source": [
    "timestep = x_train.shape[1]\n",
    "nfeatures = x_train.shape[2]"
   ]
  },
  {
   "cell_type": "markdown",
   "metadata": {
    "id": "lNe0elgYJdan"
   },
   "source": [
    "### (2) 모델 구조 설계\n",
    "* 다음 구조를 그대로 설계해 봅시다.\n",
    "    * SimpleRNN(8, input_shape = (timestep, nfeatures))\n",
    "    * Dense(1)"
   ]
  },
  {
   "cell_type": "code",
   "execution_count": 20,
   "metadata": {
    "id": "eFn_U71XJWK6"
   },
   "outputs": [
    {
     "name": "stdout",
     "output_type": "stream",
     "text": [
      "Model: \"sequential\"\n",
      "_________________________________________________________________\n",
      " Layer (type)                Output Shape              Param #   \n",
      "=================================================================\n",
      " simple_rnn (SimpleRNN)      (None, 8)                 80        \n",
      "                                                                 \n",
      " dense (Dense)               (None, 1)                 9         \n",
      "                                                                 \n",
      "=================================================================\n",
      "Total params: 89\n",
      "Trainable params: 89\n",
      "Non-trainable params: 0\n",
      "_________________________________________________________________\n"
     ]
    }
   ],
   "source": [
    "clear_session()\n",
    "\n",
    "model = Sequential([SimpleRNN(8, input_shape=(timestep,nfeatures)),\n",
    "                    Dense(1, )])\n",
    "\n",
    "model.summary()"
   ]
  },
  {
   "cell_type": "markdown",
   "metadata": {
    "id": "WUL84uf5dNzn"
   },
   "source": [
    "### (3) 컴파일 및 학습\n",
    "* 다음 조건으로 학습해 봅시다.\n",
    "    * epochs = 100\n",
    "    * learning_rate = 0.01"
   ]
  },
  {
   "cell_type": "code",
   "execution_count": 21,
   "metadata": {
    "collapsed": true,
    "id": "uHGuC09vb_NR",
    "jupyter": {
     "outputs_hidden": true
    },
    "tags": []
   },
   "outputs": [
    {
     "name": "stderr",
     "output_type": "stream",
     "text": [
      "C:\\Users\\User\\anaconda3\\lib\\site-packages\\keras\\optimizers\\optimizer_v2\\adam.py:114: UserWarning: The `lr` argument is deprecated, use `learning_rate` instead.\n",
      "  super().__init__(name, **kwargs)\n"
     ]
    },
    {
     "name": "stdout",
     "output_type": "stream",
     "text": [
      "Epoch 1/100\n",
      "6/6 [==============================] - 2s 82ms/step - loss: 224.1824 - val_loss: 281.8385\n",
      "Epoch 2/100\n",
      "6/6 [==============================] - 0s 13ms/step - loss: 204.5982 - val_loss: 259.7473\n",
      "Epoch 3/100\n",
      "6/6 [==============================] - 0s 13ms/step - loss: 191.3848 - val_loss: 241.4535\n",
      "Epoch 4/100\n",
      "6/6 [==============================] - 0s 11ms/step - loss: 180.1092 - val_loss: 225.6926\n",
      "Epoch 5/100\n",
      "6/6 [==============================] - 0s 9ms/step - loss: 169.8596 - val_loss: 212.2253\n",
      "Epoch 6/100\n",
      "6/6 [==============================] - 0s 12ms/step - loss: 160.3181 - val_loss: 200.8982\n",
      "Epoch 7/100\n",
      "6/6 [==============================] - 0s 9ms/step - loss: 149.3307 - val_loss: 192.0272\n",
      "Epoch 8/100\n",
      "6/6 [==============================] - 0s 12ms/step - loss: 139.9843 - val_loss: 180.6733\n",
      "Epoch 9/100\n",
      "6/6 [==============================] - 0s 9ms/step - loss: 130.4216 - val_loss: 169.4004\n",
      "Epoch 10/100\n",
      "6/6 [==============================] - 0s 13ms/step - loss: 123.8646 - val_loss: 159.8041\n",
      "Epoch 11/100\n",
      "6/6 [==============================] - 0s 12ms/step - loss: 117.0423 - val_loss: 150.9757\n",
      "Epoch 12/100\n",
      "6/6 [==============================] - 0s 10ms/step - loss: 111.2383 - val_loss: 143.0391\n",
      "Epoch 13/100\n",
      "6/6 [==============================] - 0s 12ms/step - loss: 105.6778 - val_loss: 135.6447\n",
      "Epoch 14/100\n",
      "6/6 [==============================] - 0s 16ms/step - loss: 99.6968 - val_loss: 128.5653\n",
      "Epoch 15/100\n",
      "6/6 [==============================] - 0s 17ms/step - loss: 94.6115 - val_loss: 122.2883\n",
      "Epoch 16/100\n",
      "6/6 [==============================] - 0s 13ms/step - loss: 89.7182 - val_loss: 115.6423\n",
      "Epoch 17/100\n",
      "6/6 [==============================] - 0s 10ms/step - loss: 85.1269 - val_loss: 109.3100\n",
      "Epoch 18/100\n",
      "6/6 [==============================] - 0s 13ms/step - loss: 80.9467 - val_loss: 103.2849\n",
      "Epoch 19/100\n",
      "6/6 [==============================] - 0s 11ms/step - loss: 76.8484 - val_loss: 98.5194\n",
      "Epoch 20/100\n",
      "6/6 [==============================] - 0s 9ms/step - loss: 72.7258 - val_loss: 92.9896\n",
      "Epoch 21/100\n",
      "6/6 [==============================] - 0s 13ms/step - loss: 69.5424 - val_loss: 88.2999\n",
      "Epoch 22/100\n",
      "6/6 [==============================] - 0s 9ms/step - loss: 66.3943 - val_loss: 84.2214\n",
      "Epoch 23/100\n",
      "6/6 [==============================] - 0s 10ms/step - loss: 62.9346 - val_loss: 80.8629\n",
      "Epoch 24/100\n",
      "6/6 [==============================] - 0s 14ms/step - loss: 60.2327 - val_loss: 77.2625\n",
      "Epoch 25/100\n",
      "6/6 [==============================] - 0s 11ms/step - loss: 57.8021 - val_loss: 73.8115\n",
      "Epoch 26/100\n",
      "6/6 [==============================] - 0s 13ms/step - loss: 55.8023 - val_loss: 70.8328\n",
      "Epoch 27/100\n",
      "6/6 [==============================] - 0s 13ms/step - loss: 52.8967 - val_loss: 67.2559\n",
      "Epoch 28/100\n",
      "6/6 [==============================] - 0s 13ms/step - loss: 51.7092 - val_loss: 64.3154\n",
      "Epoch 29/100\n",
      "6/6 [==============================] - 0s 11ms/step - loss: 49.2902 - val_loss: 62.4173\n",
      "Epoch 30/100\n",
      "6/6 [==============================] - 0s 14ms/step - loss: 46.9225 - val_loss: 59.1726\n",
      "Epoch 31/100\n",
      "6/6 [==============================] - 0s 12ms/step - loss: 46.4365 - val_loss: 56.7251\n",
      "Epoch 32/100\n",
      "6/6 [==============================] - 0s 10ms/step - loss: 43.3122 - val_loss: 54.4209\n",
      "Epoch 33/100\n",
      "6/6 [==============================] - 0s 13ms/step - loss: 41.9112 - val_loss: 52.5545\n",
      "Epoch 34/100\n",
      "6/6 [==============================] - 0s 9ms/step - loss: 40.4153 - val_loss: 50.4546\n",
      "Epoch 35/100\n",
      "6/6 [==============================] - 0s 11ms/step - loss: 38.9121 - val_loss: 48.8160\n",
      "Epoch 36/100\n",
      "6/6 [==============================] - 0s 9ms/step - loss: 37.6235 - val_loss: 46.7839\n",
      "Epoch 37/100\n",
      "6/6 [==============================] - 0s 11ms/step - loss: 37.8461 - val_loss: 45.4736\n",
      "Epoch 38/100\n",
      "6/6 [==============================] - 0s 12ms/step - loss: 35.4003 - val_loss: 44.1124\n",
      "Epoch 39/100\n",
      "6/6 [==============================] - 0s 10ms/step - loss: 34.4846 - val_loss: 42.6019\n",
      "Epoch 40/100\n",
      "6/6 [==============================] - 0s 9ms/step - loss: 33.0546 - val_loss: 40.3880\n",
      "Epoch 41/100\n",
      "6/6 [==============================] - 0s 11ms/step - loss: 33.6580 - val_loss: 41.2306\n",
      "Epoch 42/100\n",
      "6/6 [==============================] - 0s 9ms/step - loss: 31.8565 - val_loss: 38.0767\n",
      "Epoch 43/100\n",
      "6/6 [==============================] - 0s 12ms/step - loss: 31.3686 - val_loss: 37.6920\n",
      "Epoch 44/100\n",
      "6/6 [==============================] - 0s 9ms/step - loss: 28.7458 - val_loss: 36.1249\n",
      "Epoch 45/100\n",
      "6/6 [==============================] - 0s 13ms/step - loss: 30.7164 - val_loss: 34.5513\n",
      "Epoch 46/100\n",
      "6/6 [==============================] - 0s 12ms/step - loss: 27.3270 - val_loss: 36.2224\n",
      "Epoch 47/100\n",
      "6/6 [==============================] - 0s 9ms/step - loss: 28.2056 - val_loss: 32.2007\n",
      "Epoch 48/100\n",
      "6/6 [==============================] - 0s 12ms/step - loss: 26.9308 - val_loss: 31.6514\n",
      "Epoch 49/100\n",
      "6/6 [==============================] - 0s 9ms/step - loss: 25.7168 - val_loss: 30.4666\n",
      "Epoch 50/100\n",
      "6/6 [==============================] - 0s 13ms/step - loss: 24.6078 - val_loss: 29.2700\n",
      "Epoch 51/100\n",
      "6/6 [==============================] - 0s 12ms/step - loss: 23.8490 - val_loss: 28.6947\n",
      "Epoch 52/100\n",
      "6/6 [==============================] - 0s 10ms/step - loss: 23.5809 - val_loss: 27.5296\n",
      "Epoch 53/100\n",
      "6/6 [==============================] - 0s 12ms/step - loss: 22.8602 - val_loss: 26.6795\n",
      "Epoch 54/100\n",
      "6/6 [==============================] - 0s 9ms/step - loss: 21.9229 - val_loss: 25.9426\n",
      "Epoch 55/100\n",
      "6/6 [==============================] - 0s 11ms/step - loss: 21.4821 - val_loss: 25.4085\n",
      "Epoch 56/100\n",
      "6/6 [==============================] - 0s 12ms/step - loss: 20.8803 - val_loss: 24.7717\n",
      "Epoch 57/100\n",
      "6/6 [==============================] - 0s 10ms/step - loss: 20.4301 - val_loss: 23.7051\n",
      "Epoch 58/100\n",
      "6/6 [==============================] - 0s 19ms/step - loss: 19.8410 - val_loss: 23.0973\n",
      "Epoch 59/100\n",
      "6/6 [==============================] - 0s 12ms/step - loss: 19.3297 - val_loss: 22.6792\n",
      "Epoch 60/100\n",
      "6/6 [==============================] - 0s 12ms/step - loss: 18.9327 - val_loss: 21.8964\n",
      "Epoch 61/100\n",
      "6/6 [==============================] - 0s 10ms/step - loss: 18.3290 - val_loss: 21.2908\n",
      "Epoch 62/100\n",
      "6/6 [==============================] - 0s 13ms/step - loss: 18.1086 - val_loss: 20.8462\n",
      "Epoch 63/100\n",
      "6/6 [==============================] - 0s 14ms/step - loss: 17.6738 - val_loss: 20.1676\n",
      "Epoch 64/100\n",
      "6/6 [==============================] - 0s 10ms/step - loss: 17.1841 - val_loss: 19.7101\n",
      "Epoch 65/100\n",
      "6/6 [==============================] - 0s 12ms/step - loss: 17.1530 - val_loss: 19.7119\n",
      "Epoch 66/100\n",
      "6/6 [==============================] - 0s 12ms/step - loss: 16.7916 - val_loss: 19.2186\n",
      "Epoch 67/100\n",
      "6/6 [==============================] - 0s 10ms/step - loss: 17.2660 - val_loss: 19.2071\n",
      "Epoch 68/100\n",
      "6/6 [==============================] - 0s 12ms/step - loss: 15.8384 - val_loss: 18.4508\n",
      "Epoch 69/100\n",
      "6/6 [==============================] - 0s 10ms/step - loss: 15.8351 - val_loss: 17.7651\n",
      "Epoch 70/100\n",
      "6/6 [==============================] - 0s 12ms/step - loss: 15.8569 - val_loss: 17.5704\n",
      "Epoch 71/100\n",
      "6/6 [==============================] - 0s 10ms/step - loss: 15.9919 - val_loss: 19.9705\n",
      "Epoch 72/100\n",
      "6/6 [==============================] - 0s 16ms/step - loss: 15.5767 - val_loss: 17.7557\n",
      "Epoch 73/100\n",
      "6/6 [==============================] - 0s 15ms/step - loss: 15.0343 - val_loss: 16.8240\n",
      "Epoch 74/100\n",
      "6/6 [==============================] - 0s 20ms/step - loss: 14.4082 - val_loss: 16.7325\n",
      "Epoch 75/100\n",
      "6/6 [==============================] - 0s 14ms/step - loss: 14.2574 - val_loss: 16.6338\n",
      "Epoch 76/100\n",
      "6/6 [==============================] - 0s 10ms/step - loss: 14.1332 - val_loss: 15.9357\n",
      "Epoch 77/100\n",
      "6/6 [==============================] - 0s 10ms/step - loss: 13.9260 - val_loss: 15.3770\n",
      "Epoch 78/100\n",
      "6/6 [==============================] - 0s 10ms/step - loss: 13.4359 - val_loss: 15.1467\n",
      "Epoch 79/100\n",
      "6/6 [==============================] - 0s 12ms/step - loss: 13.1816 - val_loss: 15.4591\n",
      "Epoch 80/100\n",
      "6/6 [==============================] - 0s 10ms/step - loss: 13.6054 - val_loss: 14.9920\n",
      "Epoch 81/100\n",
      "6/6 [==============================] - 0s 13ms/step - loss: 12.8449 - val_loss: 14.4121\n",
      "Epoch 82/100\n",
      "6/6 [==============================] - 0s 11ms/step - loss: 12.5815 - val_loss: 14.1594\n",
      "Epoch 83/100\n",
      "6/6 [==============================] - 0s 9ms/step - loss: 12.5072 - val_loss: 14.1542\n",
      "Epoch 84/100\n",
      "6/6 [==============================] - 0s 10ms/step - loss: 12.3918 - val_loss: 14.0561\n",
      "Epoch 85/100\n",
      "6/6 [==============================] - 0s 10ms/step - loss: 12.3412 - val_loss: 13.9768\n",
      "Epoch 86/100\n",
      "6/6 [==============================] - 0s 14ms/step - loss: 12.2466 - val_loss: 13.7572\n",
      "Epoch 87/100\n",
      "6/6 [==============================] - 0s 9ms/step - loss: 11.9368 - val_loss: 13.4201\n",
      "Epoch 88/100\n",
      "6/6 [==============================] - 0s 10ms/step - loss: 12.0217 - val_loss: 13.3353\n",
      "Epoch 89/100\n",
      "6/6 [==============================] - 0s 14ms/step - loss: 11.8128 - val_loss: 13.2457\n",
      "Epoch 90/100\n",
      "6/6 [==============================] - 0s 11ms/step - loss: 12.8781 - val_loss: 13.1312\n",
      "Epoch 91/100\n",
      "6/6 [==============================] - 0s 11ms/step - loss: 12.1827 - val_loss: 13.3120\n",
      "Epoch 92/100\n",
      "6/6 [==============================] - 0s 14ms/step - loss: 11.5964 - val_loss: 12.8450\n",
      "Epoch 93/100\n",
      "6/6 [==============================] - 0s 15ms/step - loss: 11.5394 - val_loss: 13.5238\n",
      "Epoch 94/100\n",
      "6/6 [==============================] - 0s 10ms/step - loss: 11.6363 - val_loss: 12.9392\n",
      "Epoch 95/100\n",
      "6/6 [==============================] - 0s 11ms/step - loss: 11.5622 - val_loss: 12.3756\n",
      "Epoch 96/100\n",
      "6/6 [==============================] - 0s 10ms/step - loss: 11.4258 - val_loss: 12.2950\n",
      "Epoch 97/100\n",
      "6/6 [==============================] - 0s 11ms/step - loss: 11.1386 - val_loss: 12.4717\n",
      "Epoch 98/100\n",
      "6/6 [==============================] - 0s 14ms/step - loss: 10.9883 - val_loss: 11.9359\n",
      "Epoch 99/100\n",
      "6/6 [==============================] - 0s 11ms/step - loss: 10.8176 - val_loss: 11.8281\n",
      "Epoch 100/100\n",
      "6/6 [==============================] - 0s 12ms/step - loss: 10.8215 - val_loss: 12.1941\n"
     ]
    }
   ],
   "source": [
    "model.compile(optimizer=Adam(lr=0.01),loss='mse')\n",
    "history = model.fit(x_train, y_train, epochs=100, validation_split=0.2).history"
   ]
  },
  {
   "cell_type": "code",
   "execution_count": 24,
   "metadata": {
    "id": "swuGX9eHftOt"
   },
   "outputs": [
    {
     "data": {
      "image/png": "[encoded data removed]",
      "text/plain": [
       "<Figure size 720x432 with 1 Axes>"
      ]
     },
     "metadata": {
      "needs_background": "light"
     },
     "output_type": "display_data"
    }
   ],
   "source": [
    "# 학습 곡선을 그려봅시다.\n",
    "dl_history_plot(history)"
   ]
  },
  {
   "cell_type": "markdown",
   "metadata": {
    "id": "zh--N4NsdQ92"
   },
   "source": [
    "### (4) 예측 및 평가"
   ]
  },
  {
   "cell_type": "code",
   "execution_count": 25,
   "metadata": {
    "id": "LWS_89I0OUdt"
   },
   "outputs": [
    {
     "name": "stdout",
     "output_type": "stream",
     "text": [
      "2/2 [==============================] - 0s 3ms/step\n"
     ]
    }
   ],
   "source": [
    "# 예측\n",
    "pred = model.predict(x_val)"
   ]
  },
  {
   "cell_type": "code",
   "execution_count": 26,
   "metadata": {
    "id": "u_r_Ne3pOL9W"
   },
   "outputs": [
    {
     "name": "stdout",
     "output_type": "stream",
     "text": [
      "3.0040804437157895\n",
      "0.6888482685230203\n"
     ]
    }
   ],
   "source": [
    "# 평가\n",
    "print(mean_absolute_error(y_val, pred))\n",
    "print(mean_absolute_percentage_error(y_val, pred))"
   ]
  },
  {
   "cell_type": "code",
   "execution_count": null,
   "metadata": {},
   "outputs": [],
   "source": [
    "# 예측한 기온과 실제 기온의 차이가 평균+- 3도 차이난다"
   ]
  },
  {
   "cell_type": "code",
   "execution_count": 27,
   "metadata": {
    "id": "RESCGrjdc31F"
   },
   "outputs": [
    {
     "data": {
      "image/png": "[encoded data removed]",
      "text/plain": [
       "<Figure size 720x432 with 1 Axes>"
      ]
     },
     "metadata": {
      "needs_background": "light"
     },
     "output_type": "display_data"
    }
   ],
   "source": [
    "plt.figure(figsize = (10,6))\n",
    "plt.plot(y_val, label = 'actual')\n",
    "plt.plot(pred, label = 'predicted')\n",
    "plt.legend()\n",
    "plt.grid()\n",
    "plt.show()"
   ]
  },
  {
   "cell_type": "markdown",
   "metadata": {
    "id": "KX8VHt_ugJr1"
   },
   "source": [
    "## 5.RNN 모델링②"
   ]
  },
  {
   "cell_type": "markdown",
   "metadata": {
    "id": "zTvOl5pNckNr"
   },
   "source": [
    "### (1) 입력 구조(shape)\n",
    "* 분석 단위 : 2차원 ( timesteps, nfeatures)"
   ]
  },
  {
   "cell_type": "code",
   "execution_count": null,
   "metadata": {
    "id": "ayxsNh1zckN1"
   },
   "outputs": [],
   "source": [
    "timestep = x_train.shape[1]\n",
    "nfeatures = x_train.shape[2]"
   ]
  },
  {
   "cell_type": "markdown",
   "metadata": {
    "id": "fga6H3BWgJr8"
   },
   "source": [
    "### (2) 모델 구조 설계\n",
    "* 이제 RNN 레이어를 추가해 봅시다.\n",
    "    * SimpleRNN(8, input_shape = (timestep, nfeatures), return_sequences = True)\n",
    "    * SimpleRNN(4)\n",
    "    * Dense(1)"
   ]
  },
  {
   "cell_type": "code",
   "execution_count": null,
   "metadata": {
    "id": "S69lPaUUgJr8"
   },
   "outputs": [],
   "source": []
  },
  {
   "cell_type": "markdown",
   "metadata": {
    "id": "ZX74x2f9gJr8"
   },
   "source": [
    "### (3) 컴파일 및 학습\n",
    "* 학습을 위한 조건은 직접 조정해 봅시다."
   ]
  },
  {
   "cell_type": "code",
   "execution_count": null,
   "metadata": {
    "id": "cn5bTlXNgJr9"
   },
   "outputs": [],
   "source": []
  },
  {
   "cell_type": "code",
   "execution_count": null,
   "metadata": {
    "id": "1m9anIAYgJr9"
   },
   "outputs": [],
   "source": []
  },
  {
   "cell_type": "markdown",
   "metadata": {
    "id": "O7h4WkwqgJr9"
   },
   "source": [
    "### (4) 예측 및 평가"
   ]
  },
  {
   "cell_type": "code",
   "execution_count": null,
   "metadata": {
    "id": "eTiQwOorgJr9"
   },
   "outputs": [],
   "source": []
  },
  {
   "cell_type": "code",
   "execution_count": null,
   "metadata": {
    "id": "d35sQb8WdEWY"
   },
   "outputs": [],
   "source": []
  },
  {
   "cell_type": "code",
   "execution_count": null,
   "metadata": {
    "id": "PfzwmFxAdEWZ"
   },
   "outputs": [],
   "source": []
  },
  {
   "cell_type": "markdown",
   "metadata": {
    "id": "1jq00SnrdtMs"
   },
   "source": [
    "## 6.RNN 모델링③\n",
    "* 5번 모델의 SimpleRNN을 LSTM 로 이름만 바꿔봅시다."
   ]
  },
  {
   "cell_type": "markdown",
   "metadata": {
    "id": "ZySBfIFleFwr"
   },
   "source": [
    "### (1) 데이터 준비"
   ]
  },
  {
   "cell_type": "markdown",
   "metadata": {
    "id": "OtzWRywXeKFu"
   },
   "source": [
    "* timestep "
   ]
  },
  {
   "cell_type": "code",
   "execution_count": null,
   "metadata": {
    "id": "qeOwDncHeJkr"
   },
   "outputs": [],
   "source": [
    "timestep = \n",
    "x2, y2 = temporalize(x, y, timestep)\n",
    "x2.shape, y2.shape"
   ]
  },
  {
   "cell_type": "markdown",
   "metadata": {
    "id": "RIRPK0zQeJks"
   },
   "source": [
    "* 데이터 분할"
   ]
  },
  {
   "cell_type": "code",
   "execution_count": null,
   "metadata": {
    "id": "kj0Cvx27eJks"
   },
   "outputs": [],
   "source": [
    "x_train, x_val, y_train, y_val = train_test_split(x2, y2, test_size= 53, shuffle = False)"
   ]
  },
  {
   "cell_type": "markdown",
   "metadata": {
    "id": "Xruh-O1TdtMy"
   },
   "source": [
    "### (2) 입력 구조(shape)\n",
    "* 분석 단위 : 2차원 ( timesteps, nfeatures)"
   ]
  },
  {
   "cell_type": "code",
   "execution_count": null,
   "metadata": {
    "id": "3omVXyBAdtMy"
   },
   "outputs": [],
   "source": [
    "timestep = x_train.shape[1]\n",
    "nfeatures = x_train.shape[2]"
   ]
  },
  {
   "cell_type": "markdown",
   "metadata": {
    "id": "J-drSvMfdtMz"
   },
   "source": [
    "### (3) 모델 구조 설계\n"
   ]
  },
  {
   "cell_type": "code",
   "execution_count": null,
   "metadata": {
    "id": "Ld7JUL4OdtMz"
   },
   "outputs": [],
   "source": []
  },
  {
   "cell_type": "markdown",
   "metadata": {
    "id": "EC1xkJTedtMz"
   },
   "source": [
    "### (4) 컴파일 및 학습"
   ]
  },
  {
   "cell_type": "code",
   "execution_count": null,
   "metadata": {
    "id": "rN8RT375dtMz"
   },
   "outputs": [],
   "source": []
  },
  {
   "cell_type": "code",
   "execution_count": null,
   "metadata": {
    "id": "uA37S8gKdtMz"
   },
   "outputs": [],
   "source": []
  },
  {
   "cell_type": "markdown",
   "metadata": {
    "id": "k0QCvmD8dtM0"
   },
   "source": [
    "### (5) 예측 및 평가"
   ]
  },
  {
   "cell_type": "code",
   "execution_count": null,
   "metadata": {
    "id": "NHbJwfOidtM0"
   },
   "outputs": [],
   "source": []
  },
  {
   "cell_type": "code",
   "execution_count": null,
   "metadata": {
    "id": "rNJl86SSdtM0"
   },
   "outputs": [],
   "source": []
  },
  {
   "cell_type": "code",
   "execution_count": null,
   "metadata": {
    "id": "ajvBig5gdtM1"
   },
   "outputs": [],
   "source": []
  },
  {
   "cell_type": "code",
   "execution_count": null,
   "metadata": {
    "id": "uQMA-Sjle_zz"
   },
   "outputs": [],
   "source": []
  },
  {
   "cell_type": "markdown",
   "metadata": {
    "id": "h2PzPKNjuitM"
   },
   "source": [
    "## 7.자유롭게 모델링~!\n",
    "* 다음 항목을 조정하며 모델링을 수행해 봅시다.\n",
    "    * timestep\n",
    "    * 레이어와 노드수\n",
    "    * learning_rate, epochs\n"
   ]
  },
  {
   "cell_type": "markdown",
   "metadata": {
    "id": "oZAOpVAluitT"
   },
   "source": [
    "### (1) 데이터 준비"
   ]
  },
  {
   "cell_type": "markdown",
   "metadata": {
    "id": "arWbACSzuitT"
   },
   "source": [
    "* timestep "
   ]
  },
  {
   "cell_type": "code",
   "execution_count": null,
   "metadata": {
    "id": "HPqa4wUTuitT"
   },
   "outputs": [],
   "source": [
    "timestep = \n",
    "x2, y2 = temporalize(x, y, timestep)\n",
    "x2.shape, y2.shape"
   ]
  },
  {
   "cell_type": "markdown",
   "metadata": {
    "id": "EjFM6KVTuitT"
   },
   "source": [
    "* 데이터 분할"
   ]
  },
  {
   "cell_type": "code",
   "execution_count": null,
   "metadata": {
    "id": "2R6Qou6PuitT"
   },
   "outputs": [],
   "source": [
    "x_train, x_val, y_train, y_val = train_test_split(x2, y2, test_size= 53, shuffle = False)"
   ]
  },
  {
   "cell_type": "markdown",
   "metadata": {
    "id": "sSfr-43euitT"
   },
   "source": [
    "### (2) 입력 구조(shape)\n",
    "* 분석 단위 : 2차원 ( timesteps, nfeatures)"
   ]
  },
  {
   "cell_type": "code",
   "execution_count": null,
   "metadata": {
    "id": "3X_EUQCkuitT"
   },
   "outputs": [],
   "source": [
    "timestep = x_train.shape[1]\n",
    "nfeatures = x_train.shape[2]"
   ]
  },
  {
   "cell_type": "markdown",
   "metadata": {
    "id": "6fADxCB2uitT"
   },
   "source": [
    "### (3) 모델 구조 설계\n"
   ]
  },
  {
   "cell_type": "code",
   "execution_count": null,
   "metadata": {
    "id": "R2dg64youitT"
   },
   "outputs": [],
   "source": []
  },
  {
   "cell_type": "markdown",
   "metadata": {
    "id": "lP-1AkmRuitU"
   },
   "source": [
    "### (4) 컴파일 및 학습"
   ]
  },
  {
   "cell_type": "code",
   "execution_count": null,
   "metadata": {
    "id": "VZ7boICJuitU"
   },
   "outputs": [],
   "source": []
  },
  {
   "cell_type": "code",
   "execution_count": null,
   "metadata": {
    "id": "Ylx-1IssuitU"
   },
   "outputs": [],
   "source": []
  },
  {
   "cell_type": "markdown",
   "metadata": {
    "id": "-P2-M1jSuitU"
   },
   "source": [
    "### (5) 예측 및 평가"
   ]
  },
  {
   "cell_type": "code",
   "execution_count": null,
   "metadata": {
    "id": "nI-1idSLuitU"
   },
   "outputs": [],
   "source": []
  },
  {
   "cell_type": "code",
   "execution_count": null,
   "metadata": {
    "id": "o7ocqpWouitU"
   },
   "outputs": [],
   "source": []
  },
  {
   "cell_type": "code",
   "execution_count": null,
   "metadata": {
    "id": "q7WzQ7fIuitU"
   },
   "outputs": [],
   "source": []
  },
  {
   "cell_type": "code",
   "execution_count": null,
   "metadata": {
    "id": "LIeWDJnluitU"
   },
   "outputs": [],
   "source": []
  }
 ],
 "metadata": {
  "colab": {
   "collapsed_sections": [],
   "provenance": [],
   "toc_visible": true
  },
  "kernelspec": {
   "display_name": "Python 3",
   "language": "python",
   "name": "python3"
  },
  "language_info": {
   "codemirror_mode": {
    "name": "ipython",
    "version": 3
   },
   "file_extension": ".py",
   "mimetype": "text/x-python",
   "name": "python",
   "nbconvert_exporter": "python",
   "pygments_lexer": "ipython3",
   "version": "3.8.8"
  }
 },
 "nbformat": 4,
 "nbformat_minor": 4
}
