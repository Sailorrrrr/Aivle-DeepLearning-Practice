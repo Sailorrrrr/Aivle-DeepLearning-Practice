{
 "cells": [
  {
   "cell_type": "markdown",
   "metadata": {},
   "source": [
    "# 머신러닝 Rogistic Regression 모델과 딥러닝 분류모델 비교 "
   ]
  },
  {
   "cell_type": "markdown",
   "metadata": {
    "id": "cVB9pY-v8uv5"
   },
   "source": [
    "# Classification : 2 Class"
   ]
  },
  {
   "cell_type": "markdown",
   "metadata": {
    "id": "gIN5d51gtker"
   },
   "source": [
    "## 1.환경준비"
   ]
  },
  {
   "cell_type": "markdown",
   "metadata": {
    "id": "98K82DAxvX6I"
   },
   "source": [
    "### (1) 라이브러리 로딩"
   ]
  },
  {
   "cell_type": "code",
   "execution_count": 1,
   "metadata": {
    "id": "GVvCef6A8uv6"
   },
   "outputs": [],
   "source": [
    "import pandas as pd\n",
    "import numpy as np\n",
    "import matplotlib.pyplot as plt\n",
    "import seaborn as sns\n",
    "\n",
    "from sklearn.model_selection import train_test_split\n",
    "from sklearn.metrics import *\n",
    "from sklearn.preprocessing import StandardScaler, MinMaxScaler\n",
    "\n",
    "import tensorflow as tf\n",
    "from keras.models import Sequential\n",
    "from keras.layers import Dense\n",
    "from keras.backend import clear_session\n",
    "from tensorflow.keras.optimizers import Adam"
   ]
  },
  {
   "cell_type": "code",
   "execution_count": 2,
   "metadata": {
    "id": "72l5YwHqniSS"
   },
   "outputs": [],
   "source": [
    "# 함수로 만들어서 사용합시다.\n",
    "def dl_history_plot(history):\n",
    "    plt.figure(figsize=(10,6))\n",
    "    plt.plot(history['loss'], label='train_err')\n",
    "    plt.plot(history['val_loss'], label='val_err')\n",
    "\n",
    "    plt.ylabel('Loss')\n",
    "    plt.xlabel('Epoch')\n",
    "    plt.legend()\n",
    "    plt.grid()\n",
    "    plt.show()"
   ]
  },
  {
   "cell_type": "markdown",
   "metadata": {
    "id": "6wuqykgvviCc"
   },
   "source": [
    "### (2) 데이터로딩"
   ]
  },
  {
   "cell_type": "code",
   "execution_count": 3,
   "metadata": {
    "id": "Vqr7zY5r8uwC"
   },
   "outputs": [
    {
     "data": {
      "text/html": [
       "<div>\n",
       "<style scoped>\n",
       "    .dataframe tbody tr th:only-of-type {\n",
       "        vertical-align: middle;\n",
       "    }\n",
       "\n",
       "    .dataframe tbody tr th {\n",
       "        vertical-align: top;\n",
       "    }\n",
       "\n",
       "    .dataframe thead th {\n",
       "        text-align: right;\n",
       "    }\n",
       "</style>\n",
       "<table border=\"1\" class=\"dataframe\">\n",
       "  <thead>\n",
       "    <tr style=\"text-align: right;\">\n",
       "      <th></th>\n",
       "      <th>Survived</th>\n",
       "      <th>Pclass</th>\n",
       "      <th>Sex</th>\n",
       "      <th>Age</th>\n",
       "      <th>Fare</th>\n",
       "      <th>Embarked</th>\n",
       "      <th>Family</th>\n",
       "    </tr>\n",
       "  </thead>\n",
       "  <tbody>\n",
       "    <tr>\n",
       "      <th>0</th>\n",
       "      <td>0</td>\n",
       "      <td>3</td>\n",
       "      <td>male</td>\n",
       "      <td>22.0</td>\n",
       "      <td>7.2500</td>\n",
       "      <td>S</td>\n",
       "      <td>2</td>\n",
       "    </tr>\n",
       "    <tr>\n",
       "      <th>1</th>\n",
       "      <td>1</td>\n",
       "      <td>1</td>\n",
       "      <td>female</td>\n",
       "      <td>38.0</td>\n",
       "      <td>71.2833</td>\n",
       "      <td>C</td>\n",
       "      <td>2</td>\n",
       "    </tr>\n",
       "    <tr>\n",
       "      <th>2</th>\n",
       "      <td>1</td>\n",
       "      <td>3</td>\n",
       "      <td>female</td>\n",
       "      <td>26.0</td>\n",
       "      <td>7.9250</td>\n",
       "      <td>S</td>\n",
       "      <td>1</td>\n",
       "    </tr>\n",
       "    <tr>\n",
       "      <th>3</th>\n",
       "      <td>1</td>\n",
       "      <td>1</td>\n",
       "      <td>female</td>\n",
       "      <td>35.0</td>\n",
       "      <td>53.1000</td>\n",
       "      <td>S</td>\n",
       "      <td>2</td>\n",
       "    </tr>\n",
       "    <tr>\n",
       "      <th>4</th>\n",
       "      <td>0</td>\n",
       "      <td>3</td>\n",
       "      <td>male</td>\n",
       "      <td>35.0</td>\n",
       "      <td>8.0500</td>\n",
       "      <td>S</td>\n",
       "      <td>1</td>\n",
       "    </tr>\n",
       "  </tbody>\n",
       "</table>\n",
       "</div>"
      ],
      "text/plain": [
       "   Survived  Pclass     Sex   Age     Fare Embarked  Family\n",
       "0         0       3    male  22.0   7.2500        S       2\n",
       "1         1       1  female  38.0  71.2833        C       2\n",
       "2         1       3  female  26.0   7.9250        S       1\n",
       "3         1       1  female  35.0  53.1000        S       2\n",
       "4         0       3    male  35.0   8.0500        S       1"
      ]
     },
     "execution_count": 3,
     "metadata": {},
     "output_type": "execute_result"
    }
   ],
   "source": [
    "path = \"https://raw.githubusercontent.com/DA4BAM/dataset/master/titanic.3.csv\"\n",
    "data = pd.read_csv(path)\n",
    "data.drop(['Age_scale1', 'AgeGroup', 'SibSp','Parch' ], axis = 1, inplace = True)\n",
    "data.head()"
   ]
  },
  {
   "cell_type": "markdown",
   "metadata": {
    "id": "_vRHWCJJooH1"
   },
   "source": [
    "## 2.데이터 준비"
   ]
  },
  {
   "cell_type": "markdown",
   "metadata": {
    "id": "iM0QyWea1Mcz"
   },
   "source": [
    "Sex, Age, Fare 만 이용하여 Survived 를 예측하는 모델을 만들어 봅시다."
   ]
  },
  {
   "cell_type": "markdown",
   "metadata": {
    "id": "rnC3UP6tooH8"
   },
   "source": [
    "### (1) 데이터 분할1 : x, y 나누기"
   ]
  },
  {
   "cell_type": "code",
   "execution_count": 7,
   "metadata": {
    "id": "3Db08v8qooH8"
   },
   "outputs": [],
   "source": [
    "target = 'Survived'\n",
    "features = ['Sex', 'Age', 'Fare']\n",
    "X = data.loc[:, features]\n",
    "y = data.loc[:, target]"
   ]
  },
  {
   "cell_type": "markdown",
   "metadata": {
    "id": "4iYFd7UXooH8"
   },
   "source": [
    "### (2) 변수정리"
   ]
  },
  {
   "cell_type": "markdown",
   "metadata": {
    "id": "mmbu-Bs0ooH9"
   },
   "source": [
    "### (3) NA 조치"
   ]
  },
  {
   "cell_type": "markdown",
   "metadata": {
    "id": "9Z8UDHYpooH9"
   },
   "source": [
    "### (4) 가변수화"
   ]
  },
  {
   "cell_type": "code",
   "execution_count": 5,
   "metadata": {
    "id": "N6NdAXjXo_oe"
   },
   "outputs": [
    {
     "data": {
      "text/html": [
       "<div>\n",
       "<style scoped>\n",
       "    .dataframe tbody tr th:only-of-type {\n",
       "        vertical-align: middle;\n",
       "    }\n",
       "\n",
       "    .dataframe tbody tr th {\n",
       "        vertical-align: top;\n",
       "    }\n",
       "\n",
       "    .dataframe thead th {\n",
       "        text-align: right;\n",
       "    }\n",
       "</style>\n",
       "<table border=\"1\" class=\"dataframe\">\n",
       "  <thead>\n",
       "    <tr style=\"text-align: right;\">\n",
       "      <th></th>\n",
       "      <th>Age</th>\n",
       "      <th>Fare</th>\n",
       "      <th>Sex_male</th>\n",
       "    </tr>\n",
       "  </thead>\n",
       "  <tbody>\n",
       "    <tr>\n",
       "      <th>0</th>\n",
       "      <td>22.0</td>\n",
       "      <td>7.2500</td>\n",
       "      <td>1</td>\n",
       "    </tr>\n",
       "    <tr>\n",
       "      <th>1</th>\n",
       "      <td>38.0</td>\n",
       "      <td>71.2833</td>\n",
       "      <td>0</td>\n",
       "    </tr>\n",
       "    <tr>\n",
       "      <th>2</th>\n",
       "      <td>26.0</td>\n",
       "      <td>7.9250</td>\n",
       "      <td>0</td>\n",
       "    </tr>\n",
       "    <tr>\n",
       "      <th>3</th>\n",
       "      <td>35.0</td>\n",
       "      <td>53.1000</td>\n",
       "      <td>0</td>\n",
       "    </tr>\n",
       "    <tr>\n",
       "      <th>4</th>\n",
       "      <td>35.0</td>\n",
       "      <td>8.0500</td>\n",
       "      <td>1</td>\n",
       "    </tr>\n",
       "  </tbody>\n",
       "</table>\n",
       "</div>"
      ],
      "text/plain": [
       "    Age     Fare  Sex_male\n",
       "0  22.0   7.2500         1\n",
       "1  38.0  71.2833         0\n",
       "2  26.0   7.9250         0\n",
       "3  35.0  53.1000         0\n",
       "4  35.0   8.0500         1"
      ]
     },
     "execution_count": 5,
     "metadata": {},
     "output_type": "execute_result"
    }
   ],
   "source": [
    "x = pd.get_dummies(x, columns = ['Sex'], drop_first = True)\n",
    "x.head()"
   ]
  },
  {
   "cell_type": "markdown",
   "metadata": {
    "id": "KsGGC-a4vpar"
   },
   "source": [
    "### (5) 데이터분할2"
   ]
  },
  {
   "cell_type": "code",
   "execution_count": 9,
   "metadata": {
    "id": "7ilUcIlvvrqR"
   },
   "outputs": [],
   "source": [
    "x_train, x_val, y_train, y_val = train_test_split(x, y, test_size=.3, random_state = 2022)"
   ]
  },
  {
   "cell_type": "markdown",
   "metadata": {
    "id": "ktpEGtEBooH9"
   },
   "source": [
    "### (6) Scaling"
   ]
  },
  {
   "cell_type": "code",
   "execution_count": 10,
   "metadata": {
    "id": "UWQUSWh6ooH9"
   },
   "outputs": [],
   "source": [
    "scaler = MinMaxScaler()\n",
    "x_train = scaler.fit_transform(x_train)\n",
    "x_val = scaler.transform(x_val)"
   ]
  },
  {
   "cell_type": "markdown",
   "metadata": {
    "id": "BYr1vtpd8uw4"
   },
   "source": [
    "## 3.Logistic Regression vs. DL (딥러닝)"
   ]
  },
  {
   "cell_type": "markdown",
   "metadata": {
    "id": "9xfSXhuJZvh0"
   },
   "source": [
    "### (1) Logistic Regression"
   ]
  },
  {
   "cell_type": "code",
   "execution_count": 11,
   "metadata": {
    "id": "B-ucQp8m8W5K"
   },
   "outputs": [
    {
     "name": "stdout",
     "output_type": "stream",
     "text": [
      "['Age', 'Fare', 'Sex_male']\n"
     ]
    },
    {
     "data": {
      "text/plain": [
       "(array([[-0.77410527,  2.37435574, -2.2852748 ]]), array([1.07844411]))"
      ]
     },
     "execution_count": 11,
     "metadata": {},
     "output_type": "execute_result"
    }
   ],
   "source": [
    "from sklearn.linear_model import LogisticRegression\n",
    "model1 = LogisticRegression()\n",
    "\n",
    "model1.fit(x_train, y_train)\n",
    "print(list(x))\n",
    "model1.coef_, model1.intercept_"
   ]
  },
  {
   "cell_type": "code",
   "execution_count": 22,
   "metadata": {},
   "outputs": [],
   "source": [
    "# 나이가 많을수록, fare가 적을수록, 남자일수록 많이 죽었다는걸 가중치만으로 해석할 수 있음."
   ]
  },
  {
   "cell_type": "code",
   "execution_count": 12,
   "metadata": {
    "id": "_p-QxKSVR7Df"
   },
   "outputs": [],
   "source": [
    "pred1 = model1.predict(x_val)"
   ]
  },
  {
   "cell_type": "markdown",
   "metadata": {
    "id": "w-4v_7vcSAZk"
   },
   "source": [
    "### (2) DL"
   ]
  },
  {
   "cell_type": "markdown",
   "metadata": {
    "id": "zpNHJNMB2Y93"
   },
   "source": [
    "* 모델 설계"
   ]
  },
  {
   "cell_type": "code",
   "execution_count": 13,
   "metadata": {
    "id": "BQRCR2cCfl4n"
   },
   "outputs": [
    {
     "data": {
      "text/plain": [
       "3"
      ]
     },
     "execution_count": 13,
     "metadata": {},
     "output_type": "execute_result"
    }
   ],
   "source": [
    "nfeatures = x_train.shape[1] #num of columns\n",
    "nfeatures"
   ]
  },
  {
   "cell_type": "code",
   "execution_count": 14,
   "metadata": {
    "id": "3oxyCQiW2Y93"
   },
   "outputs": [
    {
     "name": "stdout",
     "output_type": "stream",
     "text": [
      "Model: \"sequential\"\n",
      "_________________________________________________________________\n",
      " Layer (type)                Output Shape              Param #   \n",
      "=================================================================\n",
      " dense (Dense)               (None, 1)                 4         \n",
      "                                                                 \n",
      "=================================================================\n",
      "Total params: 4\n",
      "Trainable params: 4\n",
      "Non-trainable params: 0\n",
      "_________________________________________________________________\n"
     ]
    }
   ],
   "source": [
    "# 메모리 정리\n",
    "clear_session()\n",
    "\n",
    "# Sequential 타입 모델 선언\n",
    "model2 = Sequential()\n",
    "\n",
    "# Layer 정의\n",
    "layer = Dense(1, input_shape = (nfeatures,), activation= 'sigmoid')  \n",
    "# 이렇게 레이어 설계해주면 rogisticregression모델로 학습할때와 똑같은 메커니즘 띄게 된다. (둘 다 시그모이드 함수 통하니까)\n",
    "# 물론 할당되는 가중치 값은 다를것이다. \n",
    "# 딥러닝은 여러 hidden layer층을 둬야 머신러닝과 다른 의미를 갖게 되겠지..? \n",
    "# 모델에 추가\n",
    "model2.add(layer)\n",
    "\n",
    "# 모델요약\n",
    "model2.summary()"
   ]
  },
  {
   "cell_type": "markdown",
   "metadata": {
    "id": "p9pnMdXE2Y93"
   },
   "source": [
    "* compile + 학습"
   ]
  },
  {
   "cell_type": "code",
   "execution_count": 15,
   "metadata": {
    "collapsed": true,
    "id": "DZhoXG0a2Y94",
    "jupyter": {
     "outputs_hidden": true
    },
    "tags": []
   },
   "outputs": [
    {
     "name": "stdout",
     "output_type": "stream",
     "text": [
      "Epoch 1/60\n"
     ]
    },
    {
     "name": "stderr",
     "output_type": "stream",
     "text": [
      "C:\\Users\\User\\anaconda3\\lib\\site-packages\\keras\\optimizers\\optimizer_v2\\adam.py:114: UserWarning: The `lr` argument is deprecated, use `learning_rate` instead.\n",
      "  super().__init__(name, **kwargs)\n"
     ]
    },
    {
     "name": "stdout",
     "output_type": "stream",
     "text": [
      "16/16 [==============================] - 1s 15ms/step - loss: 0.5783 - val_loss: 0.5530\n",
      "Epoch 2/60\n",
      "16/16 [==============================] - 0s 5ms/step - loss: 0.5656 - val_loss: 0.5439\n",
      "Epoch 3/60\n",
      "16/16 [==============================] - 0s 4ms/step - loss: 0.5582 - val_loss: 0.5366\n",
      "Epoch 4/60\n",
      "16/16 [==============================] - 0s 5ms/step - loss: 0.5526 - val_loss: 0.5309\n",
      "Epoch 5/60\n",
      "16/16 [==============================] - 0s 5ms/step - loss: 0.5477 - val_loss: 0.5257\n",
      "Epoch 6/60\n",
      "16/16 [==============================] - 0s 4ms/step - loss: 0.5437 - val_loss: 0.5209\n",
      "Epoch 7/60\n",
      "16/16 [==============================] - 0s 4ms/step - loss: 0.5403 - val_loss: 0.5170\n",
      "Epoch 8/60\n",
      "16/16 [==============================] - 0s 5ms/step - loss: 0.5365 - val_loss: 0.5133\n",
      "Epoch 9/60\n",
      "16/16 [==============================] - 0s 4ms/step - loss: 0.5337 - val_loss: 0.5102\n",
      "Epoch 10/60\n",
      "16/16 [==============================] - 0s 4ms/step - loss: 0.5312 - val_loss: 0.5075\n",
      "Epoch 11/60\n",
      "16/16 [==============================] - 0s 5ms/step - loss: 0.5288 - val_loss: 0.5062\n",
      "Epoch 12/60\n",
      "16/16 [==============================] - 0s 5ms/step - loss: 0.5268 - val_loss: 0.5040\n",
      "Epoch 13/60\n",
      "16/16 [==============================] - 0s 5ms/step - loss: 0.5252 - val_loss: 0.5024\n",
      "Epoch 14/60\n",
      "16/16 [==============================] - 0s 4ms/step - loss: 0.5236 - val_loss: 0.5005\n",
      "Epoch 15/60\n",
      "16/16 [==============================] - 0s 4ms/step - loss: 0.5224 - val_loss: 0.4996\n",
      "Epoch 16/60\n",
      "16/16 [==============================] - 0s 4ms/step - loss: 0.5212 - val_loss: 0.4985\n",
      "Epoch 17/60\n",
      "16/16 [==============================] - 0s 4ms/step - loss: 0.5199 - val_loss: 0.4974\n",
      "Epoch 18/60\n",
      "16/16 [==============================] - 0s 5ms/step - loss: 0.5191 - val_loss: 0.4968\n",
      "Epoch 19/60\n",
      "16/16 [==============================] - 0s 5ms/step - loss: 0.5181 - val_loss: 0.4962\n",
      "Epoch 20/60\n",
      "16/16 [==============================] - 0s 5ms/step - loss: 0.5172 - val_loss: 0.4963\n",
      "Epoch 21/60\n",
      "16/16 [==============================] - 0s 4ms/step - loss: 0.5162 - val_loss: 0.4953\n",
      "Epoch 22/60\n",
      "16/16 [==============================] - 0s 4ms/step - loss: 0.5155 - val_loss: 0.4950\n",
      "Epoch 23/60\n",
      "16/16 [==============================] - 0s 5ms/step - loss: 0.5148 - val_loss: 0.4954\n",
      "Epoch 24/60\n",
      "16/16 [==============================] - 0s 5ms/step - loss: 0.5148 - val_loss: 0.4957\n",
      "Epoch 25/60\n",
      "16/16 [==============================] - 0s 4ms/step - loss: 0.5136 - val_loss: 0.4941\n",
      "Epoch 26/60\n",
      "16/16 [==============================] - 0s 5ms/step - loss: 0.5130 - val_loss: 0.4943\n",
      "Epoch 27/60\n",
      "16/16 [==============================] - 0s 4ms/step - loss: 0.5137 - val_loss: 0.4952\n",
      "Epoch 28/60\n",
      "16/16 [==============================] - 0s 4ms/step - loss: 0.5120 - val_loss: 0.4940\n",
      "Epoch 29/60\n",
      "16/16 [==============================] - 0s 5ms/step - loss: 0.5117 - val_loss: 0.4942\n",
      "Epoch 30/60\n",
      "16/16 [==============================] - 0s 4ms/step - loss: 0.5110 - val_loss: 0.4942\n",
      "Epoch 31/60\n",
      "16/16 [==============================] - 0s 4ms/step - loss: 0.5103 - val_loss: 0.4952\n",
      "Epoch 32/60\n",
      "16/16 [==============================] - 0s 4ms/step - loss: 0.5102 - val_loss: 0.4960\n",
      "Epoch 33/60\n",
      "16/16 [==============================] - 0s 4ms/step - loss: 0.5098 - val_loss: 0.4948\n",
      "Epoch 34/60\n",
      "16/16 [==============================] - 0s 5ms/step - loss: 0.5099 - val_loss: 0.4960\n",
      "Epoch 35/60\n",
      "16/16 [==============================] - 0s 4ms/step - loss: 0.5089 - val_loss: 0.4949\n",
      "Epoch 36/60\n",
      "16/16 [==============================] - 0s 4ms/step - loss: 0.5089 - val_loss: 0.4945\n",
      "Epoch 37/60\n",
      "16/16 [==============================] - 0s 5ms/step - loss: 0.5083 - val_loss: 0.4951\n",
      "Epoch 38/60\n",
      "16/16 [==============================] - 0s 4ms/step - loss: 0.5081 - val_loss: 0.4964\n",
      "Epoch 39/60\n",
      "16/16 [==============================] - 0s 4ms/step - loss: 0.5076 - val_loss: 0.4964\n",
      "Epoch 40/60\n",
      "16/16 [==============================] - 0s 4ms/step - loss: 0.5074 - val_loss: 0.4960\n",
      "Epoch 41/60\n",
      "16/16 [==============================] - 0s 3ms/step - loss: 0.5070 - val_loss: 0.4968\n",
      "Epoch 42/60\n",
      "16/16 [==============================] - 0s 5ms/step - loss: 0.5068 - val_loss: 0.4971\n",
      "Epoch 43/60\n",
      "16/16 [==============================] - 0s 4ms/step - loss: 0.5067 - val_loss: 0.4976\n",
      "Epoch 44/60\n",
      "16/16 [==============================] - 0s 4ms/step - loss: 0.5063 - val_loss: 0.4965\n",
      "Epoch 45/60\n",
      "16/16 [==============================] - 0s 4ms/step - loss: 0.5060 - val_loss: 0.4966\n",
      "Epoch 46/60\n",
      "16/16 [==============================] - 0s 4ms/step - loss: 0.5058 - val_loss: 0.4970\n",
      "Epoch 47/60\n",
      "16/16 [==============================] - 0s 4ms/step - loss: 0.5056 - val_loss: 0.4973\n",
      "Epoch 48/60\n",
      "16/16 [==============================] - 0s 4ms/step - loss: 0.5053 - val_loss: 0.4979\n",
      "Epoch 49/60\n",
      "16/16 [==============================] - 0s 4ms/step - loss: 0.5053 - val_loss: 0.4982\n",
      "Epoch 50/60\n",
      "16/16 [==============================] - 0s 4ms/step - loss: 0.5051 - val_loss: 0.4978\n",
      "Epoch 51/60\n",
      "16/16 [==============================] - 0s 4ms/step - loss: 0.5047 - val_loss: 0.4988\n",
      "Epoch 52/60\n",
      "16/16 [==============================] - 0s 5ms/step - loss: 0.5045 - val_loss: 0.4996\n",
      "Epoch 53/60\n",
      "16/16 [==============================] - 0s 5ms/step - loss: 0.5045 - val_loss: 0.4992\n",
      "Epoch 54/60\n",
      "16/16 [==============================] - 0s 7ms/step - loss: 0.5042 - val_loss: 0.5001\n",
      "Epoch 55/60\n",
      "16/16 [==============================] - 0s 5ms/step - loss: 0.5039 - val_loss: 0.5001\n",
      "Epoch 56/60\n",
      "16/16 [==============================] - 0s 6ms/step - loss: 0.5038 - val_loss: 0.5000\n",
      "Epoch 57/60\n",
      "16/16 [==============================] - 0s 6ms/step - loss: 0.5038 - val_loss: 0.5002\n",
      "Epoch 58/60\n",
      "16/16 [==============================] - 0s 6ms/step - loss: 0.5039 - val_loss: 0.5007\n",
      "Epoch 59/60\n",
      "16/16 [==============================] - 0s 5ms/step - loss: 0.5033 - val_loss: 0.5007\n",
      "Epoch 60/60\n",
      "16/16 [==============================] - 0s 4ms/step - loss: 0.5034 - val_loss: 0.5007\n"
     ]
    }
   ],
   "source": [
    "model2.compile(optimizer=Adam(lr=0.01), loss='binary_crossentropy')\n",
    "\n",
    "history = model2.fit(x_train, y_train, \n",
    "                    epochs = 60,\n",
    "                    validation_split=0.2).history"
   ]
  },
  {
   "cell_type": "markdown",
   "metadata": {
    "id": "3N8dEQk0SKD9"
   },
   "source": [
    "* 학습결과 그래프"
   ]
  },
  {
   "cell_type": "code",
   "execution_count": 16,
   "metadata": {
    "id": "03Y0s6_Ug8dR"
   },
   "outputs": [
    {
     "data": {
      "image/png": "[encoded data removed]",
      "text/plain": [
       "<Figure size 720x432 with 1 Axes>"
      ]
     },
     "metadata": {
      "needs_background": "light"
     },
     "output_type": "display_data"
    }
   ],
   "source": [
    "dl_history_plot(history)"
   ]
  },
  {
   "cell_type": "code",
   "execution_count": 17,
   "metadata": {
    "id": "iWpqKvt78PmD"
   },
   "outputs": [
    {
     "name": "stdout",
     "output_type": "stream",
     "text": [
      "9/9 [==============================] - 0s 2ms/step\n"
     ]
    }
   ],
   "source": [
    "pred2 = model2.predict(x_val)\n",
    "\n",
    "# activation이 sigmoid --> 0 ~ 1 사이의 확률값.\n",
    "# 그러므로 cut-off value(보통 0.5)를 기준으로 잘라서 0과 1로 만들어 준다.\n",
    "pred2 = np.where(pred2 >= .5, 1, 0)"
   ]
  },
  {
   "cell_type": "markdown",
   "metadata": {
    "id": "cnuOhiHUSP8w"
   },
   "source": [
    "### (3) 모델 비교"
   ]
  },
  {
   "cell_type": "markdown",
   "metadata": {
    "id": "n6w6no4vSe5I"
   },
   "source": [
    "* 가중치 비교"
   ]
  },
  {
   "cell_type": "code",
   "execution_count": 18,
   "metadata": {
    "id": "U1XAt9s_SgIK"
   },
   "outputs": [
    {
     "data": {
      "text/plain": [
       "(array([[-0.77410527,  2.37435574, -2.2852748 ]]), array([1.07844411]))"
      ]
     },
     "execution_count": 18,
     "metadata": {},
     "output_type": "execute_result"
    }
   ],
   "source": [
    "# 로지스틱 회귀\n",
    "model1.coef_, model1.intercept_"
   ]
  },
  {
   "cell_type": "code",
   "execution_count": 19,
   "metadata": {
    "id": "KS2XmCA9SlJy"
   },
   "outputs": [
    {
     "data": {
      "text/plain": [
       "[array([[-1.3057996],\n",
       "        [ 4.0138083],\n",
       "        [-2.2487526]], dtype=float32),\n",
       " array([1.1611098], dtype=float32)]"
      ]
     },
     "execution_count": 19,
     "metadata": {},
     "output_type": "execute_result"
    }
   ],
   "source": [
    "# DL\n",
    "model2.layers[0].get_weights()"
   ]
  },
  {
   "cell_type": "markdown",
   "metadata": {
    "id": "Jm2WDBc1StSL"
   },
   "source": [
    "* 성능비교"
   ]
  },
  {
   "cell_type": "code",
   "execution_count": 20,
   "metadata": {
    "id": "UCNpbavT84Qj"
   },
   "outputs": [
    {
     "name": "stdout",
     "output_type": "stream",
     "text": [
      "              precision    recall  f1-score   support\n",
      "\n",
      "           0       0.83      0.85      0.84       168\n",
      "           1       0.74      0.71      0.72       100\n",
      "\n",
      "    accuracy                           0.80       268\n",
      "   macro avg       0.79      0.78      0.78       268\n",
      "weighted avg       0.80      0.80      0.80       268\n",
      "\n"
     ]
    }
   ],
   "source": [
    "# 로지스틱 회귀\n",
    "print(classification_report(y_val, pred1))"
   ]
  },
  {
   "cell_type": "code",
   "execution_count": 21,
   "metadata": {
    "id": "pjkdc0il8_8-"
   },
   "outputs": [
    {
     "name": "stdout",
     "output_type": "stream",
     "text": [
      "              precision    recall  f1-score   support\n",
      "\n",
      "           0       0.84      0.85      0.84       168\n",
      "           1       0.73      0.72      0.73       100\n",
      "\n",
      "    accuracy                           0.80       268\n",
      "   macro avg       0.78      0.78      0.78       268\n",
      "weighted avg       0.80      0.80      0.80       268\n",
      "\n"
     ]
    }
   ],
   "source": [
    "# DL\n",
    "print(classification_report(y_val, pred2))"
   ]
  },
  {
   "cell_type": "markdown",
   "metadata": {
    "id": "SL2L1RrNTA5g"
   },
   "source": [
    "## 4.DL1\n",
    "* 이제 전체 데이터를 가지고 모델링을 시도해 보겠습니다.\n"
   ]
  },
  {
   "cell_type": "markdown",
   "metadata": {
    "id": "bWL9ssqWTxCF"
   },
   "source": [
    "### (1) 데이터 전처리"
   ]
  },
  {
   "cell_type": "markdown",
   "metadata": {
    "id": "Q8-uL-ebT5SQ"
   },
   "source": [
    "* 데이터 분할1"
   ]
  },
  {
   "cell_type": "code",
   "execution_count": 23,
   "metadata": {
    "id": "korryJ9cTFTo"
   },
   "outputs": [],
   "source": [
    "target = 'Survived'\n",
    "x = data.drop(target, axis = 1)\n",
    "y = data.loc[:, target]"
   ]
  },
  {
   "cell_type": "markdown",
   "metadata": {
    "id": "HmqQjbZ5IhWk"
   },
   "source": [
    "* 가변수화"
   ]
  },
  {
   "cell_type": "code",
   "execution_count": 24,
   "metadata": {
    "id": "D6YS1uQ3fNGQ"
   },
   "outputs": [],
   "source": [
    "cat_cols = ['Pclass','Sex', 'Embarked']\n",
    "x = pd.get_dummies(x, columns = cat_cols, drop_first = True)"
   ]
  },
  {
   "cell_type": "markdown",
   "metadata": {
    "id": "2AfNQnlFsaCk"
   },
   "source": [
    "* 데이터분할2"
   ]
  },
  {
   "cell_type": "code",
   "execution_count": 25,
   "metadata": {
    "id": "e_EewQ3Fscdt"
   },
   "outputs": [],
   "source": [
    "x_train, x_val, y_train, y_val = train_test_split(x, y, test_size=.3, random_state = 2022)"
   ]
  },
  {
   "cell_type": "markdown",
   "metadata": {
    "id": "s_huFosGT7en"
   },
   "source": [
    "* 스케일링"
   ]
  },
  {
   "cell_type": "code",
   "execution_count": 26,
   "metadata": {
    "id": "IV5Hu5WvTFQn"
   },
   "outputs": [],
   "source": [
    "scaler = MinMaxScaler()\n",
    "x_train = scaler.fit_transform(x_train)\n",
    "x_val = scaler.transform(x_val)"
   ]
  },
  {
   "cell_type": "markdown",
   "metadata": {
    "id": "xDS0688JUBsF"
   },
   "source": [
    "### (2) 모델링"
   ]
  },
  {
   "cell_type": "markdown",
   "metadata": {
    "id": "nTA-Yr4SUGxg"
   },
   "source": [
    "* 모델 설계"
   ]
  },
  {
   "cell_type": "code",
   "execution_count": 27,
   "metadata": {
    "id": "X3T44fmwfjQC"
   },
   "outputs": [
    {
     "data": {
      "text/plain": [
       "8"
      ]
     },
     "execution_count": 27,
     "metadata": {},
     "output_type": "execute_result"
    }
   ],
   "source": [
    "nfeatures = x_train.shape[1] #num of columns\n",
    "nfeatures"
   ]
  },
  {
   "cell_type": "code",
   "execution_count": 59,
   "metadata": {
    "id": "j85sSnzHUGxg"
   },
   "outputs": [
    {
     "name": "stdout",
     "output_type": "stream",
     "text": [
      "Model: \"sequential\"\n",
      "_________________________________________________________________\n",
      " Layer (type)                Output Shape              Param #   \n",
      "=================================================================\n",
      " dense (Dense)               (None, 2)                 18        \n",
      "                                                                 \n",
      " dense_1 (Dense)             (None, 1)                 3         \n",
      "                                                                 \n",
      "=================================================================\n",
      "Total params: 21\n",
      "Trainable params: 21\n",
      "Non-trainable params: 0\n",
      "_________________________________________________________________\n"
     ]
    }
   ],
   "source": [
    "# 메모리 정리\n",
    "clear_session()\n",
    "\n",
    "# Sequential 타입 모델 선언\n",
    "model = Sequential([Dense(2, input_shape=(nfeatures,), activation='relu'),\n",
    "                    Dense(1, activation='sigmoid')])\n",
    "\n",
    "\n",
    "# 모델요약\n",
    "model.summary()"
   ]
  },
  {
   "cell_type": "markdown",
   "metadata": {
    "id": "FtEZ2O6mUGxg"
   },
   "source": [
    "* compile + 학습"
   ]
  },
  {
   "cell_type": "code",
   "execution_count": 60,
   "metadata": {
    "collapsed": true,
    "id": "101t-cHUUGxg",
    "jupyter": {
     "outputs_hidden": true
    },
    "tags": []
   },
   "outputs": [
    {
     "name": "stdout",
     "output_type": "stream",
     "text": [
      "Epoch 1/60\n"
     ]
    },
    {
     "name": "stderr",
     "output_type": "stream",
     "text": [
      "C:\\Users\\User\\anaconda3\\lib\\site-packages\\keras\\optimizers\\optimizer_v2\\adam.py:114: UserWarning: The `lr` argument is deprecated, use `learning_rate` instead.\n",
      "  super().__init__(name, **kwargs)\n"
     ]
    },
    {
     "name": "stdout",
     "output_type": "stream",
     "text": [
      "16/16 [==============================] - 1s 30ms/step - loss: 0.4414 - val_loss: 0.4063\n",
      "Epoch 2/60\n",
      "16/16 [==============================] - 0s 13ms/step - loss: 0.4515 - val_loss: 0.4168\n",
      "Epoch 3/60\n",
      "16/16 [==============================] - 0s 6ms/step - loss: 0.4545 - val_loss: 0.4774\n",
      "Epoch 4/60\n",
      "16/16 [==============================] - 0s 6ms/step - loss: 0.4494 - val_loss: 0.4331\n",
      "Epoch 5/60\n",
      "16/16 [==============================] - 0s 6ms/step - loss: 0.4393 - val_loss: 0.4172\n",
      "Epoch 6/60\n",
      "16/16 [==============================] - 0s 7ms/step - loss: 0.4370 - val_loss: 0.4247\n",
      "Epoch 7/60\n",
      "16/16 [==============================] - 0s 8ms/step - loss: 0.4323 - val_loss: 0.4280\n",
      "Epoch 8/60\n",
      "16/16 [==============================] - 0s 14ms/step - loss: 0.4501 - val_loss: 0.4142\n",
      "Epoch 9/60\n",
      "16/16 [==============================] - 0s 13ms/step - loss: 0.4399 - val_loss: 0.4025\n",
      "Epoch 10/60\n",
      "16/16 [==============================] - 0s 13ms/step - loss: 0.4339 - val_loss: 0.4134\n",
      "Epoch 11/60\n",
      "16/16 [==============================] - 0s 14ms/step - loss: 0.4341 - val_loss: 0.4273\n",
      "Epoch 12/60\n",
      "16/16 [==============================] - 0s 10ms/step - loss: 0.4369 - val_loss: 0.4063\n",
      "Epoch 13/60\n",
      "16/16 [==============================] - 0s 9ms/step - loss: 0.4386 - val_loss: 0.4119\n",
      "Epoch 14/60\n",
      "16/16 [==============================] - 0s 9ms/step - loss: 0.4394 - val_loss: 0.4091\n",
      "Epoch 15/60\n",
      "16/16 [==============================] - 0s 8ms/step - loss: 0.4403 - val_loss: 0.4117\n",
      "Epoch 16/60\n",
      "16/16 [==============================] - 0s 9ms/step - loss: 0.4397 - val_loss: 0.4132\n",
      "Epoch 17/60\n",
      "16/16 [==============================] - 0s 6ms/step - loss: 0.4315 - val_loss: 0.4319\n",
      "Epoch 18/60\n",
      "16/16 [==============================] - 0s 6ms/step - loss: 0.4515 - val_loss: 0.4276\n",
      "Epoch 19/60\n",
      "16/16 [==============================] - 0s 6ms/step - loss: 0.4351 - val_loss: 0.4246\n",
      "Epoch 20/60\n",
      "16/16 [==============================] - 0s 4ms/step - loss: 0.4314 - val_loss: 0.4291\n",
      "Epoch 21/60\n",
      "16/16 [==============================] - 0s 5ms/step - loss: 0.4304 - val_loss: 0.4135\n",
      "Epoch 22/60\n",
      "16/16 [==============================] - 0s 5ms/step - loss: 0.4371 - val_loss: 0.4094\n",
      "Epoch 23/60\n",
      "16/16 [==============================] - 0s 7ms/step - loss: 0.4386 - val_loss: 0.4209\n",
      "Epoch 24/60\n",
      "16/16 [==============================] - 0s 7ms/step - loss: 0.4325 - val_loss: 0.4234\n",
      "Epoch 25/60\n",
      "16/16 [==============================] - 0s 6ms/step - loss: 0.4415 - val_loss: 0.4787\n",
      "Epoch 26/60\n",
      "16/16 [==============================] - 0s 7ms/step - loss: 0.4459 - val_loss: 0.4350\n",
      "Epoch 27/60\n",
      "16/16 [==============================] - 0s 7ms/step - loss: 0.4349 - val_loss: 0.4145\n",
      "Epoch 28/60\n",
      "16/16 [==============================] - 0s 9ms/step - loss: 0.4381 - val_loss: 0.4298\n",
      "Epoch 29/60\n",
      "16/16 [==============================] - 0s 8ms/step - loss: 0.4406 - val_loss: 0.4396\n",
      "Epoch 30/60\n",
      "16/16 [==============================] - 0s 6ms/step - loss: 0.4450 - val_loss: 0.4672\n",
      "Epoch 31/60\n",
      "16/16 [==============================] - 0s 9ms/step - loss: 0.4537 - val_loss: 0.4428\n",
      "Epoch 32/60\n",
      "16/16 [==============================] - 0s 7ms/step - loss: 0.4383 - val_loss: 0.4435\n",
      "Epoch 33/60\n",
      "16/16 [==============================] - 0s 8ms/step - loss: 0.4430 - val_loss: 0.4141\n",
      "Epoch 34/60\n",
      "16/16 [==============================] - 0s 11ms/step - loss: 0.4506 - val_loss: 0.4192\n",
      "Epoch 35/60\n",
      "16/16 [==============================] - 0s 6ms/step - loss: 0.4384 - val_loss: 0.4295\n",
      "Epoch 36/60\n",
      "16/16 [==============================] - 0s 5ms/step - loss: 0.4280 - val_loss: 0.4238\n",
      "Epoch 37/60\n",
      "16/16 [==============================] - 0s 6ms/step - loss: 0.4374 - val_loss: 0.4438\n",
      "Epoch 38/60\n",
      "16/16 [==============================] - 0s 8ms/step - loss: 0.4342 - val_loss: 0.4105\n",
      "Epoch 39/60\n",
      "16/16 [==============================] - 0s 14ms/step - loss: 0.4346 - val_loss: 0.4226\n",
      "Epoch 40/60\n",
      "16/16 [==============================] - 0s 10ms/step - loss: 0.4293 - val_loss: 0.4371\n",
      "Epoch 41/60\n",
      "16/16 [==============================] - 0s 6ms/step - loss: 0.4343 - val_loss: 0.4213\n",
      "Epoch 42/60\n",
      "16/16 [==============================] - 0s 6ms/step - loss: 0.4402 - val_loss: 0.4422\n",
      "Epoch 43/60\n",
      "16/16 [==============================] - 0s 9ms/step - loss: 0.4367 - val_loss: 0.4395\n",
      "Epoch 44/60\n",
      "16/16 [==============================] - 0s 9ms/step - loss: 0.4362 - val_loss: 0.4234\n",
      "Epoch 45/60\n",
      "16/16 [==============================] - 0s 9ms/step - loss: 0.4395 - val_loss: 0.4551\n",
      "Epoch 46/60\n",
      "16/16 [==============================] - 0s 6ms/step - loss: 0.4411 - val_loss: 0.4337\n",
      "Epoch 47/60\n",
      "16/16 [==============================] - 0s 6ms/step - loss: 0.4331 - val_loss: 0.4204\n",
      "Epoch 48/60\n",
      "16/16 [==============================] - 0s 5ms/step - loss: 0.4306 - val_loss: 0.4312\n",
      "Epoch 49/60\n",
      "16/16 [==============================] - 0s 9ms/step - loss: 0.4456 - val_loss: 0.4249\n",
      "Epoch 50/60\n",
      "16/16 [==============================] - 0s 15ms/step - loss: 0.4367 - val_loss: 0.4176\n",
      "Epoch 51/60\n",
      "16/16 [==============================] - 0s 15ms/step - loss: 0.4289 - val_loss: 0.4316\n",
      "Epoch 52/60\n",
      "16/16 [==============================] - 0s 13ms/step - loss: 0.4390 - val_loss: 0.4377\n",
      "Epoch 53/60\n",
      "16/16 [==============================] - 0s 9ms/step - loss: 0.4399 - val_loss: 0.4229\n",
      "Epoch 54/60\n",
      "16/16 [==============================] - 0s 9ms/step - loss: 0.4391 - val_loss: 0.4745\n",
      "Epoch 55/60\n",
      "16/16 [==============================] - 0s 9ms/step - loss: 0.4315 - val_loss: 0.4186\n",
      "Epoch 56/60\n",
      "16/16 [==============================] - 0s 9ms/step - loss: 0.4344 - val_loss: 0.4185\n",
      "Epoch 57/60\n",
      "16/16 [==============================] - 0s 6ms/step - loss: 0.4353 - val_loss: 0.4244\n",
      "Epoch 58/60\n",
      "16/16 [==============================] - 0s 6ms/step - loss: 0.4301 - val_loss: 0.4462\n",
      "Epoch 59/60\n",
      "16/16 [==============================] - 0s 6ms/step - loss: 0.4398 - val_loss: 0.4336\n",
      "Epoch 60/60\n",
      "16/16 [==============================] - 0s 6ms/step - loss: 0.4385 - val_loss: 0.4272\n"
     ]
    }
   ],
   "source": [
    "model.compile(optimizer=Adam(lr=0.1), loss='binary_crossentropy')\n",
    "\n",
    "history = model3.fit(x_train, y_train, \n",
    "                    epochs = 60,\n",
    "                    validation_split=0.2).history"
   ]
  },
  {
   "cell_type": "markdown",
   "metadata": {
    "id": "jfTJKyP4UGxh"
   },
   "source": [
    "* 학습결과 그래프"
   ]
  },
  {
   "cell_type": "code",
   "execution_count": 61,
   "metadata": {
    "id": "Gbs-nZuzUGxh"
   },
   "outputs": [
    {
     "data": {
      "image/png": "[encoded data removed]",
      "text/plain": [
       "<Figure size 720x432 with 1 Axes>"
      ]
     },
     "metadata": {
      "needs_background": "light"
     },
     "output_type": "display_data"
    }
   ],
   "source": [
    "dl_history_plot(history)"
   ]
  },
  {
   "cell_type": "markdown",
   "metadata": {
    "id": "HDfZe0msoFov"
   },
   "source": [
    "* 예측 및 평가"
   ]
  },
  {
   "cell_type": "code",
   "execution_count": 62,
   "metadata": {
    "id": "IW2yYuBRUGxh"
   },
   "outputs": [
    {
     "name": "stdout",
     "output_type": "stream",
     "text": [
      "9/9 [==============================] - 0s 4ms/step\n",
      "0.6413279340338351\n",
      "-1.4069699069325337\n"
     ]
    }
   ],
   "source": [
    "pred = model.predict(x_val)\n",
    "print(mean_absolute_error(y_val,pred))\n",
    "print(r2_score(y_val, pred))\n"
   ]
  },
  {
   "cell_type": "code",
   "execution_count": 1,
   "metadata": {},
   "outputs": [
    {
     "ename": "NameError",
     "evalue": "name 'model' is not defined",
     "output_type": "error",
     "traceback": [
      "\u001b[1;31m---------------------------------------------------------------------------\u001b[0m",
      "\u001b[1;31mNameError\u001b[0m                                 Traceback (most recent call last)",
      "\u001b[1;32m<ipython-input-1-ca9132a4237b>\u001b[0m in \u001b[0;36m<module>\u001b[1;34m\u001b[0m\n\u001b[1;32m----> 1\u001b[1;33m \u001b[0mpred\u001b[0m \u001b[1;33m=\u001b[0m \u001b[0mmodel\u001b[0m\u001b[1;33m.\u001b[0m\u001b[0mpredict\u001b[0m\u001b[1;33m(\u001b[0m\u001b[0mx_val\u001b[0m\u001b[1;33m)\u001b[0m\u001b[1;33m\u001b[0m\u001b[1;33m\u001b[0m\u001b[0m\n\u001b[0m\u001b[0;32m      2\u001b[0m \u001b[0mpred\u001b[0m \u001b[1;33m=\u001b[0m \u001b[0mnp\u001b[0m\u001b[1;33m.\u001b[0m\u001b[0mwhere\u001b[0m\u001b[1;33m(\u001b[0m\u001b[0mpred\u001b[0m \u001b[1;33m>=\u001b[0m \u001b[1;36m.5\u001b[0m\u001b[1;33m,\u001b[0m \u001b[1;36m1\u001b[0m\u001b[1;33m,\u001b[0m \u001b[1;36m0\u001b[0m\u001b[1;33m)\u001b[0m  \u001b[1;31m# 임곗값을 0.5로 주고 0.5이하는 0,이상은 1로 반환하여 예측분류.\u001b[0m\u001b[1;33m\u001b[0m\u001b[1;33m\u001b[0m\u001b[0m\n\u001b[0;32m      3\u001b[0m \u001b[0mprint\u001b[0m\u001b[1;33m(\u001b[0m\u001b[0mclassification_report\u001b[0m\u001b[1;33m(\u001b[0m\u001b[0my_val\u001b[0m\u001b[1;33m,\u001b[0m \u001b[0mpred\u001b[0m\u001b[1;33m)\u001b[0m\u001b[1;33m)\u001b[0m\u001b[1;33m\u001b[0m\u001b[1;33m\u001b[0m\u001b[0m\n",
      "\u001b[1;31mNameError\u001b[0m: name 'model' is not defined"
     ]
    }
   ],
   "source": [
    "pred = model.predict(x_val)\n",
    "pred = np.where(pred >= .5, 1, 0)  # 임곗값을 0.5로 주고 0.5이하는 0,이상은 1로 반환하여 예측분류.\n",
    "print(classification_report(y_val, pred))"
   ]
  },
  {
   "cell_type": "markdown",
   "metadata": {
    "id": "4tozU06ermAJ"
   },
   "source": [
    "## 5.DL2 : hidden layer\n",
    "* 이제 레이어를 추가해 보겠습니다.\n"
   ]
  },
  {
   "cell_type": "markdown",
   "metadata": {
    "id": "YBGf6ESprmAL"
   },
   "source": [
    "### (1) 모델 설계"
   ]
  },
  {
   "cell_type": "code",
   "execution_count": 64,
   "metadata": {
    "id": "tY1Qjd_hrmAL"
   },
   "outputs": [
    {
     "data": {
      "text/plain": [
       "8"
      ]
     },
     "execution_count": 64,
     "metadata": {},
     "output_type": "execute_result"
    }
   ],
   "source": [
    "nfeatures = x_train.shape[1] #num of columns\n",
    "nfeatures"
   ]
  },
  {
   "cell_type": "code",
   "execution_count": 65,
   "metadata": {
    "id": "fG4gBuGlrmAL"
   },
   "outputs": [
    {
     "name": "stdout",
     "output_type": "stream",
     "text": [
      "Model: \"sequential\"\n",
      "_________________________________________________________________\n",
      " Layer (type)                Output Shape              Param #   \n",
      "=================================================================\n",
      " dense (Dense)               (None, 8)                 72        \n",
      "                                                                 \n",
      " dense_1 (Dense)             (None, 1)                 9         \n",
      "                                                                 \n",
      "=================================================================\n",
      "Total params: 81\n",
      "Trainable params: 81\n",
      "Non-trainable params: 0\n",
      "_________________________________________________________________\n"
     ]
    }
   ],
   "source": [
    "# 메모리 정리\n",
    "clear_session()\n",
    "\n",
    "# Sequential 타입 모델 선언\n",
    "model = Sequential()\n",
    "\n",
    "# Layer 정의\n",
    "layer1 = Dense(8, input_shape = (nfeatures,), activation = 'relu')\n",
    "layer2 = Dense(1, activation = 'sigmoid')\n",
    "\n",
    "# 모델에 추가\n",
    "model.add(layer1)\n",
    "model.add(layer2)\n",
    "\n",
    "# 모델요약\n",
    "model.summary()"
   ]
  },
  {
   "cell_type": "markdown",
   "metadata": {
    "id": "uO3Lf9u1rmAM"
   },
   "source": [
    "### (2) compile + 학습"
   ]
  },
  {
   "cell_type": "code",
   "execution_count": 66,
   "metadata": {
    "collapsed": true,
    "id": "rrc9XvzRrmAM",
    "jupyter": {
     "outputs_hidden": true
    },
    "tags": []
   },
   "outputs": [
    {
     "name": "stderr",
     "output_type": "stream",
     "text": [
      "C:\\Users\\User\\anaconda3\\lib\\site-packages\\keras\\optimizers\\optimizer_v2\\adam.py:114: UserWarning: The `lr` argument is deprecated, use `learning_rate` instead.\n",
      "  super().__init__(name, **kwargs)\n"
     ]
    },
    {
     "name": "stdout",
     "output_type": "stream",
     "text": [
      "Epoch 1/100\n",
      "16/16 [==============================] - 1s 25ms/step - loss: 0.7477 - val_loss: 0.7489\n",
      "Epoch 2/100\n",
      "16/16 [==============================] - 0s 7ms/step - loss: 0.7237 - val_loss: 0.7237\n",
      "Epoch 3/100\n",
      "16/16 [==============================] - 0s 7ms/step - loss: 0.7028 - val_loss: 0.7039\n",
      "Epoch 4/100\n",
      "16/16 [==============================] - 0s 7ms/step - loss: 0.6875 - val_loss: 0.6866\n",
      "Epoch 5/100\n",
      "16/16 [==============================] - 0s 7ms/step - loss: 0.6741 - val_loss: 0.6740\n",
      "Epoch 6/100\n",
      "16/16 [==============================] - 0s 6ms/step - loss: 0.6638 - val_loss: 0.6639\n",
      "Epoch 7/100\n",
      "16/16 [==============================] - 0s 6ms/step - loss: 0.6559 - val_loss: 0.6551\n",
      "Epoch 8/100\n",
      "16/16 [==============================] - 0s 7ms/step - loss: 0.6494 - val_loss: 0.6477\n",
      "Epoch 9/100\n",
      "16/16 [==============================] - 0s 6ms/step - loss: 0.6434 - val_loss: 0.6416\n",
      "Epoch 10/100\n",
      "16/16 [==============================] - 0s 6ms/step - loss: 0.6387 - val_loss: 0.6357\n",
      "Epoch 11/100\n",
      "16/16 [==============================] - 0s 6ms/step - loss: 0.6341 - val_loss: 0.6309\n",
      "Epoch 12/100\n",
      "16/16 [==============================] - 0s 5ms/step - loss: 0.6301 - val_loss: 0.6263\n",
      "Epoch 13/100\n",
      "16/16 [==============================] - 0s 6ms/step - loss: 0.6264 - val_loss: 0.6218\n",
      "Epoch 14/100\n",
      "16/16 [==============================] - 0s 5ms/step - loss: 0.6230 - val_loss: 0.6176\n",
      "Epoch 15/100\n",
      "16/16 [==============================] - 0s 12ms/step - loss: 0.6198 - val_loss: 0.6133\n",
      "Epoch 16/100\n",
      "16/16 [==============================] - 0s 6ms/step - loss: 0.6168 - val_loss: 0.6099\n",
      "Epoch 17/100\n",
      "16/16 [==============================] - 0s 10ms/step - loss: 0.6137 - val_loss: 0.6063\n",
      "Epoch 18/100\n",
      "16/16 [==============================] - 0s 11ms/step - loss: 0.6109 - val_loss: 0.6025\n",
      "Epoch 19/100\n",
      "16/16 [==============================] - 0s 11ms/step - loss: 0.6079 - val_loss: 0.5994\n",
      "Epoch 20/100\n",
      "16/16 [==============================] - 0s 4ms/step - loss: 0.6053 - val_loss: 0.5960\n",
      "Epoch 21/100\n",
      "16/16 [==============================] - 0s 6ms/step - loss: 0.6027 - val_loss: 0.5925\n",
      "Epoch 22/100\n",
      "16/16 [==============================] - 0s 14ms/step - loss: 0.5999 - val_loss: 0.5891\n",
      "Epoch 23/100\n",
      "16/16 [==============================] - 0s 13ms/step - loss: 0.5973 - val_loss: 0.5861\n",
      "Epoch 24/100\n",
      "16/16 [==============================] - 0s 12ms/step - loss: 0.5948 - val_loss: 0.5828\n",
      "Epoch 25/100\n",
      "16/16 [==============================] - 0s 9ms/step - loss: 0.5921 - val_loss: 0.5798\n",
      "Epoch 26/100\n",
      "16/16 [==============================] - 0s 4ms/step - loss: 0.5899 - val_loss: 0.5764\n",
      "Epoch 27/100\n",
      "16/16 [==============================] - 0s 12ms/step - loss: 0.5870 - val_loss: 0.5735\n",
      "Epoch 28/100\n",
      "16/16 [==============================] - 0s 13ms/step - loss: 0.5846 - val_loss: 0.5705\n",
      "Epoch 29/100\n",
      "16/16 [==============================] - 0s 12ms/step - loss: 0.5824 - val_loss: 0.5672\n",
      "Epoch 30/100\n",
      "16/16 [==============================] - 0s 16ms/step - loss: 0.5799 - val_loss: 0.5643\n",
      "Epoch 31/100\n",
      "16/16 [==============================] - 0s 9ms/step - loss: 0.5775 - val_loss: 0.5615\n",
      "Epoch 32/100\n",
      "16/16 [==============================] - 0s 6ms/step - loss: 0.5755 - val_loss: 0.5584\n",
      "Epoch 33/100\n",
      "16/16 [==============================] - 0s 7ms/step - loss: 0.5730 - val_loss: 0.5557\n",
      "Epoch 34/100\n",
      "16/16 [==============================] - 0s 5ms/step - loss: 0.5709 - val_loss: 0.5529\n",
      "Epoch 35/100\n",
      "16/16 [==============================] - 0s 7ms/step - loss: 0.5687 - val_loss: 0.5503\n",
      "Epoch 36/100\n",
      "16/16 [==============================] - 0s 12ms/step - loss: 0.5666 - val_loss: 0.5474\n",
      "Epoch 37/100\n",
      "16/16 [==============================] - 0s 12ms/step - loss: 0.5645 - val_loss: 0.5446\n",
      "Epoch 38/100\n",
      "16/16 [==============================] - 0s 13ms/step - loss: 0.5625 - val_loss: 0.5421\n",
      "Epoch 39/100\n",
      "16/16 [==============================] - 0s 13ms/step - loss: 0.5605 - val_loss: 0.5393\n",
      "Epoch 40/100\n",
      "16/16 [==============================] - 0s 12ms/step - loss: 0.5586 - val_loss: 0.5367\n",
      "Epoch 41/100\n",
      "16/16 [==============================] - 0s 11ms/step - loss: 0.5567 - val_loss: 0.5339\n",
      "Epoch 42/100\n",
      "16/16 [==============================] - 0s 12ms/step - loss: 0.5545 - val_loss: 0.5313\n",
      "Epoch 43/100\n",
      "16/16 [==============================] - 0s 12ms/step - loss: 0.5526 - val_loss: 0.5282\n",
      "Epoch 44/100\n",
      "16/16 [==============================] - 0s 12ms/step - loss: 0.5503 - val_loss: 0.5252\n",
      "Epoch 45/100\n",
      "16/16 [==============================] - 0s 11ms/step - loss: 0.5479 - val_loss: 0.5213\n",
      "Epoch 46/100\n",
      "16/16 [==============================] - 0s 11ms/step - loss: 0.5453 - val_loss: 0.5169\n",
      "Epoch 47/100\n",
      "16/16 [==============================] - 0s 12ms/step - loss: 0.5424 - val_loss: 0.5119\n",
      "Epoch 48/100\n",
      "16/16 [==============================] - 0s 13ms/step - loss: 0.5393 - val_loss: 0.5066\n",
      "Epoch 49/100\n",
      "16/16 [==============================] - 0s 13ms/step - loss: 0.5361 - val_loss: 0.5018\n",
      "Epoch 50/100\n",
      "16/16 [==============================] - 0s 12ms/step - loss: 0.5332 - val_loss: 0.4975\n",
      "Epoch 51/100\n",
      "16/16 [==============================] - 0s 12ms/step - loss: 0.5307 - val_loss: 0.4936\n",
      "Epoch 52/100\n",
      "16/16 [==============================] - 0s 11ms/step - loss: 0.5275 - val_loss: 0.4897\n",
      "Epoch 53/100\n",
      "16/16 [==============================] - 0s 12ms/step - loss: 0.5249 - val_loss: 0.4857\n",
      "Epoch 54/100\n",
      "16/16 [==============================] - 0s 12ms/step - loss: 0.5222 - val_loss: 0.4822\n",
      "Epoch 55/100\n",
      "16/16 [==============================] - 0s 14ms/step - loss: 0.5195 - val_loss: 0.4791\n",
      "Epoch 56/100\n",
      "16/16 [==============================] - 0s 13ms/step - loss: 0.5165 - val_loss: 0.4755\n",
      "Epoch 57/100\n",
      "16/16 [==============================] - 0s 12ms/step - loss: 0.5141 - val_loss: 0.4724\n",
      "Epoch 58/100\n",
      "16/16 [==============================] - 0s 13ms/step - loss: 0.5118 - val_loss: 0.4698\n",
      "Epoch 59/100\n",
      "16/16 [==============================] - 0s 12ms/step - loss: 0.5092 - val_loss: 0.4670\n",
      "Epoch 60/100\n",
      "16/16 [==============================] - 0s 16ms/step - loss: 0.5067 - val_loss: 0.4643\n",
      "Epoch 61/100\n",
      "16/16 [==============================] - 0s 7ms/step - loss: 0.5047 - val_loss: 0.4616\n",
      "Epoch 62/100\n",
      "16/16 [==============================] - 0s 7ms/step - loss: 0.5026 - val_loss: 0.4593\n",
      "Epoch 63/100\n",
      "16/16 [==============================] - 0s 7ms/step - loss: 0.5008 - val_loss: 0.4571\n",
      "Epoch 64/100\n",
      "16/16 [==============================] - 0s 5ms/step - loss: 0.4989 - val_loss: 0.4555\n",
      "Epoch 65/100\n",
      "16/16 [==============================] - 0s 12ms/step - loss: 0.4975 - val_loss: 0.4532\n",
      "Epoch 66/100\n",
      "16/16 [==============================] - 0s 14ms/step - loss: 0.4955 - val_loss: 0.4520\n",
      "Epoch 67/100\n",
      "16/16 [==============================] - 0s 13ms/step - loss: 0.4940 - val_loss: 0.4510\n",
      "Epoch 68/100\n",
      "16/16 [==============================] - 0s 13ms/step - loss: 0.4926 - val_loss: 0.4491\n",
      "Epoch 69/100\n",
      "16/16 [==============================] - 0s 12ms/step - loss: 0.4913 - val_loss: 0.4477\n",
      "Epoch 70/100\n",
      "16/16 [==============================] - 0s 13ms/step - loss: 0.4898 - val_loss: 0.4466\n",
      "Epoch 71/100\n",
      "16/16 [==============================] - 0s 12ms/step - loss: 0.4886 - val_loss: 0.4457\n",
      "Epoch 72/100\n",
      "16/16 [==============================] - 0s 13ms/step - loss: 0.4876 - val_loss: 0.4438\n",
      "Epoch 73/100\n",
      "16/16 [==============================] - 0s 11ms/step - loss: 0.4861 - val_loss: 0.4428\n",
      "Epoch 74/100\n",
      "16/16 [==============================] - 0s 11ms/step - loss: 0.4850 - val_loss: 0.4422\n",
      "Epoch 75/100\n",
      "16/16 [==============================] - 0s 13ms/step - loss: 0.4843 - val_loss: 0.4414\n",
      "Epoch 76/100\n",
      "16/16 [==============================] - 0s 12ms/step - loss: 0.4831 - val_loss: 0.4408\n",
      "Epoch 77/100\n",
      "16/16 [==============================] - 0s 12ms/step - loss: 0.4820 - val_loss: 0.4395\n",
      "Epoch 78/100\n",
      "16/16 [==============================] - 0s 12ms/step - loss: 0.4811 - val_loss: 0.4379\n",
      "Epoch 79/100\n",
      "16/16 [==============================] - 0s 12ms/step - loss: 0.4803 - val_loss: 0.4371\n",
      "Epoch 80/100\n",
      "16/16 [==============================] - 0s 13ms/step - loss: 0.4794 - val_loss: 0.4361\n",
      "Epoch 81/100\n",
      "16/16 [==============================] - 0s 12ms/step - loss: 0.4785 - val_loss: 0.4360\n",
      "Epoch 82/100\n",
      "16/16 [==============================] - 0s 12ms/step - loss: 0.4777 - val_loss: 0.4346\n",
      "Epoch 83/100\n",
      "16/16 [==============================] - 0s 11ms/step - loss: 0.4768 - val_loss: 0.4342\n",
      "Epoch 84/100\n",
      "16/16 [==============================] - 0s 11ms/step - loss: 0.4762 - val_loss: 0.4333\n",
      "Epoch 85/100\n",
      "16/16 [==============================] - 0s 17ms/step - loss: 0.4756 - val_loss: 0.4335\n",
      "Epoch 86/100\n",
      "16/16 [==============================] - 0s 13ms/step - loss: 0.4746 - val_loss: 0.4318\n",
      "Epoch 87/100\n",
      "16/16 [==============================] - 0s 13ms/step - loss: 0.4739 - val_loss: 0.4311\n",
      "Epoch 88/100\n",
      "16/16 [==============================] - 0s 12ms/step - loss: 0.4732 - val_loss: 0.4301\n",
      "Epoch 89/100\n",
      "16/16 [==============================] - 0s 15ms/step - loss: 0.4726 - val_loss: 0.4292\n",
      "Epoch 90/100\n",
      "16/16 [==============================] - 0s 8ms/step - loss: 0.4720 - val_loss: 0.4287\n",
      "Epoch 91/100\n",
      "16/16 [==============================] - 0s 7ms/step - loss: 0.4713 - val_loss: 0.4289\n",
      "Epoch 92/100\n",
      "16/16 [==============================] - 0s 6ms/step - loss: 0.4707 - val_loss: 0.4276\n",
      "Epoch 93/100\n",
      "16/16 [==============================] - 0s 5ms/step - loss: 0.4700 - val_loss: 0.4271\n",
      "Epoch 94/100\n",
      "16/16 [==============================] - 0s 6ms/step - loss: 0.4696 - val_loss: 0.4272\n",
      "Epoch 95/100\n",
      "16/16 [==============================] - 0s 12ms/step - loss: 0.4688 - val_loss: 0.4263\n",
      "Epoch 96/100\n",
      "16/16 [==============================] - 0s 14ms/step - loss: 0.4682 - val_loss: 0.4256\n",
      "Epoch 97/100\n",
      "16/16 [==============================] - 0s 11ms/step - loss: 0.4680 - val_loss: 0.4247\n",
      "Epoch 98/100\n",
      "16/16 [==============================] - 0s 6ms/step - loss: 0.4673 - val_loss: 0.4251\n",
      "Epoch 99/100\n",
      "16/16 [==============================] - 0s 12ms/step - loss: 0.4667 - val_loss: 0.4239\n",
      "Epoch 100/100\n",
      "16/16 [==============================] - 0s 12ms/step - loss: 0.4661 - val_loss: 0.4232\n"
     ]
    }
   ],
   "source": [
    "model.compile(optimizer=Adam(lr=0.001), loss='binary_crossentropy')\n",
    "\n",
    "history = model.fit(x_train, y_train\n",
    "                     , epochs = 100, batch_size=32\n",
    "                     , validation_split=0.2).history"
   ]
  },
  {
   "cell_type": "markdown",
   "metadata": {
    "id": "zEHTIzCFrmAM"
   },
   "source": [
    "* 학습결과 그래프"
   ]
  },
  {
   "cell_type": "code",
   "execution_count": 67,
   "metadata": {
    "id": "tlFZWZizrmAM"
   },
   "outputs": [
    {
     "data": {
      "image/png": "[encoded data removed]",
      "text/plain": [
       "<Figure size 720x432 with 1 Axes>"
      ]
     },
     "metadata": {
      "needs_background": "light"
     },
     "output_type": "display_data"
    }
   ],
   "source": [
    "# train_err값은 점진적으로 줄어드는게 일반적이나, val_err는 커질수도 있음 (과적합 문제)\n",
    "dl_history_plot(history)"
   ]
  },
  {
   "cell_type": "markdown",
   "metadata": {
    "id": "5ReWtFYNo0EK"
   },
   "source": [
    "* 예측 및 평가"
   ]
  },
  {
   "cell_type": "code",
   "execution_count": 68,
   "metadata": {
    "id": "xboRa-t1rmAM"
   },
   "outputs": [
    {
     "name": "stdout",
     "output_type": "stream",
     "text": [
      "9/9 [==============================] - 0s 3ms/step\n",
      "              precision    recall  f1-score   support\n",
      "\n",
      "           0       0.83      0.86      0.85       168\n",
      "           1       0.76      0.71      0.73       100\n",
      "\n",
      "    accuracy                           0.81       268\n",
      "   macro avg       0.79      0.79      0.79       268\n",
      "weighted avg       0.80      0.81      0.80       268\n",
      "\n"
     ]
    }
   ],
   "source": [
    "pred = model.predict(x_val)\n",
    "pred = np.where(pred >= .5, 1, 0)  # 임곗값을 0.5로 주고 0.5이하는 0,이상은 1로 반환하여 예측분류.\n",
    "print(classification_report(y_val, pred))"
   ]
  },
  {
   "cell_type": "markdown",
   "metadata": {
    "id": "xMGgnz9TvDSr"
   },
   "source": [
    "### (3) 실습1"
   ]
  },
  {
   "cell_type": "markdown",
   "metadata": {
    "id": "MZQ1GyB7vONX"
   },
   "source": [
    "* 다음의 summary를 보고 모델을 설계하시오.\n",
    "\n",
    "| Layer (type) | Output Shape | 옵션 |\n",
    "| ---- | ---- | ---- | \n",
    "| dense (Dense) | (None, 16)  | node, input_shape, activation = 'relu' |\n",
    "| dense_1 (Dense) | (None, 1) | node, activation = 'sigmoid' |     "
   ]
  },
  {
   "cell_type": "code",
   "execution_count": 69,
   "metadata": {
    "id": "siwyHvr1rmAM"
   },
   "outputs": [
    {
     "name": "stdout",
     "output_type": "stream",
     "text": [
      "Model: \"sequential\"\n",
      "_________________________________________________________________\n",
      " Layer (type)                Output Shape              Param #   \n",
      "=================================================================\n",
      " dense (Dense)               (None, 16)                144       \n",
      "                                                                 \n",
      " dense_1 (Dense)             (None, 1)                 17        \n",
      "                                                                 \n",
      "=================================================================\n",
      "Total params: 161\n",
      "Trainable params: 161\n",
      "Non-trainable params: 0\n",
      "_________________________________________________________________\n"
     ]
    }
   ],
   "source": [
    "# 메모리 정리\n",
    "clear_session()\n",
    "\n",
    "# Sequential 타입 모델 선언\n",
    "model = Sequential([Dense(16, input_shape=(nfeatures,), activation='relu'),\n",
    "                    Dense(1, activation='sigmoid')\n",
    "                   ])\n",
    "\n",
    "# Layer 정의\n",
    "\n",
    "\n",
    "# 모델에 추가\n",
    "\n",
    "\n",
    "# 모델요약\n",
    "model.summary()"
   ]
  },
  {
   "cell_type": "code",
   "execution_count": 101,
   "metadata": {
    "id": "iEZWr_jNwCpr"
   },
   "outputs": [
    {
     "name": "stderr",
     "output_type": "stream",
     "text": [
      "C:\\Users\\User\\anaconda3\\lib\\site-packages\\keras\\optimizers\\optimizer_v2\\adam.py:114: UserWarning: The `lr` argument is deprecated, use `learning_rate` instead.\n",
      "  super().__init__(name, **kwargs)\n"
     ]
    }
   ],
   "source": [
    "model.compile(optimizer=Adam(lr=0.001),loss='binary_crossentropy')"
   ]
  },
  {
   "cell_type": "code",
   "execution_count": 102,
   "metadata": {
    "id": "T9plSoBwwCh8",
    "tags": []
   },
   "outputs": [
    {
     "name": "stdout",
     "output_type": "stream",
     "text": [
      "Epoch 1/200\n",
      "16/16 [==============================] - 2s 27ms/step - loss: 0.3828 - val_loss: 0.4162\n",
      "Epoch 2/200\n",
      "16/16 [==============================] - 0s 12ms/step - loss: 0.3797 - val_loss: 0.4179\n",
      "Epoch 3/200\n",
      "16/16 [==============================] - 0s 12ms/step - loss: 0.3807 - val_loss: 0.4202\n",
      "Epoch 4/200\n",
      "16/16 [==============================] - 0s 14ms/step - loss: 0.3797 - val_loss: 0.4184\n",
      "Epoch 5/200\n",
      "16/16 [==============================] - 0s 13ms/step - loss: 0.3790 - val_loss: 0.4178\n",
      "Epoch 6/200\n",
      "16/16 [==============================] - 0s 14ms/step - loss: 0.3798 - val_loss: 0.4169\n",
      "Epoch 7/200\n",
      "16/16 [==============================] - 0s 14ms/step - loss: 0.3796 - val_loss: 0.4194\n",
      "Epoch 8/200\n",
      "16/16 [==============================] - 0s 14ms/step - loss: 0.3792 - val_loss: 0.4198\n",
      "Epoch 9/200\n",
      "16/16 [==============================] - 0s 11ms/step - loss: 0.3788 - val_loss: 0.4193\n",
      "Epoch 10/200\n",
      "16/16 [==============================] - 0s 12ms/step - loss: 0.3795 - val_loss: 0.4185\n",
      "Epoch 11/200\n",
      "16/16 [==============================] - 0s 14ms/step - loss: 0.3811 - val_loss: 0.4221\n",
      "Epoch 12/200\n",
      "16/16 [==============================] - 0s 14ms/step - loss: 0.3791 - val_loss: 0.4197\n",
      "Epoch 13/200\n",
      "16/16 [==============================] - 0s 15ms/step - loss: 0.3791 - val_loss: 0.4197\n",
      "Epoch 14/200\n",
      "16/16 [==============================] - 0s 14ms/step - loss: 0.3793 - val_loss: 0.4199\n",
      "Epoch 15/200\n",
      "16/16 [==============================] - 0s 14ms/step - loss: 0.3790 - val_loss: 0.4197\n",
      "Epoch 16/200\n",
      "16/16 [==============================] - 0s 14ms/step - loss: 0.3792 - val_loss: 0.4203\n",
      "Epoch 17/200\n",
      "16/16 [==============================] - 0s 15ms/step - loss: 0.3788 - val_loss: 0.4213\n",
      "Epoch 18/200\n",
      "16/16 [==============================] - 0s 6ms/step - loss: 0.3789 - val_loss: 0.4215\n",
      "Epoch 19/200\n",
      "16/16 [==============================] - 0s 6ms/step - loss: 0.3786 - val_loss: 0.4213\n",
      "Epoch 20/200\n",
      "16/16 [==============================] - 0s 7ms/step - loss: 0.3788 - val_loss: 0.4213\n",
      "Epoch 21/200\n",
      "16/16 [==============================] - 0s 7ms/step - loss: 0.3787 - val_loss: 0.4212\n",
      "Epoch 22/200\n",
      "16/16 [==============================] - 0s 15ms/step - loss: 0.3787 - val_loss: 0.4213\n",
      "Epoch 23/200\n",
      "16/16 [==============================] - 0s 5ms/step - loss: 0.3789 - val_loss: 0.4224\n",
      "Epoch 24/200\n",
      "16/16 [==============================] - 0s 5ms/step - loss: 0.3787 - val_loss: 0.4230\n",
      "Epoch 25/200\n",
      "16/16 [==============================] - 0s 5ms/step - loss: 0.3785 - val_loss: 0.4217\n",
      "Epoch 26/200\n",
      "16/16 [==============================] - 0s 6ms/step - loss: 0.3788 - val_loss: 0.4228\n",
      "Epoch 27/200\n",
      "16/16 [==============================] - 0s 12ms/step - loss: 0.3786 - val_loss: 0.4231\n",
      "Epoch 28/200\n",
      "16/16 [==============================] - 0s 13ms/step - loss: 0.3788 - val_loss: 0.4225\n",
      "Epoch 29/200\n",
      "16/16 [==============================] - 0s 12ms/step - loss: 0.3783 - val_loss: 0.4234\n",
      "Epoch 30/200\n",
      "16/16 [==============================] - 0s 12ms/step - loss: 0.3785 - val_loss: 0.4231\n",
      "Epoch 31/200\n",
      "16/16 [==============================] - 0s 12ms/step - loss: 0.3784 - val_loss: 0.4234\n",
      "Epoch 32/200\n",
      "16/16 [==============================] - 0s 12ms/step - loss: 0.3784 - val_loss: 0.4245\n",
      "Epoch 33/200\n",
      "16/16 [==============================] - 0s 12ms/step - loss: 0.3783 - val_loss: 0.4246\n",
      "Epoch 34/200\n",
      "16/16 [==============================] - 0s 12ms/step - loss: 0.3784 - val_loss: 0.4248\n",
      "Epoch 35/200\n",
      "16/16 [==============================] - 0s 12ms/step - loss: 0.3783 - val_loss: 0.4246\n",
      "Epoch 36/200\n",
      "16/16 [==============================] - 0s 12ms/step - loss: 0.3784 - val_loss: 0.4248\n",
      "Epoch 37/200\n",
      "16/16 [==============================] - 0s 12ms/step - loss: 0.3784 - val_loss: 0.4256\n",
      "Epoch 38/200\n",
      "16/16 [==============================] - 0s 12ms/step - loss: 0.3785 - val_loss: 0.4262\n",
      "Epoch 39/200\n",
      "16/16 [==============================] - 0s 14ms/step - loss: 0.3784 - val_loss: 0.4243\n",
      "Epoch 40/200\n",
      "16/16 [==============================] - 0s 13ms/step - loss: 0.3781 - val_loss: 0.4248\n",
      "Epoch 41/200\n",
      "16/16 [==============================] - 0s 13ms/step - loss: 0.3781 - val_loss: 0.4246\n",
      "Epoch 42/200\n",
      "16/16 [==============================] - 0s 13ms/step - loss: 0.3783 - val_loss: 0.4251\n",
      "Epoch 43/200\n",
      "16/16 [==============================] - 0s 14ms/step - loss: 0.3785 - val_loss: 0.4262\n",
      "Epoch 44/200\n",
      "16/16 [==============================] - 0s 14ms/step - loss: 0.3787 - val_loss: 0.4279\n",
      "Epoch 45/200\n",
      "16/16 [==============================] - 0s 15ms/step - loss: 0.3781 - val_loss: 0.4274\n",
      "Epoch 46/200\n",
      "16/16 [==============================] - 0s 6ms/step - loss: 0.3780 - val_loss: 0.4265\n",
      "Epoch 47/200\n",
      "16/16 [==============================] - 0s 7ms/step - loss: 0.3784 - val_loss: 0.4268\n",
      "Epoch 48/200\n",
      "16/16 [==============================] - 0s 9ms/step - loss: 0.3782 - val_loss: 0.4276\n",
      "Epoch 49/200\n",
      "16/16 [==============================] - 0s 16ms/step - loss: 0.3789 - val_loss: 0.4262\n",
      "Epoch 50/200\n",
      "16/16 [==============================] - 0s 7ms/step - loss: 0.3777 - val_loss: 0.4281\n",
      "Epoch 51/200\n",
      "16/16 [==============================] - 0s 6ms/step - loss: 0.3781 - val_loss: 0.4282\n",
      "Epoch 52/200\n",
      "16/16 [==============================] - 0s 6ms/step - loss: 0.3782 - val_loss: 0.4292\n",
      "Epoch 53/200\n",
      "16/16 [==============================] - 0s 4ms/step - loss: 0.3777 - val_loss: 0.4281\n",
      "Epoch 54/200\n",
      "16/16 [==============================] - 0s 6ms/step - loss: 0.3786 - val_loss: 0.4266\n",
      "Epoch 55/200\n",
      "16/16 [==============================] - 0s 12ms/step - loss: 0.3779 - val_loss: 0.4287\n",
      "Epoch 56/200\n",
      "16/16 [==============================] - 0s 12ms/step - loss: 0.3782 - val_loss: 0.4298\n",
      "Epoch 57/200\n",
      "16/16 [==============================] - 0s 12ms/step - loss: 0.3784 - val_loss: 0.4286\n",
      "Epoch 58/200\n",
      "16/16 [==============================] - 0s 12ms/step - loss: 0.3776 - val_loss: 0.4295\n",
      "Epoch 59/200\n",
      "16/16 [==============================] - 0s 12ms/step - loss: 0.3778 - val_loss: 0.4284\n",
      "Epoch 60/200\n",
      "16/16 [==============================] - 0s 11ms/step - loss: 0.3777 - val_loss: 0.4294\n",
      "Epoch 61/200\n",
      "16/16 [==============================] - 0s 14ms/step - loss: 0.3781 - val_loss: 0.4295\n",
      "Epoch 62/200\n",
      "16/16 [==============================] - 0s 13ms/step - loss: 0.3779 - val_loss: 0.4298\n",
      "Epoch 63/200\n",
      "16/16 [==============================] - 0s 12ms/step - loss: 0.3776 - val_loss: 0.4304\n",
      "Epoch 64/200\n",
      "16/16 [==============================] - 0s 13ms/step - loss: 0.3779 - val_loss: 0.4290\n",
      "Epoch 65/200\n",
      "16/16 [==============================] - 0s 14ms/step - loss: 0.3778 - val_loss: 0.4303\n",
      "Epoch 66/200\n",
      "16/16 [==============================] - 0s 5ms/step - loss: 0.3778 - val_loss: 0.4306\n",
      "Epoch 67/200\n",
      "16/16 [==============================] - 0s 5ms/step - loss: 0.3781 - val_loss: 0.4301\n",
      "Epoch 68/200\n",
      "16/16 [==============================] - 0s 9ms/step - loss: 0.3778 - val_loss: 0.4308\n",
      "Epoch 69/200\n",
      "16/16 [==============================] - 0s 13ms/step - loss: 0.3775 - val_loss: 0.4328\n",
      "Epoch 70/200\n",
      "16/16 [==============================] - 0s 12ms/step - loss: 0.3773 - val_loss: 0.4327\n",
      "Epoch 71/200\n",
      "16/16 [==============================] - 0s 13ms/step - loss: 0.3774 - val_loss: 0.4322\n",
      "Epoch 72/200\n",
      "16/16 [==============================] - 0s 12ms/step - loss: 0.3777 - val_loss: 0.4325\n",
      "Epoch 73/200\n",
      "16/16 [==============================] - 0s 12ms/step - loss: 0.3776 - val_loss: 0.4327\n",
      "Epoch 74/200\n",
      "16/16 [==============================] - 0s 12ms/step - loss: 0.3772 - val_loss: 0.4329\n",
      "Epoch 75/200\n",
      "16/16 [==============================] - 0s 14ms/step - loss: 0.3776 - val_loss: 0.4314\n",
      "Epoch 76/200\n",
      "16/16 [==============================] - 0s 15ms/step - loss: 0.3774 - val_loss: 0.4331\n",
      "Epoch 77/200\n",
      "16/16 [==============================] - 0s 13ms/step - loss: 0.3780 - val_loss: 0.4353\n",
      "Epoch 78/200\n",
      "16/16 [==============================] - 0s 12ms/step - loss: 0.3779 - val_loss: 0.4332\n",
      "Epoch 79/200\n",
      "16/16 [==============================] - 0s 12ms/step - loss: 0.3774 - val_loss: 0.4338\n",
      "Epoch 80/200\n",
      "16/16 [==============================] - 0s 15ms/step - loss: 0.3776 - val_loss: 0.4357\n",
      "Epoch 81/200\n",
      "16/16 [==============================] - 0s 6ms/step - loss: 0.3776 - val_loss: 0.4356\n",
      "Epoch 82/200\n",
      "16/16 [==============================] - 0s 7ms/step - loss: 0.3777 - val_loss: 0.4330\n",
      "Epoch 83/200\n",
      "16/16 [==============================] - 0s 6ms/step - loss: 0.3771 - val_loss: 0.4341\n",
      "Epoch 84/200\n",
      "16/16 [==============================] - 0s 5ms/step - loss: 0.3776 - val_loss: 0.4343\n",
      "Epoch 85/200\n",
      "16/16 [==============================] - 0s 5ms/step - loss: 0.3767 - val_loss: 0.4355\n",
      "Epoch 86/200\n",
      "16/16 [==============================] - 0s 14ms/step - loss: 0.3769 - val_loss: 0.4370\n",
      "Epoch 87/200\n",
      "16/16 [==============================] - 0s 13ms/step - loss: 0.3771 - val_loss: 0.4356\n",
      "Epoch 88/200\n",
      "16/16 [==============================] - 0s 7ms/step - loss: 0.3769 - val_loss: 0.4368\n",
      "Epoch 89/200\n",
      "16/16 [==============================] - 0s 15ms/step - loss: 0.3770 - val_loss: 0.4371\n",
      "Epoch 90/200\n",
      "16/16 [==============================] - 0s 15ms/step - loss: 0.3775 - val_loss: 0.4363\n",
      "Epoch 91/200\n",
      "16/16 [==============================] - 0s 14ms/step - loss: 0.3770 - val_loss: 0.4358\n",
      "Epoch 92/200\n",
      "16/16 [==============================] - 0s 13ms/step - loss: 0.3772 - val_loss: 0.4365\n",
      "Epoch 93/200\n",
      "16/16 [==============================] - 0s 14ms/step - loss: 0.3770 - val_loss: 0.4381\n",
      "Epoch 94/200\n",
      "16/16 [==============================] - 0s 13ms/step - loss: 0.3766 - val_loss: 0.4370\n",
      "Epoch 95/200\n",
      "16/16 [==============================] - 0s 14ms/step - loss: 0.3777 - val_loss: 0.4383\n",
      "Epoch 96/200\n",
      "16/16 [==============================] - 0s 13ms/step - loss: 0.3768 - val_loss: 0.4372\n",
      "Epoch 97/200\n",
      "16/16 [==============================] - 0s 14ms/step - loss: 0.3772 - val_loss: 0.4369\n",
      "Epoch 98/200\n",
      "16/16 [==============================] - 0s 14ms/step - loss: 0.3769 - val_loss: 0.4369\n",
      "Epoch 99/200\n",
      "16/16 [==============================] - 0s 14ms/step - loss: 0.3771 - val_loss: 0.4373\n",
      "Epoch 100/200\n",
      "16/16 [==============================] - 0s 13ms/step - loss: 0.3769 - val_loss: 0.4397\n",
      "Epoch 101/200\n",
      "16/16 [==============================] - 0s 14ms/step - loss: 0.3765 - val_loss: 0.4387\n",
      "Epoch 102/200\n",
      "16/16 [==============================] - 0s 14ms/step - loss: 0.3767 - val_loss: 0.4382\n",
      "Epoch 103/200\n",
      "16/16 [==============================] - 0s 15ms/step - loss: 0.3771 - val_loss: 0.4372\n",
      "Epoch 104/200\n",
      "16/16 [==============================] - 0s 13ms/step - loss: 0.3765 - val_loss: 0.4394\n",
      "Epoch 105/200\n",
      "16/16 [==============================] - 0s 13ms/step - loss: 0.3768 - val_loss: 0.4381\n",
      "Epoch 106/200\n",
      "16/16 [==============================] - 0s 14ms/step - loss: 0.3763 - val_loss: 0.4394\n",
      "Epoch 107/200\n",
      "16/16 [==============================] - 0s 14ms/step - loss: 0.3764 - val_loss: 0.4393\n",
      "Epoch 108/200\n",
      "16/16 [==============================] - 0s 13ms/step - loss: 0.3764 - val_loss: 0.4393\n",
      "Epoch 109/200\n",
      "16/16 [==============================] - 0s 6ms/step - loss: 0.3763 - val_loss: 0.4405\n",
      "Epoch 110/200\n",
      "16/16 [==============================] - 0s 6ms/step - loss: 0.3762 - val_loss: 0.4394\n",
      "Epoch 111/200\n",
      "16/16 [==============================] - 0s 6ms/step - loss: 0.3766 - val_loss: 0.4389\n",
      "Epoch 112/200\n",
      "16/16 [==============================] - 0s 5ms/step - loss: 0.3767 - val_loss: 0.4407\n",
      "Epoch 113/200\n",
      "16/16 [==============================] - 0s 6ms/step - loss: 0.3769 - val_loss: 0.4394\n",
      "Epoch 114/200\n",
      "16/16 [==============================] - 0s 14ms/step - loss: 0.3763 - val_loss: 0.4395\n",
      "Epoch 115/200\n",
      "16/16 [==============================] - 0s 12ms/step - loss: 0.3764 - val_loss: 0.4416\n",
      "Epoch 116/200\n",
      "16/16 [==============================] - 0s 12ms/step - loss: 0.3761 - val_loss: 0.4401\n",
      "Epoch 117/200\n",
      "16/16 [==============================] - 0s 8ms/step - loss: 0.3764 - val_loss: 0.4398\n",
      "Epoch 118/200\n",
      "16/16 [==============================] - 0s 10ms/step - loss: 0.3761 - val_loss: 0.4407\n",
      "Epoch 119/200\n",
      "16/16 [==============================] - 0s 8ms/step - loss: 0.3758 - val_loss: 0.4427\n",
      "Epoch 120/200\n",
      "16/16 [==============================] - 0s 15ms/step - loss: 0.3764 - val_loss: 0.4419\n",
      "Epoch 121/200\n",
      "16/16 [==============================] - 0s 13ms/step - loss: 0.3763 - val_loss: 0.4425\n",
      "Epoch 122/200\n",
      "16/16 [==============================] - 0s 13ms/step - loss: 0.3772 - val_loss: 0.4438\n",
      "Epoch 123/200\n",
      "16/16 [==============================] - 0s 6ms/step - loss: 0.3763 - val_loss: 0.4424\n",
      "Epoch 124/200\n",
      "16/16 [==============================] - 0s 11ms/step - loss: 0.3761 - val_loss: 0.4440\n",
      "Epoch 125/200\n",
      "16/16 [==============================] - 0s 12ms/step - loss: 0.3761 - val_loss: 0.4422\n",
      "Epoch 126/200\n",
      "16/16 [==============================] - 0s 12ms/step - loss: 0.3760 - val_loss: 0.4434\n",
      "Epoch 127/200\n",
      "16/16 [==============================] - 0s 13ms/step - loss: 0.3759 - val_loss: 0.4433\n",
      "Epoch 128/200\n",
      "16/16 [==============================] - 0s 5ms/step - loss: 0.3760 - val_loss: 0.4437\n",
      "Epoch 129/200\n",
      "16/16 [==============================] - 0s 6ms/step - loss: 0.3757 - val_loss: 0.4440\n",
      "Epoch 130/200\n",
      "16/16 [==============================] - 0s 11ms/step - loss: 0.3764 - val_loss: 0.4450\n",
      "Epoch 131/200\n",
      "16/16 [==============================] - 0s 13ms/step - loss: 0.3758 - val_loss: 0.4439\n",
      "Epoch 132/200\n",
      "16/16 [==============================] - 0s 13ms/step - loss: 0.3759 - val_loss: 0.4430\n",
      "Epoch 133/200\n",
      "16/16 [==============================] - 0s 13ms/step - loss: 0.3760 - val_loss: 0.4447\n",
      "Epoch 134/200\n",
      "16/16 [==============================] - 0s 6ms/step - loss: 0.3759 - val_loss: 0.4444\n",
      "Epoch 135/200\n",
      "16/16 [==============================] - 0s 5ms/step - loss: 0.3759 - val_loss: 0.4447\n",
      "Epoch 136/200\n",
      "16/16 [==============================] - 0s 5ms/step - loss: 0.3755 - val_loss: 0.4446\n",
      "Epoch 137/200\n",
      "16/16 [==============================] - 0s 5ms/step - loss: 0.3755 - val_loss: 0.4450\n",
      "Epoch 138/200\n",
      "16/16 [==============================] - 0s 6ms/step - loss: 0.3755 - val_loss: 0.4456\n",
      "Epoch 139/200\n",
      "16/16 [==============================] - 0s 10ms/step - loss: 0.3752 - val_loss: 0.4457\n",
      "Epoch 140/200\n",
      "16/16 [==============================] - 0s 14ms/step - loss: 0.3754 - val_loss: 0.4461\n",
      "Epoch 141/200\n",
      "16/16 [==============================] - 0s 14ms/step - loss: 0.3757 - val_loss: 0.4472\n",
      "Epoch 142/200\n",
      "16/16 [==============================] - 0s 13ms/step - loss: 0.3753 - val_loss: 0.4460\n",
      "Epoch 143/200\n",
      "16/16 [==============================] - 0s 7ms/step - loss: 0.3760 - val_loss: 0.4468\n",
      "Epoch 144/200\n",
      "16/16 [==============================] - 0s 7ms/step - loss: 0.3757 - val_loss: 0.4459\n",
      "Epoch 145/200\n",
      "16/16 [==============================] - 0s 7ms/step - loss: 0.3760 - val_loss: 0.4479\n",
      "Epoch 146/200\n",
      "16/16 [==============================] - 0s 6ms/step - loss: 0.3765 - val_loss: 0.4454\n",
      "Epoch 147/200\n",
      "16/16 [==============================] - 0s 4ms/step - loss: 0.3754 - val_loss: 0.4477\n",
      "Epoch 148/200\n",
      "16/16 [==============================] - 0s 6ms/step - loss: 0.3751 - val_loss: 0.4485\n",
      "Epoch 149/200\n",
      "16/16 [==============================] - 0s 17ms/step - loss: 0.3753 - val_loss: 0.4492\n",
      "Epoch 150/200\n",
      "16/16 [==============================] - 0s 8ms/step - loss: 0.3753 - val_loss: 0.4486\n",
      "Epoch 151/200\n",
      "16/16 [==============================] - 0s 6ms/step - loss: 0.3751 - val_loss: 0.4482\n",
      "Epoch 152/200\n",
      "16/16 [==============================] - 0s 4ms/step - loss: 0.3752 - val_loss: 0.4496\n",
      "Epoch 153/200\n",
      "16/16 [==============================] - 0s 5ms/step - loss: 0.3750 - val_loss: 0.4505\n",
      "Epoch 154/200\n",
      "16/16 [==============================] - 0s 6ms/step - loss: 0.3750 - val_loss: 0.4506\n",
      "Epoch 155/200\n",
      "16/16 [==============================] - 0s 7ms/step - loss: 0.3750 - val_loss: 0.4502\n",
      "Epoch 156/200\n",
      "16/16 [==============================] - 0s 6ms/step - loss: 0.3747 - val_loss: 0.4500\n",
      "Epoch 157/200\n",
      "16/16 [==============================] - 0s 7ms/step - loss: 0.3748 - val_loss: 0.4506\n",
      "Epoch 158/200\n",
      "16/16 [==============================] - 0s 13ms/step - loss: 0.3763 - val_loss: 0.4528\n",
      "Epoch 159/200\n",
      "16/16 [==============================] - 0s 13ms/step - loss: 0.3749 - val_loss: 0.4513\n",
      "Epoch 160/200\n",
      "16/16 [==============================] - 0s 12ms/step - loss: 0.3753 - val_loss: 0.4497\n",
      "Epoch 161/200\n",
      "16/16 [==============================] - 0s 14ms/step - loss: 0.3752 - val_loss: 0.4503\n",
      "Epoch 162/200\n",
      "16/16 [==============================] - 0s 13ms/step - loss: 0.3748 - val_loss: 0.4513\n",
      "Epoch 163/200\n",
      "16/16 [==============================] - 0s 9ms/step - loss: 0.3749 - val_loss: 0.4520\n",
      "Epoch 164/200\n",
      "16/16 [==============================] - 0s 9ms/step - loss: 0.3747 - val_loss: 0.4524\n",
      "Epoch 165/200\n",
      "16/16 [==============================] - 0s 9ms/step - loss: 0.3749 - val_loss: 0.4532\n",
      "Epoch 166/200\n",
      "16/16 [==============================] - 0s 8ms/step - loss: 0.3747 - val_loss: 0.4527\n",
      "Epoch 167/200\n",
      "16/16 [==============================] - 0s 10ms/step - loss: 0.3749 - val_loss: 0.4532\n",
      "Epoch 168/200\n",
      "16/16 [==============================] - 0s 9ms/step - loss: 0.3748 - val_loss: 0.4525\n",
      "Epoch 169/200\n",
      "16/16 [==============================] - 0s 8ms/step - loss: 0.3745 - val_loss: 0.4538\n",
      "Epoch 170/200\n",
      "16/16 [==============================] - 0s 8ms/step - loss: 0.3745 - val_loss: 0.4538\n",
      "Epoch 171/200\n",
      "16/16 [==============================] - 0s 8ms/step - loss: 0.3749 - val_loss: 0.4548\n",
      "Epoch 172/200\n",
      "16/16 [==============================] - 0s 8ms/step - loss: 0.3744 - val_loss: 0.4544\n",
      "Epoch 173/200\n",
      "16/16 [==============================] - 0s 8ms/step - loss: 0.3748 - val_loss: 0.4539\n",
      "Epoch 174/200\n",
      "16/16 [==============================] - 0s 8ms/step - loss: 0.3746 - val_loss: 0.4549\n",
      "Epoch 175/200\n",
      "16/16 [==============================] - 0s 10ms/step - loss: 0.3744 - val_loss: 0.4553\n",
      "Epoch 176/200\n",
      "16/16 [==============================] - 0s 11ms/step - loss: 0.3744 - val_loss: 0.4550\n",
      "Epoch 177/200\n",
      "16/16 [==============================] - 0s 11ms/step - loss: 0.3743 - val_loss: 0.4548\n",
      "Epoch 178/200\n",
      "16/16 [==============================] - 0s 11ms/step - loss: 0.3743 - val_loss: 0.4551\n",
      "Epoch 179/200\n",
      "16/16 [==============================] - 0s 12ms/step - loss: 0.3745 - val_loss: 0.4553\n",
      "Epoch 180/200\n",
      "16/16 [==============================] - 0s 12ms/step - loss: 0.3747 - val_loss: 0.4545\n",
      "Epoch 181/200\n",
      "16/16 [==============================] - 0s 10ms/step - loss: 0.3744 - val_loss: 0.4563\n",
      "Epoch 182/200\n",
      "16/16 [==============================] - 0s 6ms/step - loss: 0.3749 - val_loss: 0.4572\n",
      "Epoch 183/200\n",
      "16/16 [==============================] - 0s 6ms/step - loss: 0.3747 - val_loss: 0.4556\n",
      "Epoch 184/200\n",
      "16/16 [==============================] - 0s 6ms/step - loss: 0.3744 - val_loss: 0.4564\n",
      "Epoch 185/200\n",
      "16/16 [==============================] - 0s 5ms/step - loss: 0.3751 - val_loss: 0.4591\n",
      "Epoch 186/200\n",
      "16/16 [==============================] - 0s 5ms/step - loss: 0.3741 - val_loss: 0.4581\n",
      "Epoch 187/200\n",
      "16/16 [==============================] - 0s 6ms/step - loss: 0.3742 - val_loss: 0.4577\n",
      "Epoch 188/200\n",
      "16/16 [==============================] - 0s 5ms/step - loss: 0.3745 - val_loss: 0.4566\n",
      "Epoch 189/200\n",
      "16/16 [==============================] - 0s 5ms/step - loss: 0.3743 - val_loss: 0.4574\n",
      "Epoch 190/200\n",
      "16/16 [==============================] - 0s 7ms/step - loss: 0.3740 - val_loss: 0.4590\n",
      "Epoch 191/200\n",
      "16/16 [==============================] - 0s 5ms/step - loss: 0.3738 - val_loss: 0.4591\n",
      "Epoch 192/200\n",
      "16/16 [==============================] - 0s 6ms/step - loss: 0.3739 - val_loss: 0.4592\n",
      "Epoch 193/200\n",
      "16/16 [==============================] - 0s 7ms/step - loss: 0.3742 - val_loss: 0.4590\n",
      "Epoch 194/200\n",
      "16/16 [==============================] - 0s 8ms/step - loss: 0.3738 - val_loss: 0.4595\n",
      "Epoch 195/200\n",
      "16/16 [==============================] - 0s 14ms/step - loss: 0.3740 - val_loss: 0.4581\n",
      "Epoch 196/200\n",
      "16/16 [==============================] - 0s 7ms/step - loss: 0.3741 - val_loss: 0.4595\n",
      "Epoch 197/200\n",
      "16/16 [==============================] - 0s 4ms/step - loss: 0.3743 - val_loss: 0.4611\n",
      "Epoch 198/200\n",
      "16/16 [==============================] - 0s 5ms/step - loss: 0.3740 - val_loss: 0.4596\n",
      "Epoch 199/200\n",
      "16/16 [==============================] - 0s 5ms/step - loss: 0.3738 - val_loss: 0.4599\n",
      "Epoch 200/200\n",
      "16/16 [==============================] - 0s 4ms/step - loss: 0.3739 - val_loss: 0.4606\n"
     ]
    }
   ],
   "source": [
    "history = model.fit(x_train, y_train\n",
    "                     , epochs = 200, batch_size=32\n",
    "                     , validation_split=0.2).history"
   ]
  },
  {
   "cell_type": "code",
   "execution_count": 103,
   "metadata": {
    "id": "PTzZV-_DwCY3"
   },
   "outputs": [
    {
     "name": "stdout",
     "output_type": "stream",
     "text": [
      "9/9 [==============================] - 0s 3ms/step\n",
      "              precision    recall  f1-score   support\n",
      "\n",
      "           0       0.78      0.93      0.85       168\n",
      "           1       0.84      0.56      0.67       100\n",
      "\n",
      "    accuracy                           0.79       268\n",
      "   macro avg       0.81      0.75      0.76       268\n",
      "weighted avg       0.80      0.79      0.78       268\n",
      "\n"
     ]
    }
   ],
   "source": [
    "pred = model.predict(x_val)\n",
    "pred = np.where(pred >= .5, 1, 0)  # 임곗값을 0.5로 주고 0.5이하는 0,이상은 1로 반환하여 예측분류.\n",
    "print(classification_report(y_val, pred))"
   ]
  },
  {
   "cell_type": "markdown",
   "metadata": {
    "id": "6vx5D3lewBR8"
   },
   "source": [
    "### (4) 실습2"
   ]
  },
  {
   "cell_type": "markdown",
   "metadata": {
    "id": "ziu8sULAwBR9"
   },
   "source": [
    "* 다음의 summary를 보고 모델을 설계하시오.\n",
    "\n",
    "| Layer (type) | Output Shape |  옵션 |\n",
    "| ---- | ---- | ---- | \n",
    "| dense (Dense) | (None, 16) |  node, input_shape, activation = 'relu' |\n",
    "| dense_1 (Dense) | (None, 8) |  node, activation = 'relu'  |\n",
    "| dense_2 (Dense) | (None, 1) |  node, activation = 'sigmoid'  |"
   ]
  },
  {
   "cell_type": "code",
   "execution_count": 96,
   "metadata": {
    "id": "o3EAn2Va7-Y3"
   },
   "outputs": [
    {
     "name": "stdout",
     "output_type": "stream",
     "text": [
      "Model: \"sequential\"\n",
      "_________________________________________________________________\n",
      " Layer (type)                Output Shape              Param #   \n",
      "=================================================================\n",
      " dense (Dense)               (None, 16)                144       \n",
      "                                                                 \n",
      " dense_1 (Dense)             (None, 8)                 136       \n",
      "                                                                 \n",
      " dense_2 (Dense)             (None, 1)                 9         \n",
      "                                                                 \n",
      "=================================================================\n",
      "Total params: 289\n",
      "Trainable params: 289\n",
      "Non-trainable params: 0\n",
      "_________________________________________________________________\n"
     ]
    }
   ],
   "source": [
    "# 메모리 정리\n",
    "clear_session()\n",
    "\n",
    "# Sequential 타입 모델 선언\n",
    "# 요즘 뜨는 activation 함수 : swish(구글)\n",
    "model = Sequential([Dense(16, input_shape=(nfeatures,), activation='swish'),\n",
    "                    Dense(8, activation='swish'),\n",
    "                    Dense(1, activation='sigmoid')\n",
    "    \n",
    "])\n",
    "\n",
    "# Layer 정의\n",
    "\n",
    "\n",
    "# 모델에 추가\n",
    "\n",
    "\n",
    "# 모델요약\n",
    "model.summary()"
   ]
  },
  {
   "cell_type": "code",
   "execution_count": 97,
   "metadata": {
    "id": "Fzf2_tNL7-Y4"
   },
   "outputs": [
    {
     "name": "stderr",
     "output_type": "stream",
     "text": [
      "C:\\Users\\User\\anaconda3\\lib\\site-packages\\keras\\optimizers\\optimizer_v2\\adam.py:114: UserWarning: The `lr` argument is deprecated, use `learning_rate` instead.\n",
      "  super().__init__(name, **kwargs)\n"
     ]
    }
   ],
   "source": [
    "model.compile(optimizer=Adam(lr=0.01),loss='binary_crossentropy')"
   ]
  },
  {
   "cell_type": "code",
   "execution_count": 98,
   "metadata": {
    "id": "f_sHvPv07-Y4",
    "tags": []
   },
   "outputs": [
    {
     "name": "stdout",
     "output_type": "stream",
     "text": [
      "Epoch 1/100\n",
      "16/16 [==============================] - 2s 48ms/step - loss: 0.6318 - val_loss: 0.5469\n",
      "Epoch 2/100\n",
      "16/16 [==============================] - 0s 13ms/step - loss: 0.5454 - val_loss: 0.4613\n",
      "Epoch 3/100\n",
      "16/16 [==============================] - 0s 14ms/step - loss: 0.5026 - val_loss: 0.4361\n",
      "Epoch 4/100\n",
      "16/16 [==============================] - 0s 14ms/step - loss: 0.4793 - val_loss: 0.4186\n",
      "Epoch 5/100\n",
      "16/16 [==============================] - 0s 13ms/step - loss: 0.4648 - val_loss: 0.4082\n",
      "Epoch 6/100\n",
      "16/16 [==============================] - 0s 5ms/step - loss: 0.4545 - val_loss: 0.4207\n",
      "Epoch 7/100\n",
      "16/16 [==============================] - 0s 6ms/step - loss: 0.4519 - val_loss: 0.4124\n",
      "Epoch 8/100\n",
      "16/16 [==============================] - 0s 8ms/step - loss: 0.4424 - val_loss: 0.4049\n",
      "Epoch 9/100\n",
      "16/16 [==============================] - 0s 10ms/step - loss: 0.4459 - val_loss: 0.4292\n",
      "Epoch 10/100\n",
      "16/16 [==============================] - 0s 11ms/step - loss: 0.4385 - val_loss: 0.4035\n",
      "Epoch 11/100\n",
      "16/16 [==============================] - 0s 14ms/step - loss: 0.4344 - val_loss: 0.4049\n",
      "Epoch 12/100\n",
      "16/16 [==============================] - 0s 14ms/step - loss: 0.4294 - val_loss: 0.4260\n",
      "Epoch 13/100\n",
      "16/16 [==============================] - 0s 14ms/step - loss: 0.4320 - val_loss: 0.4177\n",
      "Epoch 14/100\n",
      "16/16 [==============================] - 0s 14ms/step - loss: 0.4340 - val_loss: 0.4184\n",
      "Epoch 15/100\n",
      "16/16 [==============================] - 0s 14ms/step - loss: 0.4275 - val_loss: 0.4000\n",
      "Epoch 16/100\n",
      "16/16 [==============================] - 0s 14ms/step - loss: 0.4313 - val_loss: 0.4054\n",
      "Epoch 17/100\n",
      "16/16 [==============================] - 0s 14ms/step - loss: 0.4292 - val_loss: 0.4150\n",
      "Epoch 18/100\n",
      "16/16 [==============================] - 0s 13ms/step - loss: 0.4268 - val_loss: 0.4071\n",
      "Epoch 19/100\n",
      "16/16 [==============================] - 0s 13ms/step - loss: 0.4236 - val_loss: 0.4193\n",
      "Epoch 20/100\n",
      "16/16 [==============================] - 0s 13ms/step - loss: 0.4355 - val_loss: 0.4147\n",
      "Epoch 21/100\n",
      "16/16 [==============================] - 0s 12ms/step - loss: 0.4283 - val_loss: 0.4324\n",
      "Epoch 22/100\n",
      "16/16 [==============================] - 0s 12ms/step - loss: 0.4298 - val_loss: 0.3981\n",
      "Epoch 23/100\n",
      "16/16 [==============================] - 0s 16ms/step - loss: 0.4251 - val_loss: 0.3987\n",
      "Epoch 24/100\n",
      "16/16 [==============================] - 0s 6ms/step - loss: 0.4287 - val_loss: 0.4196\n",
      "Epoch 25/100\n",
      "16/16 [==============================] - 0s 6ms/step - loss: 0.4245 - val_loss: 0.4105\n",
      "Epoch 26/100\n",
      "16/16 [==============================] - 0s 5ms/step - loss: 0.4197 - val_loss: 0.4197\n",
      "Epoch 27/100\n",
      "16/16 [==============================] - 0s 5ms/step - loss: 0.4290 - val_loss: 0.4041\n",
      "Epoch 28/100\n",
      "16/16 [==============================] - 0s 6ms/step - loss: 0.4245 - val_loss: 0.4018\n",
      "Epoch 29/100\n",
      "16/16 [==============================] - 0s 12ms/step - loss: 0.4223 - val_loss: 0.4228\n",
      "Epoch 30/100\n",
      "16/16 [==============================] - 0s 12ms/step - loss: 0.4175 - val_loss: 0.4029\n",
      "Epoch 31/100\n",
      "16/16 [==============================] - 0s 12ms/step - loss: 0.4166 - val_loss: 0.4080\n",
      "Epoch 32/100\n",
      "16/16 [==============================] - 0s 12ms/step - loss: 0.4156 - val_loss: 0.4093\n",
      "Epoch 33/100\n",
      "16/16 [==============================] - 0s 12ms/step - loss: 0.4168 - val_loss: 0.4070\n",
      "Epoch 34/100\n",
      "16/16 [==============================] - 0s 12ms/step - loss: 0.4177 - val_loss: 0.4232\n",
      "Epoch 35/100\n",
      "16/16 [==============================] - 0s 13ms/step - loss: 0.4147 - val_loss: 0.4023\n",
      "Epoch 36/100\n",
      "16/16 [==============================] - 0s 15ms/step - loss: 0.4165 - val_loss: 0.4007\n",
      "Epoch 37/100\n",
      "16/16 [==============================] - 0s 12ms/step - loss: 0.4114 - val_loss: 0.4091\n",
      "Epoch 38/100\n",
      "16/16 [==============================] - 0s 5ms/step - loss: 0.4144 - val_loss: 0.4013\n",
      "Epoch 39/100\n",
      "16/16 [==============================] - 0s 4ms/step - loss: 0.4055 - val_loss: 0.4241\n",
      "Epoch 40/100\n",
      "16/16 [==============================] - 0s 5ms/step - loss: 0.4225 - val_loss: 0.4004\n",
      "Epoch 41/100\n",
      "16/16 [==============================] - 0s 6ms/step - loss: 0.4053 - val_loss: 0.4203\n",
      "Epoch 42/100\n",
      "16/16 [==============================] - 0s 8ms/step - loss: 0.4082 - val_loss: 0.3977\n",
      "Epoch 43/100\n",
      "16/16 [==============================] - 0s 8ms/step - loss: 0.4185 - val_loss: 0.4056\n",
      "Epoch 44/100\n",
      "16/16 [==============================] - 0s 8ms/step - loss: 0.4180 - val_loss: 0.4207\n",
      "Epoch 45/100\n",
      "16/16 [==============================] - 0s 12ms/step - loss: 0.4148 - val_loss: 0.3994\n",
      "Epoch 46/100\n",
      "16/16 [==============================] - 0s 8ms/step - loss: 0.4058 - val_loss: 0.4015\n",
      "Epoch 47/100\n",
      "16/16 [==============================] - 0s 5ms/step - loss: 0.4026 - val_loss: 0.4025\n",
      "Epoch 48/100\n",
      "16/16 [==============================] - 0s 7ms/step - loss: 0.4028 - val_loss: 0.3989\n",
      "Epoch 49/100\n",
      "16/16 [==============================] - 0s 12ms/step - loss: 0.4062 - val_loss: 0.3989\n",
      "Epoch 50/100\n",
      "16/16 [==============================] - 0s 12ms/step - loss: 0.4052 - val_loss: 0.3960\n",
      "Epoch 51/100\n",
      "16/16 [==============================] - 0s 12ms/step - loss: 0.4058 - val_loss: 0.3939\n",
      "Epoch 52/100\n",
      "16/16 [==============================] - 0s 11ms/step - loss: 0.4011 - val_loss: 0.4107\n",
      "Epoch 53/100\n",
      "16/16 [==============================] - 0s 11ms/step - loss: 0.4044 - val_loss: 0.3979\n",
      "Epoch 54/100\n",
      "16/16 [==============================] - 0s 15ms/step - loss: 0.4043 - val_loss: 0.4050\n",
      "Epoch 55/100\n",
      "16/16 [==============================] - 0s 6ms/step - loss: 0.3962 - val_loss: 0.3968\n",
      "Epoch 56/100\n",
      "16/16 [==============================] - 0s 6ms/step - loss: 0.3980 - val_loss: 0.3997\n",
      "Epoch 57/100\n",
      "16/16 [==============================] - 0s 6ms/step - loss: 0.3983 - val_loss: 0.4030\n",
      "Epoch 58/100\n",
      "16/16 [==============================] - 0s 14ms/step - loss: 0.3964 - val_loss: 0.3955\n",
      "Epoch 59/100\n",
      "16/16 [==============================] - 0s 12ms/step - loss: 0.3982 - val_loss: 0.4130\n",
      "Epoch 60/100\n",
      "16/16 [==============================] - 0s 6ms/step - loss: 0.3980 - val_loss: 0.3952\n",
      "Epoch 61/100\n",
      "16/16 [==============================] - 0s 6ms/step - loss: 0.4008 - val_loss: 0.4044\n",
      "Epoch 62/100\n",
      "16/16 [==============================] - 0s 5ms/step - loss: 0.3989 - val_loss: 0.4001\n",
      "Epoch 63/100\n",
      "16/16 [==============================] - 0s 4ms/step - loss: 0.4017 - val_loss: 0.3998\n",
      "Epoch 64/100\n",
      "16/16 [==============================] - 0s 5ms/step - loss: 0.3929 - val_loss: 0.4010\n",
      "Epoch 65/100\n",
      "16/16 [==============================] - 0s 6ms/step - loss: 0.3940 - val_loss: 0.3963\n",
      "Epoch 66/100\n",
      "16/16 [==============================] - 0s 8ms/step - loss: 0.3983 - val_loss: 0.3952\n",
      "Epoch 67/100\n",
      "16/16 [==============================] - 0s 12ms/step - loss: 0.3936 - val_loss: 0.4025\n",
      "Epoch 68/100\n",
      "16/16 [==============================] - 0s 14ms/step - loss: 0.4002 - val_loss: 0.3970\n",
      "Epoch 69/100\n",
      "16/16 [==============================] - 0s 12ms/step - loss: 0.3963 - val_loss: 0.3960\n",
      "Epoch 70/100\n",
      "16/16 [==============================] - 0s 12ms/step - loss: 0.3933 - val_loss: 0.3954\n",
      "Epoch 71/100\n",
      "16/16 [==============================] - 0s 11ms/step - loss: 0.3913 - val_loss: 0.3986\n",
      "Epoch 72/100\n",
      "16/16 [==============================] - 0s 5ms/step - loss: 0.3934 - val_loss: 0.4002\n",
      "Epoch 73/100\n",
      "16/16 [==============================] - 0s 6ms/step - loss: 0.3891 - val_loss: 0.4033\n",
      "Epoch 74/100\n",
      "16/16 [==============================] - 0s 11ms/step - loss: 0.3920 - val_loss: 0.3974\n",
      "Epoch 75/100\n",
      "16/16 [==============================] - 0s 14ms/step - loss: 0.3947 - val_loss: 0.3996\n",
      "Epoch 76/100\n",
      "16/16 [==============================] - 0s 13ms/step - loss: 0.3914 - val_loss: 0.3992\n",
      "Epoch 77/100\n",
      "16/16 [==============================] - 0s 12ms/step - loss: 0.3879 - val_loss: 0.4084\n",
      "Epoch 78/100\n",
      "16/16 [==============================] - 0s 12ms/step - loss: 0.3901 - val_loss: 0.4009\n",
      "Epoch 79/100\n",
      "16/16 [==============================] - 0s 12ms/step - loss: 0.3930 - val_loss: 0.4032\n",
      "Epoch 80/100\n",
      "16/16 [==============================] - 0s 12ms/step - loss: 0.3882 - val_loss: 0.4001\n",
      "Epoch 81/100\n",
      "16/16 [==============================] - 0s 13ms/step - loss: 0.3897 - val_loss: 0.4084\n",
      "Epoch 82/100\n",
      "16/16 [==============================] - 0s 14ms/step - loss: 0.3911 - val_loss: 0.4067\n",
      "Epoch 83/100\n",
      "16/16 [==============================] - 0s 15ms/step - loss: 0.3879 - val_loss: 0.4047\n",
      "Epoch 84/100\n",
      "16/16 [==============================] - 0s 14ms/step - loss: 0.3882 - val_loss: 0.4148\n",
      "Epoch 85/100\n",
      "16/16 [==============================] - 0s 12ms/step - loss: 0.3977 - val_loss: 0.4062\n",
      "Epoch 86/100\n",
      "16/16 [==============================] - 0s 12ms/step - loss: 0.3873 - val_loss: 0.4156\n",
      "Epoch 87/100\n",
      "16/16 [==============================] - 0s 13ms/step - loss: 0.3881 - val_loss: 0.4035\n",
      "Epoch 88/100\n",
      "16/16 [==============================] - 0s 12ms/step - loss: 0.3943 - val_loss: 0.4081\n",
      "Epoch 89/100\n",
      "16/16 [==============================] - 0s 14ms/step - loss: 0.3858 - val_loss: 0.4088\n",
      "Epoch 90/100\n",
      "16/16 [==============================] - 0s 14ms/step - loss: 0.3895 - val_loss: 0.4081\n",
      "Epoch 91/100\n",
      "16/16 [==============================] - 0s 9ms/step - loss: 0.3863 - val_loss: 0.4115\n",
      "Epoch 92/100\n",
      "16/16 [==============================] - 0s 6ms/step - loss: 0.3869 - val_loss: 0.4112\n",
      "Epoch 93/100\n",
      "16/16 [==============================] - 0s 6ms/step - loss: 0.3880 - val_loss: 0.4162\n",
      "Epoch 94/100\n",
      "16/16 [==============================] - 0s 5ms/step - loss: 0.3864 - val_loss: 0.4127\n",
      "Epoch 95/100\n",
      "16/16 [==============================] - 0s 5ms/step - loss: 0.3937 - val_loss: 0.4284\n",
      "Epoch 96/100\n",
      "16/16 [==============================] - 0s 6ms/step - loss: 0.3917 - val_loss: 0.4125\n",
      "Epoch 97/100\n",
      "16/16 [==============================] - 0s 11ms/step - loss: 0.3894 - val_loss: 0.4129\n",
      "Epoch 98/100\n",
      "16/16 [==============================] - 0s 9ms/step - loss: 0.3882 - val_loss: 0.4119\n",
      "Epoch 99/100\n",
      "16/16 [==============================] - 0s 12ms/step - loss: 0.3883 - val_loss: 0.4338\n",
      "Epoch 100/100\n",
      "16/16 [==============================] - 0s 8ms/step - loss: 0.3862 - val_loss: 0.4154\n"
     ]
    }
   ],
   "source": [
    "history = model.fit(x_train, y_train,epochs=100,batch_size=32,validation_split=0.2).history"
   ]
  },
  {
   "cell_type": "code",
   "execution_count": 99,
   "metadata": {
    "id": "i858A5P-7-Y4"
   },
   "outputs": [
    {
     "data": {
      "image/png": "[encoded data removed]",
      "text/plain": [
       "<Figure size 720x432 with 1 Axes>"
      ]
     },
     "metadata": {
      "needs_background": "light"
     },
     "output_type": "display_data"
    }
   ],
   "source": [
    "dl_history_plot(history)"
   ]
  },
  {
   "cell_type": "code",
   "execution_count": 100,
   "metadata": {},
   "outputs": [
    {
     "name": "stdout",
     "output_type": "stream",
     "text": [
      "9/9 [==============================] - 0s 5ms/step\n",
      "              precision    recall  f1-score   support\n",
      "\n",
      "           0       0.79      0.94      0.86       168\n",
      "           1       0.85      0.57      0.68       100\n",
      "\n",
      "    accuracy                           0.80       268\n",
      "   macro avg       0.82      0.76      0.77       268\n",
      "weighted avg       0.81      0.80      0.79       268\n",
      "\n"
     ]
    }
   ],
   "source": [
    "pred = model.predict(x_val)\n",
    "pred = np.where(pred >= .5, 1, 0)  # 임곗값을 0.5로 주고 0.5이하는 0,이상은 1로 반환하여 예측분류.\n",
    "print(classification_report(y_val, pred))"
   ]
  },
  {
   "cell_type": "markdown",
   "metadata": {
    "id": "YC5zRh2BxHgb"
   },
   "source": [
    "### (5) 실습3"
   ]
  },
  {
   "cell_type": "markdown",
   "metadata": {
    "id": "9RFDZgfMxHgb"
   },
   "source": [
    "* 이번에는 여러분이 원하는 대로 설계하고, 학습해 봅시다.\n"
   ]
  },
  {
   "cell_type": "code",
   "execution_count": null,
   "metadata": {
    "id": "Gyvea0RF7_o2"
   },
   "outputs": [],
   "source": [
    "# 메모리 정리\n",
    "\n",
    "\n",
    "# Sequential 타입 모델 선언\n",
    "\n",
    "\n",
    "# Layer 정의\n",
    "\n",
    "\n",
    "# 모델에 추가\n",
    "\n",
    "\n",
    "# 모델요약\n"
   ]
  },
  {
   "cell_type": "code",
   "execution_count": null,
   "metadata": {
    "id": "4EGEUOXq7_o2"
   },
   "outputs": [],
   "source": []
  },
  {
   "cell_type": "code",
   "execution_count": null,
   "metadata": {
    "id": "fRxVhSKZ7_o3"
   },
   "outputs": [],
   "source": []
  },
  {
   "cell_type": "code",
   "execution_count": null,
   "metadata": {
    "id": "SzEMH5mI7_o3"
   },
   "outputs": [],
   "source": []
  }
 ],
 "metadata": {
  "colab": {
   "collapsed_sections": [],
   "provenance": [],
   "toc_visible": true
  },
  "kernelspec": {
   "display_name": "Python 3",
   "language": "python",
   "name": "python3"
  },
  "language_info": {
   "codemirror_mode": {
    "name": "ipython",
    "version": 3
   },
   "file_extension": ".py",
   "mimetype": "text/x-python",
   "name": "python",
   "nbconvert_exporter": "python",
   "pygments_lexer": "ipython3",
   "version": "3.8.8"
  }
 },
 "nbformat": 4,
 "nbformat_minor": 4
}
