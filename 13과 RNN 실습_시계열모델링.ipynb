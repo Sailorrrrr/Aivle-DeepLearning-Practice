{
 "cells": [
  {
   "cell_type": "markdown",
   "metadata": {
    "id": "cVB9pY-v8uv5"
   },
   "source": [
    "# 복습문제_따릉이\n",
    "\n",
    "* 지금까지 배운 것을 복습 합니다.\n",
    "* Data : 서울 공유 자전거\n",
    "* 문제 : 2시간 후의 수요를 예측하고자 합니다.\n",
    "* 최소 2개 이상의 모델을 만들고 성능을 비교해 봅시다.\n",
    "------"
   ]
  },
  {
   "cell_type": "markdown",
   "metadata": {
    "id": "I75LoyIG8XdQ"
   },
   "source": [
    "![](https://mediahub.seoul.go.kr/uploads/mediahub/2021/03/RaKqiqgRXyNmYVYymXQIvCjPHpncuhBX.png)"
   ]
  },
  {
   "cell_type": "markdown",
   "metadata": {
    "id": "gIN5d51gtker"
   },
   "source": [
    "## 1.환경준비"
   ]
  },
  {
   "cell_type": "markdown",
   "metadata": {
    "id": "0UUAVHpbgTs9"
   },
   "source": [
    "### (1) 라이브러리 로딩"
   ]
  },
  {
   "cell_type": "code",
   "execution_count": 1,
   "metadata": {
    "id": "DgStuidogTs-"
   },
   "outputs": [],
   "source": [
    "import pandas as pd\n",
    "import numpy as np\n",
    "import matplotlib.pyplot as plt\n",
    "import seaborn as sns\n",
    "\n",
    "from sklearn.model_selection import train_test_split\n",
    "from sklearn.metrics import *\n",
    "from sklearn.preprocessing import MinMaxScaler\n",
    "\n",
    "import tensorflow as tf\n",
    "from keras.models import Sequential\n",
    "from keras.layers import Dense, Flatten, SimpleRNN, LSTM\n",
    "from keras.backend import clear_session\n",
    "from tensorflow.keras.optimizers import Adam\n",
    "from tensorflow.random import set_seed"
   ]
  },
  {
   "cell_type": "markdown",
   "metadata": {
    "id": "47At6lqrgTs-"
   },
   "source": [
    "### (2) 필요한 함수 생성"
   ]
  },
  {
   "cell_type": "markdown",
   "metadata": {
    "id": "oRRBkuQcgTs-"
   },
   "source": [
    "* 학습곡선 함수"
   ]
  },
  {
   "cell_type": "code",
   "execution_count": null,
   "metadata": {
    "id": "gni6B6eQgTs-"
   },
   "outputs": [],
   "source": [
    "# 학습곡선 함수\n",
    "def dl_history_plot(history):\n",
    "    plt.figure(figsize=(10,6))\n",
    "    plt.plot(history['loss'], label='train_err')\n",
    "    plt.plot(history['val_loss'], label='val_err')\n",
    "\n",
    "    plt.ylabel('Loss')\n",
    "    plt.xlabel('Epoch')\n",
    "    plt.legend()\n",
    "    plt.grid()\n",
    "    plt.show()"
   ]
  },
  {
   "cell_type": "markdown",
   "metadata": {
    "id": "DmpKSqt-gTs-"
   },
   "source": [
    "* 데이터 2 --> 3차원 변환"
   ]
  },
  {
   "cell_type": "code",
   "execution_count": null,
   "metadata": {
    "id": "Xl2IcOpmgTs_"
   },
   "outputs": [],
   "source": [
    "# 시계열 데이터 전처리 2차원 --> 3차원으로 변환\n",
    "def temporalize(x, y, timesteps):\n",
    "    nfeature = x.shape[1]\n",
    "    output_x = []\n",
    "    output_y = []\n",
    "    for i in range(len(x) - timesteps + 1):\n",
    "        t = []\n",
    "        for j in range(timesteps):\n",
    "            t.append(x[[(i + j)], :])\n",
    "        output_x.append(t)\n",
    "        output_y.append(y[i + timesteps - 1])\n",
    "    return np.array(output_x).reshape(-1,timesteps, nfeature), np.array(output_y)"
   ]
  },
  {
   "cell_type": "markdown",
   "metadata": {
    "id": "6wuqykgvviCc"
   },
   "source": [
    "### (3) 데이터로딩"
   ]
  },
  {
   "cell_type": "code",
   "execution_count": null,
   "metadata": {
    "id": "qMTdLPzcCNMw"
   },
   "outputs": [],
   "source": [
    "path = 'https://raw.githubusercontent.com/DA4BAM/dataset/master/SeoulBikeData2.csv'\n",
    "data = pd.read_csv(path)\n",
    "data.drop(['Visibility','Solar'], axis = 1, inplace = True)\n",
    "data['DateTime'] = pd.to_datetime(data['DateTime'], format='%Y-%m-%d %H:%M:%S')\n",
    "data.head()"
   ]
  },
  {
   "cell_type": "markdown",
   "metadata": {
    "id": "KlLNUHaiCNMx"
   },
   "source": [
    "**변수설명**  \n",
    "\n",
    "* DateTime : year-month-day hh:mi:ss\n",
    "* Count : 시간대별 수요량\n",
    "* Temperature : 온도(섭씨)\n",
    "* Humidity : 습도(%)\n",
    "* WindSpeed : 풍속(m/s)\n",
    "* Rainfall - mm\n",
    "* Snowfall - cm\n",
    "* Seasons - Winter, Spring, Summer, Autumn\n",
    "* Holiday - Holiday / No holiday\n",
    "* FuncDay - Yes / No\n"
   ]
  },
  {
   "cell_type": "code",
   "execution_count": null,
   "metadata": {
    "id": "lFXgAj2LCNMx"
   },
   "outputs": [],
   "source": [
    "# 데이터 기간은 다음과 같습니다.\n",
    "data.DateTime.min(), data.DateTime.max()"
   ]
  },
  {
   "cell_type": "code",
   "execution_count": null,
   "metadata": {
    "id": "C4-T9iXgUDHi"
   },
   "outputs": [],
   "source": [
    "# 14일 동안의 수요량을 살펴 봅시다.\n",
    "temp = data[:24*14]\n",
    "plt.figure(figsize = (20,8))\n",
    "plt.plot('DateTime', 'Count', data = temp)\n",
    "plt.grid()\n",
    "plt.show()"
   ]
  },
  {
   "cell_type": "markdown",
   "metadata": {
    "id": "wW0d0eGmCYJM"
   },
   "source": [
    "##3.데이터 준비"
   ]
  },
  {
   "cell_type": "markdown",
   "metadata": {
    "id": "4o3Sd0yXgl3N"
   },
   "source": [
    "### (1) y 만들기 \n",
    "* 2시간 이후의 수요량을 예측해야 합니다."
   ]
  },
  {
   "cell_type": "code",
   "execution_count": null,
   "metadata": {
    "id": "m_RQ-9dIgl3N"
   },
   "outputs": [],
   "source": [
    "data['y'] = data['Count'].shift(-2)\n",
    "data.head()"
   ]
  },
  {
   "cell_type": "code",
   "execution_count": null,
   "metadata": {
    "id": "yp4w9RnVgl3N"
   },
   "outputs": [],
   "source": [
    "# 2칸을 앞당겼기 때문에 하위 2행의 y값에 NaN이 표시되어 있습니다.\n",
    "data.tail()"
   ]
  },
  {
   "cell_type": "code",
   "execution_count": null,
   "metadata": {
    "id": "CyJoybumgl3O"
   },
   "outputs": [],
   "source": [
    "# 하위 2행은 삭제합니다.\n",
    "# 하위 2행 제외하고 다시 붓기\n",
    "data = data[:-2]"
   ]
  },
  {
   "cell_type": "markdown",
   "metadata": {
    "id": "qUkUZta9xCBC"
   },
   "source": [
    "### (2) Feature Engineering"
   ]
  },
  {
   "cell_type": "code",
   "execution_count": null,
   "metadata": {
    "id": "y_CVE4OOxCQ7"
   },
   "outputs": [],
   "source": [
    "# 요일\n",
    "data['WeekDay'] = data['DateTime'].dt.dayofweek\n",
    "\n",
    "# 주말여부\n",
    "data['WeekEnd'] = np.where(data['WeekDay']>4, 1,0)\n",
    "\n",
    "# hour\n",
    "data['Hour'] = data['DateTime'].dt.hour\n",
    "data.head()"
   ]
  },
  {
   "cell_type": "markdown",
   "metadata": {
    "id": "WbxytVmnUgxH"
   },
   "source": [
    "### (3) x, y 분리"
   ]
  },
  {
   "cell_type": "code",
   "execution_count": null,
   "metadata": {
    "id": "rT224wt4UgVd"
   },
   "outputs": [],
   "source": [
    "target = 'y'\n",
    "x = data.drop(['DateTime', target], axis = 1)\n",
    "y = data.loc[:,target]"
   ]
  },
  {
   "cell_type": "markdown",
   "metadata": {
    "id": "tW0DI8Yhg0yp"
   },
   "source": [
    "### (4) 가변수화 "
   ]
  },
  {
   "cell_type": "code",
   "execution_count": null,
   "metadata": {
    "id": "dTfLp_5Lg2YA"
   },
   "outputs": [],
   "source": [
    "cat_cols = ['Seasons','Holiday','FuncDay', 'WeekDay','Hour']\n",
    "x = pd.get_dummies(x, columns = cat_cols, drop_first = True)"
   ]
  },
  {
   "cell_type": "markdown",
   "metadata": {
    "id": "zizmxukzUVvT"
   },
   "source": [
    "### (5) 스케일링"
   ]
  },
  {
   "cell_type": "markdown",
   "metadata": {
    "id": "pDem4epAzZw9"
   },
   "source": [
    "* y 값이 클때는 y도 스케일링 필요"
   ]
  },
  {
   "cell_type": "code",
   "execution_count": null,
   "metadata": {
    "id": "JyTZcCK1tXly"
   },
   "outputs": [],
   "source": [
    "# x 스케일링\n",
    "scaler_x = MinMaxScaler()\n",
    "x_s = scaler_x.fit_transform(x)"
   ]
  },
  {
   "cell_type": "code",
   "execution_count": null,
   "metadata": {
    "id": "MAYJt6XYubg4"
   },
   "outputs": [],
   "source": [
    "# y는 1차원이므로 수동으로.\n",
    "y_max, y_min = y.max(), y.min()\n",
    "y_s = (y - y_min) / (y_max - y_min)"
   ]
  },
  {
   "cell_type": "markdown",
   "metadata": {
    "id": "Kom-8c03hJAb"
   },
   "source": [
    "### (6) 3차원 구조 만들기 "
   ]
  },
  {
   "cell_type": "code",
   "execution_count": null,
   "metadata": {
    "id": "qGPq9H5HXqRD"
   },
   "outputs": [],
   "source": [
    "timestep = 12\n",
    "x2, y2 = temporalize(x_s, y_s, timestep)\n",
    "x2.shape, y2.shape"
   ]
  },
  {
   "cell_type": "markdown",
   "metadata": {
    "id": "2IpZMM0ZZKev"
   },
   "source": [
    "### (7) 데이터 분할"
   ]
  },
  {
   "cell_type": "code",
   "execution_count": null,
   "metadata": {
    "id": "fPmFSbKQurJx"
   },
   "outputs": [],
   "source": [
    "x_train, x_val, y_train, y_val = train_test_split(x2, y2, test_size= 24*14, shuffle = False)"
   ]
  },
  {
   "cell_type": "code",
   "execution_count": null,
   "metadata": {
    "id": "qicX0SjAvJHO"
   },
   "outputs": [],
   "source": [
    "x_train.shape, y_train.shape"
   ]
  },
  {
   "cell_type": "code",
   "execution_count": null,
   "metadata": {
    "id": "x6kKq3RkykgW"
   },
   "outputs": [],
   "source": [
    "x_val.shape, y_val.shape"
   ]
  },
  {
   "cell_type": "markdown",
   "metadata": {
    "id": "MXch9dzmJIps"
   },
   "source": [
    "## 4.모델링1\n",
    "\n"
   ]
  },
  {
   "cell_type": "markdown",
   "metadata": {
    "id": "cwaO1iuKJQnu"
   },
   "source": [
    "### (1) 입력 구조(shape)\n",
    "* 분석 단위 : 2차원 ( timesteps, nfeatures)"
   ]
  },
  {
   "cell_type": "code",
   "execution_count": null,
   "metadata": {
    "id": "ncvrt9daa9TD"
   },
   "outputs": [],
   "source": [
    "x_train.shape"
   ]
  },
  {
   "cell_type": "code",
   "execution_count": null,
   "metadata": {
    "id": "Tax7DpY5a0Mw"
   },
   "outputs": [],
   "source": [
    "timestep = x_train.shape[1]\n",
    "nfeatures = x_train.shape[2]"
   ]
  },
  {
   "cell_type": "markdown",
   "metadata": {
    "id": "lNe0elgYJdan"
   },
   "source": [
    "### (2) 모델 구조 설계\n",
    "다음 구조로 모델을 설계해 봅시다.\n",
    "\n",
    "| Layer (type)  |              Output Shape     |       \n",
    "| ---- | ----| \n",
    "| simple_rnn (SimpleRNN)  |    (None, 12, 32)   |     \n",
    "| simple_rnn_1 (SimpleRNN) |   (None, 12, 16)   |     \n",
    "| simple_rnn_2 (SimpleRNN) |   (None, 8)       |   \n",
    "| dense (Dense)            |   (None, 1)       |     \n"
   ]
  },
  {
   "cell_type": "code",
   "execution_count": null,
   "metadata": {
    "id": "eFn_U71XJWK6"
   },
   "outputs": [],
   "source": [
    "clear_session()\n",
    "\n",
    "model = Sequential([ ])\n",
    "\n",
    "model.summary()"
   ]
  },
  {
   "cell_type": "markdown",
   "metadata": {
    "id": "WUL84uf5dNzn"
   },
   "source": [
    "### (3) 컴파일 및 학습\n",
    "* learning_rate = 0.001\n",
    "* epochs = 100"
   ]
  },
  {
   "cell_type": "code",
   "execution_count": null,
   "metadata": {
    "id": "uHGuC09vb_NR"
   },
   "outputs": [],
   "source": []
  },
  {
   "cell_type": "code",
   "execution_count": null,
   "metadata": {
    "id": "swuGX9eHftOt"
   },
   "outputs": [],
   "source": [
    "# 학습 곡선을 그려봅시다.\n",
    "dl_history_plot(history)"
   ]
  },
  {
   "cell_type": "markdown",
   "metadata": {
    "id": "zh--N4NsdQ92"
   },
   "source": [
    "### (4) 예측 및 평가"
   ]
  },
  {
   "cell_type": "code",
   "execution_count": null,
   "metadata": {
    "id": "LWS_89I0OUdt"
   },
   "outputs": [],
   "source": [
    "# 예측\n",
    "pred = model.predict(x_val)"
   ]
  },
  {
   "cell_type": "code",
   "execution_count": null,
   "metadata": {
    "id": "ptjXWRfB0iE2"
   },
   "outputs": [],
   "source": [
    "# y를 스케일링 했으므로 돌려놓기\n",
    "y_val_real = y_val * (y_max-y_min) + y_min\n",
    "pred_real = pred * (y_max-y_min) + y_min"
   ]
  },
  {
   "cell_type": "code",
   "execution_count": null,
   "metadata": {
    "id": "u_r_Ne3pOL9W"
   },
   "outputs": [],
   "source": [
    "# 평가\n",
    "print(mean_absolute_error(y_val_real, pred_real))\n",
    "print(mean_absolute_percentage_error(y_val_real, pred_real))"
   ]
  },
  {
   "cell_type": "code",
   "execution_count": null,
   "metadata": {
    "id": "RESCGrjdc31F"
   },
   "outputs": [],
   "source": [
    "# 실제와 예측 비교 그래프\n",
    "plt.figure(figsize = (20,6))\n",
    "plt.plot(y_val_real, label = 'actual')\n",
    "plt.plot(pred_real, label = 'predicted')\n",
    "plt.legend()\n",
    "plt.grid()\n",
    "plt.show()"
   ]
  },
  {
   "cell_type": "markdown",
   "metadata": {
    "id": "1QXg4DOC1p3d"
   },
   "source": [
    "## 5.모델링2\n",
    "\n"
   ]
  },
  {
   "cell_type": "markdown",
   "metadata": {
    "id": "xRPcYkyu1p3e"
   },
   "source": [
    "### (1) 입력 구조(shape)\n",
    "* 분석 단위 : 2차원 ( timesteps, nfeatures)"
   ]
  },
  {
   "cell_type": "code",
   "execution_count": null,
   "metadata": {
    "id": "i8dWEyrW1p3e"
   },
   "outputs": [],
   "source": [
    "x_train.shape"
   ]
  },
  {
   "cell_type": "code",
   "execution_count": null,
   "metadata": {
    "id": "XwRTQji21p3e"
   },
   "outputs": [],
   "source": [
    "timestep = x_train.shape[1]\n",
    "nfeatures = x_train.shape[2]"
   ]
  },
  {
   "cell_type": "markdown",
   "metadata": {
    "id": "m1DqKUre1p3e"
   },
   "source": [
    "### (2) 모델 구조 설계\n",
    "* 원하는대로 구조를 설계해 봅시다.\n",
    "* LSTM 사용"
   ]
  },
  {
   "cell_type": "code",
   "execution_count": null,
   "metadata": {
    "id": "VVcFP5d31p3e"
   },
   "outputs": [],
   "source": []
  },
  {
   "cell_type": "markdown",
   "metadata": {
    "id": "xIX27VKE1p3e"
   },
   "source": [
    "### (3) 컴파일 및 학습"
   ]
  },
  {
   "cell_type": "code",
   "execution_count": null,
   "metadata": {
    "id": "4TwblGUX1p3f"
   },
   "outputs": [],
   "source": []
  },
  {
   "cell_type": "code",
   "execution_count": null,
   "metadata": {
    "id": "dGrwszM11p3f"
   },
   "outputs": [],
   "source": []
  },
  {
   "cell_type": "markdown",
   "metadata": {
    "id": "OKZwVfoG1p3f"
   },
   "source": [
    "### (4) 예측 및 평가"
   ]
  },
  {
   "cell_type": "code",
   "execution_count": null,
   "metadata": {
    "id": "Fh-VlalT1p3f"
   },
   "outputs": [],
   "source": []
  },
  {
   "cell_type": "code",
   "execution_count": null,
   "metadata": {
    "id": "3bnpxL1I1p3f"
   },
   "outputs": [],
   "source": []
  },
  {
   "cell_type": "code",
   "execution_count": null,
   "metadata": {
    "id": "Bf7gHSId1p3f"
   },
   "outputs": [],
   "source": []
  },
  {
   "cell_type": "code",
   "execution_count": null,
   "metadata": {
    "id": "TeYa1IlK1p3f"
   },
   "outputs": [],
   "source": []
  },
  {
   "cell_type": "code",
   "execution_count": null,
   "metadata": {
    "id": "nVkaAfal48b1"
   },
   "outputs": [],
   "source": []
  }
 ],
 "metadata": {
  "colab": {
   "collapsed_sections": [
    "gIN5d51gtker",
    "0UUAVHpbgTs9",
    "47At6lqrgTs-",
    "6wuqykgvviCc",
    "wW0d0eGmCYJM",
    "4o3Sd0yXgl3N",
    "qUkUZta9xCBC",
    "WbxytVmnUgxH",
    "tW0DI8Yhg0yp",
    "zizmxukzUVvT",
    "Kom-8c03hJAb",
    "2IpZMM0ZZKev"
   ],
   "provenance": [],
   "toc_visible": true
  },
  "kernelspec": {
   "display_name": "Python 3",
   "language": "python",
   "name": "python3"
  },
  "language_info": {
   "codemirror_mode": {
    "name": "ipython",
    "version": 3
   },
   "file_extension": ".py",
   "mimetype": "text/x-python",
   "name": "python",
   "nbconvert_exporter": "python",
   "pygments_lexer": "ipython3",
   "version": "3.8.8"
  }
 },
 "nbformat": 4,
 "nbformat_minor": 4
}
